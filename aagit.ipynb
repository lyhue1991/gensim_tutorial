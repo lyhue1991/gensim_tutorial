{
 "cells": [
  {
   "cell_type": "code",
   "execution_count": 1,
   "metadata": {
    "ExecuteTime": {
     "end_time": "2019-01-15T04:24:57.171840Z",
     "start_time": "2019-01-15T04:24:56.252340Z"
    }
   },
   "outputs": [],
   "source": [
    "!git config --global user.name \"lyhue1991\"\n",
    "!git config --global user.email \"lyhue1991@163.com\"\n",
    "\n",
    "# 出现一些类似 warning: LF will be replaced by CRLF in <file-name>. 可启用如下设置。\n",
    "!git config --global core.autocrlf false\n",
    "\n",
    "# 配置打印历史commit的快捷命令\n",
    "!git config --global alias.lg \"log --oneline --graph --all\""
   ]
  },
  {
   "cell_type": "code",
   "execution_count": 9,
   "metadata": {
    "ExecuteTime": {
     "end_time": "2019-01-15T04:24:57.990340Z",
     "start_time": "2019-01-15T04:24:57.718340Z"
    }
   },
   "outputs": [
    {
     "name": "stdout",
     "output_type": "stream",
     "text": [
      "Reinitialized existing Git repository in C:/Users/liangyun/OneDrive/PythonFiles/nlp_note/.git/\n"
     ]
    }
   ],
   "source": [
    "!git init"
   ]
  },
  {
   "cell_type": "code",
   "execution_count": 8,
   "metadata": {
    "ExecuteTime": {
     "end_time": "2019-01-15T04:24:59.571340Z",
     "start_time": "2019-01-15T04:24:59.179340Z"
    }
   },
   "outputs": [],
   "source": [
    "!rm -r .ipynb_checkpoints/"
   ]
  },
  {
   "cell_type": "code",
   "execution_count": 3,
   "metadata": {
    "ExecuteTime": {
     "end_time": "2019-01-15T04:44:27.319840Z",
     "start_time": "2019-01-15T04:44:27.067340Z"
    }
   },
   "outputs": [],
   "source": [
    "!git add -A"
   ]
  },
  {
   "cell_type": "code",
   "execution_count": 4,
   "metadata": {
    "ExecuteTime": {
     "end_time": "2019-01-15T04:44:29.042840Z",
     "start_time": "2019-01-15T04:44:28.725340Z"
    }
   },
   "outputs": [
    {
     "name": "stdout",
     "output_type": "stream",
     "text": [
      "[master b972d0b] v01\n",
      " 14 files changed, 44056 insertions(+), 637 deletions(-)\n",
      " create mode 100644 .ipynb_checkpoints/app_fasttext-checkpoint.ipynb\n",
      " create mode 100644 .ipynb_checkpoints/app_lda-checkpoint.ipynb\n",
      " create mode 100644 .ipynb_checkpoints/app_word2vec-checkpoint.ipynb\n",
      " create mode 100644 .ipynb_checkpoints/gensim_tutorial-checkpoint.ipynb\n",
      " create mode 100644 .ipynb_checkpoints/max_entropy-checkpoint.ipynb\n",
      " delete mode 100644 app.ipynb\n",
      " create mode 100644 app_fasttext.ipynb\n",
      " create mode 100644 app_lda.ipynb\n",
      " create mode 100644 app_word2vec.ipynb\n",
      " rename tutorial.ipynb => gensim_tutorial.ipynb (99%)\n",
      " create mode 100644 max_entropy.ipynb\n",
      " create mode 100644 weekend_activity\n"
     ]
    }
   ],
   "source": [
    "!git commit -m\"v01\""
   ]
  },
  {
   "cell_type": "code",
   "execution_count": 10,
   "metadata": {},
   "outputs": [
    {
     "name": "stdout",
     "output_type": "stream",
     "text": [
      "commit b972d0bd4a098c759eac1f5c62756211edfab46c\n",
      "Author: lyhue1991 <lyhue1991@163.com>\n",
      "Date:   Sun Apr 28 13:45:07 2019 +0800\n",
      "\n",
      "    v01\n",
      "\n",
      "commit e3e1bb256d785e7f4aa3abe8ebeb340606bde01a\n",
      "Author: lyhue1991 <lyhue1991@163.com>\n",
      "Date:   Tue Jan 15 12:44:28 2019 +0800\n",
      "\n",
      "    first commit\n",
      "\n",
      "commit 2148156cc44f8c4e30de6cccfb4fd1b0ae915cb1\n",
      "Author: lyhue1991 <lyhue1991@163.com>\n",
      "Date:   Tue Jan 15 12:27:12 2019 +0800\n",
      "\n",
      "    first commit\n",
      "\n",
      "commit 46884ff94817d0cbd823eaf0235d12fe6a9d002b\n",
      "Author: lyhue1991 <lyhue1991@163.com>\n",
      "Date:   Tue Jan 15 12:26:43 2019 +0800\n",
      "\n",
      "    first commit\n"
     ]
    }
   ],
   "source": [
    "!git log "
   ]
  },
  {
   "cell_type": "code",
   "execution_count": null,
   "metadata": {},
   "outputs": [],
   "source": [
    "!git -"
   ]
  },
  {
   "cell_type": "code",
   "execution_count": 5,
   "metadata": {
    "ExecuteTime": {
     "end_time": "2019-01-15T04:27:19.325840Z",
     "start_time": "2019-01-15T04:27:17.712840Z"
    }
   },
   "outputs": [
    {
     "name": "stderr",
     "output_type": "stream",
     "text": [
      "fatal: remote origin already exists.\n"
     ]
    }
   ],
   "source": [
    "!git remote add origin https://github.com/lyhue1991/nlp_note.git"
   ]
  },
  {
   "cell_type": "code",
   "execution_count": null,
   "metadata": {},
   "outputs": [],
   "source": []
  },
  {
   "cell_type": "code",
   "execution_count": null,
   "metadata": {
    "ExecuteTime": {
     "end_time": "2019-01-01T05:28:46.439330Z",
     "start_time": "2019-01-01T05:28:44.449198Z"
    }
   },
   "outputs": [],
   "source": [
    "!git rebase origin/master"
   ]
  },
  {
   "cell_type": "code",
   "execution_count": null,
   "metadata": {},
   "outputs": [],
   "source": [
    "!git rebase --continue "
   ]
  },
  {
   "cell_type": "code",
   "execution_count": null,
   "metadata": {},
   "outputs": [],
   "source": [
    "!git rebase --abort"
   ]
  },
  {
   "cell_type": "code",
   "execution_count": null,
   "metadata": {
    "ExecuteTime": {
     "start_time": "2019-01-15T04:43:10.771Z"
    }
   },
   "outputs": [],
   "source": [
    "!git push -u origin master "
   ]
  },
  {
   "cell_type": "code",
   "execution_count": 4,
   "metadata": {
    "ExecuteTime": {
     "end_time": "2019-01-15T05:29:53.523340Z",
     "start_time": "2019-01-15T04:44:33.749340Z"
    }
   },
   "outputs": [
    {
     "name": "stderr",
     "output_type": "stream",
     "text": [
      "fatal: the remote end hung up unexpectedly\n",
      "fatal: the remote end hung up unexpectedly\n",
      "error: RPC failed; curl 56 OpenSSL SSL_read: SSL_ERROR_SYSCALL, errno 10054\n",
      "Everything up-to-date\n"
     ]
    }
   ],
   "source": [
    "!git push -f origin master"
   ]
  },
  {
   "cell_type": "code",
   "execution_count": null,
   "metadata": {
    "ExecuteTime": {
     "end_time": "2018-12-26T05:48:06.042730Z",
     "start_time": "2018-12-26T05:48:05.784730Z"
    }
   },
   "outputs": [],
   "source": [
    "!git branch -a "
   ]
  }
 ],
 "metadata": {
  "kernelspec": {
   "display_name": "Python 3",
   "language": "python",
   "name": "python3"
  },
  "language_info": {
   "codemirror_mode": {
    "name": "ipython",
    "version": 3
   },
   "file_extension": ".py",
   "mimetype": "text/x-python",
   "name": "python",
   "nbconvert_exporter": "python",
   "pygments_lexer": "ipython3",
   "version": "3.6.7"
  }
 },
 "nbformat": 4,
 "nbformat_minor": 2
}
