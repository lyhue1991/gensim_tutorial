{
 "cells": [
  {
   "cell_type": "markdown",
   "metadata": {
    "slideshow": {
     "slide_type": "slide"
    }
   },
   "source": [
    "# 最大熵模型 "
   ]
  },
  {
   "cell_type": "markdown",
   "metadata": {
    "slideshow": {
     "slide_type": "slide"
    }
   },
   "source": [
    "### 绘图示范"
   ]
  },
  {
   "cell_type": "code",
   "execution_count": null,
   "metadata": {
    "ExecuteTime": {
     "end_time": "2019-01-18T03:45:41.915646Z",
     "start_time": "2019-01-18T03:45:41.390146Z"
    }
   },
   "outputs": [],
   "source": [
    "import matplotlib\n",
    "import matplotlib.pyplot as plt\n",
    "%matplotlib inline\n",
    "%config InlineBackend.figure_format = 'svg'"
   ]
  },
  {
   "cell_type": "code",
   "execution_count": null,
   "metadata": {
    "ExecuteTime": {
     "end_time": "2019-01-17T08:56:58.318304Z",
     "start_time": "2019-01-17T08:56:58.310834Z"
    },
    "slideshow": {
     "slide_type": ""
    }
   },
   "outputs": [],
   "source": [
    "x = np.linspace(0,2*np.pi,100)\n",
    "y = np.sin(x)"
   ]
  },
  {
   "cell_type": "code",
   "execution_count": null,
   "metadata": {
    "ExecuteTime": {
     "end_time": "2019-01-17T08:57:06.674480Z",
     "start_time": "2019-01-17T08:57:06.422088Z"
    },
    "slideshow": {
     "slide_type": "slide"
    }
   },
   "outputs": [],
   "source": [
    "plt.plot(x,y)"
   ]
  },
  {
   "cell_type": "code",
   "execution_count": null,
   "metadata": {
    "ExecuteTime": {
     "end_time": "2019-01-17T09:23:08.186971Z",
     "start_time": "2019-01-17T09:23:08.175968Z"
    }
   },
   "outputs": [],
   "source": [
    "import sympy \n",
    "from sympy import * \n",
    "\n",
    "x,y,z,a,b,c = symbols('x,y,z,a,b,c')"
   ]
  },
  {
   "cell_type": "code",
   "execution_count": null,
   "metadata": {
    "ExecuteTime": {
     "end_time": "2019-01-17T09:23:37.584849Z",
     "start_time": "2019-01-17T09:23:37.356303Z"
    }
   },
   "outputs": [],
   "source": [
    "sympy.plot(sin(x),(x,0,2*pi))"
   ]
  },
  {
   "cell_type": "markdown",
   "metadata": {},
   "source": [
    "### 语料分词"
   ]
  },
  {
   "cell_type": "code",
   "execution_count": 107,
   "metadata": {
    "ExecuteTime": {
     "end_time": "2019-01-21T06:32:50.082048Z",
     "start_time": "2019-01-21T06:32:50.048048Z"
    }
   },
   "outputs": [
    {
     "data": {
      "text/html": [
       "<div>\n",
       "<style scoped>\n",
       "    .dataframe tbody tr th:only-of-type {\n",
       "        vertical-align: middle;\n",
       "    }\n",
       "\n",
       "    .dataframe tbody tr th {\n",
       "        vertical-align: top;\n",
       "    }\n",
       "\n",
       "    .dataframe thead th {\n",
       "        text-align: right;\n",
       "    }\n",
       "</style>\n",
       "<table border=\"1\" class=\"dataframe\">\n",
       "  <thead>\n",
       "    <tr style=\"text-align: right;\">\n",
       "      <th></th>\n",
       "      <th>label</th>\n",
       "      <th>text</th>\n",
       "    </tr>\n",
       "  </thead>\n",
       "  <tbody>\n",
       "    <tr>\n",
       "      <th>0</th>\n",
       "      <td>户外活动</td>\n",
       "      <td>天气晴朗，气温凉爽，心情愉快</td>\n",
       "    </tr>\n",
       "    <tr>\n",
       "      <th>1</th>\n",
       "      <td>户外活动</td>\n",
       "      <td>天气晴朗，气温炎热，心情下雨</td>\n",
       "    </tr>\n",
       "    <tr>\n",
       "      <th>2</th>\n",
       "      <td>户外活动</td>\n",
       "      <td>天气晴朗，气温寒冷，心情愉快</td>\n",
       "    </tr>\n",
       "    <tr>\n",
       "      <th>3</th>\n",
       "      <td>户外活动</td>\n",
       "      <td>天气晴朗，气温凉爽，心情晴朗</td>\n",
       "    </tr>\n",
       "    <tr>\n",
       "      <th>4</th>\n",
       "      <td>宅在家里</td>\n",
       "      <td>天气晴朗，气温炎热，心情忧伤</td>\n",
       "    </tr>\n",
       "    <tr>\n",
       "      <th>5</th>\n",
       "      <td>宅在家里</td>\n",
       "      <td>天气下雨，气温凉爽，心情多云</td>\n",
       "    </tr>\n",
       "    <tr>\n",
       "      <th>6</th>\n",
       "      <td>户外活动</td>\n",
       "      <td>天气多云，气温凉爽，心情忧伤</td>\n",
       "    </tr>\n",
       "    <tr>\n",
       "      <th>7</th>\n",
       "      <td>户外活动</td>\n",
       "      <td>天气下雨，气温凉爽，心情愉快</td>\n",
       "    </tr>\n",
       "    <tr>\n",
       "      <th>8</th>\n",
       "      <td>户外活动</td>\n",
       "      <td>天气下雨，气温寒冷，心情多云</td>\n",
       "    </tr>\n",
       "    <tr>\n",
       "      <th>9</th>\n",
       "      <td>宅在家里</td>\n",
       "      <td>天气下雨，气温寒冷，心情下雨</td>\n",
       "    </tr>\n",
       "    <tr>\n",
       "      <th>10</th>\n",
       "      <td>户外活动</td>\n",
       "      <td>天气晴朗，气温寒冷，心情忧伤</td>\n",
       "    </tr>\n",
       "    <tr>\n",
       "      <th>11</th>\n",
       "      <td>户外活动</td>\n",
       "      <td>天气多云，气温凉爽，心情愉快</td>\n",
       "    </tr>\n",
       "    <tr>\n",
       "      <th>12</th>\n",
       "      <td>宅在家里</td>\n",
       "      <td>天气多云，气温凉爽，心情忧伤</td>\n",
       "    </tr>\n",
       "    <tr>\n",
       "      <th>13</th>\n",
       "      <td>宅在家里</td>\n",
       "      <td>天气下雨，气温凉爽，心情愉快</td>\n",
       "    </tr>\n",
       "  </tbody>\n",
       "</table>\n",
       "</div>"
      ],
      "text/plain": [
       "   label            text\n",
       "0   户外活动  天气晴朗，气温凉爽，心情愉快\n",
       "1   户外活动  天气晴朗，气温炎热，心情下雨\n",
       "2   户外活动  天气晴朗，气温寒冷，心情愉快\n",
       "3   户外活动  天气晴朗，气温凉爽，心情晴朗\n",
       "4   宅在家里  天气晴朗，气温炎热，心情忧伤\n",
       "5   宅在家里  天气下雨，气温凉爽，心情多云\n",
       "6   户外活动  天气多云，气温凉爽，心情忧伤\n",
       "7   户外活动  天气下雨，气温凉爽，心情愉快\n",
       "8   户外活动  天气下雨，气温寒冷，心情多云\n",
       "9   宅在家里  天气下雨，气温寒冷，心情下雨\n",
       "10  户外活动  天气晴朗，气温寒冷，心情忧伤\n",
       "11  户外活动  天气多云，气温凉爽，心情愉快\n",
       "12  宅在家里  天气多云，气温凉爽，心情忧伤\n",
       "13  宅在家里  天气下雨，气温凉爽，心情愉快"
      ]
     },
     "execution_count": 107,
     "metadata": {},
     "output_type": "execute_result"
    }
   ],
   "source": [
    "import numpy as np \n",
    "import pandas as pd \n",
    "\n",
    "df = pd.read_csv('weekend_activity',sep = '\\t',encoding = 'utf-8')\n",
    "df"
   ]
  },
  {
   "cell_type": "code",
   "execution_count": 108,
   "metadata": {
    "ExecuteTime": {
     "end_time": "2019-01-21T06:32:58.251548Z",
     "start_time": "2019-01-21T06:32:58.240548Z"
    }
   },
   "outputs": [],
   "source": [
    "# 对label转化成 0,1等数字类别\n",
    "dfdata = df.copy()\n",
    "dfdata['label'] = pd.get_dummies(dfdata['label'])[u'户外活动']"
   ]
  },
  {
   "cell_type": "code",
   "execution_count": 109,
   "metadata": {
    "ExecuteTime": {
     "end_time": "2019-01-21T06:33:00.671048Z",
     "start_time": "2019-01-21T06:33:00.652548Z"
    }
   },
   "outputs": [
    {
     "data": {
      "text/plain": [
       "[['天气晴朗', '气温', '凉爽', '心情愉快'],\n",
       " ['天气晴朗', '气温', '炎热', '心情', '下雨'],\n",
       " ['天气晴朗', '气温', '寒冷', '心情愉快'],\n",
       " ['天气晴朗', '气温', '凉爽', '心情', '晴朗'],\n",
       " ['天气晴朗', '气温', '炎热', '心情', '忧伤'],\n",
       " ['天气', '下雨', '气温', '凉爽', '心情', '多云'],\n",
       " ['天气', '多云', '气温', '凉爽', '心情', '忧伤'],\n",
       " ['天气', '下雨', '气温', '凉爽', '心情愉快'],\n",
       " ['天气', '下雨', '气温', '寒冷', '心情', '多云'],\n",
       " ['天气', '下雨', '气温', '寒冷', '心情', '下雨'],\n",
       " ['天气晴朗', '气温', '寒冷', '心情', '忧伤'],\n",
       " ['天气', '多云', '气温', '凉爽', '心情愉快'],\n",
       " ['天气', '多云', '气温', '凉爽', '心情', '忧伤'],\n",
       " ['天气', '下雨', '气温', '凉爽', '心情愉快']]"
      ]
     },
     "execution_count": 109,
     "metadata": {},
     "output_type": "execute_result"
    }
   ],
   "source": [
    "import jieba \n",
    "texts = dfdata['text'].tolist()\n",
    "seglist = [list(filter(lambda k:len(k)>1, jieba.lcut(x))) for x in texts]\n",
    "seglist"
   ]
  },
  {
   "cell_type": "code",
   "execution_count": 110,
   "metadata": {
    "ExecuteTime": {
     "end_time": "2019-01-21T06:33:22.264048Z",
     "start_time": "2019-01-21T06:33:13.350548Z"
    }
   },
   "outputs": [
    {
     "name": "stdout",
     "output_type": "stream",
     "text": [
      "loading model\n",
      "finish\n"
     ]
    },
    {
     "data": {
      "text/plain": [
       "[['天气', '晴朗', '气温', '凉爽', '心情', '愉快'],\n",
       " ['天气', '晴朗', '气温', '炎热', '心情', '下雨'],\n",
       " ['天气', '晴朗', '气温', '寒冷', '心情', '愉快'],\n",
       " ['天气', '晴朗', '气温', '凉爽', '心情', '晴朗'],\n",
       " ['天气', '晴朗', '气温', '炎热', '心情', '忧伤'],\n",
       " ['天气', '下雨', '气温', '凉爽', '心情', '多云'],\n",
       " ['天气', '多云', '气温', '凉爽', '心情', '忧伤'],\n",
       " ['天气', '下雨', '气温', '凉爽', '心情', '愉快'],\n",
       " ['天气', '下雨', '气温', '寒冷', '心情', '多云'],\n",
       " ['天气', '下雨', '气温', '寒冷', '心情', '下雨'],\n",
       " ['天气', '晴朗', '气温', '寒冷', '心情', '忧伤'],\n",
       " ['天气', '多云', '气温', '凉爽', '心情', '愉快'],\n",
       " ['天气', '多云', '气温', '凉爽', '心情', '忧伤'],\n",
       " ['天气', '下雨', '气温', '凉爽', '心情', '愉快']]"
      ]
     },
     "execution_count": 110,
     "metadata": {},
     "output_type": "execute_result"
    }
   ],
   "source": [
    "import pkuseg\n",
    "seg = pkuseg.pkuseg() \n",
    "texts = dfdata['text'].tolist()\n",
    "seglist = [list(filter(lambda k:len(k)>1, seg.cut(x))) for x in texts]\n",
    "seglist"
   ]
  },
  {
   "cell_type": "markdown",
   "metadata": {},
   "source": [
    "### 构建词典"
   ]
  },
  {
   "cell_type": "code",
   "execution_count": 135,
   "metadata": {
    "ExecuteTime": {
     "end_time": "2019-01-21T06:53:44.054048Z",
     "start_time": "2019-01-21T06:53:44.044548Z"
    }
   },
   "outputs": [
    {
     "data": {
      "text/plain": [
       "{'凉爽': 0,\n",
       " '天气': 1,\n",
       " '心情': 2,\n",
       " '愉快': 3,\n",
       " '晴朗': 4,\n",
       " '气温': 5,\n",
       " '下雨': 6,\n",
       " '炎热': 7,\n",
       " '寒冷': 8,\n",
       " '忧伤': 9,\n",
       " '多云': 10}"
      ]
     },
     "execution_count": 135,
     "metadata": {},
     "output_type": "execute_result"
    }
   ],
   "source": [
    "import gensim\n",
    "import logging\n",
    "from gensim import corpora, models, similarities\n",
    "\n",
    "#logging.basicConfig(format='%(asctime)s : %(levelname)s : %(message)s', level=logging.INFO)\n",
    "dictionary = corpora.Dictionary(seglist)\n",
    "dictionary.save('activity.dict')  # store the dictionary\n",
    "\n",
    "# 建立完整字典\n",
    "dictionary.token2id"
   ]
  },
  {
   "cell_type": "code",
   "execution_count": 93,
   "metadata": {
    "ExecuteTime": {
     "end_time": "2019-01-21T06:28:50.970048Z",
     "start_time": "2019-01-21T06:28:50.959048Z"
    }
   },
   "outputs": [
    {
     "data": {
      "text/plain": [
       "{'凉爽': 0, '愉快': 1, '晴朗': 2, '下雨': 3, '炎热': 4, '寒冷': 5, '忧伤': 6, '多云': 7}"
      ]
     },
     "execution_count": 93,
     "metadata": {},
     "output_type": "execute_result"
    }
   ],
   "source": [
    "# 重点词典，去除文档频率2次以下和0.8以上的词\n",
    "dictionary.filter_extremes(no_below=2,no_above=0.8,keep_n = 100000,keep_tokens = None)\n",
    "dictionary.token2id"
   ]
  },
  {
   "cell_type": "code",
   "execution_count": 83,
   "metadata": {
    "ExecuteTime": {
     "end_time": "2019-01-21T05:11:26.263048Z",
     "start_time": "2019-01-21T05:11:26.253548Z"
    }
   },
   "outputs": [
    {
     "name": "stdout",
     "output_type": "stream",
     "text": [
      "{'凉爽': 0, '天气': 3, '心情': 0, '愉快': 0, '晴朗': 0, '气温': 3, '下雨': 0, '炎热': 2, '寒冷': 4, '忧伤': 0, '多云': 4}\n"
     ]
    },
    {
     "data": {
      "text/plain": [
       "{0: {'下雨', '凉爽', '心情', '忧伤', '愉快', '晴朗'},\n",
       " 1: set(),\n",
       " 2: {'炎热'},\n",
       " 3: {'天气', '气温'},\n",
       " 4: {'多云', '寒冷'}}"
      ]
     },
     "execution_count": 83,
     "metadata": {},
     "output_type": "execute_result"
    }
   ],
   "source": [
    "hashdict = HashDictionary(seglist,debug=True,id_range=5)  \n",
    "print(hashdict.token2id)\n",
    "hashdict"
   ]
  },
  {
   "cell_type": "markdown",
   "metadata": {},
   "source": [
    "### 词袋模型"
   ]
  },
  {
   "cell_type": "code",
   "execution_count": 128,
   "metadata": {
    "ExecuteTime": {
     "end_time": "2019-01-21T06:48:52.154548Z",
     "start_time": "2019-01-21T06:48:52.142048Z"
    }
   },
   "outputs": [
    {
     "data": {
      "text/plain": [
       "[[(0, 1), (1, 1), (2, 1), (3, 1), (4, 1), (5, 1)],\n",
       " [(1, 1), (2, 1), (4, 1), (5, 1), (6, 1), (7, 1)],\n",
       " [(1, 1), (2, 1), (3, 1), (4, 1), (5, 1), (8, 1)],\n",
       " [(0, 1), (1, 1), (2, 1), (4, 2), (5, 1)],\n",
       " [(1, 1), (2, 1), (4, 1), (5, 1), (7, 1), (9, 1)],\n",
       " [(0, 1), (1, 1), (2, 1), (5, 1), (6, 1), (10, 1)],\n",
       " [(0, 1), (1, 1), (2, 1), (5, 1), (9, 1), (10, 1)],\n",
       " [(0, 1), (1, 1), (2, 1), (3, 1), (5, 1), (6, 1)],\n",
       " [(1, 1), (2, 1), (5, 1), (6, 1), (8, 1), (10, 1)],\n",
       " [(1, 1), (2, 1), (5, 1), (6, 2), (8, 1)],\n",
       " [(1, 1), (2, 1), (4, 1), (5, 1), (8, 1), (9, 1)],\n",
       " [(0, 1), (1, 1), (2, 1), (3, 1), (5, 1), (10, 1)],\n",
       " [(0, 1), (1, 1), (2, 1), (5, 1), (9, 1), (10, 1)],\n",
       " [(0, 1), (1, 1), (2, 1), (3, 1), (5, 1), (6, 1)]]"
      ]
     },
     "execution_count": 128,
     "metadata": {},
     "output_type": "execute_result"
    }
   ],
   "source": [
    "corpus"
   ]
  },
  {
   "cell_type": "code",
   "execution_count": 124,
   "metadata": {
    "ExecuteTime": {
     "end_time": "2019-01-21T06:45:02.432048Z",
     "start_time": "2019-01-21T06:45:02.420548Z"
    }
   },
   "outputs": [
    {
     "data": {
      "text/plain": [
       "11"
      ]
     },
     "execution_count": 124,
     "metadata": {},
     "output_type": "execute_result"
    }
   ],
   "source": [
    "len(dictionary)"
   ]
  },
  {
   "cell_type": "code",
   "execution_count": 130,
   "metadata": {
    "ExecuteTime": {
     "end_time": "2019-01-21T06:50:14.971048Z",
     "start_time": "2019-01-21T06:50:14.946048Z"
    }
   },
   "outputs": [
    {
     "data": {
      "text/plain": [
       "array([[1., 1., 1., 1., 1., 1., 0., 0., 0., 0., 0.],\n",
       "       [0., 1., 1., 0., 1., 1., 1., 1., 0., 0., 0.],\n",
       "       [0., 1., 1., 1., 1., 1., 0., 0., 1., 0., 0.],\n",
       "       [1., 1., 1., 0., 2., 1., 0., 0., 0., 0., 0.],\n",
       "       [0., 1., 1., 0., 1., 1., 0., 1., 0., 1., 0.],\n",
       "       [1., 1., 1., 0., 0., 1., 1., 0., 0., 0., 1.],\n",
       "       [1., 1., 1., 0., 0., 1., 0., 0., 0., 1., 1.],\n",
       "       [1., 1., 1., 1., 0., 1., 1., 0., 0., 0., 0.],\n",
       "       [0., 1., 1., 0., 0., 1., 1., 0., 1., 0., 1.],\n",
       "       [0., 1., 1., 0., 0., 1., 2., 0., 1., 0., 0.],\n",
       "       [0., 1., 1., 0., 1., 1., 0., 0., 1., 1., 0.],\n",
       "       [1., 1., 1., 1., 0., 1., 0., 0., 0., 0., 1.],\n",
       "       [1., 1., 1., 0., 0., 1., 0., 0., 0., 1., 1.],\n",
       "       [1., 1., 1., 1., 0., 1., 1., 0., 0., 0., 0.]], dtype=float32)"
      ]
     },
     "execution_count": 130,
     "metadata": {},
     "output_type": "execute_result"
    }
   ],
   "source": [
    "# 建立bag of word稀疏矩阵\n",
    "corpus = [dictionary.doc2bow(text) for text in seglist]\n",
    "\n",
    "# 词袋模型\n",
    "bow_array = gensim.matutils.corpus2dense(corpus, num_terms=len(dictionary)).T\n",
    "bow_array"
   ]
  },
  {
   "cell_type": "markdown",
   "metadata": {},
   "source": [
    "### TF-IDF权重向量"
   ]
  },
  {
   "cell_type": "code",
   "execution_count": 136,
   "metadata": {
    "ExecuteTime": {
     "end_time": "2019-01-21T06:55:20.412548Z",
     "start_time": "2019-01-21T06:55:20.401048Z"
    }
   },
   "outputs": [
    {
     "data": {
      "text/plain": [
       "array([[0.38698328, 0.        , 0.        , 0.71199834, 0.58592004,\n",
       "        0.        , 0.        , 0.        , 0.        , 0.        ,\n",
       "        0.        ],\n",
       "       [0.        , 0.        , 0.        , 0.        , 0.3707672 ,\n",
       "        0.        , 0.3707672 , 0.85150653, 0.        , 0.        ,\n",
       "        0.        ],\n",
       "       [0.        , 0.        , 0.        , 0.5627558 , 0.4631049 ,\n",
       "        0.        , 0.        , 0.        , 0.6847187 , 0.        ,\n",
       "        0.        ],\n",
       "       [0.31357917, 0.        , 0.        , 0.        , 0.9495621 ,\n",
       "        0.        , 0.        , 0.        , 0.        , 0.        ,\n",
       "        0.        ],\n",
       "       [0.        , 0.        , 0.        , 0.        , 0.3437973 ,\n",
       "        0.        , 0.        , 0.7895673 , 0.        , 0.50831777,\n",
       "        0.        ]], dtype=float32)"
      ]
     },
     "execution_count": 136,
     "metadata": {},
     "output_type": "execute_result"
    }
   ],
   "source": [
    "# TF_IDF权重向量\n",
    "tfidf = models.TfidfModel(corpus)\n",
    "tfidf_array = gensim.matutils.corpus2dense(list(tfidf[corpus]),num_terms=len(dictionary)).T\n",
    "tfidf_array[0:5]"
   ]
  },
  {
   "cell_type": "markdown",
   "metadata": {},
   "source": [
    "### LSI主题模型"
   ]
  },
  {
   "cell_type": "code",
   "execution_count": 143,
   "metadata": {
    "ExecuteTime": {
     "end_time": "2019-01-21T07:08:31.481048Z",
     "start_time": "2019-01-21T07:08:31.469548Z"
    }
   },
   "outputs": [
    {
     "data": {
      "text/plain": [
       "[(0,\n",
       "  '-0.483*\"天气\" + -0.483*\"心情\" + -0.483*\"气温\" + -0.284*\"凉爽\" + -0.244*\"下雨\" + -0.241*\"晴朗\" + -0.176*\"愉快\" + -0.172*\"多云\" + -0.134*\"寒冷\" + -0.132*\"忧伤\"'),\n",
       " (1,\n",
       "  '-0.725*\"晴朗\" + 0.558*\"下雨\" + 0.275*\"多云\" + -0.197*\"忧伤\" + -0.170*\"炎热\" + 0.117*\"凉爽\" + 0.060*\"愉快\" + 0.039*\"寒冷\" + -0.014*\"天气\" + -0.014*\"心情\"'),\n",
       " (2,\n",
       "  '-0.548*\"凉爽\" + 0.528*\"下雨\" + 0.413*\"寒冷\" + -0.362*\"多云\" + 0.201*\"晴朗\" + -0.175*\"忧伤\" + -0.156*\"愉快\" + 0.153*\"炎热\" + 0.018*\"心情\" + 0.018*\"气温\"')]"
      ]
     },
     "execution_count": 143,
     "metadata": {},
     "output_type": "execute_result"
    }
   ],
   "source": [
    "# LSI主题模型 3个主题\n",
    "lsi = models.lsimodel.LsiModel(corpus=corpus, id2word=dictionary, num_topics=3)\n",
    "lsi.print_topics()"
   ]
  },
  {
   "cell_type": "code",
   "execution_count": 144,
   "metadata": {
    "ExecuteTime": {
     "end_time": "2019-01-21T07:10:07.157548Z",
     "start_time": "2019-01-21T07:10:07.148048Z"
    }
   },
   "outputs": [
    {
     "data": {
      "text/plain": [
       "array([[-2.1516454 , -0.5906748 , -0.44940165],\n",
       "       [-2.00055   , -0.37951356,  0.9351639 ],\n",
       "       [-2.0019393 , -0.6682296 ,  0.51109177],\n",
       "       [-2.2166624 , -1.3755469 , -0.09214475],\n",
       "       [-1.8888453 , -1.1351495 ,  0.2322983 ],\n",
       "       [-2.1506233 ,  0.90750366, -0.32825732],\n",
       "       [-2.0389187 ,  0.15186773, -1.0311229 ],\n",
       "       [-2.154523  ,  0.6922803 , -0.122334  ],\n",
       "       [-2.0009174 ,  0.8299489 ,  0.6322361 ],\n",
       "       [-2.0727115 ,  1.1128085 ,  1.522484  ],\n",
       "       [-1.9581293 , -0.92578256,  0.4925507 ],\n",
       "       [-2.0827289 ,  0.4094207 , -1.0125818 ],\n",
       "       [-2.0389187 ,  0.15186773, -1.0311229 ],\n",
       "       [-2.154523  ,  0.6922803 , -0.122334  ]], dtype=float32)"
      ]
     },
     "execution_count": 144,
     "metadata": {},
     "output_type": "execute_result"
    }
   ],
   "source": [
    "# LSI主题模型\n",
    "lsi_array = gensim.matutils.corpus2dense(list(lsi[corpus]),num_terms=3).T\n",
    "lsi_array"
   ]
  },
  {
   "cell_type": "markdown",
   "metadata": {},
   "source": [
    "### LDA主题模型"
   ]
  },
  {
   "cell_type": "code",
   "execution_count": 157,
   "metadata": {
    "ExecuteTime": {
     "end_time": "2019-01-21T07:19:50.574548Z",
     "start_time": "2019-01-21T07:19:50.090048Z"
    }
   },
   "outputs": [
    {
     "data": {
      "text/plain": [
       "[(0,\n",
       "  '0.166*\"天气\" + 0.166*\"心情\" + 0.166*\"气温\" + 0.120*\"凉爽\" + 0.096*\"晴朗\" + 0.087*\"愉快\" + 0.070*\"忧伤\" + 0.053*\"多云\" + 0.037*\"寒冷\" + 0.036*\"下雨\"'),\n",
       " (1,\n",
       "  '0.091*\"下雨\" + 0.091*\"天气\" + 0.091*\"心情\" + 0.091*\"气温\" + 0.091*\"寒冷\" + 0.091*\"多云\" + 0.091*\"凉爽\" + 0.091*\"晴朗\" + 0.091*\"忧伤\" + 0.091*\"愉快\"'),\n",
       " (2,\n",
       "  '0.211*\"炎热\" + 0.156*\"晴朗\" + 0.140*\"天气\" + 0.140*\"心情\" + 0.140*\"气温\" + 0.116*\"下雨\" + 0.020*\"忧伤\" + 0.019*\"寒冷\" + 0.019*\"凉爽\" + 0.019*\"多云\"'),\n",
       " (3,\n",
       "  '0.091*\"下雨\" + 0.091*\"天气\" + 0.091*\"气温\" + 0.091*\"心情\" + 0.091*\"寒冷\" + 0.091*\"多云\" + 0.091*\"凉爽\" + 0.091*\"晴朗\" + 0.091*\"忧伤\" + 0.091*\"愉快\"'),\n",
       " (4,\n",
       "  '0.208*\"下雨\" + 0.158*\"天气\" + 0.158*\"心情\" + 0.158*\"气温\" + 0.109*\"寒冷\" + 0.109*\"多云\" + 0.059*\"凉爽\" + 0.010*\"晴朗\" + 0.010*\"忧伤\" + 0.010*\"愉快\"')]"
      ]
     },
     "execution_count": 157,
     "metadata": {},
     "output_type": "execute_result"
    }
   ],
   "source": [
    "# lda主题模型\n",
    "lda = models.ldamodel.LdaModel(corpus=corpus,id2word=dictionary, num_topics=5,\n",
    "                              update_every=100, chunksize=1000, passes=50)\n",
    "lda.print_topics()"
   ]
  },
  {
   "cell_type": "code",
   "execution_count": 158,
   "metadata": {
    "ExecuteTime": {
     "end_time": "2019-01-21T07:20:58.701048Z",
     "start_time": "2019-01-21T07:20:58.682548Z"
    }
   },
   "outputs": [
    {
     "data": {
      "text/plain": [
       "array([[0.8848183 , 0.02859069, 0.02902525, 0.02859069, 0.02897502],\n",
       "       [0.02944331, 0.02859281, 0.8837875 , 0.02859281, 0.02958359],\n",
       "       [0.8843619 , 0.02860033, 0.02901451, 0.02860033, 0.02942291],\n",
       "       [0.88460606, 0.02859017, 0.02924196, 0.02859017, 0.02897162],\n",
       "       [0.57300234, 0.02859997, 0.34079605, 0.02859997, 0.02900169],\n",
       "       [0.02968639, 0.02859565, 0.02892356, 0.02859566, 0.8841987 ],\n",
       "       [0.8846884 , 0.02859597, 0.02882653, 0.02859598, 0.02929314],\n",
       "       [0.8833896 , 0.02859949, 0.02921629, 0.0285995 , 0.0301951 ],\n",
       "       [0.02922238, 0.02859006, 0.02892232, 0.02859006, 0.88467515],\n",
       "       [0.02918382, 0.02858777, 0.02898027, 0.02858777, 0.88466036],\n",
       "       [0.8843264 , 0.02860162, 0.02901511, 0.02860162, 0.02945526],\n",
       "       [0.8846726 , 0.02859469, 0.02882619, 0.0285947 , 0.02931182],\n",
       "       [0.8847076 , 0.02859597, 0.02882647, 0.02859597, 0.02927396],\n",
       "       [0.8833676 , 0.02859949, 0.02921631, 0.0285995 , 0.03021707]],\n",
       "      dtype=float32)"
      ]
     },
     "execution_count": 158,
     "metadata": {},
     "output_type": "execute_result"
    }
   ],
   "source": [
    "# lda主题模型\n",
    "lda_array  = gensim.matutils.corpus2dense(list(lda[corpus]),num_terms=5).T\n",
    "lda_array"
   ]
  },
  {
   "cell_type": "code",
   "execution_count": null,
   "metadata": {},
   "outputs": [],
   "source": []
  },
  {
   "cell_type": "markdown",
   "metadata": {},
   "source": [
    "### Word2Vec"
   ]
  },
  {
   "cell_type": "code",
   "execution_count": 219,
   "metadata": {
    "ExecuteTime": {
     "end_time": "2019-01-21T07:40:49.166048Z",
     "start_time": "2019-01-21T07:40:49.118048Z"
    }
   },
   "outputs": [
    {
     "data": {
      "text/plain": [
       "array([ 0.0078106 , -0.05728721,  0.08298404,  0.03091619,  0.09410242],\n",
       "      dtype=float32)"
      ]
     },
     "execution_count": 219,
     "metadata": {},
     "output_type": "execute_result"
    }
   ],
   "source": [
    "from gensim.models import word2vec\n",
    "\n",
    "# 训练词向量\n",
    "model = word2vec.Word2Vec(seglist, hs=1,min_count=1,window=2,size=5,iter = 10) \n",
    "# 保存词向量\n",
    "model.wv.save_word2vec_format('vec.txt',binary = False)\n",
    "# 查看词向量\n",
    "model.wv['心情']"
   ]
  },
  {
   "cell_type": "code",
   "execution_count": 220,
   "metadata": {
    "ExecuteTime": {
     "end_time": "2019-01-21T07:40:51.097548Z",
     "start_time": "2019-01-21T07:40:51.073548Z"
    }
   },
   "outputs": [
    {
     "data": {
      "text/plain": [
       "[('晴朗', 0.5466448068618774),\n",
       " ('凉爽', 0.507328987121582),\n",
       " ('炎热', 0.42405781149864197)]"
      ]
     },
     "execution_count": 220,
     "metadata": {},
     "output_type": "execute_result"
    }
   ],
   "source": [
    "# 寻找最相似的词\n",
    "model.wv.most_similar(['气温'],topn =3)"
   ]
  },
  {
   "cell_type": "code",
   "execution_count": 221,
   "metadata": {
    "ExecuteTime": {
     "end_time": "2019-01-21T07:40:53.013048Z",
     "start_time": "2019-01-21T07:40:53.001548Z"
    }
   },
   "outputs": [
    {
     "data": {
      "text/plain": [
       "0.7826325"
      ]
     },
     "execution_count": 221,
     "metadata": {},
     "output_type": "execute_result"
    }
   ],
   "source": [
    "# 计算余弦相似度\n",
    "model.wv.similarity('多云', '下雨')"
   ]
  },
  {
   "cell_type": "code",
   "execution_count": 251,
   "metadata": {
    "ExecuteTime": {
     "end_time": "2019-01-21T07:45:38.853048Z",
     "start_time": "2019-01-21T07:45:38.842548Z"
    }
   },
   "outputs": [
    {
     "data": {
      "text/plain": [
       "-0.33808666"
      ]
     },
     "execution_count": 251,
     "metadata": {},
     "output_type": "execute_result"
    }
   ],
   "source": [
    "# 计算余弦相似度\n",
    "model.wv.similarity('多云', '寒冷')"
   ]
  },
  {
   "cell_type": "markdown",
   "metadata": {},
   "source": [
    "### FastText"
   ]
  },
  {
   "cell_type": "code",
   "execution_count": 277,
   "metadata": {
    "ExecuteTime": {
     "end_time": "2019-01-21T07:48:18.550548Z",
     "start_time": "2019-01-21T07:48:17.930548Z"
    }
   },
   "outputs": [
    {
     "data": {
      "text/plain": [
       "array([-0.17457816,  0.04080092,  0.03789375, -0.01083995, -0.14343518],\n",
       "      dtype=float32)"
      ]
     },
     "execution_count": 277,
     "metadata": {},
     "output_type": "execute_result"
    }
   ],
   "source": [
    "from gensim.models import FastText\n",
    "\n",
    "model = FastText(seglist, size=5, window=2, min_count=1,iter=250)\n",
    "# 保存词向量\n",
    "model.wv.save_word2vec_format('vec.txt',binary = False)\n",
    "# 查看词向量\n",
    "model.wv['心情']"
   ]
  },
  {
   "cell_type": "code",
   "execution_count": null,
   "metadata": {},
   "outputs": [],
   "source": []
  },
  {
   "cell_type": "code",
   "execution_count": 278,
   "metadata": {
    "ExecuteTime": {
     "end_time": "2019-01-21T07:48:20.223048Z",
     "start_time": "2019-01-21T07:48:20.210048Z"
    }
   },
   "outputs": [
    {
     "data": {
      "text/plain": [
       "[('多云', 0.9617383480072021),\n",
       " ('愉快', 0.9481709599494934),\n",
       " ('炎热', 0.9225022196769714)]"
      ]
     },
     "execution_count": 278,
     "metadata": {},
     "output_type": "execute_result"
    }
   ],
   "source": [
    "# 寻找最相似的词\n",
    "model.wv.most_similar(['气温'],topn =3)"
   ]
  },
  {
   "cell_type": "code",
   "execution_count": 279,
   "metadata": {
    "ExecuteTime": {
     "end_time": "2019-01-21T07:48:21.954048Z",
     "start_time": "2019-01-21T07:48:21.938548Z"
    }
   },
   "outputs": [
    {
     "data": {
      "text/plain": [
       "0.75107634"
      ]
     },
     "execution_count": 279,
     "metadata": {},
     "output_type": "execute_result"
    }
   ],
   "source": [
    "# 计算余弦相似度\n",
    "model.wv.similarity('多云', '下雨')"
   ]
  },
  {
   "cell_type": "code",
   "execution_count": 280,
   "metadata": {
    "ExecuteTime": {
     "end_time": "2019-01-21T07:48:23.881548Z",
     "start_time": "2019-01-21T07:48:23.873548Z"
    }
   },
   "outputs": [
    {
     "data": {
      "text/plain": [
       "-0.07756445"
      ]
     },
     "execution_count": 280,
     "metadata": {},
     "output_type": "execute_result"
    }
   ],
   "source": [
    "# 计算余弦相似度\n",
    "model.wv.similarity('多云', '寒冷')"
   ]
  },
  {
   "cell_type": "code",
   "execution_count": null,
   "metadata": {},
   "outputs": [],
   "source": []
  },
  {
   "cell_type": "code",
   "execution_count": 282,
   "metadata": {
    "ExecuteTime": {
     "end_time": "2019-01-21T07:49:19.377048Z",
     "start_time": "2019-01-21T07:49:19.369048Z"
    }
   },
   "outputs": [
    {
     "data": {
      "text/plain": [
       "array([-0.34318325,  0.07374957, -0.10595525,  0.02992013, -0.00185205],\n",
       "      dtype=float32)"
      ]
     },
     "execution_count": 282,
     "metadata": {},
     "output_type": "execute_result"
    }
   ],
   "source": [
    "# 计算短语的词向量\n",
    "model.wv['天气多云转晴']"
   ]
  },
  {
   "cell_type": "code",
   "execution_count": 284,
   "metadata": {
    "ExecuteTime": {
     "end_time": "2019-01-21T07:49:50.744048Z",
     "start_time": "2019-01-21T07:49:50.738048Z"
    }
   },
   "outputs": [
    {
     "data": {
      "text/plain": [
       "array([-0.34318325,  0.07374957, -0.10595525,  0.02992013, -0.00185205],\n",
       "      dtype=float32)"
      ]
     },
     "execution_count": 284,
     "metadata": {},
     "output_type": "execute_result"
    }
   ],
   "source": [
    "# 计算短语的词向量\n",
    "model.wv['天气/多云/转晴']"
   ]
  },
  {
   "cell_type": "code",
   "execution_count": 286,
   "metadata": {
    "ExecuteTime": {
     "end_time": "2019-01-21T07:50:33.424048Z",
     "start_time": "2019-01-21T07:50:33.411048Z"
    }
   },
   "outputs": [
    {
     "data": {
      "text/plain": [
       "array([-0.23769134,  0.14257799, -0.10763248, -0.06165032, -0.09630556],\n",
       "      dtype=float32)"
      ]
     },
     "execution_count": 286,
     "metadata": {},
     "output_type": "execute_result"
    }
   ],
   "source": [
    "# 计算短语的词向量\n",
    "model.wv['天气/多云']"
   ]
  },
  {
   "cell_type": "code",
   "execution_count": null,
   "metadata": {},
   "outputs": [],
   "source": []
  },
  {
   "cell_type": "code",
   "execution_count": 302,
   "metadata": {
    "ExecuteTime": {
     "end_time": "2019-01-21T07:54:20.417548Z",
     "start_time": "2019-01-21T07:54:20.413048Z"
    }
   },
   "outputs": [
    {
     "data": {
      "text/plain": [
       "array([-0.34318325,  0.07374957, -0.10595525,  0.02992013, -0.00185205],\n",
       "      dtype=float32)"
      ]
     },
     "execution_count": 302,
     "metadata": {},
     "output_type": "execute_result"
    }
   ],
   "source": [
    "# 计算句子的词向量\n",
    "model.wv['天气多云转晴，心情晴转多云。']"
   ]
  },
  {
   "cell_type": "code",
   "execution_count": 329,
   "metadata": {
    "ExecuteTime": {
     "end_time": "2019-01-21T07:59:08.668548Z",
     "start_time": "2019-01-21T07:59:08.653548Z"
    }
   },
   "outputs": [
    {
     "data": {
      "text/plain": [
       "array([-0.0457298 ,  0.14053859,  0.20732215,  0.07776733, -0.22281381],\n",
       "      dtype=float32)"
      ]
     },
     "execution_count": 329,
     "metadata": {},
     "output_type": "execute_result"
    }
   ],
   "source": [
    "# 计算句子的词向量\n",
    "model.wv['心情晴转下雨。']"
   ]
  },
  {
   "cell_type": "code",
   "execution_count": null,
   "metadata": {},
   "outputs": [],
   "source": []
  },
  {
   "cell_type": "code",
   "execution_count": 305,
   "metadata": {
    "ExecuteTime": {
     "end_time": "2019-01-21T07:55:16.995548Z",
     "start_time": "2019-01-21T07:55:16.987048Z"
    }
   },
   "outputs": [
    {
     "data": {
      "text/plain": [
       "1.0"
      ]
     },
     "execution_count": 305,
     "metadata": {},
     "output_type": "execute_result"
    }
   ],
   "source": [
    "# 计算句子的相似度\n",
    "model.wv.similarity('天气多云转晴，心情晴转多云。','天气晴转多云，心情多云转晴。')"
   ]
  },
  {
   "cell_type": "code",
   "execution_count": 332,
   "metadata": {
    "ExecuteTime": {
     "end_time": "2019-01-21T07:59:17.985048Z",
     "start_time": "2019-01-21T07:59:17.980048Z"
    }
   },
   "outputs": [
    {
     "data": {
      "text/plain": [
       "0.05348643"
      ]
     },
     "execution_count": 332,
     "metadata": {},
     "output_type": "execute_result"
    }
   ],
   "source": [
    "# 计算句子的相似度\n",
    "model.wv.similarity('天气多云转晴，心情晴转多云.','心情晴转下雨。')"
   ]
  },
  {
   "cell_type": "code",
   "execution_count": null,
   "metadata": {},
   "outputs": [],
   "source": []
  },
  {
   "cell_type": "markdown",
   "metadata": {},
   "source": [
    "### 最大熵模型"
   ]
  },
  {
   "cell_type": "code",
   "execution_count": null,
   "metadata": {
    "ExecuteTime": {
     "end_time": "2019-01-17T07:06:09.297135Z",
     "start_time": "2019-01-17T07:06:09.265135Z"
    }
   },
   "outputs": [],
   "source": [
    "# -*- coding:utf-8 -*-\n",
    "# Filename: maxent.py\n",
    "# Author：hankcs\n",
    "# Date: 2015/10/2 23:23\n",
    "import sys\n",
    "import math\n",
    "from collections import defaultdict\n",
    "\n",
    "class MaxEnt:\n",
    "    def __init__(self):\n",
    "        self._samples = [] \t    #样本集, 元素是[y,x1,x2,...,xn]的元组\n",
    "        self._Y = set([])       #标签集合,相当于去重之后的y\n",
    "        self._numXY = defaultdict(int)  #Key是(xi,yi)对，Value是count(xi,yi)\n",
    "        self._N = 0\t\t    #样本数量\n",
    "        self._n = 0\t\t    #特征对(xi,yi)总数量\n",
    "        self._xyID = {}\t    #对(x,y)对做的顺序编号(ID), Key是(xi,yi)对,Value是ID\n",
    "        self._C = 0\t\t    #样本最大的特征数量,用于求参数时的迭代，见IIS原理说明\n",
    "        self._ep_ = []\t\t#样本分布的特征期望值\n",
    "        self._ep = []\t\t#模型分布的特征期望值\n",
    "        self._w = []\t\t#对应n个特征的权值\n",
    "        self._lastw = []\t#上一轮迭代的权值\n",
    "        self._EPS = 0.01\t#判断是否收敛的阈值\n",
    "        \n",
    "    def load_data(self, filename):\n",
    "        for line in open(filename, \"r\"):\n",
    "            sample = line.strip().split(\"\\t\")\n",
    "            if len(sample) < 2: #至少：标签+一个特征\n",
    "                continue\n",
    "            y = sample[0]\n",
    "            X = sample[1:]\n",
    "            self._samples.append(sample) #label + features\n",
    "            self._Y.add(y)      #label\n",
    "            for x in set(X):    #set给X去重\n",
    "                self._numXY[(x, y)] += 1\n",
    "                \n",
    "    def _initparams(self):\n",
    "        self._N = len(self._samples)\n",
    "        self._n = len(self._numXY)\n",
    "        self._C = max([len(sample) - 1 for sample in self._samples])\n",
    "        self._w = [0.0] * self._n\n",
    "        self._lastw = self._w[:]\n",
    "        self._sample_ep()\n",
    "        \n",
    "    def _convergence(self):\n",
    "        for w, lw in zip(self._w, self._lastw):\n",
    "            if math.fabs(w - lw) >= self._EPS:\n",
    "                return False\n",
    "        return True\n",
    "    \n",
    "    def _sample_ep(self):\n",
    "        self._ep_ = [0.0] * self._n\n",
    "        #计算方法参见公式(20)\n",
    "        for i, xy in enumerate(self._numXY):\n",
    "            self._ep_[i] = self._numXY[xy] * 1.0 / self._N\n",
    "            self._xyID[xy] = i\n",
    "            \n",
    "    def _zx(self, X):\n",
    "        #calculate Z(X), 计算方法参见公式(15)\n",
    "        ZX = 0.0\n",
    "        for y in self._Y:\n",
    "            sum = 0.0\n",
    "            for x in X:\n",
    "                if (x, y) in self._numXY:\n",
    "                    sum += self._w[self._xyID[(x, y)]]\n",
    "            ZX += math.exp(sum)\n",
    "        return ZX\n",
    "    \n",
    "    def _pyx(self, X):\n",
    "        #calculate p(y|x), 计算方法参见公式(22)\n",
    "        ZX = self._zx(X)\n",
    "        results = []\n",
    "        for y in self._Y:\n",
    "            sum = 0.0\n",
    "            for x in X:\n",
    "                if (x, y) in self._numXY: #这个判断相当于指示函数的作用\n",
    "                    sum += \tself._w[self._xyID[(x, y)]]\n",
    "            pyx = 1.0 / ZX * math.exp(sum)\n",
    "            results.append((y, pyx))\n",
    "        return results\n",
    "    \n",
    "    def _model_ep(self):\n",
    "        self._ep = [0.0] * self._n\n",
    "        #参见公式(21)\n",
    "        for sample in self._samples:\n",
    "            X = sample[1:]\n",
    "            pyx = self._pyx(X)\n",
    "            for y, p in pyx:\n",
    "                for x in X:\n",
    "                    if (x, y) in self._numXY:\n",
    "                        self._ep[self._xyID[(x, y)]] += p * 1.0 / self._N\n",
    "                        \n",
    "    def train(self, maxiter = 1000):\n",
    "        self._initparams()\n",
    "        for i in range(0, maxiter):\n",
    "            print(\"Iter:%d...\"%i)\n",
    "            self._lastw = self._w[:] #保存上一轮权值\n",
    "            self._model_ep()\n",
    "            #更新每个特征的权值\n",
    "            for i, w in enumerate(self._w):\n",
    "                #参考公式(19)\n",
    "                self._w[i] += 1.0 / self._C * math.log(self._ep_[i] / self._ep[i])\n",
    "            print(self._w)\n",
    "            #检查是否收敛\t\n",
    "            if self._convergence():\n",
    "                break\n",
    "                \n",
    "    def predict(self, input):\n",
    "        X = input.strip().split(\"\\t\")\n",
    "        prob = self._pyx(X)\n",
    "        return prob"
   ]
  },
  {
   "cell_type": "code",
   "execution_count": null,
   "metadata": {
    "ExecuteTime": {
     "end_time": "2019-01-17T07:43:27.663135Z",
     "start_time": "2019-01-17T07:43:27.655635Z"
    }
   },
   "outputs": [],
   "source": [
    "math.fabs(0.001)"
   ]
  },
  {
   "cell_type": "code",
   "execution_count": null,
   "metadata": {
    "ExecuteTime": {
     "end_time": "2019-01-17T07:43:50.086635Z",
     "start_time": "2019-01-17T07:43:50.077135Z"
    }
   },
   "outputs": [],
   "source": [
    "abs(0.001)"
   ]
  },
  {
   "cell_type": "code",
   "execution_count": null,
   "metadata": {
    "ExecuteTime": {
     "end_time": "2019-01-17T07:09:53.887135Z",
     "start_time": "2019-01-17T07:09:53.881635Z"
    }
   },
   "outputs": [],
   "source": [
    "max([len(sample) - 1 for sample in maxent._samples])"
   ]
  },
  {
   "cell_type": "code",
   "execution_count": null,
   "metadata": {
    "ExecuteTime": {
     "end_time": "2019-01-17T07:07:37.730635Z",
     "start_time": "2019-01-17T07:07:37.663135Z"
    }
   },
   "outputs": [],
   "source": [
    "maxent = MaxEnt()\n",
    "maxent.load_data('train_data')\n",
    "maxent.train()\n",
    "print(maxent.predict(\"Rainy\\tHappy\\tDry\"))\n",
    "#sys.exit(0)"
   ]
  },
  {
   "cell_type": "code",
   "execution_count": null,
   "metadata": {
    "ExecuteTime": {
     "end_time": "2019-01-17T06:33:17.040635Z",
     "start_time": "2019-01-17T06:33:16.897635Z"
    }
   },
   "outputs": [],
   "source": [
    "maxent = MaxEnt()\n",
    "maxent.load_data('data.txt')\n",
    "maxent.train()\n",
    "print(maxent.predict(\"sunny\\thot\\thigh\\tFALSE\"))\n",
    "print(maxent.predict(\"overcast\\thot\\thigh\\tFALSE\"))\n",
    "print(maxent.predict(\"sunny\\tcool\\thigh\\tTRUE\"))\n",
    "#sys.exit(0)"
   ]
  },
  {
   "cell_type": "code",
   "execution_count": null,
   "metadata": {
    "ExecuteTime": {
     "end_time": "2019-01-17T06:40:32.012135Z",
     "start_time": "2019-01-17T06:40:30.883135Z"
    }
   },
   "outputs": [],
   "source": [
    "# -*- coding:utf-8 -*-\n",
    "# Filename: maxent.py\n",
    "# Author：hankcs\n",
    "# Date: 2015/10/2 23:23\n",
    "import sys\n",
    "import math\n",
    "from collections import defaultdict\n",
    "\n",
    "class MaxEnt:\n",
    "    def __init__(self):\n",
    "        self._samples = [] \t    #样本集, 元素是[y,x1,x2,...,xn]的元组\n",
    "        self._Y = set([])       #标签集合,相当于去重之后的y\n",
    "        self._numXY = defaultdict(int)  #Key是(xi,yi)对，Value是count(xi,yi)\n",
    "        self._N = 0\t\t    #样本数量\n",
    "        self._n = 0\t\t    #特征对(xi,yi)总数量\n",
    "        self._xyID = {}\t    #对(x,y)对做的顺序编号(ID), Key是(xi,yi)对,Value是ID\n",
    "        self._C = 0\t\t    #样本最大的特征数量,用于求参数时的迭代，见IIS原理说明\n",
    "        self._ep_ = []\t\t#样本分布的特征期望值\n",
    "        self._ep = []\t\t#模型分布的特征期望值\n",
    "        self._w = []\t\t#对应n个特征的权值\n",
    "        self._lastw = []\t#上一轮迭代的权值\n",
    "        self._EPS = 0.01\t#判断是否收敛的阈值\n",
    "        \n",
    "    def load_data(self, filename):\n",
    "        for line in open(filename, \"r\"):\n",
    "            sample = line.strip().split(\"\\t\")\n",
    "            if len(sample) < 2: #至少：标签+一个特征\n",
    "                continue\n",
    "            y = sample[0]\n",
    "            X = sample[1:]\n",
    "            self._samples.append(sample) #label + features\n",
    "            self._Y.add(y)      #label\n",
    "            for x in set(X):    #set给X去重\n",
    "                self._numXY[(x, y)] += 1\n",
    "                \n",
    "    def _initparams(self):\n",
    "        self._N = len(self._samples)\n",
    "        self._n = len(self._numXY)\n",
    "        self._C = max([len(sample) - 1 for sample in self._samples])\n",
    "        self._w = [0.0] * self._n\n",
    "        self._lastw = self._w[:]\n",
    "        self._sample_ep()\n",
    "        \n",
    "    def _convergence(self):\n",
    "        for w, lw in zip(self._w, self._lastw):\n",
    "            if abs(w - lw) >= self._EPS:\n",
    "                return False\n",
    "        return True\n",
    "    \n",
    "    def _sample_ep(self):\n",
    "        self._ep_ = [0.0] * self._n\n",
    "        #计算方法参见公式(20)\n",
    "        for i, xy in enumerate(self._numXY):\n",
    "            self._ep_[i] = self._numXY[xy] * 1.0 / self._N\n",
    "            self._xyID[xy] = i\n",
    "            \n",
    "    def _zx(self, X):\n",
    "        #calculate Z(X), 计算方法参见公式(15)\n",
    "        ZX = 0.0\n",
    "        for y in self._Y:\n",
    "            sum = 0.0\n",
    "            for x in X:\n",
    "                if (x, y) in self._numXY:\n",
    "                    sum += self._w[self._xyID[(x, y)]]\n",
    "            ZX += math.exp(sum)\n",
    "        return ZX\n",
    "    \n",
    "    def _pyx(self, X):\n",
    "        #calculate p(y|x), 计算方法参见公式(22)\n",
    "        ZX = self._zx(X)\n",
    "        results = []\n",
    "        for y in self._Y:\n",
    "            sum = 0.0\n",
    "            for x in X:\n",
    "                if (x, y) in self._numXY: #这个判断相当于指示函数的作用\n",
    "                    sum += \tself._w[self._xyID[(x, y)]]\n",
    "            pyx = 1.0 / ZX * math.exp(sum)\n",
    "            results.append((y, pyx))\n",
    "        return results\n",
    "    \n",
    "    def _model_ep(self):\n",
    "        self._ep = [0.0] * self._n\n",
    "        #参见公式(21)\n",
    "        for sample in self._samples:\n",
    "            X = sample[1:]\n",
    "            pyx = self._pyx(X)\n",
    "            for y, p in pyx:\n",
    "                for x in X:\n",
    "                    if (x, y) in self._numXY:\n",
    "                        self._ep[self._xyID[(x, y)]] += p * 1.0 / self._N\n",
    "                        \n",
    "    def train(self, maxiter = 1000):\n",
    "        self._initparams()\n",
    "        for i in range(0, maxiter):\n",
    "            print(\"Iter:%d...\"%i)\n",
    "            self._lastw = self._w[:] #保存上一轮权值\n",
    "            self._model_ep()\n",
    "            #更新每个特征的权值\n",
    "            for i, w in enumerate(self._w):\n",
    "                #参考公式(19)\n",
    "                self._w[i] += 1.0 / self._C * math.log(self._ep_[i] / self._ep[i])\n",
    "            print(self._w)\n",
    "            #检查是否收敛\t\n",
    "            if self._convergence():\n",
    "                break\n",
    "                \n",
    "    def predict(self, input):\n",
    "        X = input.strip().split(\"\\t\")\n",
    "        prob = self._pyx(X)\n",
    "        return prob"
   ]
  },
  {
   "cell_type": "code",
   "execution_count": null,
   "metadata": {
    "ExecuteTime": {
     "end_time": "2019-01-17T06:41:09.838135Z",
     "start_time": "2019-01-17T06:41:09.830135Z"
    }
   },
   "outputs": [],
   "source": [
    "df.to_csv('train_data',sep = '\\t',index = None, header = None )"
   ]
  }
 ],
 "metadata": {
  "kernelspec": {
   "display_name": "Python 3",
   "language": "python",
   "name": "python3"
  },
  "language_info": {
   "codemirror_mode": {
    "name": "ipython",
    "version": 3
   },
   "file_extension": ".py",
   "mimetype": "text/x-python",
   "name": "python",
   "nbconvert_exporter": "python",
   "pygments_lexer": "ipython3",
   "version": "3.6.7"
  }
 },
 "nbformat": 4,
 "nbformat_minor": 2
}
