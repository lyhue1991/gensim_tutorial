{
 "cells": [
  {
   "cell_type": "markdown",
   "metadata": {},
   "source": [
    "### gensim 关键概念"
   ]
  },
  {
   "cell_type": "markdown",
   "metadata": {},
   "source": [
    "gensim 通过检查训练文集中统计意义上的共现模式(co-occurance pattern)，来分析文档的语义结构。 它主要是基于非监督学习方法的。\n",
    "\n",
    "一旦这些统计模式建立，任何普通的文档都可以用这种模式来表达，从而可以计算各种语义相似性(word,phrase,sentene,document)。\n",
    "\n",
    "Gensim is a free Python library designed to automatically extract semantic topics from documents, as efficiently (computer-wise) and painlessly (human-wise) as possible.\n",
    "\n",
    "Gensim is designed to process raw, unstructured digital texts (“plain text”).\n",
    "\n",
    "The algorithms in Gensim, such as Word2Vec, FastText, Latent Semantic Analysis (LSI, LSA, see LsiModel), Latent Dirichlet Allocation (LDA, see LdaModel) etc, automatically discover the semantic structure of documents by examining statistical co-occurrence patterns within a corpus of training documents. These algorithms are unsupervised, which means no human input is necessary – you only need a corpus of plain text documents.\n",
    "\n",
    "Once these statistical patterns are found, any plain text documents (sentence, phrase, word…) can be succinctly expressed in the new, semantic representation and queried for topical similarity against other documents (words, phrases…)."
   ]
  },
  {
   "cell_type": "code",
   "execution_count": null,
   "metadata": {},
   "outputs": [],
   "source": []
  },
  {
   "cell_type": "markdown",
   "metadata": {},
   "source": [
    "\n",
    "corpora 语料：可以通过字典将原始的文本转换成词袋模型  bag of words.  用稀疏矩阵表示。\n",
    "\n",
    "models 模型：不同的模型可以将corpus 转换成其它表示，如 Tfidf, word2vec，LDA等等。\n",
    "\n",
    "similarities  相似度: 基于模型转换后的文档表示，可以计算不同文档之间的相似度。\n"
   ]
  },
  {
   "cell_type": "markdown",
   "metadata": {},
   "source": [
    "### Tfidf模型示范"
   ]
  },
  {
   "cell_type": "code",
   "execution_count": 1,
   "metadata": {
    "ExecuteTime": {
     "end_time": "2019-01-21T06:37:02.536048Z",
     "start_time": "2019-01-21T06:37:02.524548Z"
    }
   },
   "outputs": [],
   "source": [
    "import logging\n",
    "logging.basicConfig(format='%(asctime)s : %(levelname)s : %(message)s', level=logging.INFO)"
   ]
  },
  {
   "cell_type": "code",
   "execution_count": 2,
   "metadata": {
    "ExecuteTime": {
     "end_time": "2019-01-21T06:37:05.244048Z",
     "start_time": "2019-01-21T06:37:04.244548Z"
    }
   },
   "outputs": [
    {
     "name": "stderr",
     "output_type": "stream",
     "text": [
      "C:\\ProgrameFiles\\Anaconda\\envs\\py3\\lib\\site-packages\\gensim\\utils.py:1212: UserWarning: detected Windows; aliasing chunkize to chunkize_serial\n",
      "  warnings.warn(\"detected Windows; aliasing chunkize to chunkize_serial\")\n",
      "2019-01-21 14:37:05,235 : INFO : 'pattern' package not found; tag filters are not available for English\n"
     ]
    }
   ],
   "source": [
    "from gensim import corpora, models, similarities\n",
    "corpus = [[(0, 1.0), (1, 1.0), (2, 1.0)],\n",
    "          [(2, 1.0), (3, 1.0), (4, 1.0), (5, 1.0), (6, 1.0), (8, 1.0)],\n",
    "          [(1, 1.0), (3, 1.0), (4, 1.0), (7, 1.0)],\n",
    "          [(0, 1.0), (4, 2.0), (7, 1.0)],\n",
    "          [(3, 1.0), (5, 1.0), (6, 1.0)],\n",
    "          [(9, 1.0)],\n",
    "          [(9, 1.0), (10, 1.0)],\n",
    "          [(9, 1.0), (10, 1.0), (11, 1.0)],\n",
    "          [(8, 1.0), (10, 1.0), (11, 1.0)]]\n"
   ]
  },
  {
   "cell_type": "code",
   "execution_count": 19,
   "metadata": {
    "ExecuteTime": {
     "end_time": "2019-01-21T07:02:22.827548Z",
     "start_time": "2019-01-21T07:02:22.802048Z"
    }
   },
   "outputs": [
    {
     "name": "stderr",
     "output_type": "stream",
     "text": [
      "2019-01-21 15:02:22,806 : INFO : collecting document frequencies\n",
      "2019-01-21 15:02:22,813 : INFO : PROGRESS: processing document #0\n",
      "2019-01-21 15:02:22,816 : INFO : calculating IDF weights for 9 documents and 11 features (28 matrix non-zeros)\n"
     ]
    }
   ],
   "source": [
    "import numpy as np \n",
    "import gensim\n",
    "tfidf = models.TfidfModel(corpus)"
   ]
  },
  {
   "cell_type": "code",
   "execution_count": 20,
   "metadata": {
    "ExecuteTime": {
     "end_time": "2019-01-21T07:02:25.448048Z",
     "start_time": "2019-01-21T07:02:25.424548Z"
    }
   },
   "outputs": [
    {
     "name": "stdout",
     "output_type": "stream",
     "text": [
      "[(0, 0.8075244024440723), (4, 0.5898341626740045)]\n"
     ]
    }
   ],
   "source": [
    "vec = [(0, 1), (4, 1)]\n",
    "print(tfidf[vec])"
   ]
  },
  {
   "cell_type": "code",
   "execution_count": null,
   "metadata": {
    "ExecuteTime": {
     "end_time": "2019-01-10T10:21:07.260500Z",
     "start_time": "2019-01-10T10:21:07.250000Z"
    }
   },
   "outputs": [],
   "source": [
    "index = similarities.SparseMatrixSimilarity(tfidf[corpus], num_features=12)"
   ]
  },
  {
   "cell_type": "code",
   "execution_count": null,
   "metadata": {
    "ExecuteTime": {
     "end_time": "2019-01-10T10:21:10.892500Z",
     "start_time": "2019-01-10T10:21:10.877500Z"
    }
   },
   "outputs": [],
   "source": [
    "sims = index[tfidf[vec]]\n",
    "print(list(enumerate(sims)))"
   ]
  },
  {
   "cell_type": "code",
   "execution_count": null,
   "metadata": {
    "ExecuteTime": {
     "end_time": "2019-01-10T10:21:14.023000Z",
     "start_time": "2019-01-10T10:21:14.007500Z"
    }
   },
   "outputs": [],
   "source": [
    "sims"
   ]
  },
  {
   "cell_type": "code",
   "execution_count": null,
   "metadata": {
    "ExecuteTime": {
     "end_time": "2019-01-10T10:24:50.129500Z",
     "start_time": "2019-01-10T10:24:50.097000Z"
    }
   },
   "outputs": [],
   "source": [
    "vec"
   ]
  },
  {
   "cell_type": "code",
   "execution_count": null,
   "metadata": {
    "ExecuteTime": {
     "end_time": "2019-01-10T10:27:01.149000Z",
     "start_time": "2019-01-10T10:27:01.122500Z"
    }
   },
   "outputs": [],
   "source": [
    "from gensim import matutils\n",
    "\n",
    "matutils.corpus2dense([enumerate(sims)],num_terms= 50 )"
   ]
  },
  {
   "cell_type": "markdown",
   "metadata": {},
   "source": [
    "### LSI示范"
   ]
  },
  {
   "cell_type": "code",
   "execution_count": 10,
   "metadata": {
    "ExecuteTime": {
     "end_time": "2019-01-14T03:13:49.472618Z",
     "start_time": "2019-01-14T03:13:49.465118Z"
    }
   },
   "outputs": [],
   "source": [
    "from gensim import corpora,models,similarities\n",
    "documents = [\"Human machine interface for lab abc computer applications\",\n",
    "             \"A survey of user opinion of computer system response time\",\n",
    "             \"The EPS user interface management system\",\n",
    "             \"System and human system engineering testing of EPS\",\n",
    "             \"Relation of user perceived response time to error measurement\",\n",
    "             \"The generation of random binary unordered trees\",\n",
    "             \"The intersection graph of paths in trees\",\n",
    "             \"Graph minors IV Widths of trees and well quasi ordering\",\n",
    "             \"Graph minors A survey\"]"
   ]
  },
  {
   "cell_type": "code",
   "execution_count": 11,
   "metadata": {
    "ExecuteTime": {
     "end_time": "2019-01-14T03:13:52.819118Z",
     "start_time": "2019-01-14T03:13:52.789618Z"
    }
   },
   "outputs": [
    {
     "name": "stdout",
     "output_type": "stream",
     "text": [
      "[['human', 'interface', 'computer'],\n",
      " ['survey', 'user', 'computer', 'system', 'response', 'time'],\n",
      " ['eps', 'user', 'interface', 'system'],\n",
      " ['system', 'human', 'system', 'eps'],\n",
      " ['user', 'response', 'time'],\n",
      " ['trees'],\n",
      " ['graph', 'trees'],\n",
      " ['graph', 'minors', 'trees'],\n",
      " ['graph', 'minors', 'survey']]\n"
     ]
    }
   ],
   "source": [
    "# remove common words and tokenize\n",
    "stoplist = set('for a of the and to in'.split())\n",
    "texts = [[word for word in document.lower().split() if word not in stoplist]\n",
    "         for document in documents]\n",
    "\n",
    "# remove words that appear only once\n",
    "from collections import defaultdict\n",
    "frequency = defaultdict(int)\n",
    "for text in texts:\n",
    "    for token in text:\n",
    "        frequency[token] += 1\n",
    "        \n",
    "texts = [[token for token in text if frequency[token] > 1]\n",
    "         for text in texts]\n",
    "\n",
    "from pprint import pprint  # pretty-printer\n",
    "pprint(texts)"
   ]
  },
  {
   "cell_type": "code",
   "execution_count": 12,
   "metadata": {
    "ExecuteTime": {
     "end_time": "2019-01-14T03:13:58.038118Z",
     "start_time": "2019-01-14T03:13:58.013618Z"
    }
   },
   "outputs": [
    {
     "name": "stderr",
     "output_type": "stream",
     "text": [
      "2019-01-14 11:13:58,015 : INFO : adding document #0 to Dictionary(0 unique tokens: [])\n",
      "2019-01-14 11:13:58,025 : INFO : built Dictionary(12 unique tokens: ['computer', 'human', 'interface', 'response', 'survey']...) from 9 documents (total 29 corpus positions)\n",
      "2019-01-14 11:13:58,029 : INFO : saving Dictionary object under deerwester.dict, separately None\n",
      "2019-01-14 11:13:58,032 : INFO : saved deerwester.dict\n"
     ]
    },
    {
     "name": "stdout",
     "output_type": "stream",
     "text": [
      "Dictionary(12 unique tokens: ['computer', 'human', 'interface', 'response', 'survey']...)\n"
     ]
    }
   ],
   "source": [
    "dictionary = corpora.Dictionary(texts)\n",
    "dictionary.save('deerwester.dict')  # store the dictionary, for future reference\n",
    "print(dictionary)\n"
   ]
  },
  {
   "cell_type": "code",
   "execution_count": 13,
   "metadata": {
    "ExecuteTime": {
     "end_time": "2019-01-14T03:14:07.435118Z",
     "start_time": "2019-01-14T03:14:07.430618Z"
    }
   },
   "outputs": [
    {
     "name": "stdout",
     "output_type": "stream",
     "text": [
      "{'computer': 0, 'human': 1, 'interface': 2, 'response': 3, 'survey': 4, 'system': 5, 'time': 6, 'user': 7, 'eps': 8, 'trees': 9, 'graph': 10, 'minors': 11}\n"
     ]
    }
   ],
   "source": [
    "print(dictionary.token2id)"
   ]
  },
  {
   "cell_type": "code",
   "execution_count": null,
   "metadata": {
    "ExecuteTime": {
     "end_time": "2019-01-10T10:27:42.733000Z",
     "start_time": "2019-01-10T10:27:42.686500Z"
    }
   },
   "outputs": [],
   "source": [
    "corpus = [dictionary.doc2bow(text) for text in texts]\n",
    "corpora.MmCorpus.serialize('deerwester.mm', corpus)  # store to disk, for later use\n",
    "pprint(corpus)"
   ]
  },
  {
   "cell_type": "code",
   "execution_count": null,
   "metadata": {
    "ExecuteTime": {
     "end_time": "2019-01-10T10:27:50.603500Z",
     "start_time": "2019-01-10T10:27:50.520500Z"
    }
   },
   "outputs": [],
   "source": [
    "# extract 400 LSI topics; use the default one-pass algorithm\n",
    "lsi = models.lsimodel.LsiModel(corpus=corpus, id2word=dictionary, num_topics=5)\n",
    "# print the most contributing words (both positively and negatively) for each of the first ten topics\n",
    "lsi.print_topics(4)"
   ]
  },
  {
   "cell_type": "code",
   "execution_count": null,
   "metadata": {
    "ExecuteTime": {
     "end_time": "2019-01-10T10:28:07.071500Z",
     "start_time": "2019-01-10T10:28:07.028500Z"
    }
   },
   "outputs": [],
   "source": [
    "new_text = ['human','computer','user']\n",
    "new_corpus = dictionary.doc2bow(new_text) \n",
    "lsi.add_documents([new_corpus])"
   ]
  },
  {
   "cell_type": "code",
   "execution_count": null,
   "metadata": {
    "ExecuteTime": {
     "end_time": "2019-01-10T10:28:14.510500Z",
     "start_time": "2019-01-10T10:28:14.492000Z"
    }
   },
   "outputs": [],
   "source": [
    "lsi[new_corpus]"
   ]
  },
  {
   "cell_type": "code",
   "execution_count": null,
   "metadata": {
    "ExecuteTime": {
     "end_time": "2019-01-10T10:28:17.343000Z",
     "start_time": "2019-01-10T10:28:17.313500Z"
    }
   },
   "outputs": [],
   "source": [
    "index = similarities.SparseMatrixSimilarity(lsi[corpus], num_features=12)"
   ]
  },
  {
   "cell_type": "code",
   "execution_count": null,
   "metadata": {
    "ExecuteTime": {
     "end_time": "2019-01-10T10:28:24.728000Z",
     "start_time": "2019-01-10T10:28:24.716000Z"
    }
   },
   "outputs": [],
   "source": [
    "sims = index[lsi[new_corpus]] "
   ]
  },
  {
   "cell_type": "code",
   "execution_count": null,
   "metadata": {
    "ExecuteTime": {
     "end_time": "2019-01-10T10:28:27.122500Z",
     "start_time": "2019-01-10T10:28:27.112000Z"
    }
   },
   "outputs": [],
   "source": [
    "print(list(enumerate(sims)))"
   ]
  },
  {
   "cell_type": "code",
   "execution_count": null,
   "metadata": {
    "ExecuteTime": {
     "end_time": "2019-01-10T10:29:02.523500Z",
     "start_time": "2019-01-10T10:29:02.503000Z"
    }
   },
   "outputs": [],
   "source": [
    "list(lsi[corpus])"
   ]
  },
  {
   "cell_type": "markdown",
   "metadata": {},
   "source": [
    "### LDA示范"
   ]
  },
  {
   "cell_type": "code",
   "execution_count": 1,
   "metadata": {
    "ExecuteTime": {
     "end_time": "2019-01-10T10:31:28.946500Z",
     "start_time": "2019-01-10T10:31:28.046500Z"
    }
   },
   "outputs": [
    {
     "name": "stderr",
     "output_type": "stream",
     "text": [
      "C:\\ProgrameFiles\\Anaconda\\envs\\py3\\lib\\site-packages\\gensim\\utils.py:1212: UserWarning: detected Windows; aliasing chunkize to chunkize_serial\n",
      "  warnings.warn(\"detected Windows; aliasing chunkize to chunkize_serial\")\n"
     ]
    }
   ],
   "source": [
    "from gensim import corpora, models,similarities"
   ]
  },
  {
   "cell_type": "code",
   "execution_count": 2,
   "metadata": {
    "ExecuteTime": {
     "end_time": "2019-01-10T10:31:32.668500Z",
     "start_time": "2019-01-10T10:31:29.855500Z"
    }
   },
   "outputs": [
    {
     "name": "stderr",
     "output_type": "stream",
     "text": [
      "Building prefix dict from the default dictionary ...\n",
      "Loading model from cache C:\\Users\\liangyun\\AppData\\Local\\Temp\\jieba.cache\n",
      "Loading model cost 0.838 seconds.\n",
      "Prefix dict has been built succesfully.\n"
     ]
    }
   ],
   "source": [
    "import jieba\n",
    "import numpy as np \n",
    "import pandas as pd \n",
    "\n",
    "\n",
    "dfapp = pd.read_csv('zz_apps_info_22k',sep = '\\001',encoding = 'utf-8')\n",
    "app_name = dfapp['app_name'].values.tolist()\n",
    "\n",
    "jieba.load_userdict(app_name)"
   ]
  },
  {
   "cell_type": "code",
   "execution_count": 3,
   "metadata": {
    "ExecuteTime": {
     "end_time": "2019-01-10T10:31:33.808000Z",
     "start_time": "2019-01-10T10:31:33.789500Z"
    }
   },
   "outputs": [],
   "source": [
    "app_info = dfapp['app_info'].values.tolist()"
   ]
  },
  {
   "cell_type": "code",
   "execution_count": 4,
   "metadata": {
    "ExecuteTime": {
     "end_time": "2019-01-10T10:32:00.778500Z",
     "start_time": "2019-01-10T10:31:35.840500Z"
    }
   },
   "outputs": [],
   "source": [
    "app_info_segs = [jieba.lcut(x) for x in app_info]"
   ]
  },
  {
   "cell_type": "code",
   "execution_count": 6,
   "metadata": {
    "ExecuteTime": {
     "end_time": "2019-01-10T10:32:51.245500Z",
     "start_time": "2019-01-10T10:32:47.787000Z"
    }
   },
   "outputs": [],
   "source": [
    "from six import iteritems\n",
    "# collect statistics about all tokens\n",
    "dictionary = corpora.Dictionary(app_info_segs)\n",
    "# remove stop words and words that appear only once\n",
    "once_ids = [tokenid for tokenid, docfreq in iteritems(dictionary.dfs) if docfreq == 1]\n",
    "dictionary.filter_tokens(once_ids)  # remove stop words and words that appear only once\n",
    "dictionary.filter_extremes()\n",
    "dictionary.compactify()  # remove gaps in id sequence after words that were removed\n"
   ]
  },
  {
   "cell_type": "code",
   "execution_count": 7,
   "metadata": {
    "ExecuteTime": {
     "end_time": "2019-01-10T10:32:52.007000Z",
     "start_time": "2019-01-10T10:32:51.990500Z"
    }
   },
   "outputs": [],
   "source": [
    "class MyCorpus(object):\n",
    "    def __iter__(self):\n",
    "        for seg in app_info_segs:\n",
    "            # assume there's one document per line, tokens separated by whitespace\n",
    "            yield dictionary.doc2bow(seg)"
   ]
  },
  {
   "cell_type": "code",
   "execution_count": 8,
   "metadata": {
    "ExecuteTime": {
     "end_time": "2019-01-10T10:32:54.316000Z",
     "start_time": "2019-01-10T10:32:54.301000Z"
    }
   },
   "outputs": [
    {
     "name": "stdout",
     "output_type": "stream",
     "text": [
      "<__main__.MyCorpus object at 0x00000000304AB550>\n"
     ]
    }
   ],
   "source": [
    "corpus_memory_friendly = MyCorpus()  # doesn't load the corpus into memory!\n",
    "print(corpus_memory_friendly)"
   ]
  },
  {
   "cell_type": "code",
   "execution_count": 12,
   "metadata": {
    "ExecuteTime": {
     "end_time": "2019-01-10T10:43:23.685500Z",
     "start_time": "2019-01-10T10:35:19.392500Z"
    }
   },
   "outputs": [
    {
     "name": "stderr",
     "output_type": "stream",
     "text": [
      "C:\\ProgrameFiles\\Anaconda\\envs\\py3\\lib\\site-packages\\gensim\\models\\ldamodel.py:1023: RuntimeWarning: divide by zero encountered in log\n",
      "  diff = np.log(self.expElogbeta)\n"
     ]
    }
   ],
   "source": [
    "lda = models.ldamodel.LdaModel(corpus=corpus_memory_friendly,\n",
    "                              id2word=dictionary, num_topics=100,\n",
    "                              update_every=100, chunksize=1000, passes=10)"
   ]
  },
  {
   "cell_type": "code",
   "execution_count": 13,
   "metadata": {
    "ExecuteTime": {
     "end_time": "2019-01-10T10:43:29.089000Z",
     "start_time": "2019-01-10T10:43:29.041500Z"
    }
   },
   "outputs": [
    {
     "data": {
      "text/plain": [
       "[(0,\n",
       "  '0.078*\" \" + 0.021*\"：\" + 0.015*\".\" + 0.014*\"！\" + 0.009*\"【\" + 0.009*\"】\" + 0.006*\"；\" + 0.006*\"-\" + 0.006*\"1\" + 0.006*\"学习\"'),\n",
       " (1,\n",
       "  '0.088*\" \" + 0.017*\".\" + 0.013*\"你\" + 0.013*\"运动\" + 0.011*\"手机\" + 0.010*\",\" + 0.009*\"：\" + 0.008*\"支持\" + 0.008*\")\" + 0.007*\"更\"'),\n",
       " (2,\n",
       "  '0.021*\"农业\" + 0.015*\"红包\" + 0.013*\"：\" + 0.011*\"身体\" + 0.010*\"通过\" + 0.010*\"和\" + 0.010*\" \" + 0.010*\"种植\" + 0.009*\"账号\" + 0.008*\"农民\"'),\n",
       " (3,\n",
       "  '0.035*\"你\" + 0.011*\"！\" + 0.011*\"在\" + 0.009*\"？\" + 0.009*\"主播\" + 0.009*\"直播\" + 0.008*\"有\" + 0.007*\"和\" + 0.007*\"游戏\" + 0.007*\"自己\"'),\n",
       " (4,\n",
       "  '0.025*\"VR\" + 0.016*\" \" + 0.015*\"：\" + 0.014*\"你\" + 0.010*\"-\" + 0.009*\"全景\" + 0.008*\"有\" + 0.008*\"体验\" + 0.008*\"更\" + 0.007*\"您\"'),\n",
       " (5,\n",
       "  '0.048*\"装修\" + 0.013*\"您\" + 0.012*\"【\" + 0.011*\"】\" + 0.011*\"：\" + 0.010*\".\" + 0.009*\"！\" + 0.009*\"流量\" + 0.008*\"你\" + 0.007*\"让\"'),\n",
       " (6,\n",
       "  '0.018*\"：\" + 0.016*\"服务\" + 0.011*\"等\" + 0.009*\"】\" + 0.009*\"和\" + 0.009*\"【\" + 0.009*\"为\" + 0.009*\" \" + 0.008*\"管理\" + 0.008*\"提供\"'),\n",
       " (7,\n",
       "  '0.077*\" \" + 0.017*\".\" + 0.015*\"：\" + 0.011*\"支持\" + 0.009*\"和\" + 0.007*\"提供\" + 0.006*\"为\" + 0.006*\"！\" + 0.006*\"等\" + 0.006*\"你\"'),\n",
       " (8,\n",
       "  '0.016*\"！\" + 0.012*\"麻将\" + 0.011*\"玩法\" + 0.009*\"和\" + 0.009*\"玩\" + 0.009*\"：\" + 0.008*\"不\" + 0.008*\"象棋\" + 0.007*\"约局\" + 0.007*\"手机\"'),\n",
       " (9,\n",
       "  '0.052*\"）\" + 0.048*\"（\" + 0.015*\"：\" + 0.009*\"提供\" + 0.009*\"为\" + 0.008*\"和\" + 0.008*\"信用\" + 0.007*\"-\" + 0.007*\"等\" + 0.006*\"服务\"'),\n",
       " (10,\n",
       "  '0.024*\"：\" + 0.024*\"【\" + 0.024*\"】\" + 0.021*\"你\" + 0.015*\" \" + 0.011*\"！\" + 0.009*\"宝宝\" + 0.008*\"让\" + 0.007*\"；\" + 0.007*\"和\"'),\n",
       " (11,\n",
       "  '0.016*\"！\" + 0.016*\"：\" + 0.013*\"广场\" + 0.013*\"更\" + 0.012*\"舞\" + 0.011*\"骑行\" + 0.010*\"你\" + 0.010*\"我们\" + 0.008*\"；\" + 0.008*\" \"'),\n",
       " (12,\n",
       "  '0.053*\"贷款\" + 0.021*\"：\" + 0.016*\"借款\" + 0.016*\"产品\" + 0.014*\"申请\" + 0.014*\"【\" + 0.013*\"】\" + 0.012*\" \" + 0.012*\"！\" + 0.011*\"您\"'),\n",
       " (13,\n",
       "  '0.026*\"手机\" + 0.013*\"功能\" + 0.012*\"定位\" + 0.012*\"和\" + 0.009*\"软件\" + 0.008*\"】\" + 0.008*\"；\" + 0.008*\"【\" + 0.008*\"等\" + 0.007*\"：\"'),\n",
       " (14,\n",
       "  '0.042*\"赚钱\" + 0.024*\"任务\" + 0.021*\"兼职\" + 0.015*\"奖励\" + 0.013*\"！\" + 0.013*\"赚\" + 0.012*\"提现\" + 0.011*\"】\" + 0.011*\"邀请\" + 0.010*\"【\"'),\n",
       " (15,\n",
       "  '0.019*\"：\" + 0.013*\"可以\" + 0.009*\"/\" + 0.008*\"你\" + 0.008*\"等\" + 0.008*\" \" + 0.008*\".\" + 0.007*\"支持\" + 0.007*\"您\" + 0.007*\"应用\"'),\n",
       " (16,\n",
       "  '0.051*\"宝宝\" + 0.023*\"游戏\" + 0.021*\"儿童\" + 0.015*\"孩子\" + 0.014*\"和\" + 0.013*\"让\" + 0.013*\"早教\" + 0.012*\"儿歌\" + 0.011*\"在\" + 0.010*\"中\"'),\n",
       " (17,\n",
       "  '0.024*\"：\" + 0.021*\".\" + 0.010*\"【\" + 0.010*\"】\" + 0.009*\"；\" + 0.009*\"-\" + 0.009*\"服务\" + 0.008*\"1\" + 0.008*\"平台\" + 0.007*\"3\"'),\n",
       " (18,\n",
       "  '0.030*\"！\" + 0.019*\"游戏\" + 0.012*\"你\" + 0.010*\"：\" + 0.009*\"玩家\" + 0.008*\"在\" + 0.007*\" \" + 0.007*\"【\" + 0.007*\"】\" + 0.007*\"；\"'),\n",
       " (19,\n",
       "  '0.032*\"“\" + 0.031*\"”\" + 0.018*\"用户\" + 0.015*\"为\" + 0.013*\"服务\" + 0.012*\"出行\" + 0.012*\"提供\" + 0.009*\"和\" + 0.008*\"：\" + 0.007*\"APP\"'),\n",
       " (20,\n",
       "  '0.019*\"可以\" + 0.018*\"手机\" + 0.017*\"管理\" + 0.015*\"和\" + 0.014*\"功能\" + 0.014*\"通过\" + 0.013*\"应用\" + 0.011*\"使用\" + 0.011*\"进行\" + 0.010*\"可\"'),\n",
       " (21,\n",
       "  '0.063*\"；\" + 0.029*\"：\" + 0.022*\".\" + 0.013*\"】\" + 0.011*\"【\" + 0.009*\"-\" + 0.008*\"服务\" + 0.008*\"等\" + 0.008*\"您\" + 0.007*\"为\"'),\n",
       " (22,\n",
       "  '0.014*\"！\" + 0.010*\"外汇\" + 0.008*\" \" + 0.008*\"为\" + 0.008*\"服务\" + 0.007*\"提供\" + 0.007*\"贵金属\" + 0.007*\"用户\" + 0.007*\"】\" + 0.007*\"【\"'),\n",
       " (23,\n",
       "  '0.081*\"》\" + 0.080*\"《\" + 0.014*\"你\" + 0.013*\"】\" + 0.013*\"【\" + 0.012*\"：\" + 0.010*\"等\" + 0.010*\"漫画\" + 0.008*\"！\" + 0.006*\" \"'),\n",
       " (24,\n",
       "  '0.022*\"开奖\" + 0.019*\"分析\" + 0.018*\"提供\" + 0.018*\"数据\" + 0.017*\"【\" + 0.017*\"】\" + 0.016*\"您\" + 0.016*\"资讯\" + 0.013*\"等\" + 0.012*\"专业\"'),\n",
       " (25,\n",
       "  '0.019*\"你\" + 0.019*\"•\" + 0.016*\"：\" + 0.012*\"可以\" + 0.008*\"等\" + 0.007*\"！\" + 0.007*\"在\" + 0.006*\"与\" + 0.006*\"和\" + 0.006*\"为\"'),\n",
       " (26,\n",
       "  '0.020*\"-\" + 0.019*\"：\" + 0.018*\"车辆\" + 0.016*\"查询\" + 0.013*\"违章\" + 0.011*\"车主\" + 0.010*\"汽车\" + 0.010*\"【\" + 0.010*\"】\" + 0.009*\"服务\"'),\n",
       " (27,\n",
       "  '0.017*\"：\" + 0.015*\"银行\" + 0.014*\"计算\" + 0.014*\"；\" + 0.012*\"可以\" + 0.010*\"转账\" + 0.010*\"等\" + 0.010*\"您\" + 0.009*\"手机\" + 0.008*\"账户\"'),\n",
       " (28,\n",
       "  '0.015*\"！\" + 0.014*\"【\" + 0.013*\"】\" + 0.009*\"摄影\" + 0.009*\"—\" + 0.008*\"：\" + 0.008*\"你\" + 0.007*\"等\" + 0.007*\"在\" + 0.006*\"和\"'),\n",
       " (29,\n",
       "  '0.037*\"你\" + 0.037*\"！\" + 0.016*\" \" + 0.015*\"在\" + 0.012*\"：\" + 0.012*\"有\" + 0.010*\"都\" + 0.008*\"这里\" + 0.008*\"了\" + 0.006*\"红包\"'),\n",
       " (30,\n",
       "  '0.115*\" \" + 0.018*\"-\" + 0.015*\">\" + 0.013*\"：\" + 0.013*\"；\" + 0.009*\"你\" + 0.009*\"！\" + 0.008*\"<\" + 0.008*\"和\" + 0.006*\"/\"'),\n",
       " (31,\n",
       "  '0.074*\" \" + 0.022*\"：\" + 0.017*\"【\" + 0.014*\"】\" + 0.014*\".\" + 0.010*\"；\" + 0.009*\"年\" + 0.007*\"-\" + 0.006*\"月\" + 0.006*\"资金\"'),\n",
       " (32,\n",
       "  '0.016*\"你\" + 0.009*\"了\" + 0.008*\"在\" + 0.008*\"！\" + 0.007*\"数学\" + 0.007*\"都\" + 0.006*\"《\" + 0.006*\"：\" + 0.006*\"；\" + 0.006*\"让\"'),\n",
       " (33,\n",
       "  '0.016*\"【\" + 0.015*\"】\" + 0.013*\"：\" + 0.009*\".\" + 0.009*\"；\" + 0.009*\"等\" + 0.008*\"婚礼\" + 0.007*\"1\" + 0.007*\"-\" + 0.006*\"！\"'),\n",
       " (34,\n",
       "  '0.023*\"：\" + 0.023*\".\" + 0.012*\"诗词\" + 0.010*\"与\" + 0.009*\"你\" + 0.009*\"通过\" + 0.008*\"和\" + 0.007*\"可以\" + 0.006*\"！\" + 0.006*\"在\"'),\n",
       " (35,\n",
       "  '0.031*\"服务\" + 0.027*\"为\" + 0.022*\"提供\" + 0.015*\"等\" + 0.014*\"平台\" + 0.014*\"信息\" + 0.014*\"”\" + 0.014*\"“\" + 0.013*\"和\" + 0.010*\"用户\"'),\n",
       " (36,\n",
       "  '0.011*\"─\" + 0.010*\"游戏\" + 0.009*\"：\" + 0.009*\"【\" + 0.009*\"和\" + 0.009*\"】\" + 0.009*\"提供\" + 0.008*\"全球\" + 0.008*\"！\" + 0.008*\"为\"'),\n",
       " (37,\n",
       "  '0.023*\"：\" + 0.022*\"】\" + 0.021*\"【\" + 0.018*\"！\" + 0.013*\"理财\" + 0.012*\" \" + 0.012*\"投资\" + 0.008*\"你\" + 0.008*\"优惠券\" + 0.008*\".\"'),\n",
       " (38,\n",
       "  '0.019*\"流量\" + 0.013*\" \" + 0.012*\"为\" + 0.010*\"和\" + 0.010*\"信息\" + 0.009*\"】\" + 0.009*\"等\" + 0.009*\"您\" + 0.009*\"【\" + 0.008*\"”\"'),\n",
       " (39,\n",
       "  '0.212*\"=\" + 0.019*\" \" + 0.017*\"：\" + 0.014*\"！\" + 0.009*\"-\" + 0.008*\"你\" + 0.007*\"】\" + 0.007*\"【\" + 0.006*\".\" + 0.005*\"；\"'),\n",
       " (40,\n",
       "  '0.144*\"\\\\\" + 0.018*\"\"\" + 0.017*\"：\" + 0.014*\"】\" + 0.013*\"【\" + 0.012*\".\" + 0.007*\" \" + 0.007*\"等\" + 0.006*\"八字\" + 0.006*\"你\"'),\n",
       " (41,\n",
       "  '0.254*\"—\" + 0.017*\"：\" + 0.009*\"服务\" + 0.009*\"和\" + 0.008*\"！\" + 0.007*\"；\" + 0.007*\"在\" + 0.006*\"等\" + 0.006*\"【\" + 0.006*\" \"'),\n",
       " (42,\n",
       "  '0.023*\"支付\" + 0.021*\"：\" + 0.021*\"查询\" + 0.020*\"信用卡\" + 0.012*\"等\" + 0.012*\".\" + 0.012*\"；\" + 0.011*\"管理\" + 0.011*\"收款\" + 0.011*\"服务\"'),\n",
       " (43,\n",
       "  '0.016*\"天气\" + 0.012*\"：\" + 0.012*\"等\" + 0.010*\"为\" + 0.010*\" \" + 0.010*\"生活\" + 0.009*\"信息\" + 0.008*\"查询\" + 0.007*\"；\" + 0.007*\"更\"'),\n",
       " (44,\n",
       "  '0.138*\" \" + 0.020*\"你\" + 0.013*\"！\" + 0.011*\"在\" + 0.010*\"我们\" + 0.009*\"和\" + 0.007*\"了\" + 0.006*\"您\" + 0.006*\"一个\" + 0.006*\"让\"'),\n",
       " (45,\n",
       "  '0.014*\"恢复\" + 0.012*\"你\" + 0.009*\"！\" + 0.008*\" \" + 0.008*\"可以\" + 0.007*\"】\" + 0.007*\"【\" + 0.007*\"：\" + 0.006*\"和\" + 0.006*\"；\"'),\n",
       " (46,\n",
       "  '0.040*\" \" + 0.015*\"-\" + 0.014*\"：\" + 0.013*\"】\" + 0.012*\"【\" + 0.011*\"翻译\" + 0.009*\"支持\" + 0.008*\".\" + 0.008*\"等\" + 0.008*\"；\"'),\n",
       " (47,\n",
       "  '0.014*\"】\" + 0.013*\"【\" + 0.011*\"！\" + 0.010*\"游戏\" + 0.008*\"在\" + 0.007*\"和\" + 0.007*\"”\" + 0.007*\"钓鱼\" + 0.007*\"：\" + 0.006*\"等\"'),\n",
       " (48,\n",
       "  '0.051*\"-\" + 0.030*\" \" + 0.014*\"你\" + 0.013*\"：\" + 0.012*\"】\" + 0.012*\"和\" + 0.011*\"【\" + 0.010*\"照片\" + 0.010*\"视频\" + 0.009*\"支持\"'),\n",
       " (49,\n",
       "  '0.039*\"！\" + 0.021*\"《\" + 0.021*\"》\" + 0.020*\"游戏\" + 0.017*\"”\" + 0.016*\"“\" + 0.014*\"手游\" + 0.011*\"玩法\" + 0.011*\"捕鱼\" + 0.010*\"体验\"'),\n",
       " (50,\n",
       "  '0.034*\"记账\" + 0.021*\"】\" + 0.021*\"【\" + 0.016*\"：\" + 0.012*\" \" + 0.012*\"你\" + 0.009*\"—\" + 0.009*\"！\" + 0.007*\".\" + 0.007*\"●\"'),\n",
       " (51,\n",
       "  '0.018*\"生活\" + 0.014*\"资讯\" + 0.013*\"新闻\" + 0.011*\"为\" + 0.010*\"：\" + 0.009*\"可以\" + 0.009*\"在\" + 0.009*\"您\" + 0.009*\"社区\" + 0.008*\"本地\"'),\n",
       " (52,\n",
       "  '0.018*\".\" + 0.015*\"手机\" + 0.013*\"电视\" + 0.011*\"功能\" + 0.010*\"支持\" + 0.010*\"区块\" + 0.010*\"等\" + 0.009*\"：\" + 0.009*\"链\" + 0.009*\"和\"'),\n",
       " (53,\n",
       "  '0.039*\".\" + 0.039*\"：\" + 0.015*\" \" + 0.010*\"】\" + 0.010*\"【\" + 0.009*\"；\" + 0.008*\"/\" + 0.008*\"1\" + 0.008*\"！\" + 0.007*\"2\"'),\n",
       " (54,\n",
       "  '0.018*\"！\" + 0.017*\"：\" + 0.015*\"你\" + 0.015*\"；\" + 0.011*\" \" + 0.010*\".\" + 0.010*\"【\" + 0.009*\"服务\" + 0.009*\"】\" + 0.008*\"在\"'),\n",
       " (55,\n",
       "  '0.013*\"你\" + 0.010*\"：\" + 0.010*\"单词\" + 0.009*\"！\" + 0.009*\"和\" + 0.009*\"有\" + 0.008*\"？\" + 0.008*\"更\" + 0.007*\"在\" + 0.006*\"】\"'),\n",
       " (56,\n",
       "  '0.041*\"－\" + 0.020*\"您\" + 0.014*\"]\" + 0.014*\"[\" + 0.011*\"：\" + 0.010*\"服务\" + 0.009*\"在线\" + 0.009*\" \" + 0.009*\"用户\" + 0.008*\"☆\"'),\n",
       " (57,\n",
       "  '0.035*\"【\" + 0.035*\"】\" + 0.022*\"你\" + 0.017*\"！\" + 0.010*\"：\" + 0.009*\"更\" + 0.007*\"保险\" + 0.006*\",\" + 0.006*\"有\" + 0.006*\"让\"'),\n",
       " (58,\n",
       "  '0.033*\"阅读\" + 0.018*\"小说\" + 0.017*\"：\" + 0.016*\"】\" + 0.015*\"【\" + 0.011*\"孩子\" + 0.010*\" \" + 0.008*\"等\" + 0.007*\"！\" + 0.007*\"；\"'),\n",
       " (59,\n",
       "  '0.039*\"学习\" + 0.020*\"考试\" + 0.014*\"课程\" + 0.012*\"：\" + 0.012*\"练习\" + 0.011*\"英语\" + 0.011*\"题库\" + 0.010*\"】\" + 0.010*\"【\" + 0.008*\"你\"'),\n",
       " (60,\n",
       "  '0.014*\"★\" + 0.014*\" \" + 0.011*\"；\" + 0.010*\"】\" + 0.010*\".\" + 0.009*\"：\" + 0.009*\"【\" + 0.008*\"！\" + 0.007*\"你\" + 0.007*\"招聘\"'),\n",
       " (61,\n",
       "  '0.025*\"【\" + 0.023*\"：\" + 0.023*\"】\" + 0.014*\"你\" + 0.012*\".\" + 0.011*\" \" + 0.010*\"/\" + 0.007*\"在\" + 0.006*\"让\" + 0.006*\"服务\"'),\n",
       " (62,\n",
       "  '0.019*\"铃声\" + 0.017*\"；\" + 0.012*\"跑步\" + 0.011*\"你\" + 0.011*\"！\" + 0.009*\"：\" + 0.008*\"】\" + 0.008*\"为\" + 0.007*\"手电筒\" + 0.007*\"【\"'),\n",
       " (63,\n",
       "  '0.018*\"你\" + 0.017*\"；\" + 0.011*\"【\" + 0.011*\"】\" + 0.010*\"和\" + 0.008*\"：\" + 0.008*\"更\" + 0.007*\"您\" + 0.007*\"让\" + 0.007*\"可以\"'),\n",
       " (64,\n",
       "  '0.030*\"：\" + 0.027*\"【\" + 0.025*\"】\" + 0.013*\"；\" + 0.010*\"商品\" + 0.009*\"您\" + 0.008*\"！\" + 0.008*\"为\" + 0.008*\"更\" + 0.007*\"服务\"'),\n",
       " (65,\n",
       "  '0.027*\"：\" + 0.023*\" \" + 0.022*\"-\" + 0.011*\"你\" + 0.010*\"手机\" + 0.010*\"；\" + 0.009*\"可以\" + 0.007*\"基金\" + 0.007*\"在\" + 0.007*\".\"'),\n",
       " (66,\n",
       "  '0.106*\" \" + 0.025*\"：\" + 0.012*\"设备\" + 0.012*\"您\" + 0.011*\".\" + 0.010*\"/\" + 0.009*\"●\" + 0.008*\"可以\" + 0.006*\"和\" + 0.006*\"等\"'),\n",
       " (67,\n",
       "  '0.020*\"【\" + 0.019*\"】\" + 0.015*\"！\" + 0.014*\"视频\" + 0.010*\"你\" + 0.008*\"；\" + 0.008*\"手机\" + 0.008*\"代练\" + 0.007*\"等\" + 0.007*\" \"'),\n",
       " (68,\n",
       "  '0.037*\"】\" + 0.036*\"【\" + 0.015*\"：\" + 0.012*\"你\" + 0.010*\"！\" + 0.008*\"让\" + 0.008*\"；\" + 0.008*\"更\" + 0.007*\"您\" + 0.007*\" \"'),\n",
       " (69,\n",
       "  '0.026*\"学生\" + 0.023*\"教育\" + 0.019*\"家长\" + 0.015*\"学习\" + 0.014*\"：\" + 0.014*\"和\" + 0.013*\"律师\" + 0.011*\"老师\" + 0.011*\"教师\" + 0.009*\"为\"'),\n",
       " (70,\n",
       "  '0.074*\"「\" + 0.074*\"」\" + 0.021*\" \" + 0.016*\"在\" + 0.011*\"*\" + 0.011*\"※\" + 0.010*\"了\" + 0.008*\"！\" + 0.008*\"我们\" + 0.007*\"：\"'),\n",
       " (71,\n",
       "  '0.043*\"/\" + 0.027*\"“\" + 0.027*\"”\" + 0.022*\" \" + 0.017*\"：\" + 0.017*\".\" + 0.015*\"表情\" + 0.007*\"你\" + 0.007*\"】\" + 0.006*\"【\"'),\n",
       " (72,\n",
       "  '0.028*\"社保\" + 0.020*\"酒店\" + 0.019*\"：\" + 0.016*\"等\" + 0.015*\"壁纸\" + 0.014*\"公积金\" + 0.012*\"；\" + 0.012*\"预订\" + 0.011*\"查询\" + 0.010*\"服务\"'),\n",
       " (73,\n",
       "  '0.039*\"视频\" + 0.037*\"！\" + 0.020*\"你\" + 0.020*\"】\" + 0.019*\"【\" + 0.017*\"制作\" + 0.012*\"滤镜\" + 0.010*\"让\" + 0.010*\"图片\" + 0.008*\"音乐\"'),\n",
       " (74,\n",
       "  '0.037*\"你\" + 0.028*\"！\" + 0.012*\"【\" + 0.012*\"聊天\" + 0.011*\"】\" + 0.011*\"交友\" + 0.011*\"在\" + 0.010*\"可以\" + 0.008*\"？\" + 0.007*\"让\"'),\n",
       " (75,\n",
       "  '0.027*\"-\" + 0.020*\"健康\" + 0.017*\"医院\" + 0.016*\"医生\" + 0.012*\"预约\" + 0.012*\"：\" + 0.012*\"挂号\" + 0.011*\"患者\" + 0.009*\"等\" + 0.008*\"服务\"'),\n",
       " (76,\n",
       "  '0.029*\" \" + 0.026*\"—\" + 0.010*\"-\" + 0.010*\"你\" + 0.010*\"您\" + 0.009*\"！\" + 0.008*\"：\" + 0.008*\"】\" + 0.008*\"让\" + 0.007*\"【\"'),\n",
       " (77,\n",
       "  '0.019*\"【\" + 0.018*\"】\" + 0.009*\"服务\" + 0.008*\"！\" + 0.008*\"为\" + 0.007*\"）\" + 0.007*\"：\" + 0.007*\" \" + 0.006*\"（\" + 0.006*\"互联网\"'),\n",
       " (78,\n",
       "  '0.470*\" \" + 0.024*\".\" + 0.013*\",\" + 0.013*\"-\" + 0.007*\"and\" + 0.007*\"the\" + 0.007*\"/\" + 0.006*\"to\" + 0.006*\"：\" + 0.005*\":\"'),\n",
       " (79,\n",
       "  '0.029*\"！\" + 0.017*\" \" + 0.015*\"【\" + 0.015*\"您\" + 0.013*\"】\" + 0.010*\"你\" + 0.007*\"我们\" + 0.007*\"为\" + 0.006*\"让\" + 0.006*\"在\"'),\n",
       " (80,\n",
       "  '0.046*\"游戏\" + 0.036*\"！\" + 0.015*\"：\" + 0.014*\".\" + 0.014*\"玩法\" + 0.013*\" \" + 0.010*\"【\" + 0.010*\"】\" + 0.010*\"玩\" + 0.008*\"*\"'),\n",
       " (81,\n",
       "  '0.036*\"游戏\" + 0.016*\"你\" + 0.015*\"在\" + 0.015*\" \" + 0.012*\"和\" + 0.011*\"！\" + 0.010*\"玩法\" + 0.010*\"中\" + 0.009*\"了\" + 0.008*\"玩家\"'),\n",
       " (82,\n",
       "  '0.044*\"：\" + 0.015*\"！\" + 0.011*\"你\" + 0.008*\"；\" + 0.007*\" \" + 0.007*\"《\" + 0.006*\"》\" + 0.006*\"与\" + 0.005*\"等\" + 0.005*\"更\"'),\n",
       " (83,\n",
       "  '0.404*\"-\" + 0.024*\" \" + 0.014*\"：\" + 0.011*\"！\" + 0.008*\"【\" + 0.007*\"】\" + 0.007*\"；\" + 0.006*\"你\" + 0.006*\"我们\" + 0.006*\".\"'),\n",
       " (84,\n",
       "  '0.031*\".\" + 0.025*\" \" + 0.024*\"【\" + 0.023*\"】\" + 0.014*\"：\" + 0.014*\"您\" + 0.009*\"/\" + 0.007*\"信息\" + 0.006*\"！\" + 0.006*\"1\"'),\n",
       " (85,\n",
       "  '0.047*\"你\" + 0.026*\"！\" + 0.011*\"让\" + 0.011*\"吧\" + 0.011*\"可以\" + 0.008*\"和\" + 0.008*\"在\" + 0.008*\"来\" + 0.007*\"一个\" + 0.006*\"游戏\"'),\n",
       " (86,\n",
       "  '0.034*\"：\" + 0.022*\"】\" + 0.020*\"【\" + 0.016*\"理财\" + 0.013*\"投资\" + 0.012*\"；\" + 0.012*\"安全\" + 0.012*\".\" + 0.010*\" \" + 0.009*\"平台\"'),\n",
       " (87,\n",
       "  '0.016*\"你\" + 0.013*\"！\" + 0.013*\"了\" + 0.010*\"成语\" + 0.009*\"在\" + 0.009*\"和\" + 0.008*\"；\" + 0.007*\"能\" + 0.007*\"游戏\" + 0.007*\"为\"'),\n",
       " (88,\n",
       "  '0.169*\",\" + 0.092*\"*\" + 0.020*\" \" + 0.015*\".\" + 0.009*\"：\" + 0.007*\"和\" + 0.006*\"您\" + 0.006*\"等\" + 0.005*\"为\" + 0.005*\"可以\"'),\n",
       " (89,\n",
       "  '0.069*\" \" + 0.012*\"！\" + 0.011*\"你\" + 0.011*\",\" + 0.010*\"；\" + 0.007*\"-\" + 0.007*\"：\" + 0.007*\"更\" + 0.007*\"/\" + 0.006*\"手机\"'),\n",
       " (90,\n",
       "  '0.044*\";\" + 0.035*\"&\" + 0.015*\"你\" + 0.015*\"！\" + 0.014*\"mdash\" + 0.012*\"【\" + 0.012*\"】\" + 0.009*\"更\" + 0.008*\"为\" + 0.008*\"：\"'),\n",
       " (91,\n",
       "  '0.038*\"！\" + 0.024*\"-\" + 0.014*\"你\" + 0.012*\"【\" + 0.012*\"】\" + 0.011*\"游戏\" + 0.009*\"有\" + 0.007*\"让\" + 0.006*\"◆\" + 0.006*\"》\"'),\n",
       " (92,\n",
       "  '0.020*\"”\" + 0.019*\"“\" + 0.009*\"-\" + 0.009*\"服务\" + 0.008*\"！\" + 0.008*\"和\" + 0.008*\"生活\" + 0.008*\"为\" + 0.008*\"在\" + 0.007*\"\\\\\"'),\n",
       " (93,\n",
       "  '0.062*\" \" + 0.021*\"：\" + 0.018*\"你\" + 0.013*\"！\" + 0.009*\"】\" + 0.009*\".\" + 0.009*\"【\" + 0.007*\"？\" + 0.007*\"-\" + 0.006*\"和\"'),\n",
       " (94,\n",
       "  '0.027*\"你\" + 0.024*\" \" + 0.013*\"：\" + 0.011*\"字体\" + 0.009*\"可以\" + 0.008*\"设计\" + 0.007*\"在\" + 0.007*\".\" + 0.007*\"签名\" + 0.007*\"有\"'),\n",
       " (95,\n",
       "  '0.269*\"\\xa0\" + 0.017*\"-\" + 0.012*\"：\" + 0.012*\".\" + 0.009*\"【\" + 0.009*\"】\" + 0.008*\"你\" + 0.007*\"；\" + 0.007*\" \" + 0.005*\"和\"'),\n",
       " (96,\n",
       "  '0.017*\"借款\" + 0.015*\"手机\" + 0.012*\"-\" + 0.010*\"】\" + 0.010*\"【\" + 0.010*\" \" + 0.009*\"：\" + 0.008*\"贷款\" + 0.008*\"借钱\" + 0.008*\"你\"'),\n",
       " (97,\n",
       "  '0.029*\"！\" + 0.028*\"：\" + 0.028*\"【\" + 0.028*\"】\" + 0.010*\"你\" + 0.008*\"视频\" + 0.008*\"学习\" + 0.008*\"我们\" + 0.007*\"@\" + 0.007*\" \"'),\n",
       " (98,\n",
       "  '0.035*\"：\" + 0.021*\"】\" + 0.021*\"【\" + 0.016*\"借款\" + 0.014*\" \" + 0.012*\"额度\" + 0.011*\"申请\" + 0.011*\"；\" + 0.011*\".\" + 0.011*\"-\"'),\n",
       " (99,\n",
       "  '0.027*\".\" + 0.024*\"：\" + 0.015*\"\\u3000\" + 0.015*\"功能\" + 0.013*\" \" + 0.013*\"您\" + 0.012*\"支持\" + 0.010*\"2\" + 0.009*\"1\" + 0.009*\"可以\"')]"
      ]
     },
     "execution_count": 13,
     "metadata": {},
     "output_type": "execute_result"
    }
   ],
   "source": [
    "lda.print_topics(100)"
   ]
  },
  {
   "cell_type": "code",
   "execution_count": 32,
   "metadata": {
    "ExecuteTime": {
     "end_time": "2019-01-10T10:52:41.227500Z",
     "start_time": "2019-01-10T10:52:00.170000Z"
    }
   },
   "outputs": [],
   "source": [
    "from gensim import matutils\n",
    "\n",
    "features  = matutils.corpus2dense(list(lda[corpus_memory_friendly]),num_terms= 100 ).T\n"
   ]
  },
  {
   "cell_type": "code",
   "execution_count": 34,
   "metadata": {
    "ExecuteTime": {
     "end_time": "2019-01-10T10:52:46.018000Z",
     "start_time": "2019-01-10T10:52:45.994500Z"
    }
   },
   "outputs": [
    {
     "data": {
      "text/plain": [
       "array([0.996332  , 0.9903158 , 0.98344827, ..., 0.98099995, 0.97394735,\n",
       "       0.97869563], dtype=float32)"
      ]
     },
     "execution_count": 34,
     "metadata": {},
     "output_type": "execute_result"
    }
   ],
   "source": [
    "np.sum(features,axis = 1)"
   ]
  },
  {
   "cell_type": "code",
   "execution_count": null,
   "metadata": {},
   "outputs": [],
   "source": []
  },
  {
   "cell_type": "markdown",
   "metadata": {},
   "source": [
    "### word2vec示范"
   ]
  },
  {
   "cell_type": "markdown",
   "metadata": {},
   "source": [
    "word词的表示的最基础方法是one-hot Encoding，有时候也可以叫做one-hot Embedding。\n",
    " \n",
    "man :  [1,0,0,0]\n",
    "\n",
    "woman: [0,1,0,0]\n",
    "\n",
    "boy :  [0,0,1,0]\n",
    "\n",
    "girl:  [0,0,0,1]\n",
    "\n",
    "但是这种表示过于稀疏，并且没有体现词与词之间的语义关系。\n",
    "考虑以下两个维度的表示, gender和age\n",
    "\n",
    "man : [male,adult]  -> [1,1]\n",
    "\n",
    "woman: [female,adult] ->[0,1]\n",
    "\n",
    "boy: [male,child] -> [1,0]\n",
    "\n",
    "girl: [female,child] ->[0,0]\n",
    "\n",
    "这种把非结构化数据里的元素用一个低维空间的向量来表示的方法叫做Embedding,\n",
    "\n",
    "即把高维数据嵌入到低维空间。\n",
    "\n",
    "但是不可能对所有word都这样人工构建Embedding,一种非常有效的方法是训练一个神经网络来得到。\n",
    "\n",
    "通过给神经网络一个相关的任务，即由一个词预测它周围的词出现的概率，来得到词向量。"
   ]
  },
  {
   "cell_type": "code",
   "execution_count": null,
   "metadata": {},
   "outputs": [],
   "source": []
  },
  {
   "cell_type": "code",
   "execution_count": 263,
   "metadata": {
    "ExecuteTime": {
     "end_time": "2019-01-14T09:23:50.447618Z",
     "start_time": "2019-01-14T09:23:23.592618Z"
    }
   },
   "outputs": [],
   "source": [
    "import jieba\n",
    "import numpy as np \n",
    "import pandas as pd \n",
    "\n",
    "dfapp = pd.read_csv('zz_apps_info_22k',sep = '\\001',encoding = 'utf-8')\n",
    "app_name = dfapp['app_name'].values.tolist()\n",
    "\n",
    "jieba.load_userdict(app_name)\n",
    "\n",
    "app_info = dfapp['app_info'].values.tolist()\n",
    "\n",
    "app_info_segs = [jieba.lcut(x) for x in app_info]"
   ]
  },
  {
   "cell_type": "code",
   "execution_count": 264,
   "metadata": {
    "ExecuteTime": {
     "end_time": "2019-01-14T09:25:10.168618Z",
     "start_time": "2019-01-14T09:24:34.818118Z"
    }
   },
   "outputs": [
    {
     "name": "stderr",
     "output_type": "stream",
     "text": [
      "2019-01-14 17:24:34,822 : INFO : collecting all words and their counts\n",
      "2019-01-14 17:24:34,831 : INFO : PROGRESS: at sentence #0, processed 0 words, keeping 0 word types\n",
      "2019-01-14 17:24:35,199 : INFO : PROGRESS: at sentence #10000, processed 1642104 words, keeping 71862 word types\n",
      "2019-01-14 17:24:35,499 : INFO : PROGRESS: at sentence #20000, processed 3142507 words, keeping 110306 word types\n",
      "2019-01-14 17:24:35,572 : INFO : collected 117183 word types from a corpus of 3452173 raw words and 22262 sentences\n",
      "2019-01-14 17:24:35,573 : INFO : Loading a fresh vocabulary\n",
      "2019-01-14 17:24:36,104 : INFO : effective_min_count=1 retains 117183 unique words (100% of original 117183, drops 0)\n",
      "2019-01-14 17:24:36,104 : INFO : effective_min_count=1 leaves 3452173 word corpus (100% of original 3452173, drops 0)\n",
      "2019-01-14 17:24:36,496 : INFO : deleting the raw counts dictionary of 117183 items\n",
      "2019-01-14 17:24:36,498 : INFO : sample=0.001 downsamples 31 most-common words\n",
      "2019-01-14 17:24:36,499 : INFO : downsampling leaves estimated 2765485 word corpus (80.1% of prior 3452173)\n",
      "2019-01-14 17:24:36,624 : INFO : constructing a huffman tree from 117183 words\n",
      "2019-01-14 17:24:40,388 : INFO : built huffman tree with maximum node depth 22\n",
      "2019-01-14 17:24:40,664 : INFO : estimated required memory for 117183 words and 100 dimensions: 222647700 bytes\n",
      "2019-01-14 17:24:40,664 : INFO : resetting layer weights\n",
      "2019-01-14 17:24:42,289 : INFO : training model with 3 workers on 117183 vocabulary and 100 features, using sg=0 hs=1 sample=0.001 negative=5 window=3\n",
      "2019-01-14 17:24:43,306 : INFO : EPOCH 1 - PROGRESS: at 14.04% examples, 437465 words/s, in_qsize 5, out_qsize 0\n",
      "2019-01-14 17:24:44,331 : INFO : EPOCH 1 - PROGRESS: at 30.65% examples, 453682 words/s, in_qsize 6, out_qsize 0\n",
      "2019-01-14 17:24:45,349 : INFO : EPOCH 1 - PROGRESS: at 49.28% examples, 468297 words/s, in_qsize 6, out_qsize 0\n",
      "2019-01-14 17:24:46,368 : INFO : EPOCH 1 - PROGRESS: at 68.14% examples, 474593 words/s, in_qsize 5, out_qsize 0\n",
      "2019-01-14 17:24:47,381 : INFO : EPOCH 1 - PROGRESS: at 87.92% examples, 479960 words/s, in_qsize 6, out_qsize 0\n",
      "2019-01-14 17:24:47,940 : INFO : worker thread finished; awaiting finish of 2 more threads\n",
      "2019-01-14 17:24:47,960 : INFO : worker thread finished; awaiting finish of 1 more threads\n",
      "2019-01-14 17:24:47,974 : INFO : worker thread finished; awaiting finish of 0 more threads\n",
      "2019-01-14 17:24:47,975 : INFO : EPOCH - 1 : training on 3452173 raw words (2737355 effective words) took 5.7s, 481635 effective words/s\n",
      "2019-01-14 17:24:48,991 : INFO : EPOCH 2 - PROGRESS: at 15.63% examples, 489060 words/s, in_qsize 5, out_qsize 0\n",
      "2019-01-14 17:24:49,993 : INFO : EPOCH 2 - PROGRESS: at 33.26% examples, 496676 words/s, in_qsize 6, out_qsize 0\n",
      "2019-01-14 17:24:50,995 : INFO : EPOCH 2 - PROGRESS: at 51.64% examples, 498891 words/s, in_qsize 6, out_qsize 0\n",
      "2019-01-14 17:24:52,003 : INFO : EPOCH 2 - PROGRESS: at 70.90% examples, 499468 words/s, in_qsize 6, out_qsize 1\n",
      "2019-01-14 17:24:53,017 : INFO : EPOCH 2 - PROGRESS: at 90.92% examples, 499807 words/s, in_qsize 5, out_qsize 0\n",
      "2019-01-14 17:24:53,436 : INFO : worker thread finished; awaiting finish of 2 more threads\n",
      "2019-01-14 17:24:53,439 : INFO : worker thread finished; awaiting finish of 1 more threads\n",
      "2019-01-14 17:24:53,465 : INFO : worker thread finished; awaiting finish of 0 more threads\n",
      "2019-01-14 17:24:53,467 : INFO : EPOCH - 2 : training on 3452173 raw words (2737134 effective words) took 5.5s, 499434 effective words/s\n",
      "2019-01-14 17:24:54,486 : INFO : EPOCH 3 - PROGRESS: at 15.11% examples, 471914 words/s, in_qsize 6, out_qsize 0\n",
      "2019-01-14 17:24:55,490 : INFO : EPOCH 3 - PROGRESS: at 32.71% examples, 487719 words/s, in_qsize 5, out_qsize 0\n",
      "2019-01-14 17:24:56,510 : INFO : EPOCH 3 - PROGRESS: at 51.28% examples, 492690 words/s, in_qsize 6, out_qsize 0\n",
      "2019-01-14 17:24:57,511 : INFO : EPOCH 3 - PROGRESS: at 70.27% examples, 493678 words/s, in_qsize 6, out_qsize 0\n",
      "2019-01-14 17:24:58,518 : INFO : EPOCH 3 - PROGRESS: at 89.90% examples, 494323 words/s, in_qsize 5, out_qsize 0\n",
      "2019-01-14 17:24:58,988 : INFO : worker thread finished; awaiting finish of 2 more threads\n",
      "2019-01-14 17:24:58,990 : INFO : worker thread finished; awaiting finish of 1 more threads\n",
      "2019-01-14 17:24:58,998 : INFO : worker thread finished; awaiting finish of 0 more threads\n",
      "2019-01-14 17:24:58,999 : INFO : EPOCH - 3 : training on 3452173 raw words (2737577 effective words) took 5.5s, 495975 effective words/s\n",
      "2019-01-14 17:25:00,019 : INFO : EPOCH 4 - PROGRESS: at 15.63% examples, 483491 words/s, in_qsize 4, out_qsize 1\n",
      "2019-01-14 17:25:01,023 : INFO : EPOCH 4 - PROGRESS: at 33.26% examples, 493187 words/s, in_qsize 6, out_qsize 0\n",
      "2019-01-14 17:25:02,070 : INFO : EPOCH 4 - PROGRESS: at 50.42% examples, 478957 words/s, in_qsize 5, out_qsize 0\n",
      "2019-01-14 17:25:03,080 : INFO : EPOCH 4 - PROGRESS: at 69.69% examples, 484265 words/s, in_qsize 5, out_qsize 0\n",
      "2019-01-14 17:25:04,099 : INFO : EPOCH 4 - PROGRESS: at 89.22% examples, 485574 words/s, in_qsize 5, out_qsize 0\n",
      "2019-01-14 17:25:04,614 : INFO : worker thread finished; awaiting finish of 2 more threads\n",
      "2019-01-14 17:25:04,616 : INFO : worker thread finished; awaiting finish of 1 more threads\n",
      "2019-01-14 17:25:04,624 : INFO : worker thread finished; awaiting finish of 0 more threads\n",
      "2019-01-14 17:25:04,625 : INFO : EPOCH - 4 : training on 3452173 raw words (2737226 effective words) took 5.6s, 486826 effective words/s\n",
      "2019-01-14 17:25:05,650 : INFO : EPOCH 5 - PROGRESS: at 15.63% examples, 483721 words/s, in_qsize 6, out_qsize 0\n",
      "2019-01-14 17:25:06,669 : INFO : EPOCH 5 - PROGRESS: at 33.55% examples, 493828 words/s, in_qsize 6, out_qsize 0\n",
      "2019-01-14 17:25:07,681 : INFO : EPOCH 5 - PROGRESS: at 51.64% examples, 492656 words/s, in_qsize 4, out_qsize 1\n",
      "2019-01-14 17:25:08,701 : INFO : EPOCH 5 - PROGRESS: at 70.90% examples, 493163 words/s, in_qsize 5, out_qsize 0\n",
      "2019-01-14 17:25:09,707 : INFO : EPOCH 5 - PROGRESS: at 90.92% examples, 495707 words/s, in_qsize 3, out_qsize 1\n",
      "2019-01-14 17:25:10,136 : INFO : worker thread finished; awaiting finish of 2 more threads\n",
      "2019-01-14 17:25:10,138 : INFO : worker thread finished; awaiting finish of 1 more threads\n",
      "2019-01-14 17:25:10,159 : INFO : worker thread finished; awaiting finish of 0 more threads\n",
      "2019-01-14 17:25:10,161 : INFO : EPOCH - 5 : training on 3452173 raw words (2737292 effective words) took 5.5s, 495321 effective words/s\n",
      "2019-01-14 17:25:10,162 : INFO : training on a 17260865 raw words (13686584 effective words) took 27.9s, 491081 effective words/s\n"
     ]
    }
   ],
   "source": [
    "import logging\n",
    "import os\n",
    "from gensim.models import word2vec\n",
    "\n",
    "logging.basicConfig(format='%(asctime)s : %(levelname)s : %(message)s', level=logging.INFO)\n",
    "#sentences = word2vec.LineSentence('./in_the_name_of_people_segment.txt') \n",
    "\n",
    "model = word2vec.Word2Vec(app_info_segs, hs=1,min_count=1,window=3,size=100)  "
   ]
  },
  {
   "cell_type": "code",
   "execution_count": 276,
   "metadata": {
    "ExecuteTime": {
     "end_time": "2019-01-14T10:13:22.239118Z",
     "start_time": "2019-01-14T10:13:11.542118Z"
    }
   },
   "outputs": [
    {
     "name": "stderr",
     "output_type": "stream",
     "text": [
      "2019-01-14 18:13:11,544 : INFO : storing 117183x100 projection weights into appwordvec.txt\n"
     ]
    }
   ],
   "source": [
    "model.wv.save_word2vec_format('appwordvec.txt',binary = False)"
   ]
  },
  {
   "cell_type": "code",
   "execution_count": 266,
   "metadata": {
    "ExecuteTime": {
     "end_time": "2019-01-14T10:11:54.027618Z",
     "start_time": "2019-01-14T10:11:54.015618Z"
    }
   },
   "outputs": [
    {
     "data": {
      "text/plain": [
       "array([-0.16399802, -0.64898807, -0.47534418, -0.5747225 ,  1.0914922 ,\n",
       "       -0.62572366, -0.12807035, -0.46989697,  0.16053031,  1.1880977 ,\n",
       "        0.5412748 , -0.31963104,  0.6387269 ,  0.46497753,  0.3419621 ,\n",
       "        0.0715302 ,  0.2364061 , -0.02447075,  0.12523286, -0.1541518 ,\n",
       "        0.3029079 ,  0.81672823, -0.14660323,  0.12207115, -0.31254426,\n",
       "        1.1355394 , -0.18901029,  1.217527  , -0.46575525, -0.19007757,\n",
       "        0.5349934 , -0.6021949 , -0.59060365,  0.30716202,  0.13562287,\n",
       "        0.30115876,  0.08360162, -0.57765454,  0.567858  ,  0.2865388 ,\n",
       "        0.05132287, -1.0141915 ,  0.29006585,  0.15064555,  1.1122638 ,\n",
       "       -0.04659883, -1.0168066 , -0.2635237 , -0.5632418 , -0.13803859,\n",
       "        0.3391766 , -0.6414495 ,  0.36325642,  0.1805825 ,  0.21871212,\n",
       "        0.20217142, -0.43761793,  0.07297394, -0.10965775,  0.15736799,\n",
       "        0.5622868 , -0.77992904,  0.5695759 ,  0.5154757 , -0.6231745 ,\n",
       "        0.4218748 , -0.28670028, -0.61878514, -0.43199375,  0.2575081 ,\n",
       "        0.44289666, -0.07973754, -0.5149658 , -1.452078  , -0.30377558,\n",
       "        0.40861273,  0.20318685, -0.22875464,  0.34668654, -0.37740847,\n",
       "       -0.38406828, -0.6978031 ,  0.28646532,  0.38352486,  0.5900031 ,\n",
       "       -0.26032373, -0.84292793,  0.1152442 ,  0.7702133 , -0.22968225,\n",
       "        0.16309273,  0.17562544, -1.0040363 , -0.813945  ,  0.04593117,\n",
       "       -0.07985184,  0.39308167,  0.35649452, -0.2766461 ,  0.7453979 ],\n",
       "      dtype=float32)"
      ]
     },
     "execution_count": 266,
     "metadata": {},
     "output_type": "execute_result"
    }
   ],
   "source": [
    "model.wv['融360']   # 查看词向量"
   ]
  },
  {
   "cell_type": "code",
   "execution_count": 267,
   "metadata": {
    "ExecuteTime": {
     "end_time": "2019-01-14T10:11:57.367118Z",
     "start_time": "2019-01-14T10:11:57.254618Z"
    }
   },
   "outputs": [
    {
     "name": "stderr",
     "output_type": "stream",
     "text": [
      "2019-01-14 18:11:57,257 : INFO : precomputing L2-norms of word weight vectors\n"
     ]
    },
    {
     "data": {
      "text/plain": [
       "[('App', 0.8908683061599731),\n",
       " ('APP', 0.8786344528198242),\n",
       " ('软件', 0.7927603721618652),\n",
       " ('应用', 0.7687703371047974),\n",
       " ('应用软件', 0.7153639793395996),\n",
       " ('客户端', 0.6696969866752625),\n",
       " ('平台', 0.6450727581977844),\n",
       " ('应用程序', 0.6196110248565674),\n",
       " ('神器', 0.5724780559539795),\n",
       " ('工具', 0.5697617530822754),\n",
       " ('手机软件', 0.5479514598846436),\n",
       " ('网站', 0.5304775238037109),\n",
       " ('程序', 0.5283219814300537),\n",
       " ('程式', 0.5237851738929749),\n",
       " ('定位模拟器', 0.5227001905441284),\n",
       " ('该软件', 0.5180087089538574),\n",
       " ('软件平台', 0.5179553031921387),\n",
       " ('手机', 0.5156241059303284),\n",
       " ('产品', 0.5153759717941284),\n",
       " ('有鱼记账', 0.5079294443130493)]"
      ]
     },
     "execution_count": 267,
     "metadata": {},
     "output_type": "execute_result"
    }
   ],
   "source": [
    "model.wv.most_similar(['app'],topn = 20)"
   ]
  },
  {
   "cell_type": "code",
   "execution_count": 268,
   "metadata": {
    "ExecuteTime": {
     "end_time": "2019-01-14T10:12:15.695118Z",
     "start_time": "2019-01-14T10:12:15.672618Z"
    }
   },
   "outputs": [
    {
     "data": {
      "text/plain": [
       "[('极速', 0.6685068607330322),\n",
       " ('快速', 0.630969762802124),\n",
       " ('闪电', 0.5957939624786377),\n",
       " ('便捷', 0.5763149857521057),\n",
       " ('速度快', 0.5684813261032104),\n",
       " ('高效', 0.5674407482147217),\n",
       " ('全自动', 0.5223191976547241),\n",
       " ('高价', 0.5196690559387207),\n",
       " ('更快', 0.5194609761238098),\n",
       " ('两证', 0.5183494091033936)]"
      ]
     },
     "execution_count": 268,
     "metadata": {},
     "output_type": "execute_result"
    }
   ],
   "source": [
    "model.wv.most_similar(positive = ['急速','快捷'],negative = ['周期长'],topn = 10)"
   ]
  },
  {
   "cell_type": "code",
   "execution_count": 271,
   "metadata": {
    "ExecuteTime": {
     "end_time": "2019-01-14T10:12:22.176118Z",
     "start_time": "2019-01-14T10:12:22.156618Z"
    }
   },
   "outputs": [
    {
     "data": {
      "text/plain": [
       "0.3643375"
      ]
     },
     "execution_count": 271,
     "metadata": {},
     "output_type": "execute_result"
    }
   ],
   "source": [
    "model.wv.similarity('闪电', '快捷')"
   ]
  },
  {
   "cell_type": "code",
   "execution_count": 274,
   "metadata": {
    "ExecuteTime": {
     "end_time": "2019-01-14T10:12:25.687118Z",
     "start_time": "2019-01-14T10:12:25.672118Z"
    }
   },
   "outputs": [
    {
     "data": {
      "text/plain": [
       "0.65181714"
      ]
     },
     "execution_count": 274,
     "metadata": {},
     "output_type": "execute_result"
    }
   ],
   "source": [
    "model.wv.n_similarity(['借款','贷款'],['下单','放款'])"
   ]
  },
  {
   "cell_type": "code",
   "execution_count": 8,
   "metadata": {
    "ExecuteTime": {
     "end_time": "2019-01-11T11:06:18.579433Z",
     "start_time": "2019-01-11T11:06:16.901433Z"
    }
   },
   "outputs": [
    {
     "name": "stderr",
     "output_type": "stream",
     "text": [
      "2019-01-11 19:06:16,905 : INFO : saving Word2VecKeyedVectors object under appinfo.wv, separately None\n",
      "2019-01-11 19:06:16,921 : INFO : storing np array 'vectors' to appinfo.wv.vectors.npy\n",
      "2019-01-11 19:06:17,042 : INFO : not storing attribute vectors_norm\n",
      "2019-01-11 19:06:18,573 : INFO : saved appinfo.wv\n"
     ]
    }
   ],
   "source": [
    "model.wv.save('appinfo.wv')"
   ]
  },
  {
   "cell_type": "code",
   "execution_count": null,
   "metadata": {},
   "outputs": [],
   "source": []
  },
  {
   "cell_type": "code",
   "execution_count": null,
   "metadata": {},
   "outputs": [],
   "source": []
  },
  {
   "cell_type": "markdown",
   "metadata": {},
   "source": [
    "## doc2vec示范"
   ]
  },
  {
   "cell_type": "markdown",
   "metadata": {},
   "source": [
    "doc2vec是word2vec的推广，有时候也叫作paragraph2vec,可以把一篇文档转换成vec。\n",
    "\n",
    "其主要思想是在预测某处的单词时，不仅考虑其附近的单词上下文，还将其所在的文档的完整上下文作为一个输入信息。\n",
    "\n",
    "此外,doc2vec还能够将和文档关联的其他监督类的标签加入训练中，并帮助提升模型效果。"
   ]
  },
  {
   "cell_type": "markdown",
   "metadata": {},
   "source": [
    "#### 英文doc2vec示范"
   ]
  },
  {
   "cell_type": "code",
   "execution_count": 46,
   "metadata": {
    "ExecuteTime": {
     "end_time": "2019-01-14T06:57:00.166118Z",
     "start_time": "2019-01-14T06:57:00.047618Z"
    }
   },
   "outputs": [
    {
     "name": "stderr",
     "output_type": "stream",
     "text": [
      "2019-01-14 14:57:00,057 : WARNING : consider setting layer size to a multiple of 4 for greater performance\n",
      "2019-01-14 14:57:00,063 : INFO : collecting all words and their counts\n",
      "2019-01-14 14:57:00,069 : INFO : PROGRESS: at example #0, processed 0 words (0/s), 0 word types, 0 tags\n",
      "2019-01-14 14:57:00,074 : INFO : collected 12 word types and 9 unique tags from a corpus of 9 examples and 29 words\n",
      "2019-01-14 14:57:00,079 : INFO : Loading a fresh vocabulary\n",
      "2019-01-14 14:57:00,081 : INFO : effective_min_count=1 retains 12 unique words (100% of original 12, drops 0)\n",
      "2019-01-14 14:57:00,084 : INFO : effective_min_count=1 leaves 29 word corpus (100% of original 29, drops 0)\n",
      "2019-01-14 14:57:00,087 : INFO : deleting the raw counts dictionary of 12 items\n",
      "2019-01-14 14:57:00,089 : INFO : sample=0.001 downsamples 12 most-common words\n",
      "2019-01-14 14:57:00,091 : INFO : downsampling leaves estimated 3 word corpus (12.1% of prior 29)\n",
      "2019-01-14 14:57:00,093 : INFO : estimated required memory for 12 words and 5 dimensions: 6660 bytes\n",
      "2019-01-14 14:57:00,095 : INFO : resetting layer weights\n",
      "2019-01-14 14:57:00,098 : INFO : training model with 4 workers on 12 vocabulary and 5 features, using sg=0 hs=0 sample=0.001 negative=5 window=2\n",
      "2019-01-14 14:57:00,105 : INFO : worker thread finished; awaiting finish of 3 more threads\n",
      "2019-01-14 14:57:00,107 : INFO : worker thread finished; awaiting finish of 2 more threads\n",
      "2019-01-14 14:57:00,108 : INFO : worker thread finished; awaiting finish of 1 more threads\n",
      "2019-01-14 14:57:00,109 : INFO : worker thread finished; awaiting finish of 0 more threads\n",
      "2019-01-14 14:57:00,110 : INFO : EPOCH - 1 : training on 29 raw words (13 effective words) took 0.0s, 2432 effective words/s\n",
      "2019-01-14 14:57:00,122 : INFO : worker thread finished; awaiting finish of 3 more threads\n",
      "2019-01-14 14:57:00,124 : INFO : worker thread finished; awaiting finish of 2 more threads\n",
      "2019-01-14 14:57:00,125 : INFO : worker thread finished; awaiting finish of 1 more threads\n",
      "2019-01-14 14:57:00,126 : INFO : worker thread finished; awaiting finish of 0 more threads\n",
      "2019-01-14 14:57:00,127 : INFO : EPOCH - 2 : training on 29 raw words (12 effective words) took 0.0s, 2462 effective words/s\n",
      "2019-01-14 14:57:00,133 : INFO : worker thread finished; awaiting finish of 3 more threads\n",
      "2019-01-14 14:57:00,134 : INFO : worker thread finished; awaiting finish of 2 more threads\n",
      "2019-01-14 14:57:00,135 : INFO : worker thread finished; awaiting finish of 1 more threads\n",
      "2019-01-14 14:57:00,140 : INFO : worker thread finished; awaiting finish of 0 more threads\n",
      "2019-01-14 14:57:00,141 : INFO : EPOCH - 3 : training on 29 raw words (11 effective words) took 0.0s, 1236 effective words/s\n",
      "2019-01-14 14:57:00,145 : INFO : worker thread finished; awaiting finish of 3 more threads\n",
      "2019-01-14 14:57:00,146 : INFO : worker thread finished; awaiting finish of 2 more threads\n",
      "2019-01-14 14:57:00,147 : INFO : worker thread finished; awaiting finish of 1 more threads\n",
      "2019-01-14 14:57:00,150 : INFO : worker thread finished; awaiting finish of 0 more threads\n",
      "2019-01-14 14:57:00,152 : INFO : EPOCH - 4 : training on 29 raw words (9 effective words) took 0.0s, 1289 effective words/s\n",
      "2019-01-14 14:57:00,156 : INFO : worker thread finished; awaiting finish of 3 more threads\n",
      "2019-01-14 14:57:00,158 : INFO : worker thread finished; awaiting finish of 2 more threads\n",
      "2019-01-14 14:57:00,159 : INFO : worker thread finished; awaiting finish of 1 more threads\n",
      "2019-01-14 14:57:00,160 : INFO : worker thread finished; awaiting finish of 0 more threads\n",
      "2019-01-14 14:57:00,161 : INFO : EPOCH - 5 : training on 29 raw words (15 effective words) took 0.0s, 2824 effective words/s\n",
      "2019-01-14 14:57:00,162 : INFO : training on a 145 raw words (60 effective words) took 0.1s, 973 effective words/s\n",
      "2019-01-14 14:57:00,163 : WARNING : under 10 jobs per worker: consider setting a smaller `batch_words' for smoother alpha decay\n"
     ]
    }
   ],
   "source": [
    "from gensim.test.utils import common_texts\n",
    "from gensim.models.doc2vec import Doc2Vec, TaggedDocument\n",
    "\n",
    "documents = [TaggedDocument(doc, [i]) for i, doc in enumerate(common_texts)]\n",
    "model = Doc2Vec(documents, vector_size=5, window=2, min_count=1, workers=4)"
   ]
  },
  {
   "cell_type": "code",
   "execution_count": 43,
   "metadata": {
    "ExecuteTime": {
     "end_time": "2019-01-14T06:37:00.702618Z",
     "start_time": "2019-01-14T06:37:00.688118Z"
    }
   },
   "outputs": [
    {
     "data": {
      "text/plain": [
       "[TaggedDocument(words=['human', 'interface', 'computer'], tags=[0]),\n",
       " TaggedDocument(words=['survey', 'user', 'computer', 'system', 'response', 'time'], tags=[1]),\n",
       " TaggedDocument(words=['eps', 'user', 'interface', 'system'], tags=[2]),\n",
       " TaggedDocument(words=['system', 'human', 'system', 'eps'], tags=[3]),\n",
       " TaggedDocument(words=['user', 'response', 'time'], tags=[4]),\n",
       " TaggedDocument(words=['trees'], tags=[5]),\n",
       " TaggedDocument(words=['graph', 'trees'], tags=[6]),\n",
       " TaggedDocument(words=['graph', 'minors', 'trees'], tags=[7]),\n",
       " TaggedDocument(words=['graph', 'minors', 'survey'], tags=[8])]"
      ]
     },
     "execution_count": 43,
     "metadata": {},
     "output_type": "execute_result"
    }
   ],
   "source": [
    "documents"
   ]
  },
  {
   "cell_type": "code",
   "execution_count": 73,
   "metadata": {
    "ExecuteTime": {
     "end_time": "2019-01-14T07:10:41.913118Z",
     "start_time": "2019-01-14T07:10:41.897118Z"
    }
   },
   "outputs": [
    {
     "name": "stderr",
     "output_type": "stream",
     "text": [
      "2019-01-14 15:10:41,898 : INFO : saving Doc2Vec object under all_model.doc2vec, separately None\n",
      "2019-01-14 15:10:41,901 : INFO : saved all_model.doc2vec\n"
     ]
    }
   ],
   "source": [
    "#保存模型\n",
    "model.save('all_model.doc2vec')"
   ]
  },
  {
   "cell_type": "code",
   "execution_count": 81,
   "metadata": {
    "ExecuteTime": {
     "end_time": "2019-01-14T07:26:42.475118Z",
     "start_time": "2019-01-14T07:26:42.462118Z"
    }
   },
   "outputs": [
    {
     "name": "stdout",
     "output_type": "stream",
     "text": [
      "0\n",
      "[ 0.03696746 -0.0187734   0.0083677   0.01484122  0.08131897]\n",
      "1\n",
      "[-0.05001155  0.04985023 -0.04786721 -0.05968755  0.0089878 ]\n",
      "2\n",
      "[-0.0251735  -0.06244595  0.0177445   0.09957398  0.03126098]\n",
      "3\n",
      "[ 0.04499181 -0.00525833  0.03086685 -0.0447739   0.00595002]\n",
      "4\n",
      "[-0.06912751 -0.01017872  0.01550646 -0.00949226 -0.0926289 ]\n",
      "5\n",
      "[-0.09529006 -0.05795394  0.02646667 -0.06973509 -0.02818455]\n",
      "6\n",
      "[ 0.01666221  0.09269849 -0.0726633  -0.09686001  0.01582416]\n",
      "7\n",
      "[ 0.04950825 -0.02783915  0.07833885 -0.0219612  -0.01475391]\n",
      "8\n",
      "[-0.05964534  0.01433995  0.04812507  0.01526107  0.02440032]\n"
     ]
    }
   ],
   "source": [
    "# 保存文档向量\n",
    "# save vectors\n",
    "with open(\"all_vector.txt\",\"w\") as f:\n",
    "    for num in range(0,len(documents)):\n",
    "        docvec =model.docvecs[num]\n",
    "        strvec = ' '.join([str(x) for x in docvec])\n",
    "        f.write(strvec + '\\n')\n",
    "        print(num)\n",
    "        print(docvec)"
   ]
  },
  {
   "cell_type": "code",
   "execution_count": 54,
   "metadata": {
    "ExecuteTime": {
     "end_time": "2019-01-14T07:00:13.962118Z",
     "start_time": "2019-01-14T07:00:13.942118Z"
    }
   },
   "outputs": [
    {
     "data": {
      "text/plain": [
       "array([ 0.01761255, -0.00106964,  0.01830512,  0.08613501,  0.05934137],\n",
       "      dtype=float32)"
      ]
     },
     "execution_count": 54,
     "metadata": {},
     "output_type": "execute_result"
    }
   ],
   "source": [
    "# 计算新文档的向量\n",
    "model.infer_vector([\"system\", \"response\"])"
   ]
  },
  {
   "cell_type": "code",
   "execution_count": 67,
   "metadata": {
    "ExecuteTime": {
     "end_time": "2019-01-14T07:05:23.736618Z",
     "start_time": "2019-01-14T07:05:23.716618Z"
    }
   },
   "outputs": [
    {
     "data": {
      "text/plain": [
       "[(2, 0.37856197357177734), (3, 0.2789281904697418), (7, 0.15917153656482697)]"
      ]
     },
     "execution_count": 67,
     "metadata": {},
     "output_type": "execute_result"
    }
   ],
   "source": [
    "# 计算与第1篇文档最相似的文档\n",
    "model.docvecs.most_similar(0,topn=3)"
   ]
  },
  {
   "cell_type": "code",
   "execution_count": 71,
   "metadata": {
    "ExecuteTime": {
     "end_time": "2019-01-14T07:07:22.710618Z",
     "start_time": "2019-01-14T07:07:22.693118Z"
    }
   },
   "outputs": [
    {
     "data": {
      "text/plain": [
       "0.378562"
      ]
     },
     "execution_count": 71,
     "metadata": {},
     "output_type": "execute_result"
    }
   ],
   "source": [
    "# 计算2篇文档的相似度\n",
    "model.docvecs.similarity(0,2)"
   ]
  },
  {
   "cell_type": "code",
   "execution_count": null,
   "metadata": {},
   "outputs": [],
   "source": []
  },
  {
   "cell_type": "markdown",
   "metadata": {},
   "source": [
    "#### 中文doc2vec示范"
   ]
  },
  {
   "cell_type": "code",
   "execution_count": 233,
   "metadata": {
    "ExecuteTime": {
     "end_time": "2019-01-14T08:46:06.423118Z",
     "start_time": "2019-01-14T08:46:06.418618Z"
    }
   },
   "outputs": [],
   "source": [
    "import gensim, logging\n",
    "import os\n",
    "logging.basicConfig(format = '%(asctime)s : %(levelname)s : %(message)s', level = logging.INFO)"
   ]
  },
  {
   "cell_type": "code",
   "execution_count": 234,
   "metadata": {
    "ExecuteTime": {
     "end_time": "2019-01-14T08:46:40.144618Z",
     "start_time": "2019-01-14T08:46:10.673118Z"
    }
   },
   "outputs": [],
   "source": [
    "import jieba\n",
    "import numpy as np \n",
    "import pandas as pd \n",
    "\n",
    "dfapp = pd.read_csv('zz_apps_info_22k',sep = '\\001',encoding = 'utf-8')\n",
    "app_name = dfapp['app_name'].values.tolist()\n",
    "\n",
    "jieba.load_userdict(app_name)\n",
    "\n",
    "app_info = dfapp['app_info'].values.tolist()\n",
    "#app_info_segs = [jieba.lcut(x) for x in app_info]\n",
    "\n",
    "alldocs,count = [],0\n",
    "\n",
    "with open('cutted_app_info.txt','w',encoding = 'utf-8') as f:\n",
    "    for info in app_info:\n",
    "        segs = ' '.join(jieba.lcut(info))\n",
    "        f.write(segs + '\\n')        \n",
    "        alldocs.append(gensim.models.doc2vec.TaggedDocument(segs,count)) # for the sake of check, can be removed\n",
    "        count+=1 # for the sake of check, can be removed"
   ]
  },
  {
   "cell_type": "code",
   "execution_count": 235,
   "metadata": {
    "ExecuteTime": {
     "end_time": "2019-01-14T08:48:20.768118Z",
     "start_time": "2019-01-14T08:48:00.111118Z"
    }
   },
   "outputs": [
    {
     "name": "stderr",
     "output_type": "stream",
     "text": [
      "2019-01-14 16:48:00,112 : INFO : collecting all words and their counts\n",
      "2019-01-14 16:48:00,114 : INFO : PROGRESS: at example #0, processed 0 words (0/s), 0 word types, 0 tags\n",
      "2019-01-14 16:48:00,682 : INFO : PROGRESS: at example #10000, processed 1591828 words (2814869/s), 71854 word types, 10000 tags\n",
      "2019-01-14 16:48:01,128 : INFO : PROGRESS: at example #20000, processed 2873143 words (2873697/s), 106226 word types, 20000 tags\n",
      "2019-01-14 16:48:01,301 : INFO : collected 117173 word types and 23655 unique tags from a corpus of 23655 examples and 3341352 words\n",
      "2019-01-14 16:48:01,302 : INFO : Loading a fresh vocabulary\n",
      "2019-01-14 16:48:01,410 : INFO : effective_min_count=5 retains 28016 unique words (23% of original 117173, drops 89157)\n",
      "2019-01-14 16:48:01,412 : INFO : effective_min_count=5 leaves 3199012 word corpus (95% of original 3341352, drops 142340)\n",
      "2019-01-14 16:48:01,550 : INFO : deleting the raw counts dictionary of 117173 items\n",
      "2019-01-14 16:48:01,554 : INFO : sample=0.001 downsamples 33 most-common words\n",
      "2019-01-14 16:48:01,555 : INFO : downsampling leaves estimated 2575804 word corpus (80.5% of prior 3199012)\n",
      "2019-01-14 16:48:01,684 : INFO : estimated required memory for 28016 words and 20 dimensions: 20382960 bytes\n",
      "2019-01-14 16:48:01,685 : INFO : resetting layer weights\n",
      "2019-01-14 16:48:02,232 : INFO : training model with 3 workers on 28016 vocabulary and 20 features, using sg=0 hs=0 sample=0.001 negative=5 window=3\n",
      "2019-01-14 16:48:03,236 : INFO : EPOCH 1 - PROGRESS: at 24.40% examples, 745674 words/s, in_qsize 5, out_qsize 0\n",
      "2019-01-14 16:48:04,239 : INFO : EPOCH 1 - PROGRESS: at 51.63% examples, 738277 words/s, in_qsize 6, out_qsize 0\n",
      "2019-01-14 16:48:05,239 : INFO : EPOCH 1 - PROGRESS: at 80.08% examples, 707641 words/s, in_qsize 5, out_qsize 0\n",
      "2019-01-14 16:48:05,876 : INFO : worker thread finished; awaiting finish of 2 more threads\n",
      "2019-01-14 16:48:05,884 : INFO : worker thread finished; awaiting finish of 1 more threads\n",
      "2019-01-14 16:48:05,887 : INFO : worker thread finished; awaiting finish of 0 more threads\n",
      "2019-01-14 16:48:05,888 : INFO : EPOCH - 1 : training on 3341352 raw words (2600040 effective words) took 3.7s, 711705 effective words/s\n",
      "2019-01-14 16:48:06,899 : INFO : EPOCH 2 - PROGRESS: at 24.70% examples, 754240 words/s, in_qsize 5, out_qsize 0\n",
      "2019-01-14 16:48:07,905 : INFO : EPOCH 2 - PROGRESS: at 52.19% examples, 744772 words/s, in_qsize 5, out_qsize 0\n",
      "2019-01-14 16:48:08,914 : INFO : EPOCH 2 - PROGRESS: at 83.78% examples, 735404 words/s, in_qsize 6, out_qsize 0\n",
      "2019-01-14 16:48:09,409 : INFO : worker thread finished; awaiting finish of 2 more threads\n",
      "2019-01-14 16:48:09,416 : INFO : worker thread finished; awaiting finish of 1 more threads\n",
      "2019-01-14 16:48:09,423 : INFO : worker thread finished; awaiting finish of 0 more threads\n",
      "2019-01-14 16:48:09,426 : INFO : EPOCH - 2 : training on 3341352 raw words (2599397 effective words) took 3.5s, 736895 effective words/s\n",
      "2019-01-14 16:48:10,444 : INFO : EPOCH 3 - PROGRESS: at 24.99% examples, 755893 words/s, in_qsize 5, out_qsize 0\n",
      "2019-01-14 16:48:11,450 : INFO : EPOCH 3 - PROGRESS: at 50.05% examples, 715236 words/s, in_qsize 5, out_qsize 0\n",
      "2019-01-14 16:48:12,464 : INFO : EPOCH 3 - PROGRESS: at 81.34% examples, 712133 words/s, in_qsize 6, out_qsize 0\n",
      "2019-01-14 16:48:13,062 : INFO : worker thread finished; awaiting finish of 2 more threads\n",
      "2019-01-14 16:48:13,067 : INFO : worker thread finished; awaiting finish of 1 more threads\n",
      "2019-01-14 16:48:13,073 : INFO : worker thread finished; awaiting finish of 0 more threads\n",
      "2019-01-14 16:48:13,075 : INFO : EPOCH - 3 : training on 3341352 raw words (2600064 effective words) took 3.6s, 714466 effective words/s\n",
      "2019-01-14 16:48:14,107 : INFO : EPOCH 4 - PROGRESS: at 24.13% examples, 720579 words/s, in_qsize 5, out_qsize 0\n",
      "2019-01-14 16:48:15,118 : INFO : EPOCH 4 - PROGRESS: at 49.10% examples, 695905 words/s, in_qsize 5, out_qsize 0\n",
      "2019-01-14 16:48:16,136 : INFO : EPOCH 4 - PROGRESS: at 79.15% examples, 688286 words/s, in_qsize 5, out_qsize 0\n",
      "2019-01-14 16:48:16,809 : INFO : worker thread finished; awaiting finish of 2 more threads\n",
      "2019-01-14 16:48:16,824 : INFO : worker thread finished; awaiting finish of 1 more threads\n",
      "2019-01-14 16:48:16,827 : INFO : worker thread finished; awaiting finish of 0 more threads\n",
      "2019-01-14 16:48:16,829 : INFO : EPOCH - 4 : training on 3341352 raw words (2599233 effective words) took 3.7s, 693753 effective words/s\n",
      "2019-01-14 16:48:17,852 : INFO : EPOCH 5 - PROGRESS: at 20.66% examples, 626475 words/s, in_qsize 5, out_qsize 0\n",
      "2019-01-14 16:48:18,868 : INFO : EPOCH 5 - PROGRESS: at 44.56% examples, 639017 words/s, in_qsize 5, out_qsize 0\n",
      "2019-01-14 16:48:19,878 : INFO : EPOCH 5 - PROGRESS: at 73.48% examples, 651714 words/s, in_qsize 5, out_qsize 0\n",
      "2019-01-14 16:48:20,727 : INFO : worker thread finished; awaiting finish of 2 more threads\n",
      "2019-01-14 16:48:20,740 : INFO : worker thread finished; awaiting finish of 1 more threads\n",
      "2019-01-14 16:48:20,747 : INFO : worker thread finished; awaiting finish of 0 more threads\n",
      "2019-01-14 16:48:20,750 : INFO : EPOCH - 5 : training on 3341352 raw words (2599256 effective words) took 3.9s, 663358 effective words/s\n",
      "2019-01-14 16:48:20,752 : INFO : training on a 16706760 raw words (12997990 effective words) took 18.5s, 701935 effective words/s\n"
     ]
    }
   ],
   "source": [
    "# 训练模型\n",
    "sentences = gensim.models.doc2vec.TaggedLineDocument('cutted_app_info.txt')\n",
    "model = gensim.models.Doc2Vec(sentences, size = 20, window = 3)"
   ]
  },
  {
   "cell_type": "code",
   "execution_count": 239,
   "metadata": {
    "ExecuteTime": {
     "end_time": "2019-01-14T08:48:58.321118Z",
     "start_time": "2019-01-14T08:48:58.272618Z"
    }
   },
   "outputs": [
    {
     "data": {
      "text/plain": [
       "{'融360': <gensim.models.keyedvectors.Vocab at 0x30837e80>,\n",
       " '—': <gensim.models.keyedvectors.Vocab at 0x30837c50>,\n",
       " '您': <gensim.models.keyedvectors.Vocab at 0x30837c88>,\n",
       " '随身': <gensim.models.keyedvectors.Vocab at 0x308376d8>,\n",
       " '的': <gensim.models.keyedvectors.Vocab at 0x30837f60>,\n",
       " '金融': <gensim.models.keyedvectors.Vocab at 0x30837b00>,\n",
       " '专家': <gensim.models.keyedvectors.Vocab at 0x30837d30>,\n",
       " '为什么': <gensim.models.keyedvectors.Vocab at 0x30838048>,\n",
       " '要': <gensim.models.keyedvectors.Vocab at 0x308380f0>,\n",
       " '使用': <gensim.models.keyedvectors.Vocab at 0x30838128>,\n",
       " '【': <gensim.models.keyedvectors.Vocab at 0x308387b8>,\n",
       " '】': <gensim.models.keyedvectors.Vocab at 0x30838828>,\n",
       " '？': <gensim.models.keyedvectors.Vocab at 0x308385c0>,\n",
       " '下述': <gensim.models.keyedvectors.Vocab at 0x30838198>,\n",
       " '内容': <gensim.models.keyedvectors.Vocab at 0x30838208>,\n",
       " '不': <gensim.models.keyedvectors.Vocab at 0x30838278>,\n",
       " '吹牛': <gensim.models.keyedvectors.Vocab at 0x308382e8>,\n",
       " '。': <gensim.models.keyedvectors.Vocab at 0x30838320>,\n",
       " '1': <gensim.models.keyedvectors.Vocab at 0x308383c8>,\n",
       " '.': <gensim.models.keyedvectors.Vocab at 0x308384e0>,\n",
       " '解决': <gensim.models.keyedvectors.Vocab at 0x30838588>,\n",
       " '贷款': <gensim.models.keyedvectors.Vocab at 0x30838630>,\n",
       " '难题': <gensim.models.keyedvectors.Vocab at 0x30838668>,\n",
       " '特点': <gensim.models.keyedvectors.Vocab at 0x308386a0>,\n",
       " '：': <gensim.models.keyedvectors.Vocab at 0x308386d8>,\n",
       " '-': <gensim.models.keyedvectors.Vocab at 0x30838748>,\n",
       " '全面解决': <gensim.models.keyedvectors.Vocab at 0x30838780>,\n",
       " '个人消费': <gensim.models.keyedvectors.Vocab at 0x30838898>,\n",
       " '贷': <gensim.models.keyedvectors.Vocab at 0x308388d0>,\n",
       " '、': <gensim.models.keyedvectors.Vocab at 0x30838908>,\n",
       " '企业': <gensim.models.keyedvectors.Vocab at 0x30838940>,\n",
       " '经营': <gensim.models.keyedvectors.Vocab at 0x308389b0>,\n",
       " '车房': <gensim.models.keyedvectors.Vocab at 0x30838a20>,\n",
       " '装修': <gensim.models.keyedvectors.Vocab at 0x30838a58>,\n",
       " '出行': <gensim.models.keyedvectors.Vocab at 0x30838a90>,\n",
       " '旅游': <gensim.models.keyedvectors.Vocab at 0x30838b00>,\n",
       " '学习': <gensim.models.keyedvectors.Vocab at 0x30838b38>,\n",
       " '进修': <gensim.models.keyedvectors.Vocab at 0x30838b70>,\n",
       " '放款': <gensim.models.keyedvectors.Vocab at 0x30838be0>,\n",
       " '效率': <gensim.models.keyedvectors.Vocab at 0x30838c18>,\n",
       " '仅': <gensim.models.keyedvectors.Vocab at 0x30838c50>,\n",
       " '需': <gensim.models.keyedvectors.Vocab at 0x30838cc0>,\n",
       " '一天': <gensim.models.keyedvectors.Vocab at 0x30838cf8>,\n",
       " '即可': <gensim.models.keyedvectors.Vocab at 0x30838d68>,\n",
       " '利率': <gensim.models.keyedvectors.Vocab at 0x30838da0>,\n",
       " '优势': <gensim.models.keyedvectors.Vocab at 0x30838dd8>,\n",
       " '年化': <gensim.models.keyedvectors.Vocab at 0x30838e10>,\n",
       " '费率': <gensim.models.keyedvectors.Vocab at 0x30838e48>,\n",
       " '低至': <gensim.models.keyedvectors.Vocab at 0x30838e80>,\n",
       " '6%': <gensim.models.keyedvectors.Vocab at 0x30838eb8>,\n",
       " '，': <gensim.models.keyedvectors.Vocab at 0x30838ef0>,\n",
       " '还款': <gensim.models.keyedvectors.Vocab at 0x30838f28>,\n",
       " '期限': <gensim.models.keyedvectors.Vocab at 0x30838f60>,\n",
       " '3': <gensim.models.keyedvectors.Vocab at 0x30838fd0>,\n",
       " '个': <gensim.models.keyedvectors.Vocab at 0x307d6c88>,\n",
       " '月': <gensim.models.keyedvectors.Vocab at 0x307d6e80>,\n",
       " '起': <gensim.models.keyedvectors.Vocab at 0x307d6eb8>,\n",
       " '服务': <gensim.models.keyedvectors.Vocab at 0x307d6780>,\n",
       " '优质': <gensim.models.keyedvectors.Vocab at 0x307d6390>,\n",
       " '我们': <gensim.models.keyedvectors.Vocab at 0x307d6cc0>,\n",
       " '深知': <gensim.models.keyedvectors.Vocab at 0x30816828>,\n",
       " '难': <gensim.models.keyedvectors.Vocab at 0x30816860>,\n",
       " '和': <gensim.models.keyedvectors.Vocab at 0x30816898>,\n",
       " '急': <gensim.models.keyedvectors.Vocab at 0x308163c8>,\n",
       " '暖心': <gensim.models.keyedvectors.Vocab at 0x30816400>,\n",
       " '是': <gensim.models.keyedvectors.Vocab at 0x30816438>,\n",
       " '理应': <gensim.models.keyedvectors.Vocab at 0x30816550>,\n",
       " '为': <gensim.models.keyedvectors.Vocab at 0x30816390>,\n",
       " '真情': <gensim.models.keyedvectors.Vocab at 0x30816080>,\n",
       " '奉献': <gensim.models.keyedvectors.Vocab at 0x308160b8>,\n",
       " '2': <gensim.models.keyedvectors.Vocab at 0x308160f0>,\n",
       " '全面': <gensim.models.keyedvectors.Vocab at 0x30816128>,\n",
       " '信用卡': <gensim.models.keyedvectors.Vocab at 0x30816630>,\n",
       " '资讯': <gensim.models.keyedvectors.Vocab at 0x308166a0>,\n",
       " '优惠': <gensim.models.keyedvectors.Vocab at 0x30816710>,\n",
       " '各行': <gensim.models.keyedvectors.Vocab at 0x308167b8>,\n",
       " '实时': <gensim.models.keyedvectors.Vocab at 0x30816b38>,\n",
       " '提供': <gensim.models.keyedvectors.Vocab at 0x30816b70>,\n",
       " '吃喝玩乐': <gensim.models.keyedvectors.Vocab at 0x30816be0>,\n",
       " '省': <gensim.models.keyedvectors.Vocab at 0x30816c18>,\n",
       " '不停': <gensim.models.keyedvectors.Vocab at 0x30816c50>,\n",
       " '论坛': <gensim.models.keyedvectors.Vocab at 0x30816cc0>,\n",
       " '达人': <gensim.models.keyedvectors.Vocab at 0x30816d30>,\n",
       " '小白': <gensim.models.keyedvectors.Vocab at 0x30816d68>,\n",
       " '都': <gensim.models.keyedvectors.Vocab at 0x30816da0>,\n",
       " '爱': <gensim.models.keyedvectors.Vocab at 0x30816e10>,\n",
       " '专属': <gensim.models.keyedvectors.Vocab at 0x30816e48>,\n",
       " '金融信息': <gensim.models.keyedvectors.Vocab at 0x30816f28>,\n",
       " '大全': <gensim.models.keyedvectors.Vocab at 0x30816f60>,\n",
       " '涵盖': <gensim.models.keyedvectors.Vocab at 0x30816f98>,\n",
       " '各种': <gensim.models.keyedvectors.Vocab at 0x30816fd0>,\n",
       " '办卡': <gensim.models.keyedvectors.Vocab at 0x3081a358>,\n",
       " '技巧': <gensim.models.keyedvectors.Vocab at 0x3081a390>,\n",
       " '经济': <gensim.models.keyedvectors.Vocab at 0x3081a3c8>,\n",
       " '政策': <gensim.models.keyedvectors.Vocab at 0x3081a400>,\n",
       " '公司': <gensim.models.keyedvectors.Vocab at 0x3081a470>,\n",
       " '介绍': <gensim.models.keyedvectors.Vocab at 0x3081a4a8>,\n",
       " '成立': <gensim.models.keyedvectors.Vocab at 0x3081a4e0>,\n",
       " '于': <gensim.models.keyedvectors.Vocab at 0x3081a518>,\n",
       " '2011': <gensim.models.keyedvectors.Vocab at 0x3081a550>,\n",
       " '年': <gensim.models.keyedvectors.Vocab at 0x3081a5f8>,\n",
       " '10': <gensim.models.keyedvectors.Vocab at 0x3081a630>,\n",
       " '中国': <gensim.models.keyedvectors.Vocab at 0x3081a668>,\n",
       " '值得': <gensim.models.keyedvectors.Vocab at 0x3081a6a0>,\n",
       " '信赖': <gensim.models.keyedvectors.Vocab at 0x3081a6d8>,\n",
       " '垂直': <gensim.models.keyedvectors.Vocab at 0x3081a710>,\n",
       " '搜索': <gensim.models.keyedvectors.Vocab at 0x3081a748>,\n",
       " '平台': <gensim.models.keyedvectors.Vocab at 0x3081a780>,\n",
       " '致力于': <gensim.models.keyedvectors.Vocab at 0x3081a7f0>,\n",
       " '个人': <gensim.models.keyedvectors.Vocab at 0x3081a828>,\n",
       " '消费者': <gensim.models.keyedvectors.Vocab at 0x3081a860>,\n",
       " '微小': <gensim.models.keyedvectors.Vocab at 0x3081a898>,\n",
       " '产品': <gensim.models.keyedvectors.Vocab at 0x3081a8d0>,\n",
       " '推荐': <gensim.models.keyedvectors.Vocab at 0x3081a908>,\n",
       " '申请': <gensim.models.keyedvectors.Vocab at 0x3081a978>,\n",
       " '业务范围': <gensim.models.keyedvectors.Vocab at 0x3081a9e8>,\n",
       " '此外': <gensim.models.keyedvectors.Vocab at 0x3081aa20>,\n",
       " '还': <gensim.models.keyedvectors.Vocab at 0x3081aa90>,\n",
       " '免费': <gensim.models.keyedvectors.Vocab at 0x3081aac8>,\n",
       " '用户': <gensim.models.keyedvectors.Vocab at 0x3081ab00>,\n",
       " '便捷': <gensim.models.keyedvectors.Vocab at 0x3081ab38>,\n",
       " '划算': <gensim.models.keyedvectors.Vocab at 0x3081ab70>,\n",
       " '安全': <gensim.models.keyedvectors.Vocab at 0x3081aba8>,\n",
       " '目前': <gensim.models.keyedvectors.Vocab at 0x3081abe0>,\n",
       " '已': <gensim.models.keyedvectors.Vocab at 0x3081ac18>,\n",
       " '完成': <gensim.models.keyedvectors.Vocab at 0x3081ac50>,\n",
       " 'D': <gensim.models.keyedvectors.Vocab at 0x3081ac88>,\n",
       " '轮': <gensim.models.keyedvectors.Vocab at 0x3081acf8>,\n",
       " '融资': <gensim.models.keyedvectors.Vocab at 0x3081ad68>,\n",
       " '估值': <gensim.models.keyedvectors.Vocab at 0x3081ada0>,\n",
       " '超': <gensim.models.keyedvectors.Vocab at 0x3081ae10>,\n",
       " '亿美元': <gensim.models.keyedvectors.Vocab at 0x3081ae48>,\n",
       " '步入': <gensim.models.keyedvectors.Vocab at 0x3081ae80>,\n",
       " '独角兽': <gensim.models.keyedvectors.Vocab at 0x3081aeb8>,\n",
       " '俱乐部': <gensim.models.keyedvectors.Vocab at 0x3081aef0>,\n",
       " '旗下': <gensim.models.keyedvectors.Vocab at 0x3081af28>,\n",
       " '科技': <gensim.models.keyedvectors.Vocab at 0x3081af60>,\n",
       " '2017': <gensim.models.keyedvectors.Vocab at 0x3081af98>,\n",
       " '11': <gensim.models.keyedvectors.Vocab at 0x3081afd0>,\n",
       " '在': <gensim.models.keyedvectors.Vocab at 0x3081a048>,\n",
       " '美国': <gensim.models.keyedvectors.Vocab at 0x3081a080>,\n",
       " '纽交所': <gensim.models.keyedvectors.Vocab at 0x3081a0b8>,\n",
       " '上市': <gensim.models.keyedvectors.Vocab at 0x3081a0f0>,\n",
       " '联系': <gensim.models.keyedvectors.Vocab at 0x3081a128>,\n",
       " '官方网站': <gensim.models.keyedvectors.Vocab at 0x3081a160>,\n",
       " 'http': <gensim.models.keyedvectors.Vocab at 0x3081a198>,\n",
       " ':': <gensim.models.keyedvectors.Vocab at 0x3081a1d0>,\n",
       " '/': <gensim.models.keyedvectors.Vocab at 0x3081a208>,\n",
       " 'm': <gensim.models.keyedvectors.Vocab at 0x3081a278>,\n",
       " 'com': <gensim.models.keyedvectors.Vocab at 0x3083a048>,\n",
       " '官方': <gensim.models.keyedvectors.Vocab at 0x3083a080>,\n",
       " '微信': <gensim.models.keyedvectors.Vocab at 0x3083a0b8>,\n",
       " '公众': <gensim.models.keyedvectors.Vocab at 0x3083a0f0>,\n",
       " '号': <gensim.models.keyedvectors.Vocab at 0x3083a128>,\n",
       " '客服': <gensim.models.keyedvectors.Vocab at 0x3083a160>,\n",
       " '电话': <gensim.models.keyedvectors.Vocab at 0x3083a198>,\n",
       " '1010': <gensim.models.keyedvectors.Vocab at 0x3083a1d0>,\n",
       " '或': <gensim.models.keyedvectors.Vocab at 0x3083a208>,\n",
       " '4008': <gensim.models.keyedvectors.Vocab at 0x3083a240>,\n",
       " '360': <gensim.models.keyedvectors.Vocab at 0x3083a278>,\n",
       " '可以': <gensim.models.keyedvectors.Vocab at 0x3083a2b0>,\n",
       " '发': <gensim.models.keyedvectors.Vocab at 0x3083a2e8>,\n",
       " '语音': <gensim.models.keyedvectors.Vocab at 0x3083a320>,\n",
       " '文字': <gensim.models.keyedvectors.Vocab at 0x3083a358>,\n",
       " '消息': <gensim.models.keyedvectors.Vocab at 0x3083a390>,\n",
       " '表情': <gensim.models.keyedvectors.Vocab at 0x3083a3c8>,\n",
       " '图片': <gensim.models.keyedvectors.Vocab at 0x3083a400>,\n",
       " '视频': <gensim.models.keyedvectors.Vocab at 0x3083a438>,\n",
       " '流量': <gensim.models.keyedvectors.Vocab at 0x3083a470>,\n",
       " '收发': <gensim.models.keyedvectors.Vocab at 0x3083a4a8>,\n",
       " '上': <gensim.models.keyedvectors.Vocab at 0x3083a4e0>,\n",
       " '千条': <gensim.models.keyedvectors.Vocab at 0x3083a518>,\n",
       " '省电省': <gensim.models.keyedvectors.Vocab at 0x3083a550>,\n",
       " '朋友圈': <gensim.models.keyedvectors.Vocab at 0x3083a588>,\n",
       " '跟': <gensim.models.keyedvectors.Vocab at 0x3083a5c0>,\n",
       " '朋友': <gensim.models.keyedvectors.Vocab at 0x3083a5f8>,\n",
       " '们': <gensim.models.keyedvectors.Vocab at 0x3083a630>,\n",
       " '分享': <gensim.models.keyedvectors.Vocab at 0x3083a668>,\n",
       " '生活': <gensim.models.keyedvectors.Vocab at 0x3083a6a0>,\n",
       " '点滴': <gensim.models.keyedvectors.Vocab at 0x3083a6d8>,\n",
       " '摇一摇': <gensim.models.keyedvectors.Vocab at 0x3083a710>,\n",
       " '查看': <gensim.models.keyedvectors.Vocab at 0x3083a748>,\n",
       " '附近的人': <gensim.models.keyedvectors.Vocab at 0x3083a780>,\n",
       " '世界': <gensim.models.keyedvectors.Vocab at 0x3083a7b8>,\n",
       " '不再': <gensim.models.keyedvectors.Vocab at 0x3083a7f0>,\n",
       " '有': <gensim.models.keyedvectors.Vocab at 0x3083a828>,\n",
       " '陌生人': <gensim.models.keyedvectors.Vocab at 0x3083a860>,\n",
       " '4': <gensim.models.keyedvectors.Vocab at 0x3083a898>,\n",
       " '扫一扫': <gensim.models.keyedvectors.Vocab at 0x3083a8d0>,\n",
       " '扫': <gensim.models.keyedvectors.Vocab at 0x3083a908>,\n",
       " '商品': <gensim.models.keyedvectors.Vocab at 0x3083a940>,\n",
       " '条码': <gensim.models.keyedvectors.Vocab at 0x3083a978>,\n",
       " '图书': <gensim.models.keyedvectors.Vocab at 0x3083a9e8>,\n",
       " '封面': <gensim.models.keyedvectors.Vocab at 0x3083aa20>,\n",
       " 'CD': <gensim.models.keyedvectors.Vocab at 0x3083aa58>,\n",
       " '甚至': <gensim.models.keyedvectors.Vocab at 0x3083aa90>,\n",
       " '扫描': <gensim.models.keyedvectors.Vocab at 0x3083aac8>,\n",
       " '英文单词': <gensim.models.keyedvectors.Vocab at 0x3083ab00>,\n",
       " '来': <gensim.models.keyedvectors.Vocab at 0x3083ab38>,\n",
       " '翻译成': <gensim.models.keyedvectors.Vocab at 0x3083ab70>,\n",
       " '中文': <gensim.models.keyedvectors.Vocab at 0x3083aba8>,\n",
       " '5': <gensim.models.keyedvectors.Vocab at 0x3083abe0>,\n",
       " '帐号': <gensim.models.keyedvectors.Vocab at 0x3083ac18>,\n",
       " '用': <gensim.models.keyedvectors.Vocab at 0x3083ac50>,\n",
       " '关注': <gensim.models.keyedvectors.Vocab at 0x3083ac88>,\n",
       " '明星': <gensim.models.keyedvectors.Vocab at 0x3083acc0>,\n",
       " '看': <gensim.models.keyedvectors.Vocab at 0x3083ad30>,\n",
       " '新闻': <gensim.models.keyedvectors.Vocab at 0x3083ad68>,\n",
       " '设': <gensim.models.keyedvectors.Vocab at 0x3083ada0>,\n",
       " '提醒': <gensim.models.keyedvectors.Vocab at 0x3083ae10>,\n",
       " '6': <gensim.models.keyedvectors.Vocab at 0x3083aef0>,\n",
       " '游戏中心': <gensim.models.keyedvectors.Vocab at 0x3083af60>,\n",
       " '一起': <gensim.models.keyedvectors.Vocab at 0x3083d048>,\n",
       " '玩游戏': <gensim.models.keyedvectors.Vocab at 0x3083d080>,\n",
       " '7': <gensim.models.keyedvectors.Vocab at 0x3083d0b8>,\n",
       " '商店': <gensim.models.keyedvectors.Vocab at 0x3083d0f0>,\n",
       " '有趣': <gensim.models.keyedvectors.Vocab at 0x3083d128>,\n",
       " '好玩': <gensim.models.keyedvectors.Vocab at 0x3083d160>,\n",
       " '这里': <gensim.models.keyedvectors.Vocab at 0x3083d198>,\n",
       " '特别': <gensim.models.keyedvectors.Vocab at 0x3083d1d0>,\n",
       " '说明': <gensim.models.keyedvectors.Vocab at 0x3083d208>,\n",
       " '只': <gensim.models.keyedvectors.Vocab at 0x3083d240>,\n",
       " '消耗': <gensim.models.keyedvectors.Vocab at 0x3083d278>,\n",
       " '网络流量': <gensim.models.keyedvectors.Vocab at 0x3083d2b0>,\n",
       " '产生': <gensim.models.keyedvectors.Vocab at 0x3083d2e8>,\n",
       " '短信': <gensim.models.keyedvectors.Vocab at 0x3083d320>,\n",
       " '费用': <gensim.models.keyedvectors.Vocab at 0x3083d358>,\n",
       " '一款': <gensim.models.keyedvectors.Vocab at 0x3083d390>,\n",
       " '精美': <gensim.models.keyedvectors.Vocab at 0x3083d3c8>,\n",
       " '屏幕': <gensim.models.keyedvectors.Vocab at 0x3083d438>,\n",
       " '开关': <gensim.models.keyedvectors.Vocab at 0x3083d470>,\n",
       " '手机': <gensim.models.keyedvectors.Vocab at 0x3083d4a8>,\n",
       " '小': <gensim.models.keyedvectors.Vocab at 0x3083d4e0>,\n",
       " '部件': <gensim.models.keyedvectors.Vocab at 0x3083d518>,\n",
       " '应用程序': <gensim.models.keyedvectors.Vocab at 0x3083d550>,\n",
       " '装扮': <gensim.models.keyedvectors.Vocab at 0x3083d588>,\n",
       " '你': <gensim.models.keyedvectors.Vocab at 0x3083d5c0>,\n",
       " '桌面': <gensim.models.keyedvectors.Vocab at 0x3083d5f8>,\n",
       " '喜欢': <gensim.models.keyedvectors.Vocab at 0x3083d630>,\n",
       " '等': <gensim.models.keyedvectors.Vocab at 0x3083d6a0>,\n",
       " '什么': <gensim.models.keyedvectors.Vocab at 0x3083d710>,\n",
       " '赶快': <gensim.models.keyedvectors.Vocab at 0x3083d748>,\n",
       " '下载': <gensim.models.keyedvectors.Vocab at 0x3083d780>,\n",
       " '吧': <gensim.models.keyedvectors.Vocab at 0x3083d7b8>,\n",
       " '！': <gensim.models.keyedvectors.Vocab at 0x3083d7f0>,\n",
       " '基本': <gensim.models.keyedvectors.Vocab at 0x3083d898>,\n",
       " '信息': <gensim.models.keyedvectors.Vocab at 0x3083d8d0>,\n",
       " '作者': <gensim.models.keyedvectors.Vocab at 0x3083d908>,\n",
       " '来自': <gensim.models.keyedvectors.Vocab at 0x3083d940>,\n",
       " '互联网': <gensim.models.keyedvectors.Vocab at 0x3083d978>,\n",
       " '更新': <gensim.models.keyedvectors.Vocab at 0x3083d9b0>,\n",
       " '时间': <gensim.models.keyedvectors.Vocab at 0x3083d9e8>,\n",
       " '2014': <gensim.models.keyedvectors.Vocab at 0x3083da20>,\n",
       " '08': <gensim.models.keyedvectors.Vocab at 0x3083da58>,\n",
       " '01': <gensim.models.keyedvectors.Vocab at 0x3083dac8>,\n",
       " '版本': <gensim.models.keyedvectors.Vocab at 0x3083db00>,\n",
       " '系统': <gensim.models.keyedvectors.Vocab at 0x3083db38>,\n",
       " 'Android': <gensim.models.keyedvectors.Vocab at 0x3083dba8>,\n",
       " '2.2': <gensim.models.keyedvectors.Vocab at 0x3083dbe0>,\n",
       " 'x': <gensim.models.keyedvectors.Vocab at 0x3083dc18>,\n",
       " '以上': <gensim.models.keyedvectors.Vocab at 0x3083dc50>,\n",
       " '语言': <gensim.models.keyedvectors.Vocab at 0x3083dc88>,\n",
       " '英文': <gensim.models.keyedvectors.Vocab at 0x3083dcc0>,\n",
       " '支付宝': <gensim.models.keyedvectors.Vocab at 0x3083dcf8>,\n",
       " '蚂蚁': <gensim.models.keyedvectors.Vocab at 0x3083dd30>,\n",
       " '金服': <gensim.models.keyedvectors.Vocab at 0x3083dd68>,\n",
       " '以': <gensim.models.keyedvectors.Vocab at 0x3083dda0>,\n",
       " '每个': <gensim.models.keyedvectors.Vocab at 0x3083ddd8>,\n",
       " '人为': <gensim.models.keyedvectors.Vocab at 0x3083de10>,\n",
       " '中心': <gensim.models.keyedvectors.Vocab at 0x3083de80>,\n",
       " '拥有': <gensim.models.keyedvectors.Vocab at 0x3083deb8>,\n",
       " '全球': <gensim.models.keyedvectors.Vocab at 0x3083def0>,\n",
       " '9': <gensim.models.keyedvectors.Vocab at 0x3083df60>,\n",
       " '亿': <gensim.models.keyedvectors.Vocab at 0x3083df98>,\n",
       " '服务平台': <gensim.models.keyedvectors.Vocab at 0x3083dfd0>,\n",
       " '发展': <gensim.models.keyedvectors.Vocab at 0x3083e048>,\n",
       " '成为': <gensim.models.keyedvectors.Vocab at 0x3083e080>,\n",
       " '融合': <gensim.models.keyedvectors.Vocab at 0x3083e0b8>,\n",
       " '了': <gensim.models.keyedvectors.Vocab at 0x3083e0f0>,\n",
       " '支付': <gensim.models.keyedvectors.Vocab at 0x3083e128>,\n",
       " '政务': <gensim.models.keyedvectors.Vocab at 0x3083e160>,\n",
       " '社交': <gensim.models.keyedvectors.Vocab at 0x3083e198>,\n",
       " '理财': <gensim.models.keyedvectors.Vocab at 0x3083e1d0>,\n",
       " '保险': <gensim.models.keyedvectors.Vocab at 0x3083e208>,\n",
       " '公益': <gensim.models.keyedvectors.Vocab at 0x3083e240>,\n",
       " '多个': <gensim.models.keyedvectors.Vocab at 0x3083e278>,\n",
       " '场景': <gensim.models.keyedvectors.Vocab at 0x3083e2b0>,\n",
       " '与': <gensim.models.keyedvectors.Vocab at 0x3083e2e8>,\n",
       " '行业': <gensim.models.keyedvectors.Vocab at 0x3083e320>,\n",
       " '开放性': <gensim.models.keyedvectors.Vocab at 0x3083e358>,\n",
       " '除': <gensim.models.keyedvectors.Vocab at 0x3083e390>,\n",
       " '转账': <gensim.models.keyedvectors.Vocab at 0x3083e3c8>,\n",
       " '收款': <gensim.models.keyedvectors.Vocab at 0x3083e400>,\n",
       " '基础': <gensim.models.keyedvectors.Vocab at 0x3083e438>,\n",
       " '功能': <gensim.models.keyedvectors.Vocab at 0x3083e470>,\n",
       " '外': <gensim.models.keyedvectors.Vocab at 0x3083e4a8>,\n",
       " '能': <gensim.models.keyedvectors.Vocab at 0x3083e4e0>,\n",
       " '快速': <gensim.models.keyedvectors.Vocab at 0x3083e518>,\n",
       " '充': <gensim.models.keyedvectors.Vocab at 0x3083e550>,\n",
       " '话费': <gensim.models.keyedvectors.Vocab at 0x3083e588>,\n",
       " '缴': <gensim.models.keyedvectors.Vocab at 0x3083e5c0>,\n",
       " '水电': <gensim.models.keyedvectors.Vocab at 0x3083e5f8>,\n",
       " '煤': <gensim.models.keyedvectors.Vocab at 0x3083e630>,\n",
       " '通过': <gensim.models.keyedvectors.Vocab at 0x3083e668>,\n",
       " '智能': <gensim.models.keyedvectors.Vocab at 0x3083e6a0>,\n",
       " '机器人': <gensim.models.keyedvectors.Vocab at 0x3083e6d8>,\n",
       " '一步': <gensim.models.keyedvectors.Vocab at 0x3083e710>,\n",
       " '触达': <gensim.models.keyedvectors.Vocab at 0x3083e748>,\n",
       " '百种': <gensim.models.keyedvectors.Vocab at 0x3083e780>,\n",
       " '不仅': <gensim.models.keyedvectors.Vocab at 0x3083e7b8>,\n",
       " '享受': <gensim.models.keyedvectors.Vocab at 0x3083e7f0>,\n",
       " '消费': <gensim.models.keyedvectors.Vocab at 0x3083e828>,\n",
       " '打折': <gensim.models.keyedvectors.Vocab at 0x3083e898>,\n",
       " '好友': <gensim.models.keyedvectors.Vocab at 0x3083e8d0>,\n",
       " '建群': <gensim.models.keyedvectors.Vocab at 0x3083e908>,\n",
       " '互动': <gensim.models.keyedvectors.Vocab at 0x3083e940>,\n",
       " '轻松': <gensim.models.keyedvectors.Vocab at 0x3083e978>,\n",
       " '累积': <gensim.models.keyedvectors.Vocab at 0x3083e9b0>,\n",
       " '信用': <gensim.models.keyedvectors.Vocab at 0x3083e9e8>,\n",
       " '让': <gensim.models.keyedvectors.Vocab at 0x3083ea20>,\n",
       " '更': <gensim.models.keyedvectors.Vocab at 0x3083ea58>,\n",
       " '简单': <gensim.models.keyedvectors.Vocab at 0x3083ea90>,\n",
       " 'iPhone': <gensim.models.keyedvectors.Vocab at 0x3083eac8>,\n",
       " '风格': <gensim.models.keyedvectors.Vocab at 0x3083eb00>,\n",
       " 'IOS': <gensim.models.keyedvectors.Vocab at 0x3083eb38>,\n",
       " 'UI': <gensim.models.keyedvectors.Vocab at 0x3083eb70>,\n",
       " '非常简单': <gensim.models.keyedvectors.Vocab at 0x3083eba8>,\n",
       " '易用': <gensim.models.keyedvectors.Vocab at 0x3083ebe0>,\n",
       " '就': <gensim.models.keyedvectors.Vocab at 0x3083ec18>,\n",
       " '像': <gensim.models.keyedvectors.Vocab at 0x3083ec50>,\n",
       " 'iphone': <gensim.models.keyedvectors.Vocab at 0x3083ec88>,\n",
       " '主要': <gensim.models.keyedvectors.Vocab at 0x3083ecc0>,\n",
       " '用户界面': <gensim.models.keyedvectors.Vocab at 0x3083ed30>,\n",
       " '支持': <gensim.models.keyedvectors.Vocab at 0x3083ed68>,\n",
       " '新': <gensim.models.keyedvectors.Vocab at 0x3083eda0>,\n",
       " '绘': <gensim.models.keyedvectors.Vocab at 0x3083edd8>,\n",
       " '所有': <gensim.models.keyedvectors.Vocab at 0x3083ee10>,\n",
       " '表情符号': <gensim.models.keyedvectors.Vocab at 0x3083ee48>,\n",
       " '发送': <gensim.models.keyedvectors.Vocab at 0x3083ee80>,\n",
       " '接收': <gensim.models.keyedvectors.Vocab at 0x3083eeb8>,\n",
       " '铃声': <gensim.models.keyedvectors.Vocab at 0x3083eef0>,\n",
       " '弹出': <gensim.models.keyedvectors.Vocab at 0x3083ef28>,\n",
       " '对话框': <gensim.models.keyedvectors.Vocab at 0x3083ef60>,\n",
       " '收到': <gensim.models.keyedvectors.Vocab at 0x3083ef98>,\n",
       " '时有': <gensim.models.keyedvectors.Vocab at 0x3083efd0>,\n",
       " '闪烁': <gensim.models.keyedvectors.Vocab at 0x3082c048>,\n",
       " 'LED': <gensim.models.keyedvectors.Vocab at 0x3082c080>,\n",
       " '自定义': <gensim.models.keyedvectors.Vocab at 0x3082c0b8>,\n",
       " '通知': <gensim.models.keyedvectors.Vocab at 0x3082c0f0>,\n",
       " '图标': <gensim.models.keyedvectors.Vocab at 0x3082c160>,\n",
       " '截图': <gensim.models.keyedvectors.Vocab at 0x3082c198>,\n",
       " '方便管理': <gensim.models.keyedvectors.Vocab at 0x3082c1d0>,\n",
       " '注意': <gensim.models.keyedvectors.Vocab at 0x3082c208>,\n",
       " '问题': <gensim.models.keyedvectors.Vocab at 0x3082c240>,\n",
       " '彩信': <gensim.models.keyedvectors.Vocab at 0x3082c278>,\n",
       " '对于': <gensim.models.keyedvectors.Vocab at 0x3082c2b0>,\n",
       " '无法': <gensim.models.keyedvectors.Vocab at 0x3082c2e8>,\n",
       " '选择': <gensim.models.keyedvectors.Vocab at 0x3082c320>,\n",
       " '多媒体': <gensim.models.keyedvectors.Vocab at 0x3082c358>,\n",
       " '讯息': <gensim.models.keyedvectors.Vocab at 0x3082c390>,\n",
       " '(': <gensim.models.keyedvectors.Vocab at 0x3082c3c8>,\n",
       " 'MMS': <gensim.models.keyedvectors.Vocab at 0x3082c400>,\n",
       " ')': <gensim.models.keyedvectors.Vocab at 0x3082c438>,\n",
       " '设置': <gensim.models.keyedvectors.Vocab at 0x3082c470>,\n",
       " '选项': <gensim.models.keyedvectors.Vocab at 0x3082c4a8>,\n",
       " '中': <gensim.models.keyedvectors.Vocab at 0x3082c4e0>,\n",
       " '然后': <gensim.models.keyedvectors.Vocab at 0x3082c518>,\n",
       " '填充': <gensim.models.keyedvectors.Vocab at 0x3082c550>,\n",
       " '配置': <gensim.models.keyedvectors.Vocab at 0x3082c588>,\n",
       " '点击': <gensim.models.keyedvectors.Vocab at 0x3082c5c0>,\n",
       " '科学': <gensim.models.keyedvectors.Vocab at 0x3082c5f8>,\n",
       " '上网': <gensim.models.keyedvectors.Vocab at 0x3082c630>,\n",
       " 'PORT': <gensim.models.keyedvectors.Vocab at 0x3082c668>,\n",
       " '到': <gensim.models.keyedvectors.Vocab at 0x3082c6a0>,\n",
       " '看到': <gensim.models.keyedvectors.Vocab at 0x3082c6d8>,\n",
       " '输入': <gensim.models.keyedvectors.Vocab at 0x3082c710>,\n",
       " '自己': <gensim.models.keyedvectors.Vocab at 0x3082c748>,\n",
       " '后续': <gensim.models.keyedvectors.Vocab at 0x3082c860>,\n",
       " '路径': <gensim.models.keyedvectors.Vocab at 0x3082c898>,\n",
       " 'android': <gensim.models.keyedvectors.Vocab at 0x3082c8d0>,\n",
       " '2.3': <gensim.models.keyedvectors.Vocab at 0x3082c908>,\n",
       " '>': <gensim.models.keyedvectors.Vocab at 0x3082c978>,\n",
       " '无线': <gensim.models.keyedvectors.Vocab at 0x3082c9b0>,\n",
       " '网络': <gensim.models.keyedvectors.Vocab at 0x3082ca20>,\n",
       " '移动': <gensim.models.keyedvectors.Vocab at 0x3082ca58>,\n",
       " '名称': <gensim.models.keyedvectors.Vocab at 0x3082ca90>,\n",
       " '顺序': <gensim.models.keyedvectors.Vocab at 0x3082cac8>,\n",
       " '如果': <gensim.models.keyedvectors.Vocab at 0x3082cb00>,\n",
       " '希望': <gensim.models.keyedvectors.Vocab at 0x3082cb38>,\n",
       " '重复': <gensim.models.keyedvectors.Vocab at 0x3082cb70>,\n",
       " '尝试': <gensim.models.keyedvectors.Vocab at 0x3082cba8>,\n",
       " '阻止': <gensim.models.keyedvectors.Vocab at 0x3082cbe0>,\n",
       " '但': <gensim.models.keyedvectors.Vocab at 0x3082cc18>,\n",
       " '这样': <gensim.models.keyedvectors.Vocab at 0x3082cc50>,\n",
       " '会': <gensim.models.keyedvectors.Vocab at 0x3082cc88>,\n",
       " '导致': <gensim.models.keyedvectors.Vocab at 0x3082ccc0>,\n",
       " '某些': <gensim.models.keyedvectors.Vocab at 0x3082ccf8>,\n",
       " '设备': <gensim.models.keyedvectors.Vocab at 0x3082cd30>,\n",
       " '出现': <gensim.models.keyedvectors.Vocab at 0x3082cd68>,\n",
       " '两个': <gensim.models.keyedvectors.Vocab at 0x3082cda0>,\n",
       " '邮件': <gensim.models.keyedvectors.Vocab at 0x3082cdd8>,\n",
       " '请': <gensim.models.keyedvectors.Vocab at 0x3082ce10>,\n",
       " '按': <gensim.models.keyedvectors.Vocab at 0x3082ce48>,\n",
       " '菜单': <gensim.models.keyedvectors.Vocab at 0x3082ce80>,\n",
       " '插入': <gensim.models.keyedvectors.Vocab at 0x3082ceb8>,\n",
       " '微笑': <gensim.models.keyedvectors.Vocab at 0x3082cef0>,\n",
       " '必须': <gensim.models.keyedvectors.Vocab at 0x3082cf28>,\n",
       " '当': <gensim.models.keyedvectors.Vocab at 0x3082cf60>,\n",
       " '试图': <gensim.models.keyedvectors.Vocab at 0x3082cf98>,\n",
       " '许多': <gensim.models.keyedvectors.Vocab at 0x3082cfd0>,\n",
       " '运营商': <gensim.models.keyedvectors.Vocab at 0x308198d0>,\n",
       " '将': <gensim.models.keyedvectors.Vocab at 0x30819940>,\n",
       " '破坏': <gensim.models.keyedvectors.Vocab at 0x30819978>,\n",
       " '文本': <gensim.models.keyedvectors.Vocab at 0x308199b0>,\n",
       " '尤其': <gensim.models.keyedvectors.Vocab at 0x308199e8>,\n",
       " '理解': <gensim.models.keyedvectors.Vocab at 0x30819a20>,\n",
       " '我': <gensim.models.keyedvectors.Vocab at 0x30819a90>,\n",
       " '不能': <gensim.models.keyedvectors.Vocab at 0x308190b8>,\n",
       " '友情': <gensim.models.keyedvectors.Vocab at 0x308195f8>,\n",
       " '提示': <gensim.models.keyedvectors.Vocab at 0x308196d8>,\n",
       " '本': <gensim.models.keyedvectors.Vocab at 0x30819400>,\n",
       " '作品': <gensim.models.keyedvectors.Vocab at 0x30819438>,\n",
       " '汉化版': <gensim.models.keyedvectors.Vocab at 0x30819080>,\n",
       " '安装': <gensim.models.keyedvectors.Vocab at 0x30819748>,\n",
       " '时请': <gensim.models.keyedvectors.Vocab at 0x308197f0>,\n",
       " '先': <gensim.models.keyedvectors.Vocab at 0x30819ac8>,\n",
       " '卸载': <gensim.models.keyedvectors.Vocab at 0x30819b00>,\n",
       " '原版': <gensim.models.keyedvectors.Vocab at 0x30819b38>,\n",
       " '再': <gensim.models.keyedvectors.Vocab at 0x30819b70>,\n",
       " '此': <gensim.models.keyedvectors.Vocab at 0x30819ba8>,\n",
       " 'QQ': <gensim.models.keyedvectors.Vocab at 0x30819be0>,\n",
       " '•': <gensim.models.keyedvectors.Vocab at 0x30819c18>,\n",
       " '乐在': <gensim.models.keyedvectors.Vocab at 0x30819c50>,\n",
       " '沟通': <gensim.models.keyedvectors.Vocab at 0x30819c88>,\n",
       " '√': <gensim.models.keyedvectors.Vocab at 0x30819cc0>,\n",
       " '超过': <gensim.models.keyedvectors.Vocab at 0x30819d68>,\n",
       " '90%': <gensim.models.keyedvectors.Vocab at 0x30819da0>,\n",
       " '多人': <gensim.models.keyedvectors.Vocab at 0x30819e10>,\n",
       " '文件': <gensim.models.keyedvectors.Vocab at 0x30819e48>,\n",
       " '多端': <gensim.models.keyedvectors.Vocab at 0x30819e80>,\n",
       " '互传': <gensim.models.keyedvectors.Vocab at 0x30819f60>,\n",
       " '不断创新': <gensim.models.keyedvectors.Vocab at 0x30819f98>,\n",
       " '满足': <gensim.models.keyedvectors.Vocab at 0x30819fd0>,\n",
       " '所': <gensim.models.keyedvectors.Vocab at 0x308196a0>,\n",
       " '打造': <gensim.models.keyedvectors.Vocab at 0x30855048>,\n",
       " '欢乐': <gensim.models.keyedvectors.Vocab at 0x30855080>,\n",
       " '无限': <gensim.models.keyedvectors.Vocab at 0x308550b8>,\n",
       " '娱乐': <gensim.models.keyedvectors.Vocab at 0x308550f0>,\n",
       " '体验': <gensim.models.keyedvectors.Vocab at 0x30855128>,\n",
       " '聊天': <gensim.models.keyedvectors.Vocab at 0x30855160>,\n",
       " '随时随地': <gensim.models.keyedvectors.Vocab at 0x30855198>,\n",
       " '群': <gensim.models.keyedvectors.Vocab at 0x308551d0>,\n",
       " '一触': <gensim.models.keyedvectors.Vocab at 0x30855208>,\n",
       " '即': <gensim.models.keyedvectors.Vocab at 0x30855240>,\n",
       " '达': <gensim.models.keyedvectors.Vocab at 0x30855278>,\n",
       " '通话': <gensim.models.keyedvectors.Vocab at 0x308552b0>,\n",
       " '两人': <gensim.models.keyedvectors.Vocab at 0x308552e8>,\n",
       " '高清': <gensim.models.keyedvectors.Vocab at 0x30855320>,\n",
       " '畅聊': <gensim.models.keyedvectors.Vocab at 0x30855358>,\n",
       " '亲朋好友': <gensim.models.keyedvectors.Vocab at 0x30855390>,\n",
       " '想念': <gensim.models.keyedvectors.Vocab at 0x308553c8>,\n",
       " '不如': <gensim.models.keyedvectors.Vocab at 0x30855400>,\n",
       " '相见': <gensim.models.keyedvectors.Vocab at 0x30855438>,\n",
       " '文件传输': <gensim.models.keyedvectors.Vocab at 0x30855470>,\n",
       " '电脑': <gensim.models.keyedvectors.Vocab at 0x308554a8>,\n",
       " '方便快捷': <gensim.models.keyedvectors.Vocab at 0x308554e0>,\n",
       " '空间': <gensim.models.keyedvectors.Vocab at 0x30855518>,\n",
       " '动态': <gensim.models.keyedvectors.Vocab at 0x30855550>,\n",
       " '快': <gensim.models.keyedvectors.Vocab at 0x30855588>,\n",
       " '获知': <gensim.models.keyedvectors.Vocab at 0x308555c0>,\n",
       " '留住': <gensim.models.keyedvectors.Vocab at 0x308555f8>,\n",
       " '感动': <gensim.models.keyedvectors.Vocab at 0x30855630>,\n",
       " '米': <gensim.models.keyedvectors.Vocab at 0x30855668>,\n",
       " '秀': <gensim.models.keyedvectors.Vocab at 0x308556a0>,\n",
       " '换': <gensim.models.keyedvectors.Vocab at 0x308556d8>,\n",
       " '炫': <gensim.models.keyedvectors.Vocab at 0x30855710>,\n",
       " '动作': <gensim.models.keyedvectors.Vocab at 0x30855748>,\n",
       " '偷': <gensim.models.keyedvectors.Vocab at 0x30855780>,\n",
       " '胶囊': <gensim.models.keyedvectors.Vocab at 0x308557b8>,\n",
       " '年轻人': <gensim.models.keyedvectors.Vocab at 0x308557f0>,\n",
       " '最爱': <gensim.models.keyedvectors.Vocab at 0x30855828>,\n",
       " '潮': <gensim.models.keyedvectors.Vocab at 0x30855860>,\n",
       " '爆': <gensim.models.keyedvectors.Vocab at 0x30855898>,\n",
       " '玩法': <gensim.models.keyedvectors.Vocab at 0x308558d0>,\n",
       " '个性': <gensim.models.keyedvectors.Vocab at 0x30855908>,\n",
       " '主题': <gensim.models.keyedvectors.Vocab at 0x30855940>,\n",
       " '名片': <gensim.models.keyedvectors.Vocab at 0x30855978>,\n",
       " '彩铃': <gensim.models.keyedvectors.Vocab at 0x308559b0>,\n",
       " '气泡': <gensim.models.keyedvectors.Vocab at 0x308559e8>,\n",
       " '挂件': <gensim.models.keyedvectors.Vocab at 0x30855a20>,\n",
       " '自由': <gensim.models.keyedvectors.Vocab at 0x30855a58>,\n",
       " '选': <gensim.models.keyedvectors.Vocab at 0x30855a90>,\n",
       " '天天': <gensim.models.keyedvectors.Vocab at 0x30855ac8>,\n",
       " '全民': <gensim.models.keyedvectors.Vocab at 0x30855b00>,\n",
       " '最热': <gensim.models.keyedvectors.Vocab at 0x30855b38>,\n",
       " '手游': <gensim.models.keyedvectors.Vocab at 0x30855b70>,\n",
       " '根本': <gensim.models.keyedvectors.Vocab at 0x30855ba8>,\n",
       " '停不下来': <gensim.models.keyedvectors.Vocab at 0x30855be0>,\n",
       " '充值': <gensim.models.keyedvectors.Vocab at 0x30855c18>,\n",
       " '网购': <gensim.models.keyedvectors.Vocab at 0x30855c50>,\n",
       " '一应俱全': <gensim.models.keyedvectors.Vocab at 0x30855c88>,\n",
       " '看点': <gensim.models.keyedvectors.Vocab at 0x30855cc0>,\n",
       " '专': <gensim.models.keyedvectors.Vocab at 0x30855cf8>,\n",
       " '个性化': <gensim.models.keyedvectors.Vocab at 0x30855d30>,\n",
       " '19': <gensim.models.keyedvectors.Vocab at 0x30855d68>,\n",
       " '亿人': <gensim.models.keyedvectors.Vocab at 0x30855da0>,\n",
       " '如': <gensim.models.keyedvectors.Vocab at 0x30855dd8>,\n",
       " '过程': <gensim.models.keyedvectors.Vocab at 0x30855e10>,\n",
       " '遇到': <gensim.models.keyedvectors.Vocab at 0x30855e48>,\n",
       " '任何': <gensim.models.keyedvectors.Vocab at 0x30855e80>,\n",
       " '在线': <gensim.models.keyedvectors.Vocab at 0x30855eb8>,\n",
       " '帮助': <gensim.models.keyedvectors.Vocab at 0x30855ef0>,\n",
       " '进入': <gensim.models.keyedvectors.Vocab at 0x30855f28>,\n",
       " '关于': <gensim.models.keyedvectors.Vocab at 0x30855f60>,\n",
       " '反馈': <gensim.models.keyedvectors.Vocab at 0x30855f98>,\n",
       " '客服热线': <gensim.models.keyedvectors.Vocab at 0x30855fd0>,\n",
       " '0755': <gensim.models.keyedvectors.Vocab at 0x3085a048>,\n",
       " '（': <gensim.models.keyedvectors.Vocab at 0x3085a080>,\n",
       " '8': <gensim.models.keyedvectors.Vocab at 0x3085a0b8>,\n",
       " '00': <gensim.models.keyedvectors.Vocab at 0x3085a0f0>,\n",
       " '23': <gensim.models.keyedvectors.Vocab at 0x3085a128>,\n",
       " '）': <gensim.models.keyedvectors.Vocab at 0x3085a160>,\n",
       " '这是': <gensim.models.keyedvectors.Vocab at 0x3085a198>,\n",
       " '实用': <gensim.models.keyedvectors.Vocab at 0x3085a1d0>,\n",
       " '操作': <gensim.models.keyedvectors.Vocab at 0x3085a208>,\n",
       " '简明': <gensim.models.keyedvectors.Vocab at 0x3085a240>,\n",
       " '性能': <gensim.models.keyedvectors.Vocab at 0x3085a278>,\n",
       " '出众': <gensim.models.keyedvectors.Vocab at 0x3085a2b0>,\n",
       " '它': <gensim.models.keyedvectors.Vocab at 0x3085a2e8>,\n",
       " '抛': <gensim.models.keyedvectors.Vocab at 0x3085a320>,\n",
       " '去': <gensim.models.keyedvectors.Vocab at 0x3085a358>,\n",
       " '优化': <gensim.models.keyedvectors.Vocab at 0x3085a390>,\n",
       " '后': <gensim.models.keyedvectors.Vocab at 0x3085a3c8>,\n",
       " '精准': <gensim.models.keyedvectors.Vocab at 0x3085a400>,\n",
       " '指南': <gensim.models.keyedvectors.Vocab at 0x3085a438>,\n",
       " '精确定位': <gensim.models.keyedvectors.Vocab at 0x3085a470>,\n",
       " '多样': <gensim.models.keyedvectors.Vocab at 0x3085a4a8>,\n",
       " '极速': <gensim.models.keyedvectors.Vocab at 0x3085a4e0>,\n",
       " '启动': <gensim.models.keyedvectors.Vocab at 0x3085a518>,\n",
       " '体积': <gensim.models.keyedvectors.Vocab at 0x3085a550>,\n",
       " '只有': <gensim.models.keyedvectors.Vocab at 0x3085a588>,\n",
       " '原来': <gensim.models.keyedvectors.Vocab at 0x3085a5c0>,\n",
       " '画面': <gensim.models.keyedvectors.Vocab at 0x3085a5f8>,\n",
       " '流畅': <gensim.models.keyedvectors.Vocab at 0x3085a630>,\n",
       " '实景': <gensim.models.keyedvectors.Vocab at 0x3085a668>,\n",
       " '可': <gensim.models.keyedvectors.Vocab at 0x3085a6a0>,\n",
       " '随心': <gensim.models.keyedvectors.Vocab at 0x3085a6d8>,\n",
       " '开启': <gensim.models.keyedvectors.Vocab at 0x3085a710>,\n",
       " '继承': <gensim.models.keyedvectors.Vocab at 0x3085a748>,\n",
       " '一贯': <gensim.models.keyedvectors.Vocab at 0x3085a780>,\n",
       " '灵活': <gensim.models.keyedvectors.Vocab at 0x3085a7b8>,\n",
       " '这': <gensim.models.keyedvectors.Vocab at 0x3085a7f0>,\n",
       " '款': <gensim.models.keyedvectors.Vocab at 0x3085a828>,\n",
       " '现代': <gensim.models.keyedvectors.Vocab at 0x3085a860>,\n",
       " '获得': <gensim.models.keyedvectors.Vocab at 0x3085a898>,\n",
       " '以下': <gensim.models.keyedvectors.Vocab at 0x3085a8d0>,\n",
       " '能力': <gensim.models.keyedvectors.Vocab at 0x3085a908>,\n",
       " '☛': <gensim.models.keyedvectors.Vocab at 0x3085a940>,\n",
       " '和地图': <gensim.models.keyedvectors.Vocab at 0x3085a978>,\n",
       " '相结合': <gensim.models.keyedvectors.Vocab at 0x3085a9b0>,\n",
       " '想': <gensim.models.keyedvectors.Vocab at 0x3085a9e8>,\n",
       " '迷路': <gensim.models.keyedvectors.Vocab at 0x3085aa20>,\n",
       " '同意': <gensim.models.keyedvectors.Vocab at 0x3085aa58>,\n",
       " '画': <gensim.models.keyedvectors.Vocab at 0x3085aa90>,\n",
       " '指南针': <gensim.models.keyedvectors.Vocab at 0x3085aac8>,\n",
       " '方位': <gensim.models.keyedvectors.Vocab at 0x3085ab00>,\n",
       " '把': <gensim.models.keyedvectors.Vocab at 0x3085ab38>,\n",
       " '控': <gensim.models.keyedvectors.Vocab at 0x3085ab70>,\n",
       " '经纬度': <gensim.models.keyedvectors.Vocab at 0x3085aba8>,\n",
       " '地址': <gensim.models.keyedvectors.Vocab at 0x3085abe0>,\n",
       " '气压': <gensim.models.keyedvectors.Vocab at 0x3085ac18>,\n",
       " '海拔': <gensim.models.keyedvectors.Vocab at 0x3085ac50>,\n",
       " '高度': <gensim.models.keyedvectors.Vocab at 0x3085ac88>,\n",
       " '差': <gensim.models.keyedvectors.Vocab at 0x3085acc0>,\n",
       " '...': <gensim.models.keyedvectors.Vocab at 0x3085acf8>,\n",
       " '各类': <gensim.models.keyedvectors.Vocab at 0x3085ad30>,\n",
       " '应有尽有': <gensim.models.keyedvectors.Vocab at 0x3085ad68>,\n",
       " '水平仪': <gensim.models.keyedvectors.Vocab at 0x3085ada0>,\n",
       " '测量': <gensim.models.keyedvectors.Vocab at 0x3085add8>,\n",
       " '集成': <gensim.models.keyedvectors.Vocab at 0x3085ae10>,\n",
       " '多款': <gensim.models.keyedvectors.Vocab at 0x3085ae48>,\n",
       " '罗盘': <gensim.models.keyedvectors.Vocab at 0x3085ae80>,\n",
       " '以及': <gensim.models.keyedvectors.Vocab at 0x3085aeb8>,\n",
       " '生肖': <gensim.models.keyedvectors.Vocab at 0x3085aef0>,\n",
       " '系列': <gensim.models.keyedvectors.Vocab at 0x3085af28>,\n",
       " '美观': <gensim.models.keyedvectors.Vocab at 0x3085af60>,\n",
       " '简洁': <gensim.models.keyedvectors.Vocab at 0x3085af98>,\n",
       " '媲美': <gensim.models.keyedvectors.Vocab at 0x3085afd0>,\n",
       " '专业': <gensim.models.keyedvectors.Vocab at 0x3085d048>,\n",
       " '地图功能': <gensim.models.keyedvectors.Vocab at 0x3085d080>,\n",
       " '查': <gensim.models.keyedvectors.Vocab at 0x3085d0b8>,\n",
       " '地点': <gensim.models.keyedvectors.Vocab at 0x3085d0f0>,\n",
       " '辨': <gensim.models.keyedvectors.Vocab at 0x3085d128>,\n",
       " '方向': <gensim.models.keyedvectors.Vocab at 0x3085d160>,\n",
       " '找寻': <gensim.models.keyedvectors.Vocab at 0x3085d198>,\n",
       " '路': <gensim.models.keyedvectors.Vocab at 0x3085d1d0>,\n",
       " '检测': <gensim.models.keyedvectors.Vocab at 0x3085d208>,\n",
       " '对': <gensim.models.keyedvectors.Vocab at 0x3085d240>,\n",
       " '心里有数': <gensim.models.keyedvectors.Vocab at 0x3085d278>,\n",
       " '转': <gensim.models.keyedvectors.Vocab at 0x3085d2b0>,\n",
       " '平面': <gensim.models.keyedvectors.Vocab at 0x3085d2e8>,\n",
       " '系': <gensim.models.keyedvectors.Vocab at 0x3085d320>,\n",
       " '升级': <gensim.models.keyedvectors.Vocab at 0x3085d358>,\n",
       " '更佳': <gensim.models.keyedvectors.Vocab at 0x3085d390>,\n",
       " '应该': <gensim.models.keyedvectors.Vocab at 0x3085d3c8>,\n",
       " '必备': <gensim.models.keyedvectors.Vocab at 0x3085d400>,\n",
       " '工具': <gensim.models.keyedvectors.Vocab at 0x3085d438>,\n",
       " '大家': <gensim.models.keyedvectors.Vocab at 0x3085d470>,\n",
       " '评论': <gensim.models.keyedvectors.Vocab at 0x3085d4a8>,\n",
       " '也': <gensim.models.keyedvectors.Vocab at 0x3085d4e0>,\n",
       " '多多': <gensim.models.keyedvectors.Vocab at 0x3085d518>,\n",
       " '程序': <gensim.models.keyedvectors.Vocab at 0x3085d550>,\n",
       " '猿': <gensim.models.keyedvectors.Vocab at 0x3085d588>,\n",
       " '重要': <gensim.models.keyedvectors.Vocab at 0x3085d5c0>,\n",
       " '正常': <gensim.models.keyedvectors.Vocab at 0x3085d5f8>,\n",
       " '运行': <gensim.models.keyedvectors.Vocab at 0x3085d630>,\n",
       " '需要': <gensim.models.keyedvectors.Vocab at 0x3085d668>,\n",
       " '加速度': <gensim.models.keyedvectors.Vocab at 0x3085d6a0>,\n",
       " '传感器': <gensim.models.keyedvectors.Vocab at 0x3085d6d8>,\n",
       " '磁场': <gensim.models.keyedvectors.Vocab at 0x3085d710>,\n",
       " '并': <gensim.models.keyedvectors.Vocab at 0x3085d748>,\n",
       " '授予': <gensim.models.keyedvectors.Vocab at 0x3085d780>,\n",
       " '应用': <gensim.models.keyedvectors.Vocab at 0x3085d7b8>,\n",
       " '获取': <gensim.models.keyedvectors.Vocab at 0x3085d7f0>,\n",
       " '运动': <gensim.models.keyedvectors.Vocab at 0x3085d828>,\n",
       " '数据': <gensim.models.keyedvectors.Vocab at 0x3085d860>,\n",
       " '权限': <gensim.models.keyedvectors.Vocab at 0x3085d898>,\n",
       " '华为': <gensim.models.keyedvectors.Vocab at 0x3085d8d0>,\n",
       " '前': <gensim.models.keyedvectors.Vocab at 0x3085d908>,\n",
       " '了解': <gensim.models.keyedvectors.Vocab at 0x3085d940>,\n",
       " '下': <gensim.models.keyedvectors.Vocab at 0x3085d978>,\n",
       " '是否': <gensim.models.keyedvectors.Vocab at 0x3085d9b0>,\n",
       " '不要': <gensim.models.keyedvectors.Vocab at 0x3085d9e8>,\n",
       " '给出': <gensim.models.keyedvectors.Vocab at 0x3085da20>,\n",
       " '错误': <gensim.models.keyedvectors.Vocab at 0x3085da58>,\n",
       " '经验': <gensim.models.keyedvectors.Vocab at 0x3085da90>,\n",
       " '影响': <gensim.models.keyedvectors.Vocab at 0x3085dac8>,\n",
       " '其他': <gensim.models.keyedvectors.Vocab at 0x3085db00>,\n",
       " '状态': <gensim.models.keyedvectors.Vocab at 0x3085db38>,\n",
       " '内有': <gensim.models.keyedvectors.Vocab at 0x3085db70>,\n",
       " '做好': <gensim.models.keyedvectors.Vocab at 0x3085dba8>,\n",
       " '校准': <gensim.models.keyedvectors.Vocab at 0x3085dbe0>,\n",
       " '以便': <gensim.models.keyedvectors.Vocab at 0x3085dc18>,\n",
       " '更好': <gensim.models.keyedvectors.Vocab at 0x3085dc50>,\n",
       " '手机淘宝': <gensim.models.keyedvectors.Vocab at 0x3085dc88>,\n",
       " '版': <gensim.models.keyedvectors.Vocab at 0x3085dcc0>,\n",
       " '阿里巴巴': <gensim.models.keyedvectors.Vocab at 0x3085dcf8>,\n",
       " '专为': <gensim.models.keyedvectors.Vocab at 0x3085dd30>,\n",
       " '手机用户': <gensim.models.keyedvectors.Vocab at 0x3085dd68>,\n",
       " '推出': <gensim.models.keyedvectors.Vocab at 0x3085dda0>,\n",
       " '其': <gensim.models.keyedvectors.Vocab at 0x3085ddd8>,\n",
       " '线': <gensim.models.keyedvectors.Vocab at 0x3085de10>,\n",
       " '购物': <gensim.models.keyedvectors.Vocab at 0x3085de48>,\n",
       " '需求': <gensim.models.keyedvectors.Vocab at 0x3085de80>,\n",
       " '软件': <gensim.models.keyedvectors.Vocab at 0x3085deb8>,\n",
       " '具有': <gensim.models.keyedvectors.Vocab at 0x3085def0>,\n",
       " '附近': <gensim.models.keyedvectors.Vocab at 0x3085df28>,\n",
       " '浏览': <gensim.models.keyedvectors.Vocab at 0x3085df60>,\n",
       " '购买': <gensim.models.keyedvectors.Vocab at 0x3085df98>,\n",
       " '收藏': <gensim.models.keyedvectors.Vocab at 0x3085dfd0>,\n",
       " '物流': <gensim.models.keyedvectors.Vocab at 0x30860048>,\n",
       " '查询': <gensim.models.keyedvectors.Vocab at 0x30860080>,\n",
       " '旺旺': <gensim.models.keyedvectors.Vocab at 0x308600b8>,\n",
       " '入口': <gensim.models.keyedvectors.Vocab at 0x308600f0>,\n",
       " '乐': <gensim.models.keyedvectors.Vocab at 0x30860128>,\n",
       " '同步': <gensim.models.keyedvectors.Vocab at 0x30860160>,\n",
       " '全新': <gensim.models.keyedvectors.Vocab at 0x30860198>,\n",
       " '改版': <gensim.models.keyedvectors.Vocab at 0x308601d0>,\n",
       " '一个': <gensim.models.keyedvectors.Vocab at 0x30860208>,\n",
       " '云服务': <gensim.models.keyedvectors.Vocab at 0x30860240>,\n",
       " '私人': <gensim.models.keyedvectors.Vocab at 0x30860278>,\n",
       " '数据备份': <gensim.models.keyedvectors.Vocab at 0x308602b0>,\n",
       " '管理平台': <gensim.models.keyedvectors.Vocab at 0x308602e8>,\n",
       " '一键': <gensim.models.keyedvectors.Vocab at 0x30860320>,\n",
       " '备份': <gensim.models.keyedvectors.Vocab at 0x30860358>,\n",
       " '恢复': <gensim.models.keyedvectors.Vocab at 0x30860390>,\n",
       " '通讯录': <gensim.models.keyedvectors.Vocab at 0x308603c8>,\n",
       " '通话记录': <gensim.models.keyedvectors.Vocab at 0x30860400>,\n",
       " '照片': <gensim.models.keyedvectors.Vocab at 0x30860438>,\n",
       " '以后': <gensim.models.keyedvectors.Vocab at 0x30860470>,\n",
       " '不用': <gensim.models.keyedvectors.Vocab at 0x308604a8>,\n",
       " '担心': <gensim.models.keyedvectors.Vocab at 0x308604e0>,\n",
       " '遗失': <gensim.models.keyedvectors.Vocab at 0x30860518>,\n",
       " '数据安全': <gensim.models.keyedvectors.Vocab at 0x30860550>,\n",
       " '256': <gensim.models.keyedvectors.Vocab at 0x30860588>,\n",
       " '位': <gensim.models.keyedvectors.Vocab at 0x308605c0>,\n",
       " 'AES': <gensim.models.keyedvectors.Vocab at 0x308605f8>,\n",
       " 'SSL': <gensim.models.keyedvectors.Vocab at 0x30860630>,\n",
       " '加密': <gensim.models.keyedvectors.Vocab at 0x30860668>,\n",
       " '存储': <gensim.models.keyedvectors.Vocab at 0x308606a0>,\n",
       " '即使': <gensim.models.keyedvectors.Vocab at 0x308606d8>,\n",
       " '研发': <gensim.models.keyedvectors.Vocab at 0x30860710>,\n",
       " '人员': <gensim.models.keyedvectors.Vocab at 0x30860748>,\n",
       " '接触': <gensim.models.keyedvectors.Vocab at 0x30860780>,\n",
       " '带': <gensim.models.keyedvectors.Vocab at 0x308607b8>,\n",
       " '仪表盘': <gensim.models.keyedvectors.Vocab at 0x308607f0>,\n",
       " '首页': <gensim.models.keyedvectors.Vocab at 0x30860828>,\n",
       " '联系人': <gensim.models.keyedvectors.Vocab at 0x30860860>,\n",
       " '吗': <gensim.models.keyedvectors.Vocab at 0x30860898>,\n",
       " '还是': <gensim.models.keyedvectors.Vocab at 0x308608d0>,\n",
       " '没有': <gensim.models.keyedvectors.Vocab at 0x30860908>,\n",
       " '呢': <gensim.models.keyedvectors.Vocab at 0x30860940>,\n",
       " '一目了然': <gensim.models.keyedvectors.Vocab at 0x30860978>,\n",
       " '及时': <gensim.models.keyedvectors.Vocab at 0x308609b0>,\n",
       " '展示': <gensim.models.keyedvectors.Vocab at 0x308609e8>,\n",
       " '轻轻': <gensim.models.keyedvectors.Vocab at 0x30860a20>,\n",
       " '一点': <gensim.models.keyedvectors.Vocab at 0x30860a58>,\n",
       " '立即': <gensim.models.keyedvectors.Vocab at 0x30860a90>,\n",
       " '情况': <gensim.models.keyedvectors.Vocab at 0x30860ac8>,\n",
       " '条条': <gensim.models.keyedvectors.Vocab at 0x30860b00>,\n",
       " '清晰': <gensim.models.keyedvectors.Vocab at 0x30860b38>,\n",
       " '哪儿': <gensim.models.keyedvectors.Vocab at 0x30860b70>,\n",
       " '没': <gensim.models.keyedvectors.Vocab at 0x30860ba8>,\n",
       " '开始': <gensim.models.keyedvectors.Vocab at 0x30860be0>,\n",
       " '云盘': <gensim.models.keyedvectors.Vocab at 0x30860c18>,\n",
       " '这种': <gensim.models.keyedvectors.Vocab at 0x30860c50>,\n",
       " '历史': <gensim.models.keyedvectors.Vocab at 0x30860c88>,\n",
       " '页': <gensim.models.keyedvectors.Vocab at 0x30860cc0>,\n",
       " '里': <gensim.models.keyedvectors.Vocab at 0x30860cf8>,\n",
       " '占用': <gensim.models.keyedvectors.Vocab at 0x30860d30>,\n",
       " '大小': <gensim.models.keyedvectors.Vocab at 0x30860d68>,\n",
       " '清晰可见': <gensim.models.keyedvectors.Vocab at 0x30860da0>,\n",
       " '清新': <gensim.models.keyedvectors.Vocab at 0x30860dd8>,\n",
       " '页面': <gensim.models.keyedvectors.Vocab at 0x30860e10>,\n",
       " '只是': <gensim.models.keyedvectors.Vocab at 0x30860e48>,\n",
       " '同学': <gensim.models.keyedvectors.Vocab at 0x30860e80>,\n",
       " '给予': <gensim.models.keyedvectors.Vocab at 0x30860eb8>,\n",
       " '*': <gensim.models.keyedvectors.Vocab at 0x30860ef0>,\n",
       " '多': <gensim.models.keyedvectors.Vocab at 0x30860f28>,\n",
       " '评价': <gensim.models.keyedvectors.Vocab at 0x30860f60>,\n",
       " '觉得': <gensim.models.keyedvectors.Vocab at 0x30860f98>,\n",
       " '期待': <gensim.models.keyedvectors.Vocab at 0x30860fd0>,\n",
       " '除此之外': <gensim.models.keyedvectors.Vocab at 0x30863048>,\n",
       " '回收站': <gensim.models.keyedvectors.Vocab at 0x30863080>,\n",
       " '合并': <gensim.models.keyedvectors.Vocab at 0x308630b8>,\n",
       " '网站': <gensim.models.keyedvectors.Vocab at 0x308630f0>,\n",
       " '管理': <gensim.models.keyedvectors.Vocab at 0x30863128>,\n",
       " '随心所欲': <gensim.models.keyedvectors.Vocab at 0x30863160>,\n",
       " '努力': <gensim.models.keyedvectors.Vocab at 0x30863198>,\n",
       " '不够': <gensim.models.keyedvectors.Vocab at 0x308631d0>,\n",
       " '完美': <gensim.models.keyedvectors.Vocab at 0x30863208>,\n",
       " '意见': <gensim.models.keyedvectors.Vocab at 0x30863240>,\n",
       " '建议': <gensim.models.keyedvectors.Vocab at 0x30863278>,\n",
       " '随时': <gensim.models.keyedvectors.Vocab at 0x308632b0>,\n",
       " '邮箱': <gensim.models.keyedvectors.Vocab at 0x308632e8>,\n",
       " '@': <gensim.models.keyedvectors.Vocab at 0x30863320>,\n",
       " 'WiFi': <gensim.models.keyedvectors.Vocab at 0x30863358>,\n",
       " '热点': <gensim.models.keyedvectors.Vocab at 0x30863390>,\n",
       " '无忧': <gensim.models.keyedvectors.Vocab at 0x308633c8>,\n",
       " '连接': <gensim.models.keyedvectors.Vocab at 0x30863400>,\n",
       " '无论': <gensim.models.keyedvectors.Vocab at 0x30863438>,\n",
       " '身处': <gensim.models.keyedvectors.Vocab at 0x30863470>,\n",
       " '何地': <gensim.models.keyedvectors.Vocab at 0x308634a8>,\n",
       " '只要': <gensim.models.keyedvectors.Vocab at 0x308634e0>,\n",
       " '打开': <gensim.models.keyedvectors.Vocab at 0x30863518>,\n",
       " 'APP': <gensim.models.keyedvectors.Vocab at 0x30863550>,\n",
       " '放心': <gensim.models.keyedvectors.Vocab at 0x30863588>,\n",
       " '节省': <gensim.models.keyedvectors.Vocab at 0x308635c0>,\n",
       " '快人一步': <gensim.models.keyedvectors.Vocab at 0x308635f8>,\n",
       " '畅享': <gensim.models.keyedvectors.Vocab at 0x30863630>,\n",
       " '24小时': <gensim.models.keyedvectors.Vocab at 0x30863668>,\n",
       " '再也': <gensim.models.keyedvectors.Vocab at 0x308636a0>,\n",
       " '月底': <gensim.models.keyedvectors.Vocab at 0x308636d8>,\n",
       " '啦': <gensim.models.keyedvectors.Vocab at 0x30863710>,\n",
       " '秒速': <gensim.models.keyedvectors.Vocab at 0x30863748>,\n",
       " '发现': <gensim.models.keyedvectors.Vocab at 0x30863780>,\n",
       " '就是': <gensim.models.keyedvectors.Vocab at 0x308637b8>,\n",
       " '这么': <gensim.models.keyedvectors.Vocab at 0x308637f0>,\n",
       " '内置': <gensim.models.keyedvectors.Vocab at 0x30863828>,\n",
       " '中国移动': <gensim.models.keyedvectors.Vocab at 0x30863860>,\n",
       " 'CMCC': <gensim.models.keyedvectors.Vocab at 0x30863898>,\n",
       " '中国联通': <gensim.models.keyedvectors.Vocab at 0x308638d0>,\n",
       " '中国电信': <gensim.models.keyedvectors.Vocab at 0x30863908>,\n",
       " 'ChinaNet': <gensim.models.keyedvectors.Vocab at 0x30863940>,\n",
       " '方便': <gensim.models.keyedvectors.Vocab at 0x30863978>,\n",
       " '掌握': <gensim.models.keyedvectors.Vocab at 0x308639b0>,\n",
       " '网速': <gensim.models.keyedvectors.Vocab at 0x308639e8>,\n",
       " '测试': <gensim.models.keyedvectors.Vocab at 0x30863a20>,\n",
       " '信号': <gensim.models.keyedvectors.Vocab at 0x30863a58>,\n",
       " '好伴侣': <gensim.models.keyedvectors.Vocab at 0x30863a90>,\n",
       " '好': <gensim.models.keyedvectors.Vocab at 0x30863ac8>,\n",
       " '管家': <gensim.models.keyedvectors.Vocab at 0x30863b00>,\n",
       " '神器': <gensim.models.keyedvectors.Vocab at 0x30863b38>,\n",
       " '精彩': <gensim.models.keyedvectors.Vocab at 0x30863b70>,\n",
       " '找': <gensim.models.keyedvectors.Vocab at 0x30863ba8>,\n",
       " '工作': <gensim.models.keyedvectors.Vocab at 0x30863be0>,\n",
       " '直播': <gensim.models.keyedvectors.Vocab at 0x30863c18>,\n",
       " ',': <gensim.models.keyedvectors.Vocab at 0x30863c50>,\n",
       " '狼人': <gensim.models.keyedvectors.Vocab at 0x30863c88>,\n",
       " '杀': <gensim.models.keyedvectors.Vocab at 0x30863cc0>,\n",
       " '玩': <gensim.models.keyedvectors.Vocab at 0x30863cf8>,\n",
       " '头条': <gensim.models.keyedvectors.Vocab at 0x30863d30>,\n",
       " '共享单车': <gensim.models.keyedvectors.Vocab at 0x30863d68>,\n",
       " '精彩资讯': <gensim.models.keyedvectors.Vocab at 0x30863da0>,\n",
       " '等你': <gensim.models.keyedvectors.Vocab at 0x30863dd8>,\n",
       " '探索': <gensim.models.keyedvectors.Vocab at 0x30863e10>,\n",
       " '变': <gensim.models.keyedvectors.Vocab at 0x30863e48>,\n",
       " '；': <gensim.models.keyedvectors.Vocab at 0x30863e80>,\n",
       " '统计': <gensim.models.keyedvectors.Vocab at 0x30863eb8>,\n",
       " '贴心': <gensim.models.keyedvectors.Vocab at 0x30863ef0>,\n",
       " '敬请': <gensim.models.keyedvectors.Vocab at 0x30863f28>,\n",
       " '《': <gensim.models.keyedvectors.Vocab at 0x30863f60>,\n",
       " '》': <gensim.models.keyedvectors.Vocab at 0x30863f98>,\n",
       " '游戏': <gensim.models.keyedvectors.Vocab at 0x30863fd0>,\n",
       " '天下': <gensim.models.keyedvectors.Vocab at 0x30868048>,\n",
       " '出品': <gensim.models.keyedvectors.Vocab at 0x30868080>,\n",
       " '手机游戏': <gensim.models.keyedvectors.Vocab at 0x308680b8>,\n",
       " '分发': <gensim.models.keyedvectors.Vocab at 0x308680f0>,\n",
       " '各种各样': <gensim.models.keyedvectors.Vocab at 0x30868128>,\n",
       " '资源': <gensim.models.keyedvectors.Vocab at 0x30868160>,\n",
       " '优良': <gensim.models.keyedvectors.Vocab at 0x30868198>,\n",
       " '稳定性': <gensim.models.keyedvectors.Vocab at 0x308681d0>,\n",
       " '改进': <gensim.models.keyedvectors.Vocab at 0x30868208>,\n",
       " '修正': <gensim.models.keyedvectors.Vocab at 0x30868240>,\n",
       " '简介': <gensim.models.keyedvectors.Vocab at 0x30868278>,\n",
       " '魅族': <gensim.models.keyedvectors.Vocab at 0x308682b0>,\n",
       " '「': <gensim.models.keyedvectors.Vocab at 0x308682e8>,\n",
       " '查找手机': <gensim.models.keyedvectors.Vocab at 0x30868320>,\n",
       " '」': <gensim.models.keyedvectors.Vocab at 0x30868358>,\n",
       " '防盗': <gensim.models.keyedvectors.Vocab at 0x30868390>,\n",
       " '同名': <gensim.models.keyedvectors.Vocab at 0x308683c8>,\n",
       " '独立': <gensim.models.keyedvectors.Vocab at 0x30868400>,\n",
       " '主流': <gensim.models.keyedvectors.Vocab at 0x30868438>,\n",
       " '安卓': <gensim.models.keyedvectors.Vocab at 0x30868470>,\n",
       " '机型': <gensim.models.keyedvectors.Vocab at 0x308684a8>,\n",
       " '不慎': <gensim.models.keyedvectors.Vocab at 0x308684e0>,\n",
       " '时': <gensim.models.keyedvectors.Vocab at 0x30868518>,\n",
       " '客户端': <gensim.models.keyedvectors.Vocab at 0x30868550>,\n",
       " 'Flyme': <gensim.models.keyedvectors.Vocab at 0x30868588>,\n",
       " '模块': <gensim.models.keyedvectors.Vocab at 0x308685c0>,\n",
       " '进行': <gensim.models.keyedvectors.Vocab at 0x308685f8>,\n",
       " '挂失': <gensim.models.keyedvectors.Vocab at 0x30868630>,\n",
       " '定位': <gensim.models.keyedvectors.Vocab at 0x30868668>,\n",
       " '锁定': <gensim.models.keyedvectors.Vocab at 0x308686a0>,\n",
       " '拍照': <gensim.models.keyedvectors.Vocab at 0x308686d8>,\n",
       " '播放': <gensim.models.keyedvectors.Vocab at 0x30868710>,\n",
       " '警报': <gensim.models.keyedvectors.Vocab at 0x30868748>,\n",
       " '清空': <gensim.models.keyedvectors.Vocab at 0x30868780>,\n",
       " '保护': <gensim.models.keyedvectors.Vocab at 0x308687b8>,\n",
       " '信息安全': <gensim.models.keyedvectors.Vocab at 0x308687f0>,\n",
       " '找回手机': <gensim.models.keyedvectors.Vocab at 0x30868828>,\n",
       " '方式': <gensim.models.keyedvectors.Vocab at 0x30868860>,\n",
       " '确保': <gensim.models.keyedvectors.Vocab at 0x30868898>,\n",
       " '“': <gensim.models.keyedvectors.Vocab at 0x308688d0>,\n",
       " '账号': <gensim.models.keyedvectors.Vocab at 0x30868908>,\n",
       " '”': <gensim.models.keyedvectors.Vocab at 0x30868940>,\n",
       " '登录': <gensim.models.keyedvectors.Vocab at 0x30868978>,\n",
       " '同一': <gensim.models.keyedvectors.Vocab at 0x308689b0>,\n",
       " '账户': <gensim.models.keyedvectors.Vocab at 0x308689e8>,\n",
       " '远程': <gensim.models.keyedvectors.Vocab at 0x30868a20>,\n",
       " '官网': <gensim.models.keyedvectors.Vocab at 0x30868a58>,\n",
       " '相同': <gensim.models.keyedvectors.Vocab at 0x30868a90>,\n",
       " '精彩内容': <gensim.models.keyedvectors.Vocab at 0x30868ac8>,\n",
       " '现在': <gensim.models.keyedvectors.Vocab at 0x30868b00>,\n",
       " '就要': <gensim.models.keyedvectors.Vocab at 0x30868b38>,\n",
       " '电视剧': <gensim.models.keyedvectors.Vocab at 0x30868b70>,\n",
       " '大': <gensim.models.keyedvectors.Vocab at 0x30868ba8>,\n",
       " '集合': <gensim.models.keyedvectors.Vocab at 0x30868be0>,\n",
       " '大江': <gensim.models.keyedvectors.Vocab at 0x30868c18>,\n",
       " '大河': <gensim.models.keyedvectors.Vocab at 0x30868c50>,\n",
       " '火王': <gensim.models.keyedvectors.Vocab at 0x30868c88>,\n",
       " '之': <gensim.models.keyedvectors.Vocab at 0x30868cc0>,\n",
       " '大约': <gensim.models.keyedvectors.Vocab at 0x30868cf8>,\n",
       " '人': <gensim.models.keyedvectors.Vocab at 0x30868d30>,\n",
       " '少年': <gensim.models.keyedvectors.Vocab at 0x30868d68>,\n",
       " '…': <gensim.models.keyedvectors.Vocab at 0x30868da0>,\n",
       " '综艺': <gensim.models.keyedvectors.Vocab at 0x30868dd8>,\n",
       " '吐槽': <gensim.models.keyedvectors.Vocab at 0x30868e10>,\n",
       " '大会': <gensim.models.keyedvectors.Vocab at 0x30868e48>,\n",
       " '国家': <gensim.models.keyedvectors.Vocab at 0x30868e80>,\n",
       " '宝藏': <gensim.models.keyedvectors.Vocab at 0x30868eb8>,\n",
       " '一站': <gensim.models.keyedvectors.Vocab at 0x30868ef0>,\n",
       " '传奇': <gensim.models.keyedvectors.Vocab at 0x30868f28>,\n",
       " '亲爱': <gensim.models.keyedvectors.Vocab at 0x30868f60>,\n",
       " '客栈': <gensim.models.keyedvectors.Vocab at 0x30868f98>,\n",
       " '电影片': <gensim.models.keyedvectors.Vocab at 0x30868fd0>,\n",
       " '库': <gensim.models.keyedvectors.Vocab at 0x3086c048>,\n",
       " '影': <gensim.models.keyedvectors.Vocab at 0x3086c080>,\n",
       " '你好': <gensim.models.keyedvectors.Vocab at 0x3086c0b8>,\n",
       " '不是': <gensim.models.keyedvectors.Vocab at 0x3086c0f0>,\n",
       " '药神': <gensim.models.keyedvectors.Vocab at 0x3086c128>,\n",
       " '纪录片': <gensim.models.keyedvectors.Vocab at 0x3086c160>,\n",
       " '风味': <gensim.models.keyedvectors.Vocab at 0x3086c198>,\n",
       " '人间': <gensim.models.keyedvectors.Vocab at 0x3086c1d0>,\n",
       " '王朝': <gensim.models.keyedvectors.Vocab at 0x3086c208>,\n",
       " '身边': <gensim.models.keyedvectors.Vocab at 0x3086c240>,\n",
       " '40': <gensim.models.keyedvectors.Vocab at 0x3086c278>,\n",
       " '细节': <gensim.models.keyedvectors.Vocab at 0x3086c2b0>,\n",
       " '美剧': <gensim.models.keyedvectors.Vocab at 0x3086c2e8>,\n",
       " '西部': <gensim.models.keyedvectors.Vocab at 0x3086c320>,\n",
       " '第二季': <gensim.models.keyedvectors.Vocab at 0x3086c358>,\n",
       " '权力': <gensim.models.keyedvectors.Vocab at 0x3086c390>,\n",
       " '泰剧': <gensim.models.keyedvectors.Vocab at 0x3086c3c8>,\n",
       " '公主': <gensim.models.keyedvectors.Vocab at 0x3086c400>,\n",
       " '热播': <gensim.models.keyedvectors.Vocab at 0x3086c438>,\n",
       " '国漫': <gensim.models.keyedvectors.Vocab at 0x3086c470>,\n",
       " '斗罗': <gensim.models.keyedvectors.Vocab at 0x3086c4a8>,\n",
       " '大陆': <gensim.models.keyedvectors.Vocab at 0x3086c4e0>,\n",
       " '星辰': <gensim.models.keyedvectors.Vocab at 0x3086c518>,\n",
       " '雪鹰领主': <gensim.models.keyedvectors.Vocab at 0x3086c550>,\n",
       " '音乐': <gensim.models.keyedvectors.Vocab at 0x3086c588>,\n",
       " '2018': <gensim.models.keyedvectors.Vocab at 0x3086c5c0>,\n",
       " '对抗': <gensim.models.keyedvectors.Vocab at 0x3086c5f8>,\n",
       " '意见反馈': <gensim.models.keyedvectors.Vocab at 0x3086c630>,\n",
       " '如遇': <gensim.models.keyedvectors.Vocab at 0x3086c668>,\n",
       " '欢迎': <gensim.models.keyedvectors.Vocab at 0x3086c6a0>,\n",
       " '加入': <gensim.models.keyedvectors.Vocab at 0x3086c6d8>,\n",
       " '交流': <gensim.models.keyedvectors.Vocab at 0x3086c710>,\n",
       " '便签': <gensim.models.keyedvectors.Vocab at 0x3086c748>,\n",
       " '用于': <gensim.models.keyedvectors.Vocab at 0x3086c780>,\n",
       " '记录': <gensim.models.keyedvectors.Vocab at 0x3086c7b8>,\n",
       " '点点滴滴': <gensim.models.keyedvectors.Vocab at 0x3086c7f0>,\n",
       " '如下': <gensim.models.keyedvectors.Vocab at 0x3086c828>,\n",
       " '优点': <gensim.models.keyedvectors.Vocab at 0x3086c860>,\n",
       " '纯': <gensim.models.keyedvectors.Vocab at 0x3086c898>,\n",
       " '本地': <gensim.models.keyedvectors.Vocab at 0x3086c8d0>,\n",
       " '零': <gensim.models.keyedvectors.Vocab at 0x3086c908>,\n",
       " '无广告': <gensim.models.keyedvectors.Vocab at 0x3086c940>,\n",
       " '弹窗': <gensim.models.keyedvectors.Vocab at 0x3086c978>,\n",
       " ';': <gensim.models.keyedvectors.Vocab at 0x3086c9b0>,\n",
       " '全局': <gensim.models.keyedvectors.Vocab at 0x3086c9e8>,\n",
       " '夹': <gensim.models.keyedvectors.Vocab at 0x3086ca20>,\n",
       " '还原': <gensim.models.keyedvectors.Vocab at 0x3086ca58>,\n",
       " '多功能': <gensim.models.keyedvectors.Vocab at 0x3086ca90>,\n",
       " '且': <gensim.models.keyedvectors.Vocab at 0x3086cac8>,\n",
       " '高德地图': <gensim.models.keyedvectors.Vocab at 0x3086cb00>,\n",
       " '地图': <gensim.models.keyedvectors.Vocab at 0x3086cb38>,\n",
       " '正在': <gensim.models.keyedvectors.Vocab at 0x3086cb70>,\n",
       " '专注': <gensim.models.keyedvectors.Vocab at 0x3086cba8>,\n",
       " '导航': <gensim.models.keyedvectors.Vocab at 0x3086cbe0>,\n",
       " '位置服务': <gensim.models.keyedvectors.Vocab at 0x3086cc18>,\n",
       " '解决方案': <gensim.models.keyedvectors.Vocab at 0x3086cc50>,\n",
       " '特色': <gensim.models.keyedvectors.Vocab at 0x3086cc88>,\n",
       " '路线': <gensim.models.keyedvectors.Vocab at 0x3086ccc0>,\n",
       " '规划': <gensim.models.keyedvectors.Vocab at 0x3086ccf8>,\n",
       " '耗电': <gensim.models.keyedvectors.Vocab at 0x3086cd30>,\n",
       " '低': <gensim.models.keyedvectors.Vocab at 0x3086cd68>,\n",
       " '语音搜索': <gensim.models.keyedvectors.Vocab at 0x3086cda0>,\n",
       " '超强': <gensim.models.keyedvectors.Vocab at 0x3086cdd8>,\n",
       " '公交': <gensim.models.keyedvectors.Vocab at 0x3086ce10>,\n",
       " '唾手可得': <gensim.models.keyedvectors.Vocab at 0x3086ce48>,\n",
       " '步行': <gensim.models.keyedvectors.Vocab at 0x3086ce80>,\n",
       " '室内': <gensim.models.keyedvectors.Vocab at 0x3086ceb8>,\n",
       " '室外': <gensim.models.keyedvectors.Vocab at 0x3086cef0>,\n",
       " '全程': <gensim.models.keyedvectors.Vocab at 0x3086cf28>,\n",
       " '直达': <gensim.models.keyedvectors.Vocab at 0x3086cf60>,\n",
       " '目的地': <gensim.models.keyedvectors.Vocab at 0x3086cf98>,\n",
       " '驾车': <gensim.models.keyedvectors.Vocab at 0x3086cfd0>,\n",
       " '路况': <gensim.models.keyedvectors.Vocab at 0x3086e048>,\n",
       " '躲避': <gensim.models.keyedvectors.Vocab at 0x3086e080>,\n",
       " '拥堵': <gensim.models.keyedvectors.Vocab at 0x3086e0b8>,\n",
       " '站': <gensim.models.keyedvectors.Vocab at 0x3086e0f0>,\n",
       " '换乘': <gensim.models.keyedvectors.Vocab at 0x3086e128>,\n",
       " '绿色': <gensim.models.keyedvectors.Vocab at 0x3086e160>,\n",
       " '省时省力': <gensim.models.keyedvectors.Vocab at 0x3086e198>,\n",
       " '女神': <gensim.models.keyedvectors.Vocab at 0x3086e1d0>,\n",
       " '深耕': <gensim.models.keyedvectors.Vocab at 0x3086e208>,\n",
       " '领域': <gensim.models.keyedvectors.Vocab at 0x3086e240>,\n",
       " '多年': <gensim.models.keyedvectors.Vocab at 0x3086e278>,\n",
       " '保障': <gensim.models.keyedvectors.Vocab at 0x3086e2b0>,\n",
       " '道路': <gensim.models.keyedvectors.Vocab at 0x3086e2e8>,\n",
       " '高': <gensim.models.keyedvectors.Vocab at 0x3086e320>,\n",
       " '准确率': <gensim.models.keyedvectors.Vocab at 0x3086e358>,\n",
       " '业内': <gensim.models.keyedvectors.Vocab at 0x3086e390>,\n",
       " '好评': <gensim.models.keyedvectors.Vocab at 0x3086e3c8>,\n",
       " '全国': <gensim.models.keyedvectors.Vocab at 0x3086e400>,\n",
       " '各': <gensim.models.keyedvectors.Vocab at 0x3086e438>,\n",
       " '城市': <gensim.models.keyedvectors.Vocab at 0x3086e470>,\n",
       " '离线地图': <gensim.models.keyedvectors.Vocab at 0x3086e4a8>,\n",
       " '离线': <gensim.models.keyedvectors.Vocab at 0x3086e4e0>,\n",
       " '数据包': <gensim.models.keyedvectors.Vocab at 0x3086e518>,\n",
       " '供': <gensim.models.keyedvectors.Vocab at 0x3086e550>,\n",
       " '准确': <gensim.models.keyedvectors.Vocab at 0x3086e588>,\n",
       " '同时': <gensim.models.keyedvectors.Vocab at 0x3086e5c0>,\n",
       " '板块': <gensim.models.keyedvectors.Vocab at 0x3086e5f8>,\n",
       " '逛遍': <gensim.models.keyedvectors.Vocab at 0x3086e630>,\n",
       " '好去处': <gensim.models.keyedvectors.Vocab at 0x3086e668>,\n",
       " '买单': <gensim.models.keyedvectors.Vocab at 0x3086e6a0>,\n",
       " '付款': <gensim.models.keyedvectors.Vocab at 0x3086e6d8>,\n",
       " '感谢您': <gensim.models.keyedvectors.Vocab at 0x3086e710>,\n",
       " '中有': <gensim.models.keyedvectors.Vocab at 0x3086e748>,\n",
       " '直接': <gensim.models.keyedvectors.Vocab at 0x3086e780>,\n",
       " '第一': <gensim.models.keyedvectors.Vocab at 0x3086e7b8>,\n",
       " '内': <gensim.models.keyedvectors.Vocab at 0x3086e7f0>,\n",
       " '处理': <gensim.models.keyedvectors.Vocab at 0x3086e828>,\n",
       " '新浪微博': <gensim.models.keyedvectors.Vocab at 0x3086e860>,\n",
       " '400': <gensim.models.keyedvectors.Vocab at 0x3086e898>,\n",
       " '810': <gensim.models.keyedvectors.Vocab at 0x3086e8d0>,\n",
       " '海量': <gensim.models.keyedvectors.Vocab at 0x3086e908>,\n",
       " '抢先': <gensim.models.keyedvectors.Vocab at 0x3086e940>,\n",
       " '知否': <gensim.models.keyedvectors.Vocab at 0x3086e978>,\n",
       " '应': <gensim.models.keyedvectors.Vocab at 0x3086e9b0>,\n",
       " '绿肥红瘦': <gensim.models.keyedvectors.Vocab at 0x3086e9e8>,\n",
       " '赵丽颖': <gensim.models.keyedvectors.Vocab at 0x3086ea20>,\n",
       " '冯绍峰': <gensim.models.keyedvectors.Vocab at 0x3086ea58>,\n",
       " '甜蜜': <gensim.models.keyedvectors.Vocab at 0x3086ea90>,\n",
       " '来袭': <gensim.models.keyedvectors.Vocab at 0x3086eac8>,\n",
       " '虐恋': <gensim.models.keyedvectors.Vocab at 0x3086eb00>,\n",
       " '心疼': <gensim.models.keyedvectors.Vocab at 0x3086eb38>,\n",
       " '演员': <gensim.models.keyedvectors.Vocab at 0x3086eb70>,\n",
       " ...}"
      ]
     },
     "execution_count": 239,
     "metadata": {},
     "output_type": "execute_result"
    }
   ],
   "source": [
    "model.wv.vocab"
   ]
  },
  {
   "cell_type": "code",
   "execution_count": 236,
   "metadata": {
    "ExecuteTime": {
     "end_time": "2019-01-14T08:48:27.115118Z",
     "start_time": "2019-01-14T08:48:27.102118Z"
    }
   },
   "outputs": [
    {
     "name": "stdout",
     "output_type": "stream",
     "text": [
      "23655\n"
     ]
    }
   ],
   "source": [
    "#model.save('review_pure_text_model.txt')\n",
    "print(len(model.docvecs))"
   ]
  },
  {
   "cell_type": "code",
   "execution_count": 138,
   "metadata": {
    "ExecuteTime": {
     "end_time": "2019-01-14T08:04:03.688618Z",
     "start_time": "2019-01-14T08:04:03.115618Z"
    }
   },
   "outputs": [],
   "source": [
    "# 保存文档向量\n",
    "# save vectors\n",
    "with open(\"doc_vector.txt\",\"w\") as f:\n",
    "    for num in range(0,len(model.docvecs)):\n",
    "        docvec =model.docvecs[num]\n",
    "        strvec = ' '.join([str(x) for x in docvec])\n",
    "        f.write(strvec + '\\n')"
   ]
  },
  {
   "cell_type": "code",
   "execution_count": 140,
   "metadata": {
    "ExecuteTime": {
     "end_time": "2019-01-14T08:04:08.215618Z",
     "start_time": "2019-01-14T08:04:08.202618Z"
    }
   },
   "outputs": [
    {
     "data": {
      "text/plain": [
       "0        融360\n",
       "1          微信\n",
       "2          设置\n",
       "3         支付宝\n",
       "4          信息\n",
       "5          QQ\n",
       "6         指南针\n",
       "7        手机淘宝\n",
       "8         云服务\n",
       "9    WiFi万能钥匙\n",
       "Name: app_name, dtype: object"
      ]
     },
     "execution_count": 140,
     "metadata": {},
     "output_type": "execute_result"
    }
   ],
   "source": [
    "dfapp['app_name'].head(10)"
   ]
  },
  {
   "cell_type": "code",
   "execution_count": 141,
   "metadata": {
    "ExecuteTime": {
     "end_time": "2019-01-14T08:04:10.588118Z",
     "start_time": "2019-01-14T08:04:10.564618Z"
    }
   },
   "outputs": [
    {
     "name": "stderr",
     "output_type": "stream",
     "text": [
      "2019-01-14 16:04:10,567 : INFO : precomputing L2-norms of word weight vectors\n"
     ]
    },
    {
     "data": {
      "text/plain": [
       "[('金服', 0.8884478807449341),\n",
       " ('苏宁', 0.8769680261611938),\n",
       " ('亲亲', 0.8668301105499268),\n",
       " ('我来贷', 0.8627084493637085),\n",
       " ('兴业银行', 0.8612933158874512),\n",
       " ('小说网', 0.8539562225341797),\n",
       " ('融360', 0.8534164428710938),\n",
       " ('平安', 0.8503285050392151),\n",
       " ('中信银行', 0.848244845867157),\n",
       " ('宜人', 0.8451166749000549)]"
      ]
     },
     "execution_count": 141,
     "metadata": {},
     "output_type": "execute_result"
    }
   ],
   "source": [
    "# 能够获取wordvec信息\n",
    "model.wv.similar_by_word('蚂蚁')"
   ]
  },
  {
   "cell_type": "code",
   "execution_count": 142,
   "metadata": {
    "ExecuteTime": {
     "end_time": "2019-01-14T08:04:29.161618Z",
     "start_time": "2019-01-14T08:04:29.151118Z"
    }
   },
   "outputs": [
    {
     "data": {
      "text/plain": [
       "[('互联网', 0.8961374759674072),\n",
       " ('金融公司', 0.8875133395195007),\n",
       " ('金融服务', 0.8836145997047424),\n",
       " ('电商', 0.8568190336227417),\n",
       " ('供应链', 0.8504671454429626),\n",
       " ('服务商', 0.8414190411567688),\n",
       " ('综合', 0.8371357917785645),\n",
       " ('运营', 0.8332608342170715),\n",
       " ('金融信息', 0.8317973613739014),\n",
       " ('创新型', 0.8296557068824768)]"
      ]
     },
     "execution_count": 142,
     "metadata": {},
     "output_type": "execute_result"
    }
   ],
   "source": [
    "# \n",
    "model.wv.most_similar('金融')"
   ]
  },
  {
   "cell_type": "code",
   "execution_count": 143,
   "metadata": {
    "ExecuteTime": {
     "end_time": "2019-01-14T08:04:34.027618Z",
     "start_time": "2019-01-14T08:04:34.012618Z"
    }
   },
   "outputs": [
    {
     "data": {
      "text/plain": [
       "0.5296482"
      ]
     },
     "execution_count": 143,
     "metadata": {},
     "output_type": "execute_result"
    }
   ],
   "source": [
    "model.wv.similarity('闪电', '快捷')"
   ]
  },
  {
   "cell_type": "code",
   "execution_count": 144,
   "metadata": {
    "ExecuteTime": {
     "end_time": "2019-01-14T08:04:36.097618Z",
     "start_time": "2019-01-14T08:04:36.090118Z"
    }
   },
   "outputs": [
    {
     "data": {
      "text/plain": [
       "array([ 0.26246032,  0.25317916,  0.10804079, -0.28541595, -0.03877484,\n",
       "       -0.17073359,  0.06715155,  0.10488174,  0.45085293, -0.04337186,\n",
       "        0.20255078,  0.02666478, -0.35303056, -0.00325981,  0.13049288,\n",
       "       -0.3592315 , -0.11136763,  0.10300702,  0.22605814, -0.23496947],\n",
       "      dtype=float32)"
      ]
     },
     "execution_count": 144,
     "metadata": {},
     "output_type": "execute_result"
    }
   ],
   "source": [
    "# 获取docvec信息\n",
    "model.docvecs[1]"
   ]
  },
  {
   "cell_type": "code",
   "execution_count": 145,
   "metadata": {
    "ExecuteTime": {
     "end_time": "2019-01-14T08:04:39.015618Z",
     "start_time": "2019-01-14T08:04:39.004118Z"
    }
   },
   "outputs": [
    {
     "data": {
      "text/plain": [
       "'1 . 可以 发 语音 、 文字 消息 、 表情 、 图片 、 视频 30M 流量 可以 收发 上 千条 语音 ， 省电省 流量 2 . 朋友圈 ， 跟 朋友 们 分享 生活 点滴 3 . 摇一摇 、 查看 附近的人 ， 世界 不再 有 陌生人 4 . 扫一扫 ， 可以 扫 商品 条码 、 图书 封面 、 CD 封面 ， 甚至 扫描 英文单词 来 翻译成 中文 5 . 公众 帐号 ， 用 微信 关注 明星 、 看 新闻 、 设 提醒 6 . 游戏中心 ， 和 朋友 们 一起 玩游戏 7 . 表情 商店 ， 有趣 好玩 的 表情 在 这里 特别 说明 ： 微信 只 消耗 网络流量 ， 不 产生 短信 电话 费用'"
      ]
     },
     "execution_count": 145,
     "metadata": {},
     "output_type": "execute_result"
    }
   ],
   "source": [
    "alldocs[1].words"
   ]
  },
  {
   "cell_type": "code",
   "execution_count": 161,
   "metadata": {
    "ExecuteTime": {
     "end_time": "2019-01-14T08:08:04.034618Z",
     "start_time": "2019-01-14T08:08:04.015118Z"
    }
   },
   "outputs": [
    {
     "name": "stdout",
     "output_type": "stream",
     "text": [
      "Doc2Vec(dm/m,d20,n5,w3,mc5,s0.001,t3):\n",
      " [(17043, 0.8203989863395691), (10917, 0.7990165948867798), (16571, 0.7887634038925171), (8152, 0.7831325531005859), (3550, 0.7769162058830261), (13602, 0.7696261405944824), (6090, 0.7670239806175232), (9233, 0.765042781829834), (18120, 0.7551760673522949), (9855, 0.750206708908081)]\n"
     ]
    }
   ],
   "source": [
    "# 计算新文档的向量\n",
    "inferred_docvec = model.infer_vector(alldocs[1].words)\n",
    "print('%s:\\n %s' % (model, model.docvecs.most_similar([inferred_docvec], topn=10)))"
   ]
  },
  {
   "cell_type": "code",
   "execution_count": 147,
   "metadata": {
    "ExecuteTime": {
     "end_time": "2019-01-14T08:04:45.850618Z",
     "start_time": "2019-01-14T08:04:45.842618Z"
    }
   },
   "outputs": [
    {
     "data": {
      "text/plain": [
       "[(18808, 0.8535903096199036),\n",
       " (11547, 0.8345423936843872),\n",
       " (11367, 0.7948375940322876),\n",
       " (4428, 0.7887148261070251),\n",
       " (15580, 0.786209225654602),\n",
       " (13601, 0.768325686454773),\n",
       " (11214, 0.7595034241676331),\n",
       " (7430, 0.7570552229881287),\n",
       " (21464, 0.7564826011657715),\n",
       " (47, 0.7517760992050171)]"
      ]
     },
     "execution_count": 147,
     "metadata": {},
     "output_type": "execute_result"
    }
   ],
   "source": [
    "# 计算与第1篇文档最相似的文档\n",
    "model.docvecs.most_similar(1,topn=10)"
   ]
  },
  {
   "cell_type": "code",
   "execution_count": 114,
   "metadata": {
    "ExecuteTime": {
     "end_time": "2019-01-14T07:47:08.116618Z",
     "start_time": "2019-01-14T07:47:08.096618Z"
    }
   },
   "outputs": [
    {
     "data": {
      "text/plain": [
       "'1.可以发语音、文字消息、表情、图片、视频30M流量可以收发上千条语音，省电省流量2.朋友圈，跟朋友们分享生活点滴3.摇一摇、查看附近的人，世界不再有陌生人4.扫一扫，可以扫商品条码、图书封面、CD封面，甚至扫描英文单词来翻译成中文5.公众帐号，用微信关注明星、看新闻、设提醒6.游戏中心，和朋友们一起玩游戏7.表情商店，有趣好玩的表情在这里特别说明：微信只消耗网络流量，不产生短信电话费用'"
      ]
     },
     "execution_count": 114,
     "metadata": {},
     "output_type": "execute_result"
    }
   ],
   "source": [
    "dfapp.loc[1,'app_info']"
   ]
  },
  {
   "cell_type": "code",
   "execution_count": 116,
   "metadata": {
    "ExecuteTime": {
     "end_time": "2019-01-14T07:47:51.487618Z",
     "start_time": "2019-01-14T07:47:51.475118Z"
    }
   },
   "outputs": [
    {
     "data": {
      "text/plain": [
       "'Coolhear 3D是一款能够带给您全新3D体验的音乐播放器！360度全范围任意3D编曲，3D音乐与身体实时互动，奇幻的3D世界近在耳边！不同场景内容，午休、运动、旅行、夜店、学习、趣味、自然。。。有你想不到，木有你不需要！更多玩法，更多惊喜，等待您来体验！'"
      ]
     },
     "execution_count": 116,
     "metadata": {},
     "output_type": "execute_result"
    }
   ],
   "source": [
    "dfapp.loc[11547,'app_info']"
   ]
  },
  {
   "cell_type": "code",
   "execution_count": 151,
   "metadata": {
    "ExecuteTime": {
     "end_time": "2019-01-14T08:06:07.275618Z",
     "start_time": "2019-01-14T08:06:07.265118Z"
    }
   },
   "outputs": [
    {
     "data": {
      "text/plain": [
       "'招联金融APP5.0，与你为5 一起体验智能无息时代招联金融——信用贷款免息分期借钱：在线申请！1分钟放款！额度高达20万！日利率低至0.029%！【平台介绍】招联金融：由招商银行与中国联通共同组建，银监会消费金融持牌机构。为您提供银行级安全、专业、智能、便捷的现金借贷、分期消费、免息购物服务。【产品简介】● 现金借贷：即“招联好期贷”2.0，为您提供专业的贷款服务超低利率，按日计息，随借随还，智能匹配最高额度新用户50000元免息借、提额、办理信用卡、线下分期消费● 免息商城：使用招联金融信用额度，先消费、后还款全场0首付免息，5折包邮，千家品牌直供，更有天天秒杀、0元试用、1元拼精品好物等你来抢● 精选首页：每日为您选择最适合您的内容和功能瓜分1亿元减息金、还款随机立减最高88元、12期免息购物、专享每周提额、会员专属福利社、天天领现金、1元秒杀精选商品等APP专属特权及活动邀你来参与'"
      ]
     },
     "execution_count": 151,
     "metadata": {},
     "output_type": "execute_result"
    }
   ],
   "source": [
    "dfapp.loc[112,'app_info']"
   ]
  },
  {
   "cell_type": "code",
   "execution_count": 175,
   "metadata": {
    "ExecuteTime": {
     "end_time": "2019-01-14T08:12:44.906618Z",
     "start_time": "2019-01-14T08:12:44.890118Z"
    }
   },
   "outputs": [
    {
     "data": {
      "text/plain": [
       "0.47017232"
      ]
     },
     "execution_count": 175,
     "metadata": {},
     "output_type": "execute_result"
    }
   ],
   "source": [
    "# 计算2篇文档的相似度\n",
    "\n",
    "#微信和QQ的相似度\n",
    "model.docvecs.similarity(1,5)"
   ]
  },
  {
   "cell_type": "code",
   "execution_count": 174,
   "metadata": {
    "ExecuteTime": {
     "end_time": "2019-01-14T08:12:27.429118Z",
     "start_time": "2019-01-14T08:12:27.416118Z"
    }
   },
   "outputs": [
    {
     "data": {
      "text/plain": [
       "0.3176023"
      ]
     },
     "execution_count": 174,
     "metadata": {},
     "output_type": "execute_result"
    }
   ],
   "source": [
    "#微信和支付宝相似度\n",
    "model.docvecs.similarity(1,3)"
   ]
  },
  {
   "cell_type": "code",
   "execution_count": 214,
   "metadata": {
    "ExecuteTime": {
     "end_time": "2019-01-14T08:39:07.783618Z",
     "start_time": "2019-01-14T08:39:07.769618Z"
    }
   },
   "outputs": [
    {
     "data": {
      "text/plain": [
       "TaggedDocument(words='融360   — —   您 随身 的 金融 专家 为什么 要 使用 【 融360 】 ？ 下述 内容 不 吹牛 。 1 .   解决 【 贷款 】 难题 特点 ： -   全面解决 ： 个人消费 贷 、 企业 经营 贷 、 车房 装修 贷 、 出行 旅游 贷 、 学习 进修 贷 。 -   放款 效率 ： 仅 需 一天 即可 放款 。 -   利率 优势 ： 年化 费率 低至 6% ， 还款 期限 3 个 月 起 。 -   服务 优质 ： 我们 深知 您 的 难 和 急 ， 暖心 的 服务 是 我们 理应 为 您 真情 奉献 的 。 2 .   全面 的 【 信用卡 资讯 】 特点 ： -   优惠 资讯 ： 各行 信用卡 优惠 资讯 实时 提供 ， 吃喝玩乐 省 不停 。 -   信用卡 论坛 ： 信用卡 达人 和 小白 都 爱 逛得 专属 论坛 。 3 .   提供 【 金融信息 】 大全 特点 ： -   金融信息 ： 涵盖 各种 办卡 技巧 、 贷款 技巧 、 经济 政策 、 金融 趣谈 。 融360 公司 介绍 融360 ， 成立 于 2011 年 10 月 ， 是 中国 值得 信赖 的 金融 垂直 搜索 平台 。 融360 致力于 为 个人 消费者 和 微小 企业 提供 金融 产品 的 搜索 、 推荐 和 申请 服务 ， 业务范围 涵盖 贷款 、 信用卡 。 此外 ， 融360 还 免费 为 用户 提供 便捷 、 划算 、 安全 的 金融信息 。 融360 目前 已 完成 D 轮 融资 ， 估值 超 10 亿美元 ， 步入 独角兽 俱乐部 。 融360 旗下 简普 科技 2017 年 11 月 在 美国 纽交所 上市 。 联系 我们   — — 【 官方网站 】 http : / / m . rong360 . com 【 官方 微信 公众 号 】 融360 【 客服 电话 】 1010 0360 或 4008 - 905 - 360', tags=0)"
      ]
     },
     "execution_count": 214,
     "metadata": {},
     "output_type": "execute_result"
    }
   ],
   "source": [
    "alldocs[0]"
   ]
  },
  {
   "cell_type": "code",
   "execution_count": null,
   "metadata": {},
   "outputs": [],
   "source": []
  },
  {
   "cell_type": "markdown",
   "metadata": {},
   "source": [
    "#### 加入监督tag示范"
   ]
  },
  {
   "cell_type": "code",
   "execution_count": 176,
   "metadata": {
    "ExecuteTime": {
     "end_time": "2019-01-14T08:14:40.933118Z",
     "start_time": "2019-01-14T08:14:40.926118Z"
    }
   },
   "outputs": [],
   "source": [
    "import gensim, logging\n",
    "import os\n",
    "logging.basicConfig(format = '%(asctime)s : %(levelname)s : %(message)s', level = logging.INFO)"
   ]
  },
  {
   "cell_type": "code",
   "execution_count": 177,
   "metadata": {
    "ExecuteTime": {
     "end_time": "2019-01-14T08:15:16.275618Z",
     "start_time": "2019-01-14T08:14:49.184618Z"
    }
   },
   "outputs": [],
   "source": [
    "import jieba\n",
    "import numpy as np \n",
    "import pandas as pd \n",
    "\n",
    "dfapp = pd.read_csv('zz_apps_info_22k',sep = '\\001',encoding = 'utf-8')\n",
    "app_name = dfapp['app_name'].values.tolist()\n",
    "\n",
    "jieba.load_userdict(app_name)\n",
    "\n",
    "app_info = dfapp['app_info'].values.tolist()\n",
    "#app_info_segs = [jieba.lcut(x) for x in app_info]\n",
    "\n",
    "alldocs,count = [],0\n",
    "\n",
    "with open('cutted_app_info.txt','w',encoding = 'utf-8') as f:\n",
    "    for info in app_info:\n",
    "        segs = ' '.join(jieba.lcut(info))\n",
    "        f.write(segs + '\\n')        \n",
    "        alldocs.append(gensim.models.doc2vec.TaggedDocument(segs,count)) # for the sake of check, can be removed\n",
    "        count+=1 # for the sake of check, can be removed"
   ]
  },
  {
   "cell_type": "code",
   "execution_count": 178,
   "metadata": {
    "ExecuteTime": {
     "end_time": "2019-01-14T08:15:37.742118Z",
     "start_time": "2019-01-14T08:15:37.726618Z"
    }
   },
   "outputs": [],
   "source": [
    "from gensim.models.doc2vec import Doc2Vec,LabeledSentence\n",
    "sentences = (LabeledSentence(words=[jieba.lcut(dfapp['app_info'][i])], \n",
    "                             tags=[dfapp['app_cate'][i]]) for i in range(len(dfapp)))"
   ]
  },
  {
   "cell_type": "code",
   "execution_count": 215,
   "metadata": {
    "ExecuteTime": {
     "end_time": "2019-01-14T08:39:21.815618Z",
     "start_time": "2019-01-14T08:39:21.795118Z"
    }
   },
   "outputs": [
    {
     "data": {
      "text/plain": [
       "TaggedDocument(words='融360   — —   您 随身 的 金融 专家 为什么 要 使用 【 融360 】 ？ 下述 内容 不 吹牛 。 1 .   解决 【 贷款 】 难题 特点 ： -   全面解决 ： 个人消费 贷 、 企业 经营 贷 、 车房 装修 贷 、 出行 旅游 贷 、 学习 进修 贷 。 -   放款 效率 ： 仅 需 一天 即可 放款 。 -   利率 优势 ： 年化 费率 低至 6% ， 还款 期限 3 个 月 起 。 -   服务 优质 ： 我们 深知 您 的 难 和 急 ， 暖心 的 服务 是 我们 理应 为 您 真情 奉献 的 。 2 .   全面 的 【 信用卡 资讯 】 特点 ： -   优惠 资讯 ： 各行 信用卡 优惠 资讯 实时 提供 ， 吃喝玩乐 省 不停 。 -   信用卡 论坛 ： 信用卡 达人 和 小白 都 爱 逛得 专属 论坛 。 3 .   提供 【 金融信息 】 大全 特点 ： -   金融信息 ： 涵盖 各种 办卡 技巧 、 贷款 技巧 、 经济 政策 、 金融 趣谈 。 融360 公司 介绍 融360 ， 成立 于 2011 年 10 月 ， 是 中国 值得 信赖 的 金融 垂直 搜索 平台 。 融360 致力于 为 个人 消费者 和 微小 企业 提供 金融 产品 的 搜索 、 推荐 和 申请 服务 ， 业务范围 涵盖 贷款 、 信用卡 。 此外 ， 融360 还 免费 为 用户 提供 便捷 、 划算 、 安全 的 金融信息 。 融360 目前 已 完成 D 轮 融资 ， 估值 超 10 亿美元 ， 步入 独角兽 俱乐部 。 融360 旗下 简普 科技 2017 年 11 月 在 美国 纽交所 上市 。 联系 我们   — — 【 官方网站 】 http : / / m . rong360 . com 【 官方 微信 公众 号 】 融360 【 客服 电话 】 1010 0360 或 4008 - 905 - 360', tags=['理财'])"
      ]
     },
     "execution_count": 215,
     "metadata": {},
     "output_type": "execute_result"
    }
   ],
   "source": [
    "sentences[0]"
   ]
  },
  {
   "cell_type": "code",
   "execution_count": null,
   "metadata": {},
   "outputs": [],
   "source": [
    "TaggedDocument"
   ]
  },
  {
   "cell_type": "code",
   "execution_count": 242,
   "metadata": {
    "ExecuteTime": {
     "end_time": "2019-01-14T08:52:42.922618Z",
     "start_time": "2019-01-14T08:51:52.670618Z"
    }
   },
   "outputs": [
    {
     "name": "stderr",
     "output_type": "stream",
     "text": [
      "2019-01-14 16:52:20,107 : WARNING : consider setting layer size to a multiple of 4 for greater performance\n",
      "2019-01-14 16:52:20,109 : INFO : collecting all words and their counts\n",
      "2019-01-14 16:52:20,109 : INFO : PROGRESS: at example #0, processed 0 words (0/s), 0 word types, 0 tags\n",
      "2019-01-14 16:52:20,453 : INFO : PROGRESS: at example #10000, processed 1642206 words (4827400/s), 71861 word types, 29 tags\n",
      "2019-01-14 16:52:20,805 : INFO : PROGRESS: at example #20000, processed 3142663 words (4279008/s), 110304 word types, 30 tags\n",
      "2019-01-14 16:52:20,891 : INFO : collected 117182 word types and 30 unique tags from a corpus of 22262 examples and 3452337 words\n",
      "2019-01-14 16:52:20,892 : INFO : Loading a fresh vocabulary\n",
      "2019-01-14 16:52:21,519 : INFO : effective_min_count=1 retains 117182 unique words (100% of original 117182, drops 0)\n",
      "2019-01-14 16:52:21,520 : INFO : effective_min_count=1 leaves 3452337 word corpus (100% of original 3452337, drops 0)\n",
      "2019-01-14 16:52:21,928 : INFO : deleting the raw counts dictionary of 117182 items\n",
      "2019-01-14 16:52:21,931 : INFO : sample=0.001 downsamples 31 most-common words\n",
      "2019-01-14 16:52:21,936 : INFO : downsampling leaves estimated 2765654 word corpus (80.1% of prior 3452337)\n",
      "2019-01-14 16:52:22,265 : INFO : estimated required memory for 117182 words and 50 dimensions: 105475800 bytes\n",
      "2019-01-14 16:52:22,266 : INFO : resetting layer weights\n",
      "2019-01-14 16:52:23,615 : INFO : training model with 3 workers on 117182 vocabulary and 50 features, using sg=0 hs=0 sample=0.001 negative=5 window=5\n",
      "2019-01-14 16:52:24,625 : INFO : EPOCH 1 - PROGRESS: at 23.98% examples, 736223 words/s, in_qsize 6, out_qsize 0\n",
      "2019-01-14 16:52:25,627 : INFO : EPOCH 1 - PROGRESS: at 50.36% examples, 733298 words/s, in_qsize 5, out_qsize 0\n",
      "2019-01-14 16:52:26,641 : INFO : EPOCH 1 - PROGRESS: at 78.08% examples, 732960 words/s, in_qsize 5, out_qsize 0\n",
      "2019-01-14 16:52:27,380 : INFO : worker thread finished; awaiting finish of 2 more threads\n",
      "2019-01-14 16:52:27,387 : INFO : worker thread finished; awaiting finish of 1 more threads\n",
      "2019-01-14 16:52:27,403 : INFO : worker thread finished; awaiting finish of 0 more threads\n",
      "2019-01-14 16:52:27,406 : INFO : EPOCH - 1 : training on 3452337 raw words (2760126 effective words) took 3.8s, 728873 effective words/s\n",
      "2019-01-14 16:52:28,415 : INFO : EPOCH 2 - PROGRESS: at 23.19% examples, 714966 words/s, in_qsize 5, out_qsize 0\n",
      "2019-01-14 16:52:29,429 : INFO : EPOCH 2 - PROGRESS: at 48.08% examples, 700105 words/s, in_qsize 5, out_qsize 0\n",
      "2019-01-14 16:52:30,435 : INFO : EPOCH 2 - PROGRESS: at 75.93% examples, 711987 words/s, in_qsize 5, out_qsize 0\n",
      "2019-01-14 16:52:31,288 : INFO : worker thread finished; awaiting finish of 2 more threads\n",
      "2019-01-14 16:52:31,294 : INFO : worker thread finished; awaiting finish of 1 more threads\n",
      "2019-01-14 16:52:31,302 : INFO : worker thread finished; awaiting finish of 0 more threads\n",
      "2019-01-14 16:52:31,304 : INFO : EPOCH - 2 : training on 3452337 raw words (2760833 effective words) took 3.9s, 709568 effective words/s\n",
      "2019-01-14 16:52:32,311 : INFO : EPOCH 3 - PROGRESS: at 22.35% examples, 691017 words/s, in_qsize 6, out_qsize 0\n",
      "2019-01-14 16:52:33,317 : INFO : EPOCH 3 - PROGRESS: at 46.64% examples, 682406 words/s, in_qsize 5, out_qsize 0\n",
      "2019-01-14 16:52:34,323 : INFO : EPOCH 3 - PROGRESS: at 74.68% examples, 702747 words/s, in_qsize 5, out_qsize 0\n",
      "2019-01-14 16:52:35,189 : INFO : worker thread finished; awaiting finish of 2 more threads\n",
      "2019-01-14 16:52:35,197 : INFO : worker thread finished; awaiting finish of 1 more threads\n",
      "2019-01-14 16:52:35,221 : INFO : worker thread finished; awaiting finish of 0 more threads\n",
      "2019-01-14 16:52:35,224 : INFO : EPOCH - 3 : training on 3452337 raw words (2759486 effective words) took 3.9s, 704768 effective words/s\n",
      "2019-01-14 16:52:36,232 : INFO : EPOCH 4 - PROGRESS: at 24.49% examples, 755225 words/s, in_qsize 5, out_qsize 0\n",
      "2019-01-14 16:52:37,240 : INFO : EPOCH 4 - PROGRESS: at 51.28% examples, 748745 words/s, in_qsize 5, out_qsize 0\n",
      "2019-01-14 16:52:38,255 : INFO : EPOCH 4 - PROGRESS: at 78.08% examples, 732230 words/s, in_qsize 5, out_qsize 0\n",
      "2019-01-14 16:52:39,063 : INFO : worker thread finished; awaiting finish of 2 more threads\n",
      "2019-01-14 16:52:39,075 : INFO : worker thread finished; awaiting finish of 1 more threads\n",
      "2019-01-14 16:52:39,101 : INFO : worker thread finished; awaiting finish of 0 more threads\n",
      "2019-01-14 16:52:39,102 : INFO : EPOCH - 4 : training on 3452337 raw words (2758972 effective words) took 3.9s, 712761 effective words/s\n",
      "2019-01-14 16:52:40,130 : INFO : EPOCH 5 - PROGRESS: at 23.19% examples, 705338 words/s, in_qsize 5, out_qsize 0\n",
      "2019-01-14 16:52:41,137 : INFO : EPOCH 5 - PROGRESS: at 50.36% examples, 727749 words/s, in_qsize 6, out_qsize 0\n",
      "2019-01-14 16:52:42,155 : INFO : EPOCH 5 - PROGRESS: at 78.08% examples, 728339 words/s, in_qsize 5, out_qsize 0\n",
      "2019-01-14 16:52:42,871 : INFO : worker thread finished; awaiting finish of 2 more threads\n",
      "2019-01-14 16:52:42,878 : INFO : worker thread finished; awaiting finish of 1 more threads\n",
      "2019-01-14 16:52:42,909 : INFO : worker thread finished; awaiting finish of 0 more threads\n",
      "2019-01-14 16:52:42,912 : INFO : EPOCH - 5 : training on 3452337 raw words (2760034 effective words) took 3.8s, 726625 effective words/s\n",
      "2019-01-14 16:52:42,917 : INFO : training on a 17261685 raw words (13799451 effective words) took 19.3s, 715029 effective words/s\n"
     ]
    }
   ],
   "source": [
    "# -*- coding: UTF-8 -*-  \n",
    "import gensim, logging,os\n",
    "from gensim.models.doc2vec import Doc2Vec,TaggedDocument\n",
    "import gensim.models.doc2vec\n",
    "\n",
    "logging.basicConfig(format = '%(asctime)s : %(levelname)s : %(message)s', level = logging.INFO)\n",
    "\n",
    "sentences = [TaggedDocument(words=jieba.lcut(dfapp['app_info'][i]), \n",
    "                             tags=[dfapp['app_cate'][i]]) for i in range(len(dfapp))]\n",
    "\n",
    "model = Doc2Vec(sentences, size =50, window = 5, min_count=1)"
   ]
  },
  {
   "cell_type": "code",
   "execution_count": 243,
   "metadata": {
    "ExecuteTime": {
     "end_time": "2019-01-14T08:52:54.656618Z",
     "start_time": "2019-01-14T08:52:54.603118Z"
    }
   },
   "outputs": [
    {
     "data": {
      "text/plain": [
       "{'融360': <gensim.models.keyedvectors.Vocab at 0x64d378d0>,\n",
       " ' ': <gensim.models.keyedvectors.Vocab at 0x64d379e8>,\n",
       " '—': <gensim.models.keyedvectors.Vocab at 0x64d37ac8>,\n",
       " '您': <gensim.models.keyedvectors.Vocab at 0x64d37a20>,\n",
       " '随身': <gensim.models.keyedvectors.Vocab at 0x64d37a58>,\n",
       " '的': <gensim.models.keyedvectors.Vocab at 0x64d37a90>,\n",
       " '金融': <gensim.models.keyedvectors.Vocab at 0x64d379b0>,\n",
       " '专家': <gensim.models.keyedvectors.Vocab at 0x64d37b00>,\n",
       " '为什么': <gensim.models.keyedvectors.Vocab at 0x64d37b38>,\n",
       " '要': <gensim.models.keyedvectors.Vocab at 0x64d37b70>,\n",
       " '使用': <gensim.models.keyedvectors.Vocab at 0x64d37ba8>,\n",
       " '【': <gensim.models.keyedvectors.Vocab at 0x64d37be0>,\n",
       " '】': <gensim.models.keyedvectors.Vocab at 0x64d37c18>,\n",
       " '？': <gensim.models.keyedvectors.Vocab at 0x64d37c50>,\n",
       " '下述': <gensim.models.keyedvectors.Vocab at 0x64d37c88>,\n",
       " '内容': <gensim.models.keyedvectors.Vocab at 0x64d37cc0>,\n",
       " '不': <gensim.models.keyedvectors.Vocab at 0x64d37cf8>,\n",
       " '吹牛': <gensim.models.keyedvectors.Vocab at 0x64d37d30>,\n",
       " '。': <gensim.models.keyedvectors.Vocab at 0x64d37d68>,\n",
       " '1': <gensim.models.keyedvectors.Vocab at 0x64d37da0>,\n",
       " '.': <gensim.models.keyedvectors.Vocab at 0x64d37dd8>,\n",
       " '解决': <gensim.models.keyedvectors.Vocab at 0x64d37e10>,\n",
       " '贷款': <gensim.models.keyedvectors.Vocab at 0x64d37e48>,\n",
       " '难题': <gensim.models.keyedvectors.Vocab at 0x64d37e80>,\n",
       " '特点': <gensim.models.keyedvectors.Vocab at 0x64d37eb8>,\n",
       " '：': <gensim.models.keyedvectors.Vocab at 0x64d37ef0>,\n",
       " '-': <gensim.models.keyedvectors.Vocab at 0x64d37f28>,\n",
       " '全面解决': <gensim.models.keyedvectors.Vocab at 0x64d37f60>,\n",
       " '个人消费': <gensim.models.keyedvectors.Vocab at 0x64d37f98>,\n",
       " '贷': <gensim.models.keyedvectors.Vocab at 0x64d37fd0>,\n",
       " '、': <gensim.models.keyedvectors.Vocab at 0x64d8c048>,\n",
       " '企业': <gensim.models.keyedvectors.Vocab at 0x64d8c080>,\n",
       " '经营': <gensim.models.keyedvectors.Vocab at 0x64d8c0b8>,\n",
       " '车房': <gensim.models.keyedvectors.Vocab at 0x64d8c0f0>,\n",
       " '装修': <gensim.models.keyedvectors.Vocab at 0x64d8c128>,\n",
       " '出行': <gensim.models.keyedvectors.Vocab at 0x64d8c160>,\n",
       " '旅游': <gensim.models.keyedvectors.Vocab at 0x64d8c198>,\n",
       " '学习': <gensim.models.keyedvectors.Vocab at 0x64d8c1d0>,\n",
       " '进修': <gensim.models.keyedvectors.Vocab at 0x64d8c208>,\n",
       " '放款': <gensim.models.keyedvectors.Vocab at 0x64d8c240>,\n",
       " '效率': <gensim.models.keyedvectors.Vocab at 0x64d8c278>,\n",
       " '仅': <gensim.models.keyedvectors.Vocab at 0x64d8c2b0>,\n",
       " '需': <gensim.models.keyedvectors.Vocab at 0x64d8c2e8>,\n",
       " '一天': <gensim.models.keyedvectors.Vocab at 0x64d8c320>,\n",
       " '即可': <gensim.models.keyedvectors.Vocab at 0x64d8c358>,\n",
       " '利率': <gensim.models.keyedvectors.Vocab at 0x64d8c390>,\n",
       " '优势': <gensim.models.keyedvectors.Vocab at 0x64d8c3c8>,\n",
       " '年化': <gensim.models.keyedvectors.Vocab at 0x64d8c400>,\n",
       " '费率': <gensim.models.keyedvectors.Vocab at 0x64d8c438>,\n",
       " '低至': <gensim.models.keyedvectors.Vocab at 0x64d8c470>,\n",
       " '6%': <gensim.models.keyedvectors.Vocab at 0x64d8c4a8>,\n",
       " '，': <gensim.models.keyedvectors.Vocab at 0x64d8c4e0>,\n",
       " '还款': <gensim.models.keyedvectors.Vocab at 0x64d8c518>,\n",
       " '期限': <gensim.models.keyedvectors.Vocab at 0x64d8c550>,\n",
       " '3': <gensim.models.keyedvectors.Vocab at 0x64d8c588>,\n",
       " '个': <gensim.models.keyedvectors.Vocab at 0x64d8c5c0>,\n",
       " '月': <gensim.models.keyedvectors.Vocab at 0x64d8c5f8>,\n",
       " '起': <gensim.models.keyedvectors.Vocab at 0x64d8c630>,\n",
       " '服务': <gensim.models.keyedvectors.Vocab at 0x64d8c668>,\n",
       " '优质': <gensim.models.keyedvectors.Vocab at 0x64d8c6a0>,\n",
       " '我们': <gensim.models.keyedvectors.Vocab at 0x64d8c6d8>,\n",
       " '深知': <gensim.models.keyedvectors.Vocab at 0x64d8c710>,\n",
       " '难': <gensim.models.keyedvectors.Vocab at 0x64d8c748>,\n",
       " '和': <gensim.models.keyedvectors.Vocab at 0x64d8c780>,\n",
       " '急': <gensim.models.keyedvectors.Vocab at 0x64d8c7b8>,\n",
       " '暖心': <gensim.models.keyedvectors.Vocab at 0x64d8c7f0>,\n",
       " '是': <gensim.models.keyedvectors.Vocab at 0x64d8c828>,\n",
       " '理应': <gensim.models.keyedvectors.Vocab at 0x64d8c860>,\n",
       " '为': <gensim.models.keyedvectors.Vocab at 0x64d8c898>,\n",
       " '真情': <gensim.models.keyedvectors.Vocab at 0x64d8c8d0>,\n",
       " '奉献': <gensim.models.keyedvectors.Vocab at 0x64d8c908>,\n",
       " '2': <gensim.models.keyedvectors.Vocab at 0x64d8c940>,\n",
       " '全面': <gensim.models.keyedvectors.Vocab at 0x64d8c978>,\n",
       " '信用卡': <gensim.models.keyedvectors.Vocab at 0x64d8c9b0>,\n",
       " '资讯': <gensim.models.keyedvectors.Vocab at 0x64d8c9e8>,\n",
       " '优惠': <gensim.models.keyedvectors.Vocab at 0x64d8ca20>,\n",
       " '各行': <gensim.models.keyedvectors.Vocab at 0x64d8ca58>,\n",
       " '实时': <gensim.models.keyedvectors.Vocab at 0x64d8ca90>,\n",
       " '提供': <gensim.models.keyedvectors.Vocab at 0x64d8cac8>,\n",
       " '吃喝玩乐': <gensim.models.keyedvectors.Vocab at 0x64d8cb00>,\n",
       " '省': <gensim.models.keyedvectors.Vocab at 0x64d8cb38>,\n",
       " '不停': <gensim.models.keyedvectors.Vocab at 0x64d8cb70>,\n",
       " '论坛': <gensim.models.keyedvectors.Vocab at 0x64d8cba8>,\n",
       " '达人': <gensim.models.keyedvectors.Vocab at 0x64d8cbe0>,\n",
       " '小白': <gensim.models.keyedvectors.Vocab at 0x64d8cc18>,\n",
       " '都': <gensim.models.keyedvectors.Vocab at 0x64d8cc50>,\n",
       " '爱': <gensim.models.keyedvectors.Vocab at 0x64d8cc88>,\n",
       " '逛得': <gensim.models.keyedvectors.Vocab at 0x64d8ccc0>,\n",
       " '专属': <gensim.models.keyedvectors.Vocab at 0x64d8ccf8>,\n",
       " '金融信息': <gensim.models.keyedvectors.Vocab at 0x64d8cd30>,\n",
       " '大全': <gensim.models.keyedvectors.Vocab at 0x64d8cd68>,\n",
       " '涵盖': <gensim.models.keyedvectors.Vocab at 0x64d8cda0>,\n",
       " '各种': <gensim.models.keyedvectors.Vocab at 0x64d8cdd8>,\n",
       " '办卡': <gensim.models.keyedvectors.Vocab at 0x64d8ce10>,\n",
       " '技巧': <gensim.models.keyedvectors.Vocab at 0x64d8ce48>,\n",
       " '经济': <gensim.models.keyedvectors.Vocab at 0x64d8ce80>,\n",
       " '政策': <gensim.models.keyedvectors.Vocab at 0x64d8ceb8>,\n",
       " '趣谈': <gensim.models.keyedvectors.Vocab at 0x64d8cef0>,\n",
       " '公司': <gensim.models.keyedvectors.Vocab at 0x64d8cf28>,\n",
       " '介绍': <gensim.models.keyedvectors.Vocab at 0x64d8cf60>,\n",
       " '成立': <gensim.models.keyedvectors.Vocab at 0x64d8cf98>,\n",
       " '于': <gensim.models.keyedvectors.Vocab at 0x64d8cfd0>,\n",
       " '2011': <gensim.models.keyedvectors.Vocab at 0x64d8d048>,\n",
       " '年': <gensim.models.keyedvectors.Vocab at 0x64d8d080>,\n",
       " '10': <gensim.models.keyedvectors.Vocab at 0x64d8d0b8>,\n",
       " '中国': <gensim.models.keyedvectors.Vocab at 0x64d8d0f0>,\n",
       " '值得': <gensim.models.keyedvectors.Vocab at 0x64d8d128>,\n",
       " '信赖': <gensim.models.keyedvectors.Vocab at 0x64d8d160>,\n",
       " '垂直': <gensim.models.keyedvectors.Vocab at 0x64d8d198>,\n",
       " '搜索': <gensim.models.keyedvectors.Vocab at 0x64d8d1d0>,\n",
       " '平台': <gensim.models.keyedvectors.Vocab at 0x64d8d208>,\n",
       " '致力于': <gensim.models.keyedvectors.Vocab at 0x64d8d240>,\n",
       " '个人': <gensim.models.keyedvectors.Vocab at 0x64d8d278>,\n",
       " '消费者': <gensim.models.keyedvectors.Vocab at 0x64d8d2b0>,\n",
       " '微小': <gensim.models.keyedvectors.Vocab at 0x64d8d2e8>,\n",
       " '产品': <gensim.models.keyedvectors.Vocab at 0x64d8d320>,\n",
       " '推荐': <gensim.models.keyedvectors.Vocab at 0x64d8d358>,\n",
       " '申请': <gensim.models.keyedvectors.Vocab at 0x64d8d390>,\n",
       " '业务范围': <gensim.models.keyedvectors.Vocab at 0x64d8d3c8>,\n",
       " '此外': <gensim.models.keyedvectors.Vocab at 0x64d8d400>,\n",
       " '还': <gensim.models.keyedvectors.Vocab at 0x64d8d438>,\n",
       " '免费': <gensim.models.keyedvectors.Vocab at 0x64d8d470>,\n",
       " '用户': <gensim.models.keyedvectors.Vocab at 0x64d8d4a8>,\n",
       " '便捷': <gensim.models.keyedvectors.Vocab at 0x64d8d4e0>,\n",
       " '划算': <gensim.models.keyedvectors.Vocab at 0x64d8d518>,\n",
       " '安全': <gensim.models.keyedvectors.Vocab at 0x64d8d550>,\n",
       " '目前': <gensim.models.keyedvectors.Vocab at 0x64d8d588>,\n",
       " '已': <gensim.models.keyedvectors.Vocab at 0x64d8d5c0>,\n",
       " '完成': <gensim.models.keyedvectors.Vocab at 0x64d8d5f8>,\n",
       " 'D': <gensim.models.keyedvectors.Vocab at 0x64d8d630>,\n",
       " '轮': <gensim.models.keyedvectors.Vocab at 0x64d8d668>,\n",
       " '融资': <gensim.models.keyedvectors.Vocab at 0x64d8d6a0>,\n",
       " '估值': <gensim.models.keyedvectors.Vocab at 0x64d8d6d8>,\n",
       " '超': <gensim.models.keyedvectors.Vocab at 0x64d8d710>,\n",
       " '亿美元': <gensim.models.keyedvectors.Vocab at 0x64d8d748>,\n",
       " '步入': <gensim.models.keyedvectors.Vocab at 0x64d8d780>,\n",
       " '独角兽': <gensim.models.keyedvectors.Vocab at 0x64d8d7b8>,\n",
       " '俱乐部': <gensim.models.keyedvectors.Vocab at 0x64d8d7f0>,\n",
       " '旗下': <gensim.models.keyedvectors.Vocab at 0x64d8d828>,\n",
       " '简普': <gensim.models.keyedvectors.Vocab at 0x64d8d860>,\n",
       " '科技': <gensim.models.keyedvectors.Vocab at 0x64d8d898>,\n",
       " '2017': <gensim.models.keyedvectors.Vocab at 0x64d8d8d0>,\n",
       " '11': <gensim.models.keyedvectors.Vocab at 0x64d8d908>,\n",
       " '在': <gensim.models.keyedvectors.Vocab at 0x64d8d940>,\n",
       " '美国': <gensim.models.keyedvectors.Vocab at 0x64d8d978>,\n",
       " '纽交所': <gensim.models.keyedvectors.Vocab at 0x64d8d9b0>,\n",
       " '上市': <gensim.models.keyedvectors.Vocab at 0x64d8d9e8>,\n",
       " '联系': <gensim.models.keyedvectors.Vocab at 0x64d8da20>,\n",
       " '官方网站': <gensim.models.keyedvectors.Vocab at 0x64d8da58>,\n",
       " 'http': <gensim.models.keyedvectors.Vocab at 0x64d8da90>,\n",
       " ':': <gensim.models.keyedvectors.Vocab at 0x64d8dac8>,\n",
       " '/': <gensim.models.keyedvectors.Vocab at 0x64d8db00>,\n",
       " 'm': <gensim.models.keyedvectors.Vocab at 0x64d8db38>,\n",
       " 'rong360': <gensim.models.keyedvectors.Vocab at 0x64d8db70>,\n",
       " 'com': <gensim.models.keyedvectors.Vocab at 0x64d8dba8>,\n",
       " '官方': <gensim.models.keyedvectors.Vocab at 0x64d8dbe0>,\n",
       " '微信': <gensim.models.keyedvectors.Vocab at 0x64d8dc18>,\n",
       " '公众': <gensim.models.keyedvectors.Vocab at 0x64d8dc50>,\n",
       " '号': <gensim.models.keyedvectors.Vocab at 0x64d8dc88>,\n",
       " '客服': <gensim.models.keyedvectors.Vocab at 0x64d8dcc0>,\n",
       " '电话': <gensim.models.keyedvectors.Vocab at 0x64d8dcf8>,\n",
       " '1010': <gensim.models.keyedvectors.Vocab at 0x64d8dd30>,\n",
       " '0360': <gensim.models.keyedvectors.Vocab at 0x64d8dd68>,\n",
       " '或': <gensim.models.keyedvectors.Vocab at 0x64d8dda0>,\n",
       " '4008': <gensim.models.keyedvectors.Vocab at 0x64d8ddd8>,\n",
       " '905': <gensim.models.keyedvectors.Vocab at 0x64d8de10>,\n",
       " '360': <gensim.models.keyedvectors.Vocab at 0x64d8de48>,\n",
       " '可以': <gensim.models.keyedvectors.Vocab at 0x64d8de80>,\n",
       " '发': <gensim.models.keyedvectors.Vocab at 0x64d8deb8>,\n",
       " '语音': <gensim.models.keyedvectors.Vocab at 0x64d8def0>,\n",
       " '文字': <gensim.models.keyedvectors.Vocab at 0x64d8df28>,\n",
       " '消息': <gensim.models.keyedvectors.Vocab at 0x64d8df60>,\n",
       " '表情': <gensim.models.keyedvectors.Vocab at 0x64d8df98>,\n",
       " '图片': <gensim.models.keyedvectors.Vocab at 0x64d8dfd0>,\n",
       " '视频': <gensim.models.keyedvectors.Vocab at 0x64d90048>,\n",
       " '30M': <gensim.models.keyedvectors.Vocab at 0x64d90080>,\n",
       " '流量': <gensim.models.keyedvectors.Vocab at 0x64d900b8>,\n",
       " '收发': <gensim.models.keyedvectors.Vocab at 0x64d900f0>,\n",
       " '上': <gensim.models.keyedvectors.Vocab at 0x64d90128>,\n",
       " '千条': <gensim.models.keyedvectors.Vocab at 0x64d90160>,\n",
       " '省电省': <gensim.models.keyedvectors.Vocab at 0x64d90198>,\n",
       " '朋友圈': <gensim.models.keyedvectors.Vocab at 0x64d901d0>,\n",
       " '跟': <gensim.models.keyedvectors.Vocab at 0x64d90208>,\n",
       " '朋友': <gensim.models.keyedvectors.Vocab at 0x64d90240>,\n",
       " '们': <gensim.models.keyedvectors.Vocab at 0x64d90278>,\n",
       " '分享': <gensim.models.keyedvectors.Vocab at 0x64d902b0>,\n",
       " '生活': <gensim.models.keyedvectors.Vocab at 0x64d902e8>,\n",
       " '点滴': <gensim.models.keyedvectors.Vocab at 0x64d90320>,\n",
       " '摇一摇': <gensim.models.keyedvectors.Vocab at 0x64d90358>,\n",
       " '查看': <gensim.models.keyedvectors.Vocab at 0x64d90390>,\n",
       " '附近的人': <gensim.models.keyedvectors.Vocab at 0x64d903c8>,\n",
       " '世界': <gensim.models.keyedvectors.Vocab at 0x64d90400>,\n",
       " '不再': <gensim.models.keyedvectors.Vocab at 0x64d90438>,\n",
       " '有': <gensim.models.keyedvectors.Vocab at 0x64d90470>,\n",
       " '陌生人': <gensim.models.keyedvectors.Vocab at 0x64d904a8>,\n",
       " '4': <gensim.models.keyedvectors.Vocab at 0x64d904e0>,\n",
       " '扫一扫': <gensim.models.keyedvectors.Vocab at 0x64d90518>,\n",
       " '扫': <gensim.models.keyedvectors.Vocab at 0x64d90550>,\n",
       " '商品': <gensim.models.keyedvectors.Vocab at 0x64d90588>,\n",
       " '条码': <gensim.models.keyedvectors.Vocab at 0x64d905c0>,\n",
       " '图书': <gensim.models.keyedvectors.Vocab at 0x64d905f8>,\n",
       " '封面': <gensim.models.keyedvectors.Vocab at 0x64d90630>,\n",
       " 'CD': <gensim.models.keyedvectors.Vocab at 0x64d90668>,\n",
       " '甚至': <gensim.models.keyedvectors.Vocab at 0x64d906a0>,\n",
       " '扫描': <gensim.models.keyedvectors.Vocab at 0x64d906d8>,\n",
       " '英文单词': <gensim.models.keyedvectors.Vocab at 0x64d90710>,\n",
       " '来': <gensim.models.keyedvectors.Vocab at 0x64d90748>,\n",
       " '翻译成': <gensim.models.keyedvectors.Vocab at 0x64d90780>,\n",
       " '中文': <gensim.models.keyedvectors.Vocab at 0x64d907b8>,\n",
       " '5': <gensim.models.keyedvectors.Vocab at 0x64d907f0>,\n",
       " '帐号': <gensim.models.keyedvectors.Vocab at 0x64d90828>,\n",
       " '用': <gensim.models.keyedvectors.Vocab at 0x64d90860>,\n",
       " '关注': <gensim.models.keyedvectors.Vocab at 0x64d90898>,\n",
       " '明星': <gensim.models.keyedvectors.Vocab at 0x64d908d0>,\n",
       " '看': <gensim.models.keyedvectors.Vocab at 0x64d90908>,\n",
       " '新闻': <gensim.models.keyedvectors.Vocab at 0x64d90940>,\n",
       " '设': <gensim.models.keyedvectors.Vocab at 0x64d90978>,\n",
       " '提醒': <gensim.models.keyedvectors.Vocab at 0x64d909b0>,\n",
       " '6': <gensim.models.keyedvectors.Vocab at 0x64d909e8>,\n",
       " '游戏中心': <gensim.models.keyedvectors.Vocab at 0x64d90a20>,\n",
       " '一起': <gensim.models.keyedvectors.Vocab at 0x64d90a58>,\n",
       " '玩游戏': <gensim.models.keyedvectors.Vocab at 0x64d90a90>,\n",
       " '7': <gensim.models.keyedvectors.Vocab at 0x64d90ac8>,\n",
       " '商店': <gensim.models.keyedvectors.Vocab at 0x64d90b00>,\n",
       " '有趣': <gensim.models.keyedvectors.Vocab at 0x64d90b38>,\n",
       " '好玩': <gensim.models.keyedvectors.Vocab at 0x64d90b70>,\n",
       " '这里': <gensim.models.keyedvectors.Vocab at 0x64d90ba8>,\n",
       " '特别': <gensim.models.keyedvectors.Vocab at 0x64d90be0>,\n",
       " '说明': <gensim.models.keyedvectors.Vocab at 0x64d90c18>,\n",
       " '只': <gensim.models.keyedvectors.Vocab at 0x64d90c50>,\n",
       " '消耗': <gensim.models.keyedvectors.Vocab at 0x64d90c88>,\n",
       " '网络流量': <gensim.models.keyedvectors.Vocab at 0x64d90cc0>,\n",
       " '产生': <gensim.models.keyedvectors.Vocab at 0x64d90cf8>,\n",
       " '短信': <gensim.models.keyedvectors.Vocab at 0x64d90d30>,\n",
       " '费用': <gensim.models.keyedvectors.Vocab at 0x64d90d68>,\n",
       " '一款': <gensim.models.keyedvectors.Vocab at 0x64d90da0>,\n",
       " '精美': <gensim.models.keyedvectors.Vocab at 0x64d90dd8>,\n",
       " '屏幕': <gensim.models.keyedvectors.Vocab at 0x64d90e10>,\n",
       " '开关': <gensim.models.keyedvectors.Vocab at 0x64d90e48>,\n",
       " '手机': <gensim.models.keyedvectors.Vocab at 0x64d90e80>,\n",
       " '小': <gensim.models.keyedvectors.Vocab at 0x64d90eb8>,\n",
       " '部件': <gensim.models.keyedvectors.Vocab at 0x64d90ef0>,\n",
       " '应用程序': <gensim.models.keyedvectors.Vocab at 0x64d90f28>,\n",
       " '装扮': <gensim.models.keyedvectors.Vocab at 0x64d90f60>,\n",
       " '你': <gensim.models.keyedvectors.Vocab at 0x64d90f98>,\n",
       " '桌面': <gensim.models.keyedvectors.Vocab at 0x64d90fd0>,\n",
       " '喜欢': <gensim.models.keyedvectors.Vocab at 0x64d92048>,\n",
       " '等': <gensim.models.keyedvectors.Vocab at 0x64d92080>,\n",
       " '什么': <gensim.models.keyedvectors.Vocab at 0x64d920b8>,\n",
       " '赶快': <gensim.models.keyedvectors.Vocab at 0x64d920f0>,\n",
       " '下载': <gensim.models.keyedvectors.Vocab at 0x64d92128>,\n",
       " '吧': <gensim.models.keyedvectors.Vocab at 0x64d92160>,\n",
       " '！': <gensim.models.keyedvectors.Vocab at 0x64d92198>,\n",
       " '基本': <gensim.models.keyedvectors.Vocab at 0x64d921d0>,\n",
       " '信息': <gensim.models.keyedvectors.Vocab at 0x64d92208>,\n",
       " '作者': <gensim.models.keyedvectors.Vocab at 0x64d92240>,\n",
       " '来自': <gensim.models.keyedvectors.Vocab at 0x64d92278>,\n",
       " '互联网': <gensim.models.keyedvectors.Vocab at 0x64d922b0>,\n",
       " '更新': <gensim.models.keyedvectors.Vocab at 0x64d922e8>,\n",
       " '时间': <gensim.models.keyedvectors.Vocab at 0x64d92320>,\n",
       " '2014': <gensim.models.keyedvectors.Vocab at 0x64d92358>,\n",
       " '08': <gensim.models.keyedvectors.Vocab at 0x64d92390>,\n",
       " '01': <gensim.models.keyedvectors.Vocab at 0x64d923c8>,\n",
       " '版本': <gensim.models.keyedvectors.Vocab at 0x64d92400>,\n",
       " '3.75': <gensim.models.keyedvectors.Vocab at 0x64d92438>,\n",
       " '系统': <gensim.models.keyedvectors.Vocab at 0x64d92470>,\n",
       " 'Android': <gensim.models.keyedvectors.Vocab at 0x64d924a8>,\n",
       " '2.2': <gensim.models.keyedvectors.Vocab at 0x64d924e0>,\n",
       " 'x': <gensim.models.keyedvectors.Vocab at 0x64d92518>,\n",
       " '以上': <gensim.models.keyedvectors.Vocab at 0x64d92550>,\n",
       " '语言': <gensim.models.keyedvectors.Vocab at 0x64d92588>,\n",
       " '英文': <gensim.models.keyedvectors.Vocab at 0x64d925c0>,\n",
       " '支付宝': <gensim.models.keyedvectors.Vocab at 0x64d925f8>,\n",
       " '蚂蚁': <gensim.models.keyedvectors.Vocab at 0x64d92630>,\n",
       " '金服': <gensim.models.keyedvectors.Vocab at 0x64d92668>,\n",
       " '以': <gensim.models.keyedvectors.Vocab at 0x64d926a0>,\n",
       " '每个': <gensim.models.keyedvectors.Vocab at 0x64d926d8>,\n",
       " '人为': <gensim.models.keyedvectors.Vocab at 0x64d92710>,\n",
       " '中心': <gensim.models.keyedvectors.Vocab at 0x64d92748>,\n",
       " '拥有': <gensim.models.keyedvectors.Vocab at 0x64d92780>,\n",
       " '全球': <gensim.models.keyedvectors.Vocab at 0x64d927b8>,\n",
       " '9': <gensim.models.keyedvectors.Vocab at 0x64d927f0>,\n",
       " '亿': <gensim.models.keyedvectors.Vocab at 0x64d92828>,\n",
       " '服务平台': <gensim.models.keyedvectors.Vocab at 0x64d92860>,\n",
       " '发展': <gensim.models.keyedvectors.Vocab at 0x64d92898>,\n",
       " '成为': <gensim.models.keyedvectors.Vocab at 0x64d928d0>,\n",
       " '融合': <gensim.models.keyedvectors.Vocab at 0x64d92908>,\n",
       " '了': <gensim.models.keyedvectors.Vocab at 0x64d92940>,\n",
       " '支付': <gensim.models.keyedvectors.Vocab at 0x64d92978>,\n",
       " '政务': <gensim.models.keyedvectors.Vocab at 0x64d929b0>,\n",
       " '社交': <gensim.models.keyedvectors.Vocab at 0x64d929e8>,\n",
       " '理财': <gensim.models.keyedvectors.Vocab at 0x64d92a20>,\n",
       " '保险': <gensim.models.keyedvectors.Vocab at 0x64d92a58>,\n",
       " '公益': <gensim.models.keyedvectors.Vocab at 0x64d92a90>,\n",
       " '多个': <gensim.models.keyedvectors.Vocab at 0x64d92ac8>,\n",
       " '场景': <gensim.models.keyedvectors.Vocab at 0x64d92b00>,\n",
       " '与': <gensim.models.keyedvectors.Vocab at 0x64d92b38>,\n",
       " '行业': <gensim.models.keyedvectors.Vocab at 0x64d92b70>,\n",
       " '开放性': <gensim.models.keyedvectors.Vocab at 0x64d92ba8>,\n",
       " '除': <gensim.models.keyedvectors.Vocab at 0x64d92be0>,\n",
       " '转账': <gensim.models.keyedvectors.Vocab at 0x64d92c18>,\n",
       " '收款': <gensim.models.keyedvectors.Vocab at 0x64d92c50>,\n",
       " '基础': <gensim.models.keyedvectors.Vocab at 0x64d92c88>,\n",
       " '功能': <gensim.models.keyedvectors.Vocab at 0x64d92cc0>,\n",
       " '外': <gensim.models.keyedvectors.Vocab at 0x64d92cf8>,\n",
       " '能': <gensim.models.keyedvectors.Vocab at 0x64d92d30>,\n",
       " '快速': <gensim.models.keyedvectors.Vocab at 0x64d92d68>,\n",
       " '充': <gensim.models.keyedvectors.Vocab at 0x64d92da0>,\n",
       " '话费': <gensim.models.keyedvectors.Vocab at 0x64d92dd8>,\n",
       " '缴': <gensim.models.keyedvectors.Vocab at 0x64d92e10>,\n",
       " '水电': <gensim.models.keyedvectors.Vocab at 0x64d92e48>,\n",
       " '煤': <gensim.models.keyedvectors.Vocab at 0x64d92e80>,\n",
       " '通过': <gensim.models.keyedvectors.Vocab at 0x64d92eb8>,\n",
       " '智能': <gensim.models.keyedvectors.Vocab at 0x64d92ef0>,\n",
       " '机器人': <gensim.models.keyedvectors.Vocab at 0x64d92f28>,\n",
       " '一步': <gensim.models.keyedvectors.Vocab at 0x64d92f60>,\n",
       " '触达': <gensim.models.keyedvectors.Vocab at 0x64d92f98>,\n",
       " '百种': <gensim.models.keyedvectors.Vocab at 0x64d92fd0>,\n",
       " '不仅': <gensim.models.keyedvectors.Vocab at 0x64d95048>,\n",
       " '享受': <gensim.models.keyedvectors.Vocab at 0x64d95080>,\n",
       " '消费': <gensim.models.keyedvectors.Vocab at 0x64d950b8>,\n",
       " '打折': <gensim.models.keyedvectors.Vocab at 0x64d950f0>,\n",
       " '好友': <gensim.models.keyedvectors.Vocab at 0x64d95128>,\n",
       " '建群': <gensim.models.keyedvectors.Vocab at 0x64d95160>,\n",
       " '互动': <gensim.models.keyedvectors.Vocab at 0x64d95198>,\n",
       " '轻松': <gensim.models.keyedvectors.Vocab at 0x64d951d0>,\n",
       " '累积': <gensim.models.keyedvectors.Vocab at 0x64d95208>,\n",
       " '信用': <gensim.models.keyedvectors.Vocab at 0x64d95240>,\n",
       " '让': <gensim.models.keyedvectors.Vocab at 0x64d95278>,\n",
       " '更': <gensim.models.keyedvectors.Vocab at 0x64d952b0>,\n",
       " '简单': <gensim.models.keyedvectors.Vocab at 0x64d952e8>,\n",
       " 'iPhone': <gensim.models.keyedvectors.Vocab at 0x64d95320>,\n",
       " '风格': <gensim.models.keyedvectors.Vocab at 0x64d95358>,\n",
       " '酷像': <gensim.models.keyedvectors.Vocab at 0x64d95390>,\n",
       " 'IOS': <gensim.models.keyedvectors.Vocab at 0x64d953c8>,\n",
       " 'UI': <gensim.models.keyedvectors.Vocab at 0x64d95400>,\n",
       " '非常简单': <gensim.models.keyedvectors.Vocab at 0x64d95438>,\n",
       " '易用': <gensim.models.keyedvectors.Vocab at 0x64d95470>,\n",
       " '就': <gensim.models.keyedvectors.Vocab at 0x64d954a8>,\n",
       " '像': <gensim.models.keyedvectors.Vocab at 0x64d954e0>,\n",
       " 'iphone': <gensim.models.keyedvectors.Vocab at 0x64d95518>,\n",
       " '主要': <gensim.models.keyedvectors.Vocab at 0x64d95550>,\n",
       " '用户界面': <gensim.models.keyedvectors.Vocab at 0x64d95588>,\n",
       " '支持': <gensim.models.keyedvectors.Vocab at 0x64d955c0>,\n",
       " '新': <gensim.models.keyedvectors.Vocab at 0x64d955f8>,\n",
       " 'IOS6': <gensim.models.keyedvectors.Vocab at 0x64d95630>,\n",
       " '绘': <gensim.models.keyedvectors.Vocab at 0x64d95668>,\n",
       " '所有': <gensim.models.keyedvectors.Vocab at 0x64d956a0>,\n",
       " '表情符号': <gensim.models.keyedvectors.Vocab at 0x64d956d8>,\n",
       " '发送': <gensim.models.keyedvectors.Vocab at 0x64d95710>,\n",
       " '接收': <gensim.models.keyedvectors.Vocab at 0x64d95748>,\n",
       " '铃声': <gensim.models.keyedvectors.Vocab at 0x64d95780>,\n",
       " '弹出': <gensim.models.keyedvectors.Vocab at 0x64d957b8>,\n",
       " '对话框': <gensim.models.keyedvectors.Vocab at 0x64d957f0>,\n",
       " '收到': <gensim.models.keyedvectors.Vocab at 0x64d95828>,\n",
       " '时有': <gensim.models.keyedvectors.Vocab at 0x64d95860>,\n",
       " '闪烁': <gensim.models.keyedvectors.Vocab at 0x64d95898>,\n",
       " 'LED': <gensim.models.keyedvectors.Vocab at 0x64d958d0>,\n",
       " '自定义': <gensim.models.keyedvectors.Vocab at 0x64d95908>,\n",
       " '通知': <gensim.models.keyedvectors.Vocab at 0x64d95940>,\n",
       " '图标': <gensim.models.keyedvectors.Vocab at 0x64d95978>,\n",
       " '截图': <gensim.models.keyedvectors.Vocab at 0x64d959b0>,\n",
       " '方便管理': <gensim.models.keyedvectors.Vocab at 0x64d959e8>,\n",
       " '注意': <gensim.models.keyedvectors.Vocab at 0x64d95a20>,\n",
       " '问题': <gensim.models.keyedvectors.Vocab at 0x64d95a58>,\n",
       " '彩信': <gensim.models.keyedvectors.Vocab at 0x64d95a90>,\n",
       " '对于': <gensim.models.keyedvectors.Vocab at 0x64d95ac8>,\n",
       " '无法': <gensim.models.keyedvectors.Vocab at 0x64d95b00>,\n",
       " '选择': <gensim.models.keyedvectors.Vocab at 0x64d95b38>,\n",
       " '多媒体': <gensim.models.keyedvectors.Vocab at 0x64d95b70>,\n",
       " '讯息': <gensim.models.keyedvectors.Vocab at 0x64d95ba8>,\n",
       " '(': <gensim.models.keyedvectors.Vocab at 0x64d95be0>,\n",
       " 'MMS': <gensim.models.keyedvectors.Vocab at 0x64d95c18>,\n",
       " ')': <gensim.models.keyedvectors.Vocab at 0x64d95c50>,\n",
       " '设置': <gensim.models.keyedvectors.Vocab at 0x64d95c88>,\n",
       " '选项': <gensim.models.keyedvectors.Vocab at 0x64d95cc0>,\n",
       " '中': <gensim.models.keyedvectors.Vocab at 0x64d95cf8>,\n",
       " '然后': <gensim.models.keyedvectors.Vocab at 0x64d95d30>,\n",
       " '填充': <gensim.models.keyedvectors.Vocab at 0x64d95d68>,\n",
       " 'APN': <gensim.models.keyedvectors.Vocab at 0x64d95da0>,\n",
       " '配置': <gensim.models.keyedvectors.Vocab at 0x64d95dd8>,\n",
       " '点击': <gensim.models.keyedvectors.Vocab at 0x64d95e10>,\n",
       " 'MMSC': <gensim.models.keyedvectors.Vocab at 0x64d95e48>,\n",
       " '科学': <gensim.models.keyedvectors.Vocab at 0x64d95e80>,\n",
       " '上网': <gensim.models.keyedvectors.Vocab at 0x64d95eb8>,\n",
       " 'PORT': <gensim.models.keyedvectors.Vocab at 0x64d95ef0>,\n",
       " '到': <gensim.models.keyedvectors.Vocab at 0x64d95f28>,\n",
       " '看到': <gensim.models.keyedvectors.Vocab at 0x64d95f60>,\n",
       " '输入': <gensim.models.keyedvectors.Vocab at 0x64d95f98>,\n",
       " '自己': <gensim.models.keyedvectors.Vocab at 0x64d95fd0>,\n",
       " '后续': <gensim.models.keyedvectors.Vocab at 0x64d98048>,\n",
       " '路径': <gensim.models.keyedvectors.Vocab at 0x64d98080>,\n",
       " 'android': <gensim.models.keyedvectors.Vocab at 0x64d980b8>,\n",
       " '2.3': <gensim.models.keyedvectors.Vocab at 0x64d980f0>,\n",
       " '>': <gensim.models.keyedvectors.Vocab at 0x64d98128>,\n",
       " '无线': <gensim.models.keyedvectors.Vocab at 0x64d98160>,\n",
       " '网络': <gensim.models.keyedvectors.Vocab at 0x64d98198>,\n",
       " '移动': <gensim.models.keyedvectors.Vocab at 0x64d981d0>,\n",
       " '接入点': <gensim.models.keyedvectors.Vocab at 0x64d98208>,\n",
       " '名称': <gensim.models.keyedvectors.Vocab at 0x64d98240>,\n",
       " '顺序': <gensim.models.keyedvectors.Vocab at 0x64d98278>,\n",
       " '如果': <gensim.models.keyedvectors.Vocab at 0x64d982b0>,\n",
       " '希望': <gensim.models.keyedvectors.Vocab at 0x64d982e8>,\n",
       " '重复': <gensim.models.keyedvectors.Vocab at 0x64d98320>,\n",
       " '尝试': <gensim.models.keyedvectors.Vocab at 0x64d98358>,\n",
       " '阻止': <gensim.models.keyedvectors.Vocab at 0x64d98390>,\n",
       " '但': <gensim.models.keyedvectors.Vocab at 0x64d983c8>,\n",
       " '这样': <gensim.models.keyedvectors.Vocab at 0x64d98400>,\n",
       " '会': <gensim.models.keyedvectors.Vocab at 0x64d98438>,\n",
       " '导致': <gensim.models.keyedvectors.Vocab at 0x64d98470>,\n",
       " '某些': <gensim.models.keyedvectors.Vocab at 0x64d984a8>,\n",
       " '设备': <gensim.models.keyedvectors.Vocab at 0x64d984e0>,\n",
       " '出现': <gensim.models.keyedvectors.Vocab at 0x64d98518>,\n",
       " '两个': <gensim.models.keyedvectors.Vocab at 0x64d98550>,\n",
       " '邮件': <gensim.models.keyedvectors.Vocab at 0x64d98588>,\n",
       " '请': <gensim.models.keyedvectors.Vocab at 0x64d985c0>,\n",
       " '按': <gensim.models.keyedvectors.Vocab at 0x64d985f8>,\n",
       " '菜单': <gensim.models.keyedvectors.Vocab at 0x64d98630>,\n",
       " '插入': <gensim.models.keyedvectors.Vocab at 0x64d98668>,\n",
       " '微笑': <gensim.models.keyedvectors.Vocab at 0x64d986a0>,\n",
       " '必须': <gensim.models.keyedvectors.Vocab at 0x64d986d8>,\n",
       " '5.01': <gensim.models.keyedvectors.Vocab at 0x64d98710>,\n",
       " '当': <gensim.models.keyedvectors.Vocab at 0x64d98748>,\n",
       " '试图': <gensim.models.keyedvectors.Vocab at 0x64d98780>,\n",
       " '许多': <gensim.models.keyedvectors.Vocab at 0x64d987b8>,\n",
       " '运营商': <gensim.models.keyedvectors.Vocab at 0x64d987f0>,\n",
       " '将': <gensim.models.keyedvectors.Vocab at 0x64d98828>,\n",
       " '破坏': <gensim.models.keyedvectors.Vocab at 0x64d98860>,\n",
       " '文本': <gensim.models.keyedvectors.Vocab at 0x64d98898>,\n",
       " '尤其': <gensim.models.keyedvectors.Vocab at 0x64d988d0>,\n",
       " '理解': <gensim.models.keyedvectors.Vocab at 0x64d98908>,\n",
       " '我': <gensim.models.keyedvectors.Vocab at 0x64d98940>,\n",
       " '不能': <gensim.models.keyedvectors.Vocab at 0x64d98978>,\n",
       " '友情': <gensim.models.keyedvectors.Vocab at 0x64d989b0>,\n",
       " '提示': <gensim.models.keyedvectors.Vocab at 0x64d989e8>,\n",
       " '本': <gensim.models.keyedvectors.Vocab at 0x64d98a20>,\n",
       " '作品': <gensim.models.keyedvectors.Vocab at 0x64d98a58>,\n",
       " '汉化版': <gensim.models.keyedvectors.Vocab at 0x64d98a90>,\n",
       " '安装': <gensim.models.keyedvectors.Vocab at 0x64d98ac8>,\n",
       " '时请': <gensim.models.keyedvectors.Vocab at 0x64d98b00>,\n",
       " '先': <gensim.models.keyedvectors.Vocab at 0x64d98b38>,\n",
       " '卸载': <gensim.models.keyedvectors.Vocab at 0x64d98b70>,\n",
       " '原版': <gensim.models.keyedvectors.Vocab at 0x64d98ba8>,\n",
       " '再': <gensim.models.keyedvectors.Vocab at 0x64d98be0>,\n",
       " '此': <gensim.models.keyedvectors.Vocab at 0x64d98c18>,\n",
       " 'QQ': <gensim.models.keyedvectors.Vocab at 0x64d98c50>,\n",
       " '•': <gensim.models.keyedvectors.Vocab at 0x64d98c88>,\n",
       " '乐在': <gensim.models.keyedvectors.Vocab at 0x64d98cc0>,\n",
       " '沟通': <gensim.models.keyedvectors.Vocab at 0x64d98cf8>,\n",
       " '√': <gensim.models.keyedvectors.Vocab at 0x64d98d30>,\n",
       " '超过': <gensim.models.keyedvectors.Vocab at 0x64d98d68>,\n",
       " '90%': <gensim.models.keyedvectors.Vocab at 0x64d98da0>,\n",
       " '多人': <gensim.models.keyedvectors.Vocab at 0x64d98dd8>,\n",
       " '文件': <gensim.models.keyedvectors.Vocab at 0x64d98e10>,\n",
       " '多端': <gensim.models.keyedvectors.Vocab at 0x64d98e48>,\n",
       " '互传': <gensim.models.keyedvectors.Vocab at 0x64d98e80>,\n",
       " '不断创新': <gensim.models.keyedvectors.Vocab at 0x64d98eb8>,\n",
       " '满足': <gensim.models.keyedvectors.Vocab at 0x64d98ef0>,\n",
       " '所': <gensim.models.keyedvectors.Vocab at 0x64d98f28>,\n",
       " '打造': <gensim.models.keyedvectors.Vocab at 0x64d98f60>,\n",
       " '欢乐': <gensim.models.keyedvectors.Vocab at 0x64d98f98>,\n",
       " '无限': <gensim.models.keyedvectors.Vocab at 0x64d98fd0>,\n",
       " '娱乐': <gensim.models.keyedvectors.Vocab at 0x64d9c048>,\n",
       " '体验': <gensim.models.keyedvectors.Vocab at 0x64d9c080>,\n",
       " '聊天': <gensim.models.keyedvectors.Vocab at 0x64d9c0b8>,\n",
       " '随时随地': <gensim.models.keyedvectors.Vocab at 0x64d9c0f0>,\n",
       " '群': <gensim.models.keyedvectors.Vocab at 0x64d9c128>,\n",
       " '一触': <gensim.models.keyedvectors.Vocab at 0x64d9c160>,\n",
       " '即': <gensim.models.keyedvectors.Vocab at 0x64d9c198>,\n",
       " '达': <gensim.models.keyedvectors.Vocab at 0x64d9c1d0>,\n",
       " '通话': <gensim.models.keyedvectors.Vocab at 0x64d9c208>,\n",
       " '两人': <gensim.models.keyedvectors.Vocab at 0x64d9c240>,\n",
       " '高清': <gensim.models.keyedvectors.Vocab at 0x64d9c278>,\n",
       " '畅聊': <gensim.models.keyedvectors.Vocab at 0x64d9c2b0>,\n",
       " '亲朋好友': <gensim.models.keyedvectors.Vocab at 0x64d9c2e8>,\n",
       " '想念': <gensim.models.keyedvectors.Vocab at 0x64d9c320>,\n",
       " '不如': <gensim.models.keyedvectors.Vocab at 0x64d9c358>,\n",
       " '相见': <gensim.models.keyedvectors.Vocab at 0x64d9c390>,\n",
       " '文件传输': <gensim.models.keyedvectors.Vocab at 0x64d9c3c8>,\n",
       " '电脑': <gensim.models.keyedvectors.Vocab at 0x64d9c400>,\n",
       " '方便快捷': <gensim.models.keyedvectors.Vocab at 0x64d9c438>,\n",
       " '空间': <gensim.models.keyedvectors.Vocab at 0x64d9c470>,\n",
       " '动态': <gensim.models.keyedvectors.Vocab at 0x64d9c4a8>,\n",
       " '快': <gensim.models.keyedvectors.Vocab at 0x64d9c4e0>,\n",
       " '获知': <gensim.models.keyedvectors.Vocab at 0x64d9c518>,\n",
       " '留住': <gensim.models.keyedvectors.Vocab at 0x64d9c550>,\n",
       " '感动': <gensim.models.keyedvectors.Vocab at 0x64d9c588>,\n",
       " '厘': <gensim.models.keyedvectors.Vocab at 0x64d9c5c0>,\n",
       " '米': <gensim.models.keyedvectors.Vocab at 0x64d9c5f8>,\n",
       " '秀': <gensim.models.keyedvectors.Vocab at 0x64d9c630>,\n",
       " '换': <gensim.models.keyedvectors.Vocab at 0x64d9c668>,\n",
       " '炫': <gensim.models.keyedvectors.Vocab at 0x64d9c6a0>,\n",
       " '动作': <gensim.models.keyedvectors.Vocab at 0x64d9c6d8>,\n",
       " '偷': <gensim.models.keyedvectors.Vocab at 0x64d9c710>,\n",
       " '胶囊': <gensim.models.keyedvectors.Vocab at 0x64d9c748>,\n",
       " '年轻人': <gensim.models.keyedvectors.Vocab at 0x64d9c780>,\n",
       " '最爱': <gensim.models.keyedvectors.Vocab at 0x64d9c7b8>,\n",
       " '潮': <gensim.models.keyedvectors.Vocab at 0x64d9c7f0>,\n",
       " '爆': <gensim.models.keyedvectors.Vocab at 0x64d9c828>,\n",
       " '玩法': <gensim.models.keyedvectors.Vocab at 0x64d9c860>,\n",
       " '个性': <gensim.models.keyedvectors.Vocab at 0x64d9c898>,\n",
       " '主题': <gensim.models.keyedvectors.Vocab at 0x64d9c8d0>,\n",
       " '名片': <gensim.models.keyedvectors.Vocab at 0x64d9c908>,\n",
       " '彩铃': <gensim.models.keyedvectors.Vocab at 0x64d9c940>,\n",
       " '气泡': <gensim.models.keyedvectors.Vocab at 0x64d9c978>,\n",
       " '挂件': <gensim.models.keyedvectors.Vocab at 0x64d9c9b0>,\n",
       " '自由': <gensim.models.keyedvectors.Vocab at 0x64d9c9e8>,\n",
       " '选': <gensim.models.keyedvectors.Vocab at 0x64d9ca20>,\n",
       " '天天': <gensim.models.keyedvectors.Vocab at 0x64d9ca58>,\n",
       " '全民': <gensim.models.keyedvectors.Vocab at 0x64d9ca90>,\n",
       " '最热': <gensim.models.keyedvectors.Vocab at 0x64d9cac8>,\n",
       " '手游': <gensim.models.keyedvectors.Vocab at 0x64d9cb00>,\n",
       " '根本': <gensim.models.keyedvectors.Vocab at 0x64d9cb38>,\n",
       " '停不下来': <gensim.models.keyedvectors.Vocab at 0x64d9cb70>,\n",
       " '充值': <gensim.models.keyedvectors.Vocab at 0x64d9cba8>,\n",
       " '网购': <gensim.models.keyedvectors.Vocab at 0x64d9cbe0>,\n",
       " '一应俱全': <gensim.models.keyedvectors.Vocab at 0x64d9cc18>,\n",
       " '看点': <gensim.models.keyedvectors.Vocab at 0x64d9cc50>,\n",
       " '专': <gensim.models.keyedvectors.Vocab at 0x64d9cc88>,\n",
       " '个性化': <gensim.models.keyedvectors.Vocab at 0x64d9ccc0>,\n",
       " '19': <gensim.models.keyedvectors.Vocab at 0x64d9ccf8>,\n",
       " '亿人': <gensim.models.keyedvectors.Vocab at 0x64d9cd30>,\n",
       " '如': <gensim.models.keyedvectors.Vocab at 0x64d9cd68>,\n",
       " '过程': <gensim.models.keyedvectors.Vocab at 0x64d9cda0>,\n",
       " '遇到': <gensim.models.keyedvectors.Vocab at 0x64d9cdd8>,\n",
       " '任何': <gensim.models.keyedvectors.Vocab at 0x64d9ce10>,\n",
       " '在线': <gensim.models.keyedvectors.Vocab at 0x64d9ce48>,\n",
       " '帮助': <gensim.models.keyedvectors.Vocab at 0x64d9ce80>,\n",
       " '进入': <gensim.models.keyedvectors.Vocab at 0x64d9ceb8>,\n",
       " '关于': <gensim.models.keyedvectors.Vocab at 0x64d9cef0>,\n",
       " '反馈': <gensim.models.keyedvectors.Vocab at 0x64d9cf28>,\n",
       " '客服热线': <gensim.models.keyedvectors.Vocab at 0x64d9cf60>,\n",
       " '0755': <gensim.models.keyedvectors.Vocab at 0x64d9cf98>,\n",
       " '83763333': <gensim.models.keyedvectors.Vocab at 0x64d9cfd0>,\n",
       " '（': <gensim.models.keyedvectors.Vocab at 0x64d9f048>,\n",
       " '8': <gensim.models.keyedvectors.Vocab at 0x64d9f080>,\n",
       " '00': <gensim.models.keyedvectors.Vocab at 0x64d9f0b8>,\n",
       " '23': <gensim.models.keyedvectors.Vocab at 0x64d9f0f0>,\n",
       " '）': <gensim.models.keyedvectors.Vocab at 0x64d9f128>,\n",
       " '这是': <gensim.models.keyedvectors.Vocab at 0x64d9f160>,\n",
       " '实用': <gensim.models.keyedvectors.Vocab at 0x64d9f198>,\n",
       " '操作': <gensim.models.keyedvectors.Vocab at 0x64d9f1d0>,\n",
       " '简明': <gensim.models.keyedvectors.Vocab at 0x64d9f208>,\n",
       " '性能': <gensim.models.keyedvectors.Vocab at 0x64d9f240>,\n",
       " '出众': <gensim.models.keyedvectors.Vocab at 0x64d9f278>,\n",
       " '智能指南针': <gensim.models.keyedvectors.Vocab at 0x64d9f2b0>,\n",
       " '它': <gensim.models.keyedvectors.Vocab at 0x64d9f2e8>,\n",
       " '抛': <gensim.models.keyedvectors.Vocab at 0x64d9f320>,\n",
       " '去': <gensim.models.keyedvectors.Vocab at 0x64d9f358>,\n",
       " '浮华': <gensim.models.keyedvectors.Vocab at 0x64d9f390>,\n",
       " '洗尽': <gensim.models.keyedvectors.Vocab at 0x64d9f3c8>,\n",
       " '铅尘': <gensim.models.keyedvectors.Vocab at 0x64d9f400>,\n",
       " '优化': <gensim.models.keyedvectors.Vocab at 0x64d9f438>,\n",
       " '后': <gensim.models.keyedvectors.Vocab at 0x64d9f470>,\n",
       " '精准': <gensim.models.keyedvectors.Vocab at 0x64d9f4a8>,\n",
       " '指南': <gensim.models.keyedvectors.Vocab at 0x64d9f4e0>,\n",
       " '精确定位': <gensim.models.keyedvectors.Vocab at 0x64d9f518>,\n",
       " '多样': <gensim.models.keyedvectors.Vocab at 0x64d9f550>,\n",
       " '极速': <gensim.models.keyedvectors.Vocab at 0x64d9f588>,\n",
       " '启动': <gensim.models.keyedvectors.Vocab at 0x64d9f5c0>,\n",
       " '体积': <gensim.models.keyedvectors.Vocab at 0x64d9f5f8>,\n",
       " '只有': <gensim.models.keyedvectors.Vocab at 0x64d9f630>,\n",
       " '原来': <gensim.models.keyedvectors.Vocab at 0x64d9f668>,\n",
       " '三分之一': <gensim.models.keyedvectors.Vocab at 0x64d9f6a0>,\n",
       " '画面': <gensim.models.keyedvectors.Vocab at 0x64d9f6d8>,\n",
       " '流畅': <gensim.models.keyedvectors.Vocab at 0x64d9f710>,\n",
       " '实景': <gensim.models.keyedvectors.Vocab at 0x64d9f748>,\n",
       " '可': <gensim.models.keyedvectors.Vocab at 0x64d9f780>,\n",
       " '随心': <gensim.models.keyedvectors.Vocab at 0x64d9f7b8>,\n",
       " '开启': <gensim.models.keyedvectors.Vocab at 0x64d9f7f0>,\n",
       " '继承': <gensim.models.keyedvectors.Vocab at 0x64d9f828>,\n",
       " '一贯': <gensim.models.keyedvectors.Vocab at 0x64d9f860>,\n",
       " '灵活': <gensim.models.keyedvectors.Vocab at 0x64d9f898>,\n",
       " '这': <gensim.models.keyedvectors.Vocab at 0x64d9f8d0>,\n",
       " '款': <gensim.models.keyedvectors.Vocab at 0x64d9f908>,\n",
       " '现代': <gensim.models.keyedvectors.Vocab at 0x64d9f940>,\n",
       " '获得': <gensim.models.keyedvectors.Vocab at 0x64d9f978>,\n",
       " '以下': <gensim.models.keyedvectors.Vocab at 0x64d9f9b0>,\n",
       " '能力': <gensim.models.keyedvectors.Vocab at 0x64d9f9e8>,\n",
       " '☛': <gensim.models.keyedvectors.Vocab at 0x64d9fa20>,\n",
       " '和地图': <gensim.models.keyedvectors.Vocab at 0x64d9fa58>,\n",
       " '相结合': <gensim.models.keyedvectors.Vocab at 0x64d9fa90>,\n",
       " '想': <gensim.models.keyedvectors.Vocab at 0x64d9fac8>,\n",
       " '迷路': <gensim.models.keyedvectors.Vocab at 0x64d9fb00>,\n",
       " '同意': <gensim.models.keyedvectors.Vocab at 0x64d9fb38>,\n",
       " '画': <gensim.models.keyedvectors.Vocab at 0x64d9fb70>,\n",
       " '指南针': <gensim.models.keyedvectors.Vocab at 0x64d9fba8>,\n",
       " '十字线': <gensim.models.keyedvectors.Vocab at 0x64d9fbe0>,\n",
       " '方位': <gensim.models.keyedvectors.Vocab at 0x64d9fc18>,\n",
       " '把': <gensim.models.keyedvectors.Vocab at 0x64d9fc50>,\n",
       " '控': <gensim.models.keyedvectors.Vocab at 0x64d9fc88>,\n",
       " '经纬度': <gensim.models.keyedvectors.Vocab at 0x64d9fcc0>,\n",
       " '地址': <gensim.models.keyedvectors.Vocab at 0x64d9fcf8>,\n",
       " '气压': <gensim.models.keyedvectors.Vocab at 0x64d9fd30>,\n",
       " '海拔': <gensim.models.keyedvectors.Vocab at 0x64d9fd68>,\n",
       " '高度': <gensim.models.keyedvectors.Vocab at 0x64d9fda0>,\n",
       " '差': <gensim.models.keyedvectors.Vocab at 0x64d9fdd8>,\n",
       " '磁场强度': <gensim.models.keyedvectors.Vocab at 0x64d9fe10>,\n",
       " '...': <gensim.models.keyedvectors.Vocab at 0x64d9fe48>,\n",
       " '各类': <gensim.models.keyedvectors.Vocab at 0x64d9fe80>,\n",
       " '应有尽有': <gensim.models.keyedvectors.Vocab at 0x64d9feb8>,\n",
       " '水平仪': <gensim.models.keyedvectors.Vocab at 0x64d9fef0>,\n",
       " '测量': <gensim.models.keyedvectors.Vocab at 0x64d9ff28>,\n",
       " '集成': <gensim.models.keyedvectors.Vocab at 0x64d9ff60>,\n",
       " '多款': <gensim.models.keyedvectors.Vocab at 0x64d9ff98>,\n",
       " '罗盘': <gensim.models.keyedvectors.Vocab at 0x64d9ffd0>,\n",
       " '以及': <gensim.models.keyedvectors.Vocab at 0x64da2048>,\n",
       " '生肖': <gensim.models.keyedvectors.Vocab at 0x64da2080>,\n",
       " '系列': <gensim.models.keyedvectors.Vocab at 0x64da20b8>,\n",
       " '美观': <gensim.models.keyedvectors.Vocab at 0x64da20f0>,\n",
       " '简洁': <gensim.models.keyedvectors.Vocab at 0x64da2128>,\n",
       " '媲美': <gensim.models.keyedvectors.Vocab at 0x64da2160>,\n",
       " '专业': <gensim.models.keyedvectors.Vocab at 0x64da2198>,\n",
       " '地图功能': <gensim.models.keyedvectors.Vocab at 0x64da21d0>,\n",
       " '查': <gensim.models.keyedvectors.Vocab at 0x64da2208>,\n",
       " '地点': <gensim.models.keyedvectors.Vocab at 0x64da2240>,\n",
       " '辨': <gensim.models.keyedvectors.Vocab at 0x64da2278>,\n",
       " '方向': <gensim.models.keyedvectors.Vocab at 0x64da22b0>,\n",
       " '找寻': <gensim.models.keyedvectors.Vocab at 0x64da22e8>,\n",
       " '路': <gensim.models.keyedvectors.Vocab at 0x64da2320>,\n",
       " '检测': <gensim.models.keyedvectors.Vocab at 0x64da2358>,\n",
       " '对': <gensim.models.keyedvectors.Vocab at 0x64da2390>,\n",
       " '心里有数': <gensim.models.keyedvectors.Vocab at 0x64da23c8>,\n",
       " '转': <gensim.models.keyedvectors.Vocab at 0x64da2400>,\n",
       " '平面': <gensim.models.keyedvectors.Vocab at 0x64da2438>,\n",
       " '直角坐标': <gensim.models.keyedvectors.Vocab at 0x64da2470>,\n",
       " '系': <gensim.models.keyedvectors.Vocab at 0x64da24a8>,\n",
       " '升级': <gensim.models.keyedvectors.Vocab at 0x64da24e0>,\n",
       " '更佳': <gensim.models.keyedvectors.Vocab at 0x64da2518>,\n",
       " '应该': <gensim.models.keyedvectors.Vocab at 0x64da2550>,\n",
       " '必备': <gensim.models.keyedvectors.Vocab at 0x64da2588>,\n",
       " '工具': <gensim.models.keyedvectors.Vocab at 0x64da25c0>,\n",
       " '大家': <gensim.models.keyedvectors.Vocab at 0x64da25f8>,\n",
       " '随喜': <gensim.models.keyedvectors.Vocab at 0x64da2630>,\n",
       " '评论': <gensim.models.keyedvectors.Vocab at 0x64da2668>,\n",
       " '也': <gensim.models.keyedvectors.Vocab at 0x64da26a0>,\n",
       " '多多': <gensim.models.keyedvectors.Vocab at 0x64da26d8>,\n",
       " '程序': <gensim.models.keyedvectors.Vocab at 0x64da2710>,\n",
       " '猿': <gensim.models.keyedvectors.Vocab at 0x64da2748>,\n",
       " '重要': <gensim.models.keyedvectors.Vocab at 0x64da2780>,\n",
       " '正常': <gensim.models.keyedvectors.Vocab at 0x64da27b8>,\n",
       " '运行': <gensim.models.keyedvectors.Vocab at 0x64da27f0>,\n",
       " '需要': <gensim.models.keyedvectors.Vocab at 0x64da2828>,\n",
       " '加速度': <gensim.models.keyedvectors.Vocab at 0x64da2860>,\n",
       " '传感器': <gensim.models.keyedvectors.Vocab at 0x64da2898>,\n",
       " '磁场': <gensim.models.keyedvectors.Vocab at 0x64da28d0>,\n",
       " '并': <gensim.models.keyedvectors.Vocab at 0x64da2908>,\n",
       " '授予': <gensim.models.keyedvectors.Vocab at 0x64da2940>,\n",
       " '应用': <gensim.models.keyedvectors.Vocab at 0x64da2978>,\n",
       " '获取': <gensim.models.keyedvectors.Vocab at 0x64da29b0>,\n",
       " '运动': <gensim.models.keyedvectors.Vocab at 0x64da29e8>,\n",
       " '数据': <gensim.models.keyedvectors.Vocab at 0x64da2a20>,\n",
       " '权限': <gensim.models.keyedvectors.Vocab at 0x64da2a58>,\n",
       " '华为': <gensim.models.keyedvectors.Vocab at 0x64da2a90>,\n",
       " '前': <gensim.models.keyedvectors.Vocab at 0x64da2ac8>,\n",
       " '了解': <gensim.models.keyedvectors.Vocab at 0x64da2b00>,\n",
       " '下': <gensim.models.keyedvectors.Vocab at 0x64da2b38>,\n",
       " '是否': <gensim.models.keyedvectors.Vocab at 0x64da2b70>,\n",
       " '不要': <gensim.models.keyedvectors.Vocab at 0x64da2ba8>,\n",
       " '给出': <gensim.models.keyedvectors.Vocab at 0x64da2be0>,\n",
       " '错误': <gensim.models.keyedvectors.Vocab at 0x64da2c18>,\n",
       " '经验': <gensim.models.keyedvectors.Vocab at 0x64da2c50>,\n",
       " '影响': <gensim.models.keyedvectors.Vocab at 0x64da2c88>,\n",
       " '其他': <gensim.models.keyedvectors.Vocab at 0x64da2cc0>,\n",
       " '状态': <gensim.models.keyedvectors.Vocab at 0x64da2cf8>,\n",
       " '内有': <gensim.models.keyedvectors.Vocab at 0x64da2d30>,\n",
       " '做好': <gensim.models.keyedvectors.Vocab at 0x64da2d68>,\n",
       " '校准': <gensim.models.keyedvectors.Vocab at 0x64da2da0>,\n",
       " '以便': <gensim.models.keyedvectors.Vocab at 0x64da2dd8>,\n",
       " '更好': <gensim.models.keyedvectors.Vocab at 0x64da2e10>,\n",
       " '手机淘宝': <gensim.models.keyedvectors.Vocab at 0x64da2e48>,\n",
       " '版': <gensim.models.keyedvectors.Vocab at 0x64da2e80>,\n",
       " '阿里巴巴': <gensim.models.keyedvectors.Vocab at 0x64da2eb8>,\n",
       " '专为': <gensim.models.keyedvectors.Vocab at 0x64da2ef0>,\n",
       " '手机用户': <gensim.models.keyedvectors.Vocab at 0x64da2f28>,\n",
       " '推出': <gensim.models.keyedvectors.Vocab at 0x64da2f60>,\n",
       " '其': <gensim.models.keyedvectors.Vocab at 0x64da2f98>,\n",
       " '线': <gensim.models.keyedvectors.Vocab at 0x64da2fd0>,\n",
       " '购物': <gensim.models.keyedvectors.Vocab at 0x64da7048>,\n",
       " '需求': <gensim.models.keyedvectors.Vocab at 0x64da7080>,\n",
       " '软件': <gensim.models.keyedvectors.Vocab at 0x64da70b8>,\n",
       " '具有': <gensim.models.keyedvectors.Vocab at 0x64da70f0>,\n",
       " '附近': <gensim.models.keyedvectors.Vocab at 0x64da7128>,\n",
       " '浏览': <gensim.models.keyedvectors.Vocab at 0x64da7160>,\n",
       " '购买': <gensim.models.keyedvectors.Vocab at 0x64da7198>,\n",
       " '收藏': <gensim.models.keyedvectors.Vocab at 0x64da71d0>,\n",
       " '物流': <gensim.models.keyedvectors.Vocab at 0x64da7208>,\n",
       " '查询': <gensim.models.keyedvectors.Vocab at 0x64da7240>,\n",
       " '旺旺': <gensim.models.keyedvectors.Vocab at 0x64da7278>,\n",
       " '入口': <gensim.models.keyedvectors.Vocab at 0x64da72b0>,\n",
       " '乐': <gensim.models.keyedvectors.Vocab at 0x64da72e8>,\n",
       " '同步': <gensim.models.keyedvectors.Vocab at 0x64da7320>,\n",
       " '全新': <gensim.models.keyedvectors.Vocab at 0x64da7358>,\n",
       " '改版': <gensim.models.keyedvectors.Vocab at 0x64da7390>,\n",
       " '一个': <gensim.models.keyedvectors.Vocab at 0x64da73c8>,\n",
       " '云服务': <gensim.models.keyedvectors.Vocab at 0x64da7400>,\n",
       " '私人': <gensim.models.keyedvectors.Vocab at 0x64da7438>,\n",
       " '数据备份': <gensim.models.keyedvectors.Vocab at 0x64da7470>,\n",
       " '管理平台': <gensim.models.keyedvectors.Vocab at 0x64da74a8>,\n",
       " '一键': <gensim.models.keyedvectors.Vocab at 0x64da74e0>,\n",
       " '备份': <gensim.models.keyedvectors.Vocab at 0x64da7518>,\n",
       " '恢复': <gensim.models.keyedvectors.Vocab at 0x64da7550>,\n",
       " '通讯录': <gensim.models.keyedvectors.Vocab at 0x64da7588>,\n",
       " '通话记录': <gensim.models.keyedvectors.Vocab at 0x64da75c0>,\n",
       " '照片': <gensim.models.keyedvectors.Vocab at 0x64da75f8>,\n",
       " '以后': <gensim.models.keyedvectors.Vocab at 0x64da7630>,\n",
       " '不用': <gensim.models.keyedvectors.Vocab at 0x64da7668>,\n",
       " '担心': <gensim.models.keyedvectors.Vocab at 0x64da76a0>,\n",
       " '遗失': <gensim.models.keyedvectors.Vocab at 0x64da76d8>,\n",
       " '数据安全': <gensim.models.keyedvectors.Vocab at 0x64da7710>,\n",
       " '256': <gensim.models.keyedvectors.Vocab at 0x64da7748>,\n",
       " '位': <gensim.models.keyedvectors.Vocab at 0x64da7780>,\n",
       " 'AES': <gensim.models.keyedvectors.Vocab at 0x64da77b8>,\n",
       " 'SSL': <gensim.models.keyedvectors.Vocab at 0x64da77f0>,\n",
       " 'TLS': <gensim.models.keyedvectors.Vocab at 0x64da7828>,\n",
       " '加密': <gensim.models.keyedvectors.Vocab at 0x64da7860>,\n",
       " '切片': <gensim.models.keyedvectors.Vocab at 0x64da7898>,\n",
       " '存储': <gensim.models.keyedvectors.Vocab at 0x64da78d0>,\n",
       " '即使': <gensim.models.keyedvectors.Vocab at 0x64da7908>,\n",
       " '研发': <gensim.models.keyedvectors.Vocab at 0x64da7940>,\n",
       " '人员': <gensim.models.keyedvectors.Vocab at 0x64da7978>,\n",
       " '接触': <gensim.models.keyedvectors.Vocab at 0x64da79b0>,\n",
       " '带': <gensim.models.keyedvectors.Vocab at 0x64da79e8>,\n",
       " '仪表盘': <gensim.models.keyedvectors.Vocab at 0x64da7a20>,\n",
       " '首页': <gensim.models.keyedvectors.Vocab at 0x64da7a58>,\n",
       " '联系人': <gensim.models.keyedvectors.Vocab at 0x64da7a90>,\n",
       " '吗': <gensim.models.keyedvectors.Vocab at 0x64da7ac8>,\n",
       " '还是': <gensim.models.keyedvectors.Vocab at 0x64da7b00>,\n",
       " '没有': <gensim.models.keyedvectors.Vocab at 0x64da7b38>,\n",
       " '呢': <gensim.models.keyedvectors.Vocab at 0x64da7b70>,\n",
       " '一目了然': <gensim.models.keyedvectors.Vocab at 0x64da7ba8>,\n",
       " '及时': <gensim.models.keyedvectors.Vocab at 0x64da7be0>,\n",
       " '展示': <gensim.models.keyedvectors.Vocab at 0x64da7c18>,\n",
       " '轻轻': <gensim.models.keyedvectors.Vocab at 0x64da7c50>,\n",
       " '一点': <gensim.models.keyedvectors.Vocab at 0x64da7c88>,\n",
       " '立即': <gensim.models.keyedvectors.Vocab at 0x64da7cc0>,\n",
       " '情况': <gensim.models.keyedvectors.Vocab at 0x64da7cf8>,\n",
       " '条条': <gensim.models.keyedvectors.Vocab at 0x64da7d30>,\n",
       " '清晰': <gensim.models.keyedvectors.Vocab at 0x64da7d68>,\n",
       " '哪儿': <gensim.models.keyedvectors.Vocab at 0x64da7da0>,\n",
       " '没': <gensim.models.keyedvectors.Vocab at 0x64da7dd8>,\n",
       " '开始': <gensim.models.keyedvectors.Vocab at 0x64da7e10>,\n",
       " '云盘': <gensim.models.keyedvectors.Vocab at 0x64da7e48>,\n",
       " '这种': <gensim.models.keyedvectors.Vocab at 0x64da7e80>,\n",
       " '历史': <gensim.models.keyedvectors.Vocab at 0x64da7eb8>,\n",
       " '页': <gensim.models.keyedvectors.Vocab at 0x64da7ef0>,\n",
       " '里': <gensim.models.keyedvectors.Vocab at 0x64da7f28>,\n",
       " '每块': <gensim.models.keyedvectors.Vocab at 0x64da7f60>,\n",
       " '占用': <gensim.models.keyedvectors.Vocab at 0x64da7f98>,\n",
       " '大小': <gensim.models.keyedvectors.Vocab at 0x64da7fd0>,\n",
       " '清晰可见': <gensim.models.keyedvectors.Vocab at 0x64daa048>,\n",
       " '清新': <gensim.models.keyedvectors.Vocab at 0x64daa080>,\n",
       " '页面': <gensim.models.keyedvectors.Vocab at 0x64daa0b8>,\n",
       " '布局合理': <gensim.models.keyedvectors.Vocab at 0x64daa0f0>,\n",
       " '只是': <gensim.models.keyedvectors.Vocab at 0x64daa128>,\n",
       " '过乐': <gensim.models.keyedvectors.Vocab at 0x64daa160>,\n",
       " '同学': <gensim.models.keyedvectors.Vocab at 0x64daa198>,\n",
       " '给予': <gensim.models.keyedvectors.Vocab at 0x64daa1d0>,\n",
       " '*': <gensim.models.keyedvectors.Vocab at 0x64daa208>,\n",
       " '多': <gensim.models.keyedvectors.Vocab at 0x64daa240>,\n",
       " '评价': <gensim.models.keyedvectors.Vocab at 0x64daa278>,\n",
       " '觉得': <gensim.models.keyedvectors.Vocab at 0x64daa2b0>,\n",
       " '期待': <gensim.models.keyedvectors.Vocab at 0x64daa2e8>,\n",
       " '除此之外': <gensim.models.keyedvectors.Vocab at 0x64daa320>,\n",
       " '回收站': <gensim.models.keyedvectors.Vocab at 0x64daa358>,\n",
       " '合并': <gensim.models.keyedvectors.Vocab at 0x64daa390>,\n",
       " '网站': <gensim.models.keyedvectors.Vocab at 0x64daa3c8>,\n",
       " '管理': <gensim.models.keyedvectors.Vocab at 0x64daa400>,\n",
       " '随心所欲': <gensim.models.keyedvectors.Vocab at 0x64daa438>,\n",
       " '努力': <gensim.models.keyedvectors.Vocab at 0x64daa470>,\n",
       " '演进': <gensim.models.keyedvectors.Vocab at 0x64daa4a8>,\n",
       " '不够': <gensim.models.keyedvectors.Vocab at 0x64daa4e0>,\n",
       " '完美': <gensim.models.keyedvectors.Vocab at 0x64daa518>,\n",
       " '意见': <gensim.models.keyedvectors.Vocab at 0x64daa550>,\n",
       " '建议': <gensim.models.keyedvectors.Vocab at 0x64daa588>,\n",
       " '随时': <gensim.models.keyedvectors.Vocab at 0x64daa5c0>,\n",
       " '邮箱': <gensim.models.keyedvectors.Vocab at 0x64daa5f8>,\n",
       " 'syncit': <gensim.models.keyedvectors.Vocab at 0x64daa630>,\n",
       " '@': <gensim.models.keyedvectors.Vocab at 0x64daa668>,\n",
       " 'lenovo': <gensim.models.keyedvectors.Vocab at 0x64daa6a0>,\n",
       " '92881061': <gensim.models.keyedvectors.Vocab at 0x64daa6d8>,\n",
       " 'WiFi': <gensim.models.keyedvectors.Vocab at 0x64daa710>,\n",
       " '热点': <gensim.models.keyedvectors.Vocab at 0x64daa748>,\n",
       " '无忧': <gensim.models.keyedvectors.Vocab at 0x64daa780>,\n",
       " '连接': <gensim.models.keyedvectors.Vocab at 0x64daa7b8>,\n",
       " '无论': <gensim.models.keyedvectors.Vocab at 0x64daa7f0>,\n",
       " '身处': <gensim.models.keyedvectors.Vocab at 0x64daa828>,\n",
       " '何地': <gensim.models.keyedvectors.Vocab at 0x64daa860>,\n",
       " '只要': <gensim.models.keyedvectors.Vocab at 0x64daa898>,\n",
       " '打开': <gensim.models.keyedvectors.Vocab at 0x64daa8d0>,\n",
       " 'APP': <gensim.models.keyedvectors.Vocab at 0x64daa908>,\n",
       " '放心': <gensim.models.keyedvectors.Vocab at 0x64daa940>,\n",
       " '节省': <gensim.models.keyedvectors.Vocab at 0x64daa978>,\n",
       " '快人一步': <gensim.models.keyedvectors.Vocab at 0x64daa9b0>,\n",
       " '畅享': <gensim.models.keyedvectors.Vocab at 0x64daa9e8>,\n",
       " '24小时': <gensim.models.keyedvectors.Vocab at 0x64daaa20>,\n",
       " '再也': <gensim.models.keyedvectors.Vocab at 0x64daaa58>,\n",
       " '月底': <gensim.models.keyedvectors.Vocab at 0x64daaa90>,\n",
       " '啦': <gensim.models.keyedvectors.Vocab at 0x64daaac8>,\n",
       " '秒速': <gensim.models.keyedvectors.Vocab at 0x64daab00>,\n",
       " '发现': <gensim.models.keyedvectors.Vocab at 0x64daab38>,\n",
       " '就是': <gensim.models.keyedvectors.Vocab at 0x64daab70>,\n",
       " '这么': <gensim.models.keyedvectors.Vocab at 0x64daaba8>,\n",
       " '内置': <gensim.models.keyedvectors.Vocab at 0x64daabe0>,\n",
       " '中国移动': <gensim.models.keyedvectors.Vocab at 0x64daac18>,\n",
       " 'CMCC': <gensim.models.keyedvectors.Vocab at 0x64daac50>,\n",
       " '中国联通': <gensim.models.keyedvectors.Vocab at 0x64daac88>,\n",
       " 'ChinaUnicom': <gensim.models.keyedvectors.Vocab at 0x64daacc0>,\n",
       " '中国电信': <gensim.models.keyedvectors.Vocab at 0x64daacf8>,\n",
       " 'ChinaNet': <gensim.models.keyedvectors.Vocab at 0x64daad30>,\n",
       " '方便': <gensim.models.keyedvectors.Vocab at 0x64daad68>,\n",
       " '掌握': <gensim.models.keyedvectors.Vocab at 0x64daada0>,\n",
       " '网速': <gensim.models.keyedvectors.Vocab at 0x64daadd8>,\n",
       " '测试': <gensim.models.keyedvectors.Vocab at 0x64daae10>,\n",
       " '信号': <gensim.models.keyedvectors.Vocab at 0x64daae48>,\n",
       " '好伴侣': <gensim.models.keyedvectors.Vocab at 0x64daae80>,\n",
       " '好': <gensim.models.keyedvectors.Vocab at 0x64daaeb8>,\n",
       " '管家': <gensim.models.keyedvectors.Vocab at 0x64daaef0>,\n",
       " '神器': <gensim.models.keyedvectors.Vocab at 0x64daaf28>,\n",
       " '精彩': <gensim.models.keyedvectors.Vocab at 0x64daaf60>,\n",
       " '找': <gensim.models.keyedvectors.Vocab at 0x64daaf98>,\n",
       " '工作': <gensim.models.keyedvectors.Vocab at 0x64daafd0>,\n",
       " '直播': <gensim.models.keyedvectors.Vocab at 0x64dad048>,\n",
       " ',': <gensim.models.keyedvectors.Vocab at 0x64dad080>,\n",
       " '狼人': <gensim.models.keyedvectors.Vocab at 0x64dad0b8>,\n",
       " '杀': <gensim.models.keyedvectors.Vocab at 0x64dad0f0>,\n",
       " '玩': <gensim.models.keyedvectors.Vocab at 0x64dad128>,\n",
       " '头条': <gensim.models.keyedvectors.Vocab at 0x64dad160>,\n",
       " '共享单车': <gensim.models.keyedvectors.Vocab at 0x64dad198>,\n",
       " '精彩资讯': <gensim.models.keyedvectors.Vocab at 0x64dad1d0>,\n",
       " '等你': <gensim.models.keyedvectors.Vocab at 0x64dad208>,\n",
       " '探索': <gensim.models.keyedvectors.Vocab at 0x64dad240>,\n",
       " '变': <gensim.models.keyedvectors.Vocab at 0x64dad278>,\n",
       " '；': <gensim.models.keyedvectors.Vocab at 0x64dad2b0>,\n",
       " '统计': <gensim.models.keyedvectors.Vocab at 0x64dad2e8>,\n",
       " '贴心': <gensim.models.keyedvectors.Vocab at 0x64dad320>,\n",
       " '敬请': <gensim.models.keyedvectors.Vocab at 0x64dad358>,\n",
       " '《': <gensim.models.keyedvectors.Vocab at 0x64dad390>,\n",
       " '》': <gensim.models.keyedvectors.Vocab at 0x64dad3c8>,\n",
       " '游戏': <gensim.models.keyedvectors.Vocab at 0x64dad400>,\n",
       " '软游': <gensim.models.keyedvectors.Vocab at 0x64dad438>,\n",
       " '天下': <gensim.models.keyedvectors.Vocab at 0x64dad470>,\n",
       " '出品': <gensim.models.keyedvectors.Vocab at 0x64dad4a8>,\n",
       " '手机游戏': <gensim.models.keyedvectors.Vocab at 0x64dad4e0>,\n",
       " '分发': <gensim.models.keyedvectors.Vocab at 0x64dad518>,\n",
       " '各种各样': <gensim.models.keyedvectors.Vocab at 0x64dad550>,\n",
       " '资源': <gensim.models.keyedvectors.Vocab at 0x64dad588>,\n",
       " '优良': <gensim.models.keyedvectors.Vocab at 0x64dad5c0>,\n",
       " '稳定性': <gensim.models.keyedvectors.Vocab at 0x64dad5f8>,\n",
       " '改进': <gensim.models.keyedvectors.Vocab at 0x64dad630>,\n",
       " '修正': <gensim.models.keyedvectors.Vocab at 0x64dad668>,\n",
       " '简介': <gensim.models.keyedvectors.Vocab at 0x64dad6a0>,\n",
       " '魅族': <gensim.models.keyedvectors.Vocab at 0x64dad6d8>,\n",
       " '「': <gensim.models.keyedvectors.Vocab at 0x64dad710>,\n",
       " '查找手机': <gensim.models.keyedvectors.Vocab at 0x64dad748>,\n",
       " '」': <gensim.models.keyedvectors.Vocab at 0x64dad780>,\n",
       " '防盗': <gensim.models.keyedvectors.Vocab at 0x64dad7b8>,\n",
       " '同名': <gensim.models.keyedvectors.Vocab at 0x64dad7f0>,\n",
       " '独立': <gensim.models.keyedvectors.Vocab at 0x64dad828>,\n",
       " '主流': <gensim.models.keyedvectors.Vocab at 0x64dad860>,\n",
       " '安卓': <gensim.models.keyedvectors.Vocab at 0x64dad898>,\n",
       " '机型': <gensim.models.keyedvectors.Vocab at 0x64dad8d0>,\n",
       " '不慎': <gensim.models.keyedvectors.Vocab at 0x64dad908>,\n",
       " '时': <gensim.models.keyedvectors.Vocab at 0x64dad940>,\n",
       " '客户端': <gensim.models.keyedvectors.Vocab at 0x64dad978>,\n",
       " 'Flyme': <gensim.models.keyedvectors.Vocab at 0x64dad9b0>,\n",
       " '模块': <gensim.models.keyedvectors.Vocab at 0x64dad9e8>,\n",
       " '进行': <gensim.models.keyedvectors.Vocab at 0x64dada20>,\n",
       " '挂失': <gensim.models.keyedvectors.Vocab at 0x64dada58>,\n",
       " '定位': <gensim.models.keyedvectors.Vocab at 0x64dada90>,\n",
       " '锁定': <gensim.models.keyedvectors.Vocab at 0x64dadac8>,\n",
       " '拍照': <gensim.models.keyedvectors.Vocab at 0x64dadb00>,\n",
       " '播放': <gensim.models.keyedvectors.Vocab at 0x64dadb38>,\n",
       " '警报': <gensim.models.keyedvectors.Vocab at 0x64dadb70>,\n",
       " '清空': <gensim.models.keyedvectors.Vocab at 0x64dadba8>,\n",
       " '保护': <gensim.models.keyedvectors.Vocab at 0x64dadbe0>,\n",
       " '信息安全': <gensim.models.keyedvectors.Vocab at 0x64dadc18>,\n",
       " '找回手机': <gensim.models.keyedvectors.Vocab at 0x64dadc50>,\n",
       " '方式': <gensim.models.keyedvectors.Vocab at 0x64dadc88>,\n",
       " '确保': <gensim.models.keyedvectors.Vocab at 0x64dadcc0>,\n",
       " '“': <gensim.models.keyedvectors.Vocab at 0x64dadcf8>,\n",
       " '账号': <gensim.models.keyedvectors.Vocab at 0x64dadd30>,\n",
       " '”': <gensim.models.keyedvectors.Vocab at 0x64dadd68>,\n",
       " '登录': <gensim.models.keyedvectors.Vocab at 0x64dadda0>,\n",
       " '同一': <gensim.models.keyedvectors.Vocab at 0x64daddd8>,\n",
       " '账户': <gensim.models.keyedvectors.Vocab at 0x64dade10>,\n",
       " '远程': <gensim.models.keyedvectors.Vocab at 0x64dade48>,\n",
       " '官网': <gensim.models.keyedvectors.Vocab at 0x64dade80>,\n",
       " '相同': <gensim.models.keyedvectors.Vocab at 0x64dadeb8>,\n",
       " '精彩内容': <gensim.models.keyedvectors.Vocab at 0x64dadef0>,\n",
       " '现在': <gensim.models.keyedvectors.Vocab at 0x64dadf28>,\n",
       " '就要': <gensim.models.keyedvectors.Vocab at 0x64dadf60>,\n",
       " '电视剧': <gensim.models.keyedvectors.Vocab at 0x64dadf98>,\n",
       " '大': <gensim.models.keyedvectors.Vocab at 0x64dadfd0>,\n",
       " '集合': <gensim.models.keyedvectors.Vocab at 0x64db1048>,\n",
       " '大江': <gensim.models.keyedvectors.Vocab at 0x64db1080>,\n",
       " '大河': <gensim.models.keyedvectors.Vocab at 0x64db10b8>,\n",
       " '火王': <gensim.models.keyedvectors.Vocab at 0x64db10f0>,\n",
       " '之': <gensim.models.keyedvectors.Vocab at 0x64db1128>,\n",
       " '千里同风': <gensim.models.keyedvectors.Vocab at 0x64db1160>,\n",
       " '大约': <gensim.models.keyedvectors.Vocab at 0x64db1198>,\n",
       " '人': <gensim.models.keyedvectors.Vocab at 0x64db11d0>,\n",
       " '彪悍': <gensim.models.keyedvectors.Vocab at 0x64db1208>,\n",
       " '枉': <gensim.models.keyedvectors.Vocab at 0x64db1240>,\n",
       " '少年': <gensim.models.keyedvectors.Vocab at 0x64db1278>,\n",
       " '…': <gensim.models.keyedvectors.Vocab at 0x64db12b0>,\n",
       " '综艺': <gensim.models.keyedvectors.Vocab at 0x64db12e8>,\n",
       " '强档': <gensim.models.keyedvectors.Vocab at 0x64db1320>,\n",
       " '吐槽': <gensim.models.keyedvectors.Vocab at 0x64db1358>,\n",
       " '大会': <gensim.models.keyedvectors.Vocab at 0x64db1390>,\n",
       " '国家': <gensim.models.keyedvectors.Vocab at 0x64db13c8>,\n",
       " '宝藏': <gensim.models.keyedvectors.Vocab at 0x64db1400>,\n",
       " '一站': <gensim.models.keyedvectors.Vocab at 0x64db1438>,\n",
       " '传奇': <gensim.models.keyedvectors.Vocab at 0x64db1470>,\n",
       " '亲爱': <gensim.models.keyedvectors.Vocab at 0x64db14a8>,\n",
       " '客栈': <gensim.models.keyedvectors.Vocab at 0x64db14e0>,\n",
       " '电影片': <gensim.models.keyedvectors.Vocab at 0x64db1518>,\n",
       " '库': <gensim.models.keyedvectors.Vocab at 0x64db1550>,\n",
       " '影': <gensim.models.keyedvectors.Vocab at 0x64db1588>,\n",
       " '你好': <gensim.models.keyedvectors.Vocab at 0x64db15c0>,\n",
       " '之华': <gensim.models.keyedvectors.Vocab at 0x64db15f8>,\n",
       " '碟中谍': <gensim.models.keyedvectors.Vocab at 0x64db1630>,\n",
       " '瓦解': <gensim.models.keyedvectors.Vocab at 0x64db1668>,\n",
       " '不是': <gensim.models.keyedvectors.Vocab at 0x64db16a0>,\n",
       " '药神': <gensim.models.keyedvectors.Vocab at 0x64db16d8>,\n",
       " '纪录片': <gensim.models.keyedvectors.Vocab at 0x64db1710>,\n",
       " '风味': <gensim.models.keyedvectors.Vocab at 0x64db1748>,\n",
       " '人间': <gensim.models.keyedvectors.Vocab at 0x64db1780>,\n",
       " '王朝': <gensim.models.keyedvectors.Vocab at 0x64db17b8>,\n",
       " '身边': <gensim.models.keyedvectors.Vocab at 0x64db17f0>,\n",
       " '40': <gensim.models.keyedvectors.Vocab at 0x64db1828>,\n",
       " '细节': <gensim.models.keyedvectors.Vocab at 0x64db1860>,\n",
       " '美剧': <gensim.models.keyedvectors.Vocab at 0x64db1898>,\n",
       " '西部': <gensim.models.keyedvectors.Vocab at 0x64db18d0>,\n",
       " '第二季': <gensim.models.keyedvectors.Vocab at 0x64db1908>,\n",
       " '绿箭侠': <gensim.models.keyedvectors.Vocab at 0x64db1940>,\n",
       " '权力': <gensim.models.keyedvectors.Vocab at 0x64db1978>,\n",
       " '泰剧': <gensim.models.keyedvectors.Vocab at 0x64db19b0>,\n",
       " '公主': <gensim.models.keyedvectors.Vocab at 0x64db19e8>,\n",
       " '罗曼史': <gensim.models.keyedvectors.Vocab at 0x64db1a20>,\n",
       " '命中注定': <gensim.models.keyedvectors.Vocab at 0x64db1a58>,\n",
       " '我爱你': <gensim.models.keyedvectors.Vocab at 0x64db1a90>,\n",
       " '热播': <gensim.models.keyedvectors.Vocab at 0x64db1ac8>,\n",
       " '国漫': <gensim.models.keyedvectors.Vocab at 0x64db1b00>,\n",
       " '斗罗': <gensim.models.keyedvectors.Vocab at 0x64db1b38>,\n",
       " '大陆': <gensim.models.keyedvectors.Vocab at 0x64db1b70>,\n",
       " '星辰': <gensim.models.keyedvectors.Vocab at 0x64db1ba8>,\n",
       " '雪鹰领主': <gensim.models.keyedvectors.Vocab at 0x64db1be0>,\n",
       " '音乐': <gensim.models.keyedvectors.Vocab at 0x64db1c18>,\n",
       " '罗大佑': <gensim.models.keyedvectors.Vocab at 0x64db1c50>,\n",
       " '2018': <gensim.models.keyedvectors.Vocab at 0x64db1c88>,\n",
       " '巡演': <gensim.models.keyedvectors.Vocab at 0x64db1cc0>,\n",
       " '南京站': <gensim.models.keyedvectors.Vocab at 0x64db1cf8>,\n",
       " 'AKB48': <gensim.models.keyedvectors.Vocab at 0x64db1d30>,\n",
       " '红白': <gensim.models.keyedvectors.Vocab at 0x64db1d68>,\n",
       " '对抗': <gensim.models.keyedvectors.Vocab at 0x64db1da0>,\n",
       " '歌会': <gensim.models.keyedvectors.Vocab at 0x64db1dd8>,\n",
       " '意见反馈': <gensim.models.keyedvectors.Vocab at 0x64db1e10>,\n",
       " '如遇': <gensim.models.keyedvectors.Vocab at 0x64db1e48>,\n",
       " '欢迎': <gensim.models.keyedvectors.Vocab at 0x64db1e80>,\n",
       " '加入': <gensim.models.keyedvectors.Vocab at 0x64db1eb8>,\n",
       " '交流': <gensim.models.keyedvectors.Vocab at 0x64db1ef0>,\n",
       " '632943108': <gensim.models.keyedvectors.Vocab at 0x64db1f28>,\n",
       " 'ZzNote': <gensim.models.keyedvectors.Vocab at 0x64db1f60>,\n",
       " '便签': <gensim.models.keyedvectors.Vocab at 0x64db1f98>,\n",
       " '用于': <gensim.models.keyedvectors.Vocab at 0x64db1fd0>,\n",
       " '记录': <gensim.models.keyedvectors.Vocab at 0x64db5048>,\n",
       " '点点滴滴': <gensim.models.keyedvectors.Vocab at 0x64db5080>,\n",
       " '如下': <gensim.models.keyedvectors.Vocab at 0x64db50b8>,\n",
       " '优点': <gensim.models.keyedvectors.Vocab at 0x64db50f0>,\n",
       " '纯': <gensim.models.keyedvectors.Vocab at 0x64db5128>,\n",
       " '本地': <gensim.models.keyedvectors.Vocab at 0x64db5160>,\n",
       " '零': <gensim.models.keyedvectors.Vocab at 0x64db5198>,\n",
       " '无广告': <gensim.models.keyedvectors.Vocab at 0x64db51d0>,\n",
       " '弹窗': <gensim.models.keyedvectors.Vocab at 0x64db5208>,\n",
       " ';': <gensim.models.keyedvectors.Vocab at 0x64db5240>,\n",
       " '全局': <gensim.models.keyedvectors.Vocab at 0x64db5278>,\n",
       " '夹': <gensim.models.keyedvectors.Vocab at 0x64db52b0>,\n",
       " '还原': <gensim.models.keyedvectors.Vocab at 0x64db52e8>,\n",
       " '多功能': <gensim.models.keyedvectors.Vocab at 0x64db5320>,\n",
       " '且': <gensim.models.keyedvectors.Vocab at 0x64db5358>,\n",
       " '高德地图': <gensim.models.keyedvectors.Vocab at 0x64db5390>,\n",
       " '地图': <gensim.models.keyedvectors.Vocab at 0x64db53c8>,\n",
       " '正在': <gensim.models.keyedvectors.Vocab at 0x64db5400>,\n",
       " '专注': <gensim.models.keyedvectors.Vocab at 0x64db5438>,\n",
       " '数字地图': <gensim.models.keyedvectors.Vocab at 0x64db5470>,\n",
       " '导航': <gensim.models.keyedvectors.Vocab at 0x64db54a8>,\n",
       " '位置服务': <gensim.models.keyedvectors.Vocab at 0x64db54e0>,\n",
       " '解决方案': <gensim.models.keyedvectors.Vocab at 0x64db5518>,\n",
       " '特色': <gensim.models.keyedvectors.Vocab at 0x64db5550>,\n",
       " '路线': <gensim.models.keyedvectors.Vocab at 0x64db5588>,\n",
       " '规划': <gensim.models.keyedvectors.Vocab at 0x64db55c0>,\n",
       " '耗电': <gensim.models.keyedvectors.Vocab at 0x64db55f8>,\n",
       " '低': <gensim.models.keyedvectors.Vocab at 0x64db5630>,\n",
       " '语音搜索': <gensim.models.keyedvectors.Vocab at 0x64db5668>,\n",
       " '超强': <gensim.models.keyedvectors.Vocab at 0x64db56a0>,\n",
       " '公交': <gensim.models.keyedvectors.Vocab at 0x64db56d8>,\n",
       " '唾手可得': <gensim.models.keyedvectors.Vocab at 0x64db5710>,\n",
       " '步行': <gensim.models.keyedvectors.Vocab at 0x64db5748>,\n",
       " '室内': <gensim.models.keyedvectors.Vocab at 0x64db5780>,\n",
       " ...}"
      ]
     },
     "execution_count": 243,
     "metadata": {},
     "output_type": "execute_result"
    }
   ],
   "source": [
    "model.wv.vocab"
   ]
  },
  {
   "cell_type": "code",
   "execution_count": 245,
   "metadata": {
    "ExecuteTime": {
     "end_time": "2019-01-14T08:53:28.674618Z",
     "start_time": "2019-01-14T08:53:28.614118Z"
    }
   },
   "outputs": [
    {
     "name": "stderr",
     "output_type": "stream",
     "text": [
      "2019-01-14 16:53:28,616 : INFO : precomputing L2-norms of word weight vectors\n",
      "C:\\ProgrameFiles\\Anaconda\\envs\\py3\\lib\\site-packages\\gensim\\matutils.py:737: FutureWarning: Conversion of the second argument of issubdtype from `int` to `np.signedinteger` is deprecated. In future, it will be treated as `np.int32 == np.dtype(int).type`.\n",
      "  if np.issubdtype(vec.dtype, np.int):\n"
     ]
    },
    {
     "data": {
      "text/plain": [
       "[('收款', 0.8444912433624268),\n",
       " ('支付宝', 0.8217622637748718),\n",
       " ('银联', 0.8210588097572327),\n",
       " ('付款', 0.8048133254051208),\n",
       " ('刷卡', 0.7991886734962463),\n",
       " ('充值', 0.7850642204284668),\n",
       " ('结算', 0.7794612646102905),\n",
       " ('担保', 0.7703073620796204),\n",
       " ('扫码', 0.768652081489563),\n",
       " ('收单', 0.7654709815979004)]"
      ]
     },
     "execution_count": 245,
     "metadata": {},
     "output_type": "execute_result"
    }
   ],
   "source": [
    "model.wv.most_similar('支付')"
   ]
  },
  {
   "cell_type": "code",
   "execution_count": 244,
   "metadata": {
    "ExecuteTime": {
     "end_time": "2019-01-14T08:53:02.889618Z",
     "start_time": "2019-01-14T08:53:02.873118Z"
    }
   },
   "outputs": [
    {
     "data": {
      "text/plain": [
       "{'理财': Doctag(offset=0, word_count=570707, doc_count=3324),\n",
       " '社交': Doctag(offset=1, word_count=153349, doc_count=994),\n",
       " '系统': Doctag(offset=2, word_count=51008, doc_count=323),\n",
       " '工具': Doctag(offset=3, word_count=452592, doc_count=3334),\n",
       " '旅游': Doctag(offset=4, word_count=37154, doc_count=208),\n",
       " '购物': Doctag(offset=5, word_count=197330, doc_count=1442),\n",
       " '安全': Doctag(offset=6, word_count=12829, doc_count=85),\n",
       " '娱乐': Doctag(offset=7, word_count=103546, doc_count=728),\n",
       " '视频': Doctag(offset=8, word_count=81784, doc_count=471),\n",
       " '出行': Doctag(offset=9, word_count=47845, doc_count=318),\n",
       " '音乐': Doctag(offset=10, word_count=40540, doc_count=233),\n",
       " '通讯': Doctag(offset=11, word_count=23468, doc_count=161),\n",
       " '摄影': Doctag(offset=12, word_count=68351, doc_count=356),\n",
       " '办公': Doctag(offset=13, word_count=93315, doc_count=646),\n",
       " '生活': Doctag(offset=14, word_count=433930, doc_count=3016),\n",
       " '网络游戏': Doctag(offset=15, word_count=49368, doc_count=358),\n",
       " '休闲益智': Doctag(offset=16, word_count=132778, doc_count=936),\n",
       " '新闻': Doctag(offset=17, word_count=55604, doc_count=379),\n",
       " '美化': Doctag(offset=18, word_count=30449, doc_count=201),\n",
       " '儿童': Doctag(offset=19, word_count=90102, doc_count=431),\n",
       " '阅读': Doctag(offset=20, word_count=130808, doc_count=810),\n",
       " '飞行射击': Doctag(offset=21, word_count=12261, doc_count=107),\n",
       " '健康': Doctag(offset=22, word_count=152011, doc_count=630),\n",
       " '教育': Doctag(offset=23, word_count=254010, doc_count=1464),\n",
       " '棋牌中心': Doctag(offset=24, word_count=70658, doc_count=538),\n",
       " '动作冒险': Doctag(offset=25, word_count=33633, doc_count=236),\n",
       " '经营策略': Doctag(offset=26, word_count=24551, doc_count=175),\n",
       " '体育竞速': Doctag(offset=27, word_count=15011, doc_count=115),\n",
       " '角色扮演': Doctag(offset=28, word_count=33303, doc_count=242),\n",
       " '游戏': Doctag(offset=29, word_count=42, doc_count=1)}"
      ]
     },
     "execution_count": 244,
     "metadata": {},
     "output_type": "execute_result"
    }
   ],
   "source": [
    "model.docvecs.doctags"
   ]
  },
  {
   "cell_type": "code",
   "execution_count": 256,
   "metadata": {
    "ExecuteTime": {
     "end_time": "2019-01-14T08:57:47.924618Z",
     "start_time": "2019-01-14T08:57:47.902618Z"
    }
   },
   "outputs": [
    {
     "name": "stdout",
     "output_type": "stream",
     "text": [
      "Doc2Vec(dm/m,d50,n5,w5,s0.001,t3):\n",
      " [('游戏', 0.6466513276100159), ('飞行射击', 0.6239187717437744), ('经营策略', 0.607236921787262), ('角色扮演', 0.6063746809959412), ('网络游戏', 0.6048875451087952), ('动作冒险', 0.604141891002655), ('体育竞速', 0.585077166557312), ('视频', 0.5832176804542542), ('棋牌中心', 0.579785943031311), ('音乐', 0.5793493986129761)]\n"
     ]
    }
   ],
   "source": [
    "# 计算新文档的向量\n",
    "inferred_docvec = model.infer_vector(alldocs[5].words)\n",
    "print('%s:\\n %s' % (model, model.docvecs.most_similar([inferred_docvec], topn=10)))\n"
   ]
  },
  {
   "cell_type": "code",
   "execution_count": 253,
   "metadata": {
    "ExecuteTime": {
     "end_time": "2019-01-14T08:57:09.174618Z",
     "start_time": "2019-01-14T08:57:09.131618Z"
    }
   },
   "outputs": [
    {
     "data": {
      "text/html": [
       "<div>\n",
       "<style scoped>\n",
       "    .dataframe tbody tr th:only-of-type {\n",
       "        vertical-align: middle;\n",
       "    }\n",
       "\n",
       "    .dataframe tbody tr th {\n",
       "        vertical-align: top;\n",
       "    }\n",
       "\n",
       "    .dataframe thead th {\n",
       "        text-align: right;\n",
       "    }\n",
       "</style>\n",
       "<table border=\"1\" class=\"dataframe\">\n",
       "  <thead>\n",
       "    <tr style=\"text-align: right;\">\n",
       "      <th></th>\n",
       "      <th>app_name</th>\n",
       "      <th>app_info</th>\n",
       "      <th>app_cate</th>\n",
       "      <th>app_score</th>\n",
       "      <th>download_cnt</th>\n",
       "    </tr>\n",
       "  </thead>\n",
       "  <tbody>\n",
       "    <tr>\n",
       "      <th>0</th>\n",
       "      <td>融360</td>\n",
       "      <td>融360 —— 您随身的金融专家为什么要使用【融360】？下述内容不吹牛。1. 解决【贷款】...</td>\n",
       "      <td>理财</td>\n",
       "      <td>4.717574</td>\n",
       "      <td>2.321756e+07</td>\n",
       "    </tr>\n",
       "    <tr>\n",
       "      <th>1</th>\n",
       "      <td>微信</td>\n",
       "      <td>1.可以发语音、文字消息、表情、图片、视频30M流量可以收发上千条语音，省电省流量2.朋友圈...</td>\n",
       "      <td>社交</td>\n",
       "      <td>3.533574</td>\n",
       "      <td>7.601503e+09</td>\n",
       "    </tr>\n",
       "    <tr>\n",
       "      <th>2</th>\n",
       "      <td>设置</td>\n",
       "      <td>一款精美的屏幕开关手机小部件应用程序，实时装扮你的桌面，喜欢的你还等什么，赶快来下载吧！ 【...</td>\n",
       "      <td>系统</td>\n",
       "      <td>3.000000</td>\n",
       "      <td>8.294300e+04</td>\n",
       "    </tr>\n",
       "    <tr>\n",
       "      <th>3</th>\n",
       "      <td>支付宝</td>\n",
       "      <td>【支付宝介绍】蚂蚁金服旗下的支付宝，是以每个人为中心，拥有全球用户9亿的生活服务平台。目前，...</td>\n",
       "      <td>理财</td>\n",
       "      <td>3.583377</td>\n",
       "      <td>9.763013e+08</td>\n",
       "    </tr>\n",
       "    <tr>\n",
       "      <th>4</th>\n",
       "      <td>信息</td>\n",
       "      <td>iPhone信息是iPhone风格的消息应用程序。酷像IOS的UI。非常简单易用，就像iph...</td>\n",
       "      <td>工具</td>\n",
       "      <td>2.769231</td>\n",
       "      <td>3.027110e+05</td>\n",
       "    </tr>\n",
       "    <tr>\n",
       "      <th>5</th>\n",
       "      <td>QQ</td>\n",
       "      <td>-----QQ•乐在沟通-----√服务超过90%的移动互联网用户√多人视频、文件多端互传，...</td>\n",
       "      <td>社交</td>\n",
       "      <td>3.431373</td>\n",
       "      <td>8.703708e+09</td>\n",
       "    </tr>\n",
       "    <tr>\n",
       "      <th>6</th>\n",
       "      <td>指南针</td>\n",
       "      <td>这是一款功能实用，操作简明，性能出众的智能指南针。  它抛去了浮华，洗尽了铅尘。  优化后的...</td>\n",
       "      <td>旅游</td>\n",
       "      <td>4.553153</td>\n",
       "      <td>2.268551e+06</td>\n",
       "    </tr>\n",
       "    <tr>\n",
       "      <th>7</th>\n",
       "      <td>手机淘宝</td>\n",
       "      <td>手机淘宝（Android版）是阿里巴巴专为Android手机用户推出的满足其生活消费和线上购...</td>\n",
       "      <td>购物</td>\n",
       "      <td>4.543010</td>\n",
       "      <td>2.653544e+09</td>\n",
       "    </tr>\n",
       "    <tr>\n",
       "      <th>8</th>\n",
       "      <td>云服务</td>\n",
       "      <td>乐同步全新改版，这是一个全新的云服务乐同步是一款安全的手机私人数据备份与管理平台一键备份/恢...</td>\n",
       "      <td>安全</td>\n",
       "      <td>3.845070</td>\n",
       "      <td>3.067698e+07</td>\n",
       "    </tr>\n",
       "    <tr>\n",
       "      <th>9</th>\n",
       "      <td>WiFi万能钥匙</td>\n",
       "      <td>免费安全WiFi热点，无忧一键连接。无论身处何地，只要打开APP，看到分享热点，点击连接即可...</td>\n",
       "      <td>工具</td>\n",
       "      <td>2.681381</td>\n",
       "      <td>7.740153e+09</td>\n",
       "    </tr>\n",
       "    <tr>\n",
       "      <th>10</th>\n",
       "      <td>游戏中心</td>\n",
       "      <td>《游戏中心》是游戏软游天下出品的一款手机游戏分发平台，提供各种各样的资源游戏下载，为用户提供...</td>\n",
       "      <td>娱乐</td>\n",
       "      <td>3.285714</td>\n",
       "      <td>3.650993e+07</td>\n",
       "    </tr>\n",
       "    <tr>\n",
       "      <th>11</th>\n",
       "      <td>查找手机</td>\n",
       "      <td>应用简介：打造更安全贴心的魅族手机「查找手机」是魅族手机内置防盗服务的同名独立应用，目前已支...</td>\n",
       "      <td>工具</td>\n",
       "      <td>3.891026</td>\n",
       "      <td>5.734060e+05</td>\n",
       "    </tr>\n",
       "    <tr>\n",
       "      <th>12</th>\n",
       "      <td>腾讯视频</td>\n",
       "      <td>【精彩内容，现在就要】电视剧大集合：大江大河、火王之千里同风、大约是爱、人不彪悍枉少年…综艺...</td>\n",
       "      <td>视频</td>\n",
       "      <td>3.535651</td>\n",
       "      <td>4.458031e+09</td>\n",
       "    </tr>\n",
       "    <tr>\n",
       "      <th>13</th>\n",
       "      <td>便签</td>\n",
       "      <td>ZzNote是一款便签应用，用于记录生活中的点点滴滴。有如下优点：1.操作简单，纯本地存储；...</td>\n",
       "      <td>工具</td>\n",
       "      <td>3.509434</td>\n",
       "      <td>9.067640e+05</td>\n",
       "    </tr>\n",
       "    <tr>\n",
       "      <th>14</th>\n",
       "      <td>高德地图</td>\n",
       "      <td>高德地图--中国专业的手机地图，超过7亿用户正在使用！专注数字地图内容、导航和位置服务解决方...</td>\n",
       "      <td>出行</td>\n",
       "      <td>4.164910</td>\n",
       "      <td>2.143268e+09</td>\n",
       "    </tr>\n",
       "    <tr>\n",
       "      <th>15</th>\n",
       "      <td>爱奇艺</td>\n",
       "      <td>【海量视频 抢先看】《知否知否应是绿肥红瘦》：赵丽颖冯绍峰甜蜜来袭，朱一龙虐恋惹人心疼《演员...</td>\n",
       "      <td>视频</td>\n",
       "      <td>3.985227</td>\n",
       "      <td>2.439933e+09</td>\n",
       "    </tr>\n",
       "    <tr>\n",
       "      <th>16</th>\n",
       "      <td>下载管理器</td>\n",
       "      <td>最流行的下载管理器为Android提供了最好的特色分类下载，下载和整理文件，最好的部分是，你...</td>\n",
       "      <td>系统</td>\n",
       "      <td>5.000000</td>\n",
       "      <td>6.884000e+03</td>\n",
       "    </tr>\n",
       "    <tr>\n",
       "      <th>17</th>\n",
       "      <td>应用宝</td>\n",
       "      <td>应用宝(Android)是腾讯应用中心倾力打造的手机应用商店，致力于为用户提供丰富、优质、安...</td>\n",
       "      <td>系统</td>\n",
       "      <td>3.625509</td>\n",
       "      <td>1.438525e+10</td>\n",
       "    </tr>\n",
       "    <tr>\n",
       "      <th>18</th>\n",
       "      <td>酷狗音乐</td>\n",
       "      <td>【酷狗音乐核心功能】1. 全新界面，打造属于你的首页 首页入口提供图标自定义，要什么功能由你...</td>\n",
       "      <td>音乐</td>\n",
       "      <td>4.178566</td>\n",
       "      <td>2.512498e+09</td>\n",
       "    </tr>\n",
       "    <tr>\n",
       "      <th>19</th>\n",
       "      <td>推送服务</td>\n",
       "      <td>应用主要界面为widget显示方式，用户将widget拖拽到桌后面，后台service会向指...</td>\n",
       "      <td>通讯</td>\n",
       "      <td>0.000000</td>\n",
       "      <td>2.510000e+02</td>\n",
       "    </tr>\n",
       "    <tr>\n",
       "      <th>20</th>\n",
       "      <td>下载管理</td>\n",
       "      <td>“下载管理”可实现对终端用户下载文件的管理。用户通过应用商店、浏览器等下载的文件，都可由“下...</td>\n",
       "      <td>工具</td>\n",
       "      <td>2.333333</td>\n",
       "      <td>2.815900e+04</td>\n",
       "    </tr>\n",
       "    <tr>\n",
       "      <th>21</th>\n",
       "      <td>快手</td>\n",
       "      <td>「有趣视频，一看就上瘾」好看的、好玩的，好笑的短视频，都在这。「疯狂k歌，金曲任你唱」海量流...</td>\n",
       "      <td>摄影</td>\n",
       "      <td>4.762864</td>\n",
       "      <td>1.878538e+09</td>\n",
       "    </tr>\n",
       "    <tr>\n",
       "      <th>22</th>\n",
       "      <td>WPS Office</td>\n",
       "      <td>安卓端办公软件，个人版免费使用用户多：全球用户 600,000,000排名高：全球APP总榜...</td>\n",
       "      <td>办公</td>\n",
       "      <td>4.868905</td>\n",
       "      <td>2.274621e+09</td>\n",
       "    </tr>\n",
       "    <tr>\n",
       "      <th>23</th>\n",
       "      <td>手电筒</td>\n",
       "      <td>手电、手电筒就选精品手电-手电筒，专业的手电、手电筒app，总用户数破亿超快、超亮、超强大的...</td>\n",
       "      <td>生活</td>\n",
       "      <td>4.882505</td>\n",
       "      <td>2.000954e+07</td>\n",
       "    </tr>\n",
       "    <tr>\n",
       "      <th>24</th>\n",
       "      <td>百度地图</td>\n",
       "      <td>科技让出行更简单。人工智能地图全新升级，立即开启你的简单出行。世界很复杂，百度更懂你。【功能...</td>\n",
       "      <td>出行</td>\n",
       "      <td>4.334992</td>\n",
       "      <td>1.794533e+09</td>\n",
       "    </tr>\n",
       "    <tr>\n",
       "      <th>25</th>\n",
       "      <td>工程模式</td>\n",
       "      <td>快速进入Android工程模式【软件自动扫描系统的隐藏代码生成列表，方便使用和管理】1：查看...</td>\n",
       "      <td>系统</td>\n",
       "      <td>2.600000</td>\n",
       "      <td>4.114900e+04</td>\n",
       "    </tr>\n",
       "    <tr>\n",
       "      <th>26</th>\n",
       "      <td>软件商店</td>\n",
       "      <td>软件商店它能帮助你更好的管理手机上的文件。 1.实现了对文件夹的创建，重命名，删除，复制，移...</td>\n",
       "      <td>工具</td>\n",
       "      <td>3.400000</td>\n",
       "      <td>1.238370e+05</td>\n",
       "    </tr>\n",
       "    <tr>\n",
       "      <th>27</th>\n",
       "      <td>拼多多</td>\n",
       "      <td>【拼多多——多实惠，多乐趣】拼多多，新电商开创者，是国内主流的手机购物App。用户通过发起和...</td>\n",
       "      <td>购物</td>\n",
       "      <td>4.563711</td>\n",
       "      <td>1.358302e+09</td>\n",
       "    </tr>\n",
       "    <tr>\n",
       "      <th>28</th>\n",
       "      <td>备份与恢复</td>\n",
       "      <td>备份与恢复，本软件主要功能在于对短信的备份和恢复，增加云端备份和云端恢复功能，同时增加流量监...</td>\n",
       "      <td>生活</td>\n",
       "      <td>1.000000</td>\n",
       "      <td>7.459500e+04</td>\n",
       "    </tr>\n",
       "    <tr>\n",
       "      <th>29</th>\n",
       "      <td>相框</td>\n",
       "      <td>免费生日相框下载。易于使用的格式。不同的漂亮的生日框架可供选择。只要选择任何图片框架广泛收集...</td>\n",
       "      <td>摄影</td>\n",
       "      <td>2.363636</td>\n",
       "      <td>1.298710e+05</td>\n",
       "    </tr>\n",
       "    <tr>\n",
       "      <th>...</th>\n",
       "      <td>...</td>\n",
       "      <td>...</td>\n",
       "      <td>...</td>\n",
       "      <td>...</td>\n",
       "      <td>...</td>\n",
       "    </tr>\n",
       "    <tr>\n",
       "      <th>22232</th>\n",
       "      <td>007</td>\n",
       "      <td>想成为007吗，这很难，但是你可以拥有007的某些装备007是一款帮助你定位手机的工具*如果...</td>\n",
       "      <td>办公</td>\n",
       "      <td>0.000000</td>\n",
       "      <td>1.438000e+03</td>\n",
       "    </tr>\n",
       "    <tr>\n",
       "      <th>22233</th>\n",
       "      <td>探她</td>\n",
       "      <td>探她-帮你找到另一个TA这是一款年轻人语音聊天交友的聚集地，来探她，用声音打动那个TA，用声...</td>\n",
       "      <td>社交</td>\n",
       "      <td>4.987200</td>\n",
       "      <td>1.801660e+06</td>\n",
       "    </tr>\n",
       "    <tr>\n",
       "      <th>22234</th>\n",
       "      <td>阿宝网络电话</td>\n",
       "      <td>阿宝网络电话，好用放心的网络电话！无需对方安装，全球使用，支持WiFi直拨和免流量回拨，拨打...</td>\n",
       "      <td>通讯</td>\n",
       "      <td>0.000000</td>\n",
       "      <td>5.780000e+02</td>\n",
       "    </tr>\n",
       "    <tr>\n",
       "      <th>22235</th>\n",
       "      <td>客管家</td>\n",
       "      <td>客管家是一款专注于提升经纪人工作效率的工具类应用。客管家可以帮助经纪人高效和安全的管理客户：...</td>\n",
       "      <td>工具</td>\n",
       "      <td>5.000000</td>\n",
       "      <td>1.120300e+04</td>\n",
       "    </tr>\n",
       "    <tr>\n",
       "      <th>22236</th>\n",
       "      <td>明娜塔罗</td>\n",
       "      <td>本应用绝对是值得珍藏的人生判断小助手！世上大多数令人困扰的问题，都可以概括为“是否”选项。还...</td>\n",
       "      <td>娱乐</td>\n",
       "      <td>4.333333</td>\n",
       "      <td>5.871000e+03</td>\n",
       "    </tr>\n",
       "    <tr>\n",
       "      <th>22237</th>\n",
       "      <td>美图坊</td>\n",
       "      <td>1.精选海量网络美图，高品质、无水印，内容丰富，随时更新；2.支持搜索功能。根据内容，将图片...</td>\n",
       "      <td>阅读</td>\n",
       "      <td>2.666667</td>\n",
       "      <td>3.818000e+03</td>\n",
       "    </tr>\n",
       "    <tr>\n",
       "      <th>22238</th>\n",
       "      <td>十堰交警</td>\n",
       "      <td>十堰交警易站通是由十堰市公安局交通管理局与易站通联合面向市民推出的便民服务。为市民提供车辆违...</td>\n",
       "      <td>生活</td>\n",
       "      <td>3.000000</td>\n",
       "      <td>4.849000e+03</td>\n",
       "    </tr>\n",
       "    <tr>\n",
       "      <th>22239</th>\n",
       "      <td>圆球天下</td>\n",
       "      <td>圆球天下是重达科技为用户精心打造的一款资讯及微拍娱乐一体的综合类app。新闻资讯:     ...</td>\n",
       "      <td>阅读</td>\n",
       "      <td>4.976331</td>\n",
       "      <td>8.526680e+05</td>\n",
       "    </tr>\n",
       "    <tr>\n",
       "      <th>22240</th>\n",
       "      <td>佛历日历万年历</td>\n",
       "      <td>佛历是从佛祖释迎牟尼逝世那年，即公元前543年算起。佛陀说法四十五年，八十岁涅槃，即公元前5...</td>\n",
       "      <td>生活</td>\n",
       "      <td>4.900000</td>\n",
       "      <td>1.514900e+04</td>\n",
       "    </tr>\n",
       "    <tr>\n",
       "      <th>22241</th>\n",
       "      <td>蜗蜗</td>\n",
       "      <td>蜗蜗智慧门店系统，是一款互联网智慧门店管理系统，解决生活半径3公里 商家与顾客的连接，即在传...</td>\n",
       "      <td>购物</td>\n",
       "      <td>5.000000</td>\n",
       "      <td>6.942000e+03</td>\n",
       "    </tr>\n",
       "    <tr>\n",
       "      <th>22242</th>\n",
       "      <td>次元仓</td>\n",
       "      <td>次元仓移动版，二次元购物商城APP。本APP提供ACG,精品,特卖,游戏相关的周边购物。便捷...</td>\n",
       "      <td>购物</td>\n",
       "      <td>4.676923</td>\n",
       "      <td>4.511400e+04</td>\n",
       "    </tr>\n",
       "    <tr>\n",
       "      <th>22243</th>\n",
       "      <td>LiquidSky</td>\n",
       "      <td>版本：3.47</td>\n",
       "      <td>娱乐</td>\n",
       "      <td>4.105590</td>\n",
       "      <td>3.761800e+04</td>\n",
       "    </tr>\n",
       "    <tr>\n",
       "      <th>22244</th>\n",
       "      <td>西语背单词</td>\n",
       "      <td>专为西班牙语学习者制作的背单词APP，通过图片、声音、释义三方面加快单词的记忆。 - 适应各...</td>\n",
       "      <td>教育</td>\n",
       "      <td>3.166667</td>\n",
       "      <td>2.539500e+04</td>\n",
       "    </tr>\n",
       "    <tr>\n",
       "      <th>22245</th>\n",
       "      <td>悠洗</td>\n",
       "      <td>悠洗智能洗衣平台，租赁洗衣新模式，手机下单、在线支付、便捷服务、安心卫生、经济实惠，让您不再...</td>\n",
       "      <td>生活</td>\n",
       "      <td>3.000000</td>\n",
       "      <td>4.494800e+04</td>\n",
       "    </tr>\n",
       "    <tr>\n",
       "      <th>22246</th>\n",
       "      <td>象山在线</td>\n",
       "      <td>象山在线-您身边的生活助手！象山百姓说象山故事，交象山朋友随时随地记录身边事的好地方，有丰富...</td>\n",
       "      <td>生活</td>\n",
       "      <td>4.200000</td>\n",
       "      <td>1.690300e+04</td>\n",
       "    </tr>\n",
       "    <tr>\n",
       "      <th>22247</th>\n",
       "      <td>128手游</td>\n",
       "      <td>《128手游盒子》是一款为手游爱好者提供各种手游福利的安卓手机软件，它可以为玩家提供高福利游...</td>\n",
       "      <td>娱乐</td>\n",
       "      <td>5.000000</td>\n",
       "      <td>9.740000e+02</td>\n",
       "    </tr>\n",
       "    <tr>\n",
       "      <th>22248</th>\n",
       "      <td>巴啦啦梦幻餐厅</td>\n",
       "      <td>快来与小魔仙一起经营餐厅吧！在餐厅中接待魔法世界的各位顾客，为他们提供美味菜品，收获满满的幸...</td>\n",
       "      <td>经营策略</td>\n",
       "      <td>4.272727</td>\n",
       "      <td>4.086400e+04</td>\n",
       "    </tr>\n",
       "    <tr>\n",
       "      <th>22249</th>\n",
       "      <td>荣华彩票</td>\n",
       "      <td>打造行业内*大的彩民社区，让所有彩民一起玩耍交流。你可以在这里晒单、吐槽、闲聊、或者和专家交...</td>\n",
       "      <td>工具</td>\n",
       "      <td>5.000000</td>\n",
       "      <td>1.107000e+04</td>\n",
       "    </tr>\n",
       "    <tr>\n",
       "      <th>22250</th>\n",
       "      <td>普汇聚财</td>\n",
       "      <td>【平台背景】 1、普汇聚财是海南华夏基金战略入股的国资互联网金融理财平台。海南华夏基金 ，是...</td>\n",
       "      <td>理财</td>\n",
       "      <td>4.990196</td>\n",
       "      <td>5.364320e+05</td>\n",
       "    </tr>\n",
       "    <tr>\n",
       "      <th>22251</th>\n",
       "      <td>张家口麻将</td>\n",
       "      <td>手机联网张家口麻将上线了。正宗地道的张家口麻将规则，源自张家口本土实战打法，全新3D立体仿真...</td>\n",
       "      <td>棋牌中心</td>\n",
       "      <td>3.000000</td>\n",
       "      <td>5.556000e+03</td>\n",
       "    </tr>\n",
       "    <tr>\n",
       "      <th>22252</th>\n",
       "      <td>Alight</td>\n",
       "      <td>Alight APP是宗匠科技专门为ASNAP爱拍手机补光灯推出的智能控制终端，让您在自拍中...</td>\n",
       "      <td>摄影</td>\n",
       "      <td>1.200000</td>\n",
       "      <td>3.087000e+03</td>\n",
       "    </tr>\n",
       "    <tr>\n",
       "      <th>22253</th>\n",
       "      <td>宫妙</td>\n",
       "      <td>【宫妙】纯天然卫生巾386元免费用三年，还得一盒宫妙纯天然卫生巾，还享受体检上市企业“美年大...</td>\n",
       "      <td>购物</td>\n",
       "      <td>5.000000</td>\n",
       "      <td>1.167300e+04</td>\n",
       "    </tr>\n",
       "    <tr>\n",
       "      <th>22254</th>\n",
       "      <td>高中数学知识点精华</td>\n",
       "      <td>高中数学知识点精华是一款专为高中生打造的免费手机学习软件。知识点全面，包含了高中数学学科精华...</td>\n",
       "      <td>教育</td>\n",
       "      <td>2.153846</td>\n",
       "      <td>7.461000e+04</td>\n",
       "    </tr>\n",
       "    <tr>\n",
       "      <th>22255</th>\n",
       "      <td>请厨宝</td>\n",
       "      <td>为餐饮行业提供专业人才供给及从业人员上岗就业服务！大师视频解答：全国近万名大师为您解答，开店...</td>\n",
       "      <td>生活</td>\n",
       "      <td>4.200000</td>\n",
       "      <td>3.316000e+04</td>\n",
       "    </tr>\n",
       "    <tr>\n",
       "      <th>22256</th>\n",
       "      <td>翼数据</td>\n",
       "      <td>浙江翼极网络科技有限公司是一家以新IT、新模式、新希望为经营理念的网络科技有限公司。公司以“...</td>\n",
       "      <td>购物</td>\n",
       "      <td>0.000000</td>\n",
       "      <td>1.016000e+03</td>\n",
       "    </tr>\n",
       "    <tr>\n",
       "      <th>22257</th>\n",
       "      <td>掌上健身教练</td>\n",
       "      <td>掌上健身教练包含数十种不同的健身教程和方法，每一种都详细的配合图片解说，告诉您该动作是锻炼什...</td>\n",
       "      <td>健康</td>\n",
       "      <td>2.000000</td>\n",
       "      <td>1.011700e+04</td>\n",
       "    </tr>\n",
       "    <tr>\n",
       "      <th>22258</th>\n",
       "      <td>简洁记账</td>\n",
       "      <td>简洁记账作者是一个爱好记账的人，为追求简易，实用而制作的一款记账app。该有的功能一一俱全，...</td>\n",
       "      <td>工具</td>\n",
       "      <td>5.000000</td>\n",
       "      <td>7.510000e+02</td>\n",
       "    </tr>\n",
       "    <tr>\n",
       "      <th>22259</th>\n",
       "      <td>大乐送</td>\n",
       "      <td>大乐送是一个购物商城，有商品、购物车、支付等功能，交易模式：在线交易，第三方交易平台。支付方...</td>\n",
       "      <td>购物</td>\n",
       "      <td>0.000000</td>\n",
       "      <td>9.830000e+02</td>\n",
       "    </tr>\n",
       "    <tr>\n",
       "      <th>22260</th>\n",
       "      <td>青大附院互联网医院</td>\n",
       "      <td>青岛大学附属医院互联网医院官方APP，手机提前预约、挂号，远程视频就诊，让您更加方便快捷。手...</td>\n",
       "      <td>健康</td>\n",
       "      <td>0.000000</td>\n",
       "      <td>2.545900e+04</td>\n",
       "    </tr>\n",
       "    <tr>\n",
       "      <th>22261</th>\n",
       "      <td>人民币真伪识别</td>\n",
       "      <td>你有没有遇到过假币而且你还不认得？你有没有遭遇被人掉包人民币成假币 的经历？本人正是经历过假...</td>\n",
       "      <td>阅读</td>\n",
       "      <td>3.500000</td>\n",
       "      <td>7.672800e+04</td>\n",
       "    </tr>\n",
       "  </tbody>\n",
       "</table>\n",
       "<p>22262 rows × 5 columns</p>\n",
       "</div>"
      ],
      "text/plain": [
       "         app_name                                           app_info app_cate  \\\n",
       "0            融360  融360 —— 您随身的金融专家为什么要使用【融360】？下述内容不吹牛。1. 解决【贷款】...       理财   \n",
       "1              微信  1.可以发语音、文字消息、表情、图片、视频30M流量可以收发上千条语音，省电省流量2.朋友圈...       社交   \n",
       "2              设置  一款精美的屏幕开关手机小部件应用程序，实时装扮你的桌面，喜欢的你还等什么，赶快来下载吧！ 【...       系统   \n",
       "3             支付宝  【支付宝介绍】蚂蚁金服旗下的支付宝，是以每个人为中心，拥有全球用户9亿的生活服务平台。目前，...       理财   \n",
       "4              信息  iPhone信息是iPhone风格的消息应用程序。酷像IOS的UI。非常简单易用，就像iph...       工具   \n",
       "5              QQ  -----QQ•乐在沟通-----√服务超过90%的移动互联网用户√多人视频、文件多端互传，...       社交   \n",
       "6             指南针  这是一款功能实用，操作简明，性能出众的智能指南针。  它抛去了浮华，洗尽了铅尘。  优化后的...       旅游   \n",
       "7            手机淘宝  手机淘宝（Android版）是阿里巴巴专为Android手机用户推出的满足其生活消费和线上购...       购物   \n",
       "8             云服务  乐同步全新改版，这是一个全新的云服务乐同步是一款安全的手机私人数据备份与管理平台一键备份/恢...       安全   \n",
       "9        WiFi万能钥匙  免费安全WiFi热点，无忧一键连接。无论身处何地，只要打开APP，看到分享热点，点击连接即可...       工具   \n",
       "10           游戏中心  《游戏中心》是游戏软游天下出品的一款手机游戏分发平台，提供各种各样的资源游戏下载，为用户提供...       娱乐   \n",
       "11           查找手机  应用简介：打造更安全贴心的魅族手机「查找手机」是魅族手机内置防盗服务的同名独立应用，目前已支...       工具   \n",
       "12           腾讯视频  【精彩内容，现在就要】电视剧大集合：大江大河、火王之千里同风、大约是爱、人不彪悍枉少年…综艺...       视频   \n",
       "13             便签  ZzNote是一款便签应用，用于记录生活中的点点滴滴。有如下优点：1.操作简单，纯本地存储；...       工具   \n",
       "14           高德地图  高德地图--中国专业的手机地图，超过7亿用户正在使用！专注数字地图内容、导航和位置服务解决方...       出行   \n",
       "15            爱奇艺  【海量视频 抢先看】《知否知否应是绿肥红瘦》：赵丽颖冯绍峰甜蜜来袭，朱一龙虐恋惹人心疼《演员...       视频   \n",
       "16          下载管理器  最流行的下载管理器为Android提供了最好的特色分类下载，下载和整理文件，最好的部分是，你...       系统   \n",
       "17            应用宝  应用宝(Android)是腾讯应用中心倾力打造的手机应用商店，致力于为用户提供丰富、优质、安...       系统   \n",
       "18           酷狗音乐  【酷狗音乐核心功能】1. 全新界面，打造属于你的首页 首页入口提供图标自定义，要什么功能由你...       音乐   \n",
       "19           推送服务  应用主要界面为widget显示方式，用户将widget拖拽到桌后面，后台service会向指...       通讯   \n",
       "20           下载管理  “下载管理”可实现对终端用户下载文件的管理。用户通过应用商店、浏览器等下载的文件，都可由“下...       工具   \n",
       "21             快手  「有趣视频，一看就上瘾」好看的、好玩的，好笑的短视频，都在这。「疯狂k歌，金曲任你唱」海量流...       摄影   \n",
       "22     WPS Office  安卓端办公软件，个人版免费使用用户多：全球用户 600,000,000排名高：全球APP总榜...       办公   \n",
       "23            手电筒  手电、手电筒就选精品手电-手电筒，专业的手电、手电筒app，总用户数破亿超快、超亮、超强大的...       生活   \n",
       "24           百度地图  科技让出行更简单。人工智能地图全新升级，立即开启你的简单出行。世界很复杂，百度更懂你。【功能...       出行   \n",
       "25           工程模式  快速进入Android工程模式【软件自动扫描系统的隐藏代码生成列表，方便使用和管理】1：查看...       系统   \n",
       "26           软件商店  软件商店它能帮助你更好的管理手机上的文件。 1.实现了对文件夹的创建，重命名，删除，复制，移...       工具   \n",
       "27            拼多多  【拼多多——多实惠，多乐趣】拼多多，新电商开创者，是国内主流的手机购物App。用户通过发起和...       购物   \n",
       "28          备份与恢复  备份与恢复，本软件主要功能在于对短信的备份和恢复，增加云端备份和云端恢复功能，同时增加流量监...       生活   \n",
       "29             相框  免费生日相框下载。易于使用的格式。不同的漂亮的生日框架可供选择。只要选择任何图片框架广泛收集...       摄影   \n",
       "...           ...                                                ...      ...   \n",
       "22232         007  想成为007吗，这很难，但是你可以拥有007的某些装备007是一款帮助你定位手机的工具*如果...       办公   \n",
       "22233          探她  探她-帮你找到另一个TA这是一款年轻人语音聊天交友的聚集地，来探她，用声音打动那个TA，用声...       社交   \n",
       "22234      阿宝网络电话  阿宝网络电话，好用放心的网络电话！无需对方安装，全球使用，支持WiFi直拨和免流量回拨，拨打...       通讯   \n",
       "22235         客管家  客管家是一款专注于提升经纪人工作效率的工具类应用。客管家可以帮助经纪人高效和安全的管理客户：...       工具   \n",
       "22236        明娜塔罗  本应用绝对是值得珍藏的人生判断小助手！世上大多数令人困扰的问题，都可以概括为“是否”选项。还...       娱乐   \n",
       "22237         美图坊  1.精选海量网络美图，高品质、无水印，内容丰富，随时更新；2.支持搜索功能。根据内容，将图片...       阅读   \n",
       "22238        十堰交警  十堰交警易站通是由十堰市公安局交通管理局与易站通联合面向市民推出的便民服务。为市民提供车辆违...       生活   \n",
       "22239        圆球天下  圆球天下是重达科技为用户精心打造的一款资讯及微拍娱乐一体的综合类app。新闻资讯:     ...       阅读   \n",
       "22240     佛历日历万年历  佛历是从佛祖释迎牟尼逝世那年，即公元前543年算起。佛陀说法四十五年，八十岁涅槃，即公元前5...       生活   \n",
       "22241          蜗蜗  蜗蜗智慧门店系统，是一款互联网智慧门店管理系统，解决生活半径3公里 商家与顾客的连接，即在传...       购物   \n",
       "22242         次元仓  次元仓移动版，二次元购物商城APP。本APP提供ACG,精品,特卖,游戏相关的周边购物。便捷...       购物   \n",
       "22243   LiquidSky                                            版本：3.47       娱乐   \n",
       "22244       西语背单词  专为西班牙语学习者制作的背单词APP，通过图片、声音、释义三方面加快单词的记忆。 - 适应各...       教育   \n",
       "22245          悠洗  悠洗智能洗衣平台，租赁洗衣新模式，手机下单、在线支付、便捷服务、安心卫生、经济实惠，让您不再...       生活   \n",
       "22246        象山在线  象山在线-您身边的生活助手！象山百姓说象山故事，交象山朋友随时随地记录身边事的好地方，有丰富...       生活   \n",
       "22247       128手游  《128手游盒子》是一款为手游爱好者提供各种手游福利的安卓手机软件，它可以为玩家提供高福利游...       娱乐   \n",
       "22248     巴啦啦梦幻餐厅  快来与小魔仙一起经营餐厅吧！在餐厅中接待魔法世界的各位顾客，为他们提供美味菜品，收获满满的幸...     经营策略   \n",
       "22249        荣华彩票  打造行业内*大的彩民社区，让所有彩民一起玩耍交流。你可以在这里晒单、吐槽、闲聊、或者和专家交...       工具   \n",
       "22250        普汇聚财  【平台背景】 1、普汇聚财是海南华夏基金战略入股的国资互联网金融理财平台。海南华夏基金 ，是...       理财   \n",
       "22251       张家口麻将  手机联网张家口麻将上线了。正宗地道的张家口麻将规则，源自张家口本土实战打法，全新3D立体仿真...     棋牌中心   \n",
       "22252      Alight  Alight APP是宗匠科技专门为ASNAP爱拍手机补光灯推出的智能控制终端，让您在自拍中...       摄影   \n",
       "22253          宫妙  【宫妙】纯天然卫生巾386元免费用三年，还得一盒宫妙纯天然卫生巾，还享受体检上市企业“美年大...       购物   \n",
       "22254   高中数学知识点精华  高中数学知识点精华是一款专为高中生打造的免费手机学习软件。知识点全面，包含了高中数学学科精华...       教育   \n",
       "22255         请厨宝  为餐饮行业提供专业人才供给及从业人员上岗就业服务！大师视频解答：全国近万名大师为您解答，开店...       生活   \n",
       "22256         翼数据  浙江翼极网络科技有限公司是一家以新IT、新模式、新希望为经营理念的网络科技有限公司。公司以“...       购物   \n",
       "22257      掌上健身教练  掌上健身教练包含数十种不同的健身教程和方法，每一种都详细的配合图片解说，告诉您该动作是锻炼什...       健康   \n",
       "22258        简洁记账  简洁记账作者是一个爱好记账的人，为追求简易，实用而制作的一款记账app。该有的功能一一俱全，...       工具   \n",
       "22259         大乐送  大乐送是一个购物商城，有商品、购物车、支付等功能，交易模式：在线交易，第三方交易平台。支付方...       购物   \n",
       "22260   青大附院互联网医院  青岛大学附属医院互联网医院官方APP，手机提前预约、挂号，远程视频就诊，让您更加方便快捷。手...       健康   \n",
       "22261     人民币真伪识别  你有没有遇到过假币而且你还不认得？你有没有遭遇被人掉包人民币成假币 的经历？本人正是经历过假...       阅读   \n",
       "\n",
       "       app_score  download_cnt  \n",
       "0       4.717574  2.321756e+07  \n",
       "1       3.533574  7.601503e+09  \n",
       "2       3.000000  8.294300e+04  \n",
       "3       3.583377  9.763013e+08  \n",
       "4       2.769231  3.027110e+05  \n",
       "5       3.431373  8.703708e+09  \n",
       "6       4.553153  2.268551e+06  \n",
       "7       4.543010  2.653544e+09  \n",
       "8       3.845070  3.067698e+07  \n",
       "9       2.681381  7.740153e+09  \n",
       "10      3.285714  3.650993e+07  \n",
       "11      3.891026  5.734060e+05  \n",
       "12      3.535651  4.458031e+09  \n",
       "13      3.509434  9.067640e+05  \n",
       "14      4.164910  2.143268e+09  \n",
       "15      3.985227  2.439933e+09  \n",
       "16      5.000000  6.884000e+03  \n",
       "17      3.625509  1.438525e+10  \n",
       "18      4.178566  2.512498e+09  \n",
       "19      0.000000  2.510000e+02  \n",
       "20      2.333333  2.815900e+04  \n",
       "21      4.762864  1.878538e+09  \n",
       "22      4.868905  2.274621e+09  \n",
       "23      4.882505  2.000954e+07  \n",
       "24      4.334992  1.794533e+09  \n",
       "25      2.600000  4.114900e+04  \n",
       "26      3.400000  1.238370e+05  \n",
       "27      4.563711  1.358302e+09  \n",
       "28      1.000000  7.459500e+04  \n",
       "29      2.363636  1.298710e+05  \n",
       "...          ...           ...  \n",
       "22232   0.000000  1.438000e+03  \n",
       "22233   4.987200  1.801660e+06  \n",
       "22234   0.000000  5.780000e+02  \n",
       "22235   5.000000  1.120300e+04  \n",
       "22236   4.333333  5.871000e+03  \n",
       "22237   2.666667  3.818000e+03  \n",
       "22238   3.000000  4.849000e+03  \n",
       "22239   4.976331  8.526680e+05  \n",
       "22240   4.900000  1.514900e+04  \n",
       "22241   5.000000  6.942000e+03  \n",
       "22242   4.676923  4.511400e+04  \n",
       "22243   4.105590  3.761800e+04  \n",
       "22244   3.166667  2.539500e+04  \n",
       "22245   3.000000  4.494800e+04  \n",
       "22246   4.200000  1.690300e+04  \n",
       "22247   5.000000  9.740000e+02  \n",
       "22248   4.272727  4.086400e+04  \n",
       "22249   5.000000  1.107000e+04  \n",
       "22250   4.990196  5.364320e+05  \n",
       "22251   3.000000  5.556000e+03  \n",
       "22252   1.200000  3.087000e+03  \n",
       "22253   5.000000  1.167300e+04  \n",
       "22254   2.153846  7.461000e+04  \n",
       "22255   4.200000  3.316000e+04  \n",
       "22256   0.000000  1.016000e+03  \n",
       "22257   2.000000  1.011700e+04  \n",
       "22258   5.000000  7.510000e+02  \n",
       "22259   0.000000  9.830000e+02  \n",
       "22260   0.000000  2.545900e+04  \n",
       "22261   3.500000  7.672800e+04  \n",
       "\n",
       "[22262 rows x 5 columns]"
      ]
     },
     "execution_count": 253,
     "metadata": {},
     "output_type": "execute_result"
    }
   ],
   "source": [
    "dfapp"
   ]
  },
  {
   "cell_type": "code",
   "execution_count": 262,
   "metadata": {
    "ExecuteTime": {
     "end_time": "2019-01-14T08:58:40.869618Z",
     "start_time": "2019-01-14T08:58:40.848118Z"
    }
   },
   "outputs": [
    {
     "data": {
      "text/plain": [
       "[('新闻', 0.503153920173645),\n",
       " ('游戏', 0.43816813826560974),\n",
       " ('安全', 0.4297948479652405),\n",
       " ('网络游戏', 0.4280186891555786),\n",
       " ('角色扮演', 0.41850394010543823),\n",
       " ('飞行射击', 0.36829185485839844),\n",
       " ('动作冒险', 0.3655446171760559),\n",
       " ('视频', 0.3646373450756073),\n",
       " ('阅读', 0.36164647340774536),\n",
       " ('通讯', 0.35929733514785767)]"
      ]
     },
     "execution_count": 262,
     "metadata": {},
     "output_type": "execute_result"
    }
   ],
   "source": [
    "model.docvecs.most_similar(0)"
   ]
  },
  {
   "cell_type": "code",
   "execution_count": 220,
   "metadata": {
    "ExecuteTime": {
     "end_time": "2019-01-14T08:41:42.690118Z",
     "start_time": "2019-01-14T08:41:42.647118Z"
    }
   },
   "outputs": [
    {
     "data": {
      "text/html": [
       "<div>\n",
       "<style scoped>\n",
       "    .dataframe tbody tr th:only-of-type {\n",
       "        vertical-align: middle;\n",
       "    }\n",
       "\n",
       "    .dataframe tbody tr th {\n",
       "        vertical-align: top;\n",
       "    }\n",
       "\n",
       "    .dataframe thead th {\n",
       "        text-align: right;\n",
       "    }\n",
       "</style>\n",
       "<table border=\"1\" class=\"dataframe\">\n",
       "  <thead>\n",
       "    <tr style=\"text-align: right;\">\n",
       "      <th></th>\n",
       "      <th>app_name</th>\n",
       "      <th>app_info</th>\n",
       "      <th>app_cate</th>\n",
       "      <th>app_score</th>\n",
       "      <th>download_cnt</th>\n",
       "    </tr>\n",
       "  </thead>\n",
       "  <tbody>\n",
       "    <tr>\n",
       "      <th>0</th>\n",
       "      <td>融360</td>\n",
       "      <td>融360 —— 您随身的金融专家为什么要使用【融360】？下述内容不吹牛。1. 解决【贷款】...</td>\n",
       "      <td>理财</td>\n",
       "      <td>4.717574</td>\n",
       "      <td>2.321756e+07</td>\n",
       "    </tr>\n",
       "    <tr>\n",
       "      <th>1</th>\n",
       "      <td>微信</td>\n",
       "      <td>1.可以发语音、文字消息、表情、图片、视频30M流量可以收发上千条语音，省电省流量2.朋友圈...</td>\n",
       "      <td>社交</td>\n",
       "      <td>3.533574</td>\n",
       "      <td>7.601503e+09</td>\n",
       "    </tr>\n",
       "    <tr>\n",
       "      <th>2</th>\n",
       "      <td>设置</td>\n",
       "      <td>一款精美的屏幕开关手机小部件应用程序，实时装扮你的桌面，喜欢的你还等什么，赶快来下载吧！ 【...</td>\n",
       "      <td>系统</td>\n",
       "      <td>3.000000</td>\n",
       "      <td>8.294300e+04</td>\n",
       "    </tr>\n",
       "    <tr>\n",
       "      <th>3</th>\n",
       "      <td>支付宝</td>\n",
       "      <td>【支付宝介绍】蚂蚁金服旗下的支付宝，是以每个人为中心，拥有全球用户9亿的生活服务平台。目前，...</td>\n",
       "      <td>理财</td>\n",
       "      <td>3.583377</td>\n",
       "      <td>9.763013e+08</td>\n",
       "    </tr>\n",
       "    <tr>\n",
       "      <th>4</th>\n",
       "      <td>信息</td>\n",
       "      <td>iPhone信息是iPhone风格的消息应用程序。酷像IOS的UI。非常简单易用，就像iph...</td>\n",
       "      <td>工具</td>\n",
       "      <td>2.769231</td>\n",
       "      <td>3.027110e+05</td>\n",
       "    </tr>\n",
       "    <tr>\n",
       "      <th>5</th>\n",
       "      <td>QQ</td>\n",
       "      <td>-----QQ•乐在沟通-----√服务超过90%的移动互联网用户√多人视频、文件多端互传，...</td>\n",
       "      <td>社交</td>\n",
       "      <td>3.431373</td>\n",
       "      <td>8.703708e+09</td>\n",
       "    </tr>\n",
       "    <tr>\n",
       "      <th>6</th>\n",
       "      <td>指南针</td>\n",
       "      <td>这是一款功能实用，操作简明，性能出众的智能指南针。  它抛去了浮华，洗尽了铅尘。  优化后的...</td>\n",
       "      <td>旅游</td>\n",
       "      <td>4.553153</td>\n",
       "      <td>2.268551e+06</td>\n",
       "    </tr>\n",
       "    <tr>\n",
       "      <th>7</th>\n",
       "      <td>手机淘宝</td>\n",
       "      <td>手机淘宝（Android版）是阿里巴巴专为Android手机用户推出的满足其生活消费和线上购...</td>\n",
       "      <td>购物</td>\n",
       "      <td>4.543010</td>\n",
       "      <td>2.653544e+09</td>\n",
       "    </tr>\n",
       "    <tr>\n",
       "      <th>8</th>\n",
       "      <td>云服务</td>\n",
       "      <td>乐同步全新改版，这是一个全新的云服务乐同步是一款安全的手机私人数据备份与管理平台一键备份/恢...</td>\n",
       "      <td>安全</td>\n",
       "      <td>3.845070</td>\n",
       "      <td>3.067698e+07</td>\n",
       "    </tr>\n",
       "    <tr>\n",
       "      <th>9</th>\n",
       "      <td>WiFi万能钥匙</td>\n",
       "      <td>免费安全WiFi热点，无忧一键连接。无论身处何地，只要打开APP，看到分享热点，点击连接即可...</td>\n",
       "      <td>工具</td>\n",
       "      <td>2.681381</td>\n",
       "      <td>7.740153e+09</td>\n",
       "    </tr>\n",
       "    <tr>\n",
       "      <th>10</th>\n",
       "      <td>游戏中心</td>\n",
       "      <td>《游戏中心》是游戏软游天下出品的一款手机游戏分发平台，提供各种各样的资源游戏下载，为用户提供...</td>\n",
       "      <td>娱乐</td>\n",
       "      <td>3.285714</td>\n",
       "      <td>3.650993e+07</td>\n",
       "    </tr>\n",
       "    <tr>\n",
       "      <th>11</th>\n",
       "      <td>查找手机</td>\n",
       "      <td>应用简介：打造更安全贴心的魅族手机「查找手机」是魅族手机内置防盗服务的同名独立应用，目前已支...</td>\n",
       "      <td>工具</td>\n",
       "      <td>3.891026</td>\n",
       "      <td>5.734060e+05</td>\n",
       "    </tr>\n",
       "    <tr>\n",
       "      <th>12</th>\n",
       "      <td>腾讯视频</td>\n",
       "      <td>【精彩内容，现在就要】电视剧大集合：大江大河、火王之千里同风、大约是爱、人不彪悍枉少年…综艺...</td>\n",
       "      <td>视频</td>\n",
       "      <td>3.535651</td>\n",
       "      <td>4.458031e+09</td>\n",
       "    </tr>\n",
       "    <tr>\n",
       "      <th>13</th>\n",
       "      <td>便签</td>\n",
       "      <td>ZzNote是一款便签应用，用于记录生活中的点点滴滴。有如下优点：1.操作简单，纯本地存储；...</td>\n",
       "      <td>工具</td>\n",
       "      <td>3.509434</td>\n",
       "      <td>9.067640e+05</td>\n",
       "    </tr>\n",
       "    <tr>\n",
       "      <th>14</th>\n",
       "      <td>高德地图</td>\n",
       "      <td>高德地图--中国专业的手机地图，超过7亿用户正在使用！专注数字地图内容、导航和位置服务解决方...</td>\n",
       "      <td>出行</td>\n",
       "      <td>4.164910</td>\n",
       "      <td>2.143268e+09</td>\n",
       "    </tr>\n",
       "    <tr>\n",
       "      <th>15</th>\n",
       "      <td>爱奇艺</td>\n",
       "      <td>【海量视频 抢先看】《知否知否应是绿肥红瘦》：赵丽颖冯绍峰甜蜜来袭，朱一龙虐恋惹人心疼《演员...</td>\n",
       "      <td>视频</td>\n",
       "      <td>3.985227</td>\n",
       "      <td>2.439933e+09</td>\n",
       "    </tr>\n",
       "    <tr>\n",
       "      <th>16</th>\n",
       "      <td>下载管理器</td>\n",
       "      <td>最流行的下载管理器为Android提供了最好的特色分类下载，下载和整理文件，最好的部分是，你...</td>\n",
       "      <td>系统</td>\n",
       "      <td>5.000000</td>\n",
       "      <td>6.884000e+03</td>\n",
       "    </tr>\n",
       "    <tr>\n",
       "      <th>17</th>\n",
       "      <td>应用宝</td>\n",
       "      <td>应用宝(Android)是腾讯应用中心倾力打造的手机应用商店，致力于为用户提供丰富、优质、安...</td>\n",
       "      <td>系统</td>\n",
       "      <td>3.625509</td>\n",
       "      <td>1.438525e+10</td>\n",
       "    </tr>\n",
       "    <tr>\n",
       "      <th>18</th>\n",
       "      <td>酷狗音乐</td>\n",
       "      <td>【酷狗音乐核心功能】1. 全新界面，打造属于你的首页 首页入口提供图标自定义，要什么功能由你...</td>\n",
       "      <td>音乐</td>\n",
       "      <td>4.178566</td>\n",
       "      <td>2.512498e+09</td>\n",
       "    </tr>\n",
       "    <tr>\n",
       "      <th>19</th>\n",
       "      <td>推送服务</td>\n",
       "      <td>应用主要界面为widget显示方式，用户将widget拖拽到桌后面，后台service会向指...</td>\n",
       "      <td>通讯</td>\n",
       "      <td>0.000000</td>\n",
       "      <td>2.510000e+02</td>\n",
       "    </tr>\n",
       "    <tr>\n",
       "      <th>20</th>\n",
       "      <td>下载管理</td>\n",
       "      <td>“下载管理”可实现对终端用户下载文件的管理。用户通过应用商店、浏览器等下载的文件，都可由“下...</td>\n",
       "      <td>工具</td>\n",
       "      <td>2.333333</td>\n",
       "      <td>2.815900e+04</td>\n",
       "    </tr>\n",
       "    <tr>\n",
       "      <th>21</th>\n",
       "      <td>快手</td>\n",
       "      <td>「有趣视频，一看就上瘾」好看的、好玩的，好笑的短视频，都在这。「疯狂k歌，金曲任你唱」海量流...</td>\n",
       "      <td>摄影</td>\n",
       "      <td>4.762864</td>\n",
       "      <td>1.878538e+09</td>\n",
       "    </tr>\n",
       "    <tr>\n",
       "      <th>22</th>\n",
       "      <td>WPS Office</td>\n",
       "      <td>安卓端办公软件，个人版免费使用用户多：全球用户 600,000,000排名高：全球APP总榜...</td>\n",
       "      <td>办公</td>\n",
       "      <td>4.868905</td>\n",
       "      <td>2.274621e+09</td>\n",
       "    </tr>\n",
       "    <tr>\n",
       "      <th>23</th>\n",
       "      <td>手电筒</td>\n",
       "      <td>手电、手电筒就选精品手电-手电筒，专业的手电、手电筒app，总用户数破亿超快、超亮、超强大的...</td>\n",
       "      <td>生活</td>\n",
       "      <td>4.882505</td>\n",
       "      <td>2.000954e+07</td>\n",
       "    </tr>\n",
       "    <tr>\n",
       "      <th>24</th>\n",
       "      <td>百度地图</td>\n",
       "      <td>科技让出行更简单。人工智能地图全新升级，立即开启你的简单出行。世界很复杂，百度更懂你。【功能...</td>\n",
       "      <td>出行</td>\n",
       "      <td>4.334992</td>\n",
       "      <td>1.794533e+09</td>\n",
       "    </tr>\n",
       "    <tr>\n",
       "      <th>25</th>\n",
       "      <td>工程模式</td>\n",
       "      <td>快速进入Android工程模式【软件自动扫描系统的隐藏代码生成列表，方便使用和管理】1：查看...</td>\n",
       "      <td>系统</td>\n",
       "      <td>2.600000</td>\n",
       "      <td>4.114900e+04</td>\n",
       "    </tr>\n",
       "    <tr>\n",
       "      <th>26</th>\n",
       "      <td>软件商店</td>\n",
       "      <td>软件商店它能帮助你更好的管理手机上的文件。 1.实现了对文件夹的创建，重命名，删除，复制，移...</td>\n",
       "      <td>工具</td>\n",
       "      <td>3.400000</td>\n",
       "      <td>1.238370e+05</td>\n",
       "    </tr>\n",
       "    <tr>\n",
       "      <th>27</th>\n",
       "      <td>拼多多</td>\n",
       "      <td>【拼多多——多实惠，多乐趣】拼多多，新电商开创者，是国内主流的手机购物App。用户通过发起和...</td>\n",
       "      <td>购物</td>\n",
       "      <td>4.563711</td>\n",
       "      <td>1.358302e+09</td>\n",
       "    </tr>\n",
       "    <tr>\n",
       "      <th>28</th>\n",
       "      <td>备份与恢复</td>\n",
       "      <td>备份与恢复，本软件主要功能在于对短信的备份和恢复，增加云端备份和云端恢复功能，同时增加流量监...</td>\n",
       "      <td>生活</td>\n",
       "      <td>1.000000</td>\n",
       "      <td>7.459500e+04</td>\n",
       "    </tr>\n",
       "    <tr>\n",
       "      <th>29</th>\n",
       "      <td>相框</td>\n",
       "      <td>免费生日相框下载。易于使用的格式。不同的漂亮的生日框架可供选择。只要选择任何图片框架广泛收集...</td>\n",
       "      <td>摄影</td>\n",
       "      <td>2.363636</td>\n",
       "      <td>1.298710e+05</td>\n",
       "    </tr>\n",
       "    <tr>\n",
       "      <th>...</th>\n",
       "      <td>...</td>\n",
       "      <td>...</td>\n",
       "      <td>...</td>\n",
       "      <td>...</td>\n",
       "      <td>...</td>\n",
       "    </tr>\n",
       "    <tr>\n",
       "      <th>22232</th>\n",
       "      <td>007</td>\n",
       "      <td>想成为007吗，这很难，但是你可以拥有007的某些装备007是一款帮助你定位手机的工具*如果...</td>\n",
       "      <td>办公</td>\n",
       "      <td>0.000000</td>\n",
       "      <td>1.438000e+03</td>\n",
       "    </tr>\n",
       "    <tr>\n",
       "      <th>22233</th>\n",
       "      <td>探她</td>\n",
       "      <td>探她-帮你找到另一个TA这是一款年轻人语音聊天交友的聚集地，来探她，用声音打动那个TA，用声...</td>\n",
       "      <td>社交</td>\n",
       "      <td>4.987200</td>\n",
       "      <td>1.801660e+06</td>\n",
       "    </tr>\n",
       "    <tr>\n",
       "      <th>22234</th>\n",
       "      <td>阿宝网络电话</td>\n",
       "      <td>阿宝网络电话，好用放心的网络电话！无需对方安装，全球使用，支持WiFi直拨和免流量回拨，拨打...</td>\n",
       "      <td>通讯</td>\n",
       "      <td>0.000000</td>\n",
       "      <td>5.780000e+02</td>\n",
       "    </tr>\n",
       "    <tr>\n",
       "      <th>22235</th>\n",
       "      <td>客管家</td>\n",
       "      <td>客管家是一款专注于提升经纪人工作效率的工具类应用。客管家可以帮助经纪人高效和安全的管理客户：...</td>\n",
       "      <td>工具</td>\n",
       "      <td>5.000000</td>\n",
       "      <td>1.120300e+04</td>\n",
       "    </tr>\n",
       "    <tr>\n",
       "      <th>22236</th>\n",
       "      <td>明娜塔罗</td>\n",
       "      <td>本应用绝对是值得珍藏的人生判断小助手！世上大多数令人困扰的问题，都可以概括为“是否”选项。还...</td>\n",
       "      <td>娱乐</td>\n",
       "      <td>4.333333</td>\n",
       "      <td>5.871000e+03</td>\n",
       "    </tr>\n",
       "    <tr>\n",
       "      <th>22237</th>\n",
       "      <td>美图坊</td>\n",
       "      <td>1.精选海量网络美图，高品质、无水印，内容丰富，随时更新；2.支持搜索功能。根据内容，将图片...</td>\n",
       "      <td>阅读</td>\n",
       "      <td>2.666667</td>\n",
       "      <td>3.818000e+03</td>\n",
       "    </tr>\n",
       "    <tr>\n",
       "      <th>22238</th>\n",
       "      <td>十堰交警</td>\n",
       "      <td>十堰交警易站通是由十堰市公安局交通管理局与易站通联合面向市民推出的便民服务。为市民提供车辆违...</td>\n",
       "      <td>生活</td>\n",
       "      <td>3.000000</td>\n",
       "      <td>4.849000e+03</td>\n",
       "    </tr>\n",
       "    <tr>\n",
       "      <th>22239</th>\n",
       "      <td>圆球天下</td>\n",
       "      <td>圆球天下是重达科技为用户精心打造的一款资讯及微拍娱乐一体的综合类app。新闻资讯:     ...</td>\n",
       "      <td>阅读</td>\n",
       "      <td>4.976331</td>\n",
       "      <td>8.526680e+05</td>\n",
       "    </tr>\n",
       "    <tr>\n",
       "      <th>22240</th>\n",
       "      <td>佛历日历万年历</td>\n",
       "      <td>佛历是从佛祖释迎牟尼逝世那年，即公元前543年算起。佛陀说法四十五年，八十岁涅槃，即公元前5...</td>\n",
       "      <td>生活</td>\n",
       "      <td>4.900000</td>\n",
       "      <td>1.514900e+04</td>\n",
       "    </tr>\n",
       "    <tr>\n",
       "      <th>22241</th>\n",
       "      <td>蜗蜗</td>\n",
       "      <td>蜗蜗智慧门店系统，是一款互联网智慧门店管理系统，解决生活半径3公里 商家与顾客的连接，即在传...</td>\n",
       "      <td>购物</td>\n",
       "      <td>5.000000</td>\n",
       "      <td>6.942000e+03</td>\n",
       "    </tr>\n",
       "    <tr>\n",
       "      <th>22242</th>\n",
       "      <td>次元仓</td>\n",
       "      <td>次元仓移动版，二次元购物商城APP。本APP提供ACG,精品,特卖,游戏相关的周边购物。便捷...</td>\n",
       "      <td>购物</td>\n",
       "      <td>4.676923</td>\n",
       "      <td>4.511400e+04</td>\n",
       "    </tr>\n",
       "    <tr>\n",
       "      <th>22243</th>\n",
       "      <td>LiquidSky</td>\n",
       "      <td>版本：3.47</td>\n",
       "      <td>娱乐</td>\n",
       "      <td>4.105590</td>\n",
       "      <td>3.761800e+04</td>\n",
       "    </tr>\n",
       "    <tr>\n",
       "      <th>22244</th>\n",
       "      <td>西语背单词</td>\n",
       "      <td>专为西班牙语学习者制作的背单词APP，通过图片、声音、释义三方面加快单词的记忆。 - 适应各...</td>\n",
       "      <td>教育</td>\n",
       "      <td>3.166667</td>\n",
       "      <td>2.539500e+04</td>\n",
       "    </tr>\n",
       "    <tr>\n",
       "      <th>22245</th>\n",
       "      <td>悠洗</td>\n",
       "      <td>悠洗智能洗衣平台，租赁洗衣新模式，手机下单、在线支付、便捷服务、安心卫生、经济实惠，让您不再...</td>\n",
       "      <td>生活</td>\n",
       "      <td>3.000000</td>\n",
       "      <td>4.494800e+04</td>\n",
       "    </tr>\n",
       "    <tr>\n",
       "      <th>22246</th>\n",
       "      <td>象山在线</td>\n",
       "      <td>象山在线-您身边的生活助手！象山百姓说象山故事，交象山朋友随时随地记录身边事的好地方，有丰富...</td>\n",
       "      <td>生活</td>\n",
       "      <td>4.200000</td>\n",
       "      <td>1.690300e+04</td>\n",
       "    </tr>\n",
       "    <tr>\n",
       "      <th>22247</th>\n",
       "      <td>128手游</td>\n",
       "      <td>《128手游盒子》是一款为手游爱好者提供各种手游福利的安卓手机软件，它可以为玩家提供高福利游...</td>\n",
       "      <td>娱乐</td>\n",
       "      <td>5.000000</td>\n",
       "      <td>9.740000e+02</td>\n",
       "    </tr>\n",
       "    <tr>\n",
       "      <th>22248</th>\n",
       "      <td>巴啦啦梦幻餐厅</td>\n",
       "      <td>快来与小魔仙一起经营餐厅吧！在餐厅中接待魔法世界的各位顾客，为他们提供美味菜品，收获满满的幸...</td>\n",
       "      <td>经营策略</td>\n",
       "      <td>4.272727</td>\n",
       "      <td>4.086400e+04</td>\n",
       "    </tr>\n",
       "    <tr>\n",
       "      <th>22249</th>\n",
       "      <td>荣华彩票</td>\n",
       "      <td>打造行业内*大的彩民社区，让所有彩民一起玩耍交流。你可以在这里晒单、吐槽、闲聊、或者和专家交...</td>\n",
       "      <td>工具</td>\n",
       "      <td>5.000000</td>\n",
       "      <td>1.107000e+04</td>\n",
       "    </tr>\n",
       "    <tr>\n",
       "      <th>22250</th>\n",
       "      <td>普汇聚财</td>\n",
       "      <td>【平台背景】 1、普汇聚财是海南华夏基金战略入股的国资互联网金融理财平台。海南华夏基金 ，是...</td>\n",
       "      <td>理财</td>\n",
       "      <td>4.990196</td>\n",
       "      <td>5.364320e+05</td>\n",
       "    </tr>\n",
       "    <tr>\n",
       "      <th>22251</th>\n",
       "      <td>张家口麻将</td>\n",
       "      <td>手机联网张家口麻将上线了。正宗地道的张家口麻将规则，源自张家口本土实战打法，全新3D立体仿真...</td>\n",
       "      <td>棋牌中心</td>\n",
       "      <td>3.000000</td>\n",
       "      <td>5.556000e+03</td>\n",
       "    </tr>\n",
       "    <tr>\n",
       "      <th>22252</th>\n",
       "      <td>Alight</td>\n",
       "      <td>Alight APP是宗匠科技专门为ASNAP爱拍手机补光灯推出的智能控制终端，让您在自拍中...</td>\n",
       "      <td>摄影</td>\n",
       "      <td>1.200000</td>\n",
       "      <td>3.087000e+03</td>\n",
       "    </tr>\n",
       "    <tr>\n",
       "      <th>22253</th>\n",
       "      <td>宫妙</td>\n",
       "      <td>【宫妙】纯天然卫生巾386元免费用三年，还得一盒宫妙纯天然卫生巾，还享受体检上市企业“美年大...</td>\n",
       "      <td>购物</td>\n",
       "      <td>5.000000</td>\n",
       "      <td>1.167300e+04</td>\n",
       "    </tr>\n",
       "    <tr>\n",
       "      <th>22254</th>\n",
       "      <td>高中数学知识点精华</td>\n",
       "      <td>高中数学知识点精华是一款专为高中生打造的免费手机学习软件。知识点全面，包含了高中数学学科精华...</td>\n",
       "      <td>教育</td>\n",
       "      <td>2.153846</td>\n",
       "      <td>7.461000e+04</td>\n",
       "    </tr>\n",
       "    <tr>\n",
       "      <th>22255</th>\n",
       "      <td>请厨宝</td>\n",
       "      <td>为餐饮行业提供专业人才供给及从业人员上岗就业服务！大师视频解答：全国近万名大师为您解答，开店...</td>\n",
       "      <td>生活</td>\n",
       "      <td>4.200000</td>\n",
       "      <td>3.316000e+04</td>\n",
       "    </tr>\n",
       "    <tr>\n",
       "      <th>22256</th>\n",
       "      <td>翼数据</td>\n",
       "      <td>浙江翼极网络科技有限公司是一家以新IT、新模式、新希望为经营理念的网络科技有限公司。公司以“...</td>\n",
       "      <td>购物</td>\n",
       "      <td>0.000000</td>\n",
       "      <td>1.016000e+03</td>\n",
       "    </tr>\n",
       "    <tr>\n",
       "      <th>22257</th>\n",
       "      <td>掌上健身教练</td>\n",
       "      <td>掌上健身教练包含数十种不同的健身教程和方法，每一种都详细的配合图片解说，告诉您该动作是锻炼什...</td>\n",
       "      <td>健康</td>\n",
       "      <td>2.000000</td>\n",
       "      <td>1.011700e+04</td>\n",
       "    </tr>\n",
       "    <tr>\n",
       "      <th>22258</th>\n",
       "      <td>简洁记账</td>\n",
       "      <td>简洁记账作者是一个爱好记账的人，为追求简易，实用而制作的一款记账app。该有的功能一一俱全，...</td>\n",
       "      <td>工具</td>\n",
       "      <td>5.000000</td>\n",
       "      <td>7.510000e+02</td>\n",
       "    </tr>\n",
       "    <tr>\n",
       "      <th>22259</th>\n",
       "      <td>大乐送</td>\n",
       "      <td>大乐送是一个购物商城，有商品、购物车、支付等功能，交易模式：在线交易，第三方交易平台。支付方...</td>\n",
       "      <td>购物</td>\n",
       "      <td>0.000000</td>\n",
       "      <td>9.830000e+02</td>\n",
       "    </tr>\n",
       "    <tr>\n",
       "      <th>22260</th>\n",
       "      <td>青大附院互联网医院</td>\n",
       "      <td>青岛大学附属医院互联网医院官方APP，手机提前预约、挂号，远程视频就诊，让您更加方便快捷。手...</td>\n",
       "      <td>健康</td>\n",
       "      <td>0.000000</td>\n",
       "      <td>2.545900e+04</td>\n",
       "    </tr>\n",
       "    <tr>\n",
       "      <th>22261</th>\n",
       "      <td>人民币真伪识别</td>\n",
       "      <td>你有没有遇到过假币而且你还不认得？你有没有遭遇被人掉包人民币成假币 的经历？本人正是经历过假...</td>\n",
       "      <td>阅读</td>\n",
       "      <td>3.500000</td>\n",
       "      <td>7.672800e+04</td>\n",
       "    </tr>\n",
       "  </tbody>\n",
       "</table>\n",
       "<p>22262 rows × 5 columns</p>\n",
       "</div>"
      ],
      "text/plain": [
       "         app_name                                           app_info app_cate  \\\n",
       "0            融360  融360 —— 您随身的金融专家为什么要使用【融360】？下述内容不吹牛。1. 解决【贷款】...       理财   \n",
       "1              微信  1.可以发语音、文字消息、表情、图片、视频30M流量可以收发上千条语音，省电省流量2.朋友圈...       社交   \n",
       "2              设置  一款精美的屏幕开关手机小部件应用程序，实时装扮你的桌面，喜欢的你还等什么，赶快来下载吧！ 【...       系统   \n",
       "3             支付宝  【支付宝介绍】蚂蚁金服旗下的支付宝，是以每个人为中心，拥有全球用户9亿的生活服务平台。目前，...       理财   \n",
       "4              信息  iPhone信息是iPhone风格的消息应用程序。酷像IOS的UI。非常简单易用，就像iph...       工具   \n",
       "5              QQ  -----QQ•乐在沟通-----√服务超过90%的移动互联网用户√多人视频、文件多端互传，...       社交   \n",
       "6             指南针  这是一款功能实用，操作简明，性能出众的智能指南针。  它抛去了浮华，洗尽了铅尘。  优化后的...       旅游   \n",
       "7            手机淘宝  手机淘宝（Android版）是阿里巴巴专为Android手机用户推出的满足其生活消费和线上购...       购物   \n",
       "8             云服务  乐同步全新改版，这是一个全新的云服务乐同步是一款安全的手机私人数据备份与管理平台一键备份/恢...       安全   \n",
       "9        WiFi万能钥匙  免费安全WiFi热点，无忧一键连接。无论身处何地，只要打开APP，看到分享热点，点击连接即可...       工具   \n",
       "10           游戏中心  《游戏中心》是游戏软游天下出品的一款手机游戏分发平台，提供各种各样的资源游戏下载，为用户提供...       娱乐   \n",
       "11           查找手机  应用简介：打造更安全贴心的魅族手机「查找手机」是魅族手机内置防盗服务的同名独立应用，目前已支...       工具   \n",
       "12           腾讯视频  【精彩内容，现在就要】电视剧大集合：大江大河、火王之千里同风、大约是爱、人不彪悍枉少年…综艺...       视频   \n",
       "13             便签  ZzNote是一款便签应用，用于记录生活中的点点滴滴。有如下优点：1.操作简单，纯本地存储；...       工具   \n",
       "14           高德地图  高德地图--中国专业的手机地图，超过7亿用户正在使用！专注数字地图内容、导航和位置服务解决方...       出行   \n",
       "15            爱奇艺  【海量视频 抢先看】《知否知否应是绿肥红瘦》：赵丽颖冯绍峰甜蜜来袭，朱一龙虐恋惹人心疼《演员...       视频   \n",
       "16          下载管理器  最流行的下载管理器为Android提供了最好的特色分类下载，下载和整理文件，最好的部分是，你...       系统   \n",
       "17            应用宝  应用宝(Android)是腾讯应用中心倾力打造的手机应用商店，致力于为用户提供丰富、优质、安...       系统   \n",
       "18           酷狗音乐  【酷狗音乐核心功能】1. 全新界面，打造属于你的首页 首页入口提供图标自定义，要什么功能由你...       音乐   \n",
       "19           推送服务  应用主要界面为widget显示方式，用户将widget拖拽到桌后面，后台service会向指...       通讯   \n",
       "20           下载管理  “下载管理”可实现对终端用户下载文件的管理。用户通过应用商店、浏览器等下载的文件，都可由“下...       工具   \n",
       "21             快手  「有趣视频，一看就上瘾」好看的、好玩的，好笑的短视频，都在这。「疯狂k歌，金曲任你唱」海量流...       摄影   \n",
       "22     WPS Office  安卓端办公软件，个人版免费使用用户多：全球用户 600,000,000排名高：全球APP总榜...       办公   \n",
       "23            手电筒  手电、手电筒就选精品手电-手电筒，专业的手电、手电筒app，总用户数破亿超快、超亮、超强大的...       生活   \n",
       "24           百度地图  科技让出行更简单。人工智能地图全新升级，立即开启你的简单出行。世界很复杂，百度更懂你。【功能...       出行   \n",
       "25           工程模式  快速进入Android工程模式【软件自动扫描系统的隐藏代码生成列表，方便使用和管理】1：查看...       系统   \n",
       "26           软件商店  软件商店它能帮助你更好的管理手机上的文件。 1.实现了对文件夹的创建，重命名，删除，复制，移...       工具   \n",
       "27            拼多多  【拼多多——多实惠，多乐趣】拼多多，新电商开创者，是国内主流的手机购物App。用户通过发起和...       购物   \n",
       "28          备份与恢复  备份与恢复，本软件主要功能在于对短信的备份和恢复，增加云端备份和云端恢复功能，同时增加流量监...       生活   \n",
       "29             相框  免费生日相框下载。易于使用的格式。不同的漂亮的生日框架可供选择。只要选择任何图片框架广泛收集...       摄影   \n",
       "...           ...                                                ...      ...   \n",
       "22232         007  想成为007吗，这很难，但是你可以拥有007的某些装备007是一款帮助你定位手机的工具*如果...       办公   \n",
       "22233          探她  探她-帮你找到另一个TA这是一款年轻人语音聊天交友的聚集地，来探她，用声音打动那个TA，用声...       社交   \n",
       "22234      阿宝网络电话  阿宝网络电话，好用放心的网络电话！无需对方安装，全球使用，支持WiFi直拨和免流量回拨，拨打...       通讯   \n",
       "22235         客管家  客管家是一款专注于提升经纪人工作效率的工具类应用。客管家可以帮助经纪人高效和安全的管理客户：...       工具   \n",
       "22236        明娜塔罗  本应用绝对是值得珍藏的人生判断小助手！世上大多数令人困扰的问题，都可以概括为“是否”选项。还...       娱乐   \n",
       "22237         美图坊  1.精选海量网络美图，高品质、无水印，内容丰富，随时更新；2.支持搜索功能。根据内容，将图片...       阅读   \n",
       "22238        十堰交警  十堰交警易站通是由十堰市公安局交通管理局与易站通联合面向市民推出的便民服务。为市民提供车辆违...       生活   \n",
       "22239        圆球天下  圆球天下是重达科技为用户精心打造的一款资讯及微拍娱乐一体的综合类app。新闻资讯:     ...       阅读   \n",
       "22240     佛历日历万年历  佛历是从佛祖释迎牟尼逝世那年，即公元前543年算起。佛陀说法四十五年，八十岁涅槃，即公元前5...       生活   \n",
       "22241          蜗蜗  蜗蜗智慧门店系统，是一款互联网智慧门店管理系统，解决生活半径3公里 商家与顾客的连接，即在传...       购物   \n",
       "22242         次元仓  次元仓移动版，二次元购物商城APP。本APP提供ACG,精品,特卖,游戏相关的周边购物。便捷...       购物   \n",
       "22243   LiquidSky                                            版本：3.47       娱乐   \n",
       "22244       西语背单词  专为西班牙语学习者制作的背单词APP，通过图片、声音、释义三方面加快单词的记忆。 - 适应各...       教育   \n",
       "22245          悠洗  悠洗智能洗衣平台，租赁洗衣新模式，手机下单、在线支付、便捷服务、安心卫生、经济实惠，让您不再...       生活   \n",
       "22246        象山在线  象山在线-您身边的生活助手！象山百姓说象山故事，交象山朋友随时随地记录身边事的好地方，有丰富...       生活   \n",
       "22247       128手游  《128手游盒子》是一款为手游爱好者提供各种手游福利的安卓手机软件，它可以为玩家提供高福利游...       娱乐   \n",
       "22248     巴啦啦梦幻餐厅  快来与小魔仙一起经营餐厅吧！在餐厅中接待魔法世界的各位顾客，为他们提供美味菜品，收获满满的幸...     经营策略   \n",
       "22249        荣华彩票  打造行业内*大的彩民社区，让所有彩民一起玩耍交流。你可以在这里晒单、吐槽、闲聊、或者和专家交...       工具   \n",
       "22250        普汇聚财  【平台背景】 1、普汇聚财是海南华夏基金战略入股的国资互联网金融理财平台。海南华夏基金 ，是...       理财   \n",
       "22251       张家口麻将  手机联网张家口麻将上线了。正宗地道的张家口麻将规则，源自张家口本土实战打法，全新3D立体仿真...     棋牌中心   \n",
       "22252      Alight  Alight APP是宗匠科技专门为ASNAP爱拍手机补光灯推出的智能控制终端，让您在自拍中...       摄影   \n",
       "22253          宫妙  【宫妙】纯天然卫生巾386元免费用三年，还得一盒宫妙纯天然卫生巾，还享受体检上市企业“美年大...       购物   \n",
       "22254   高中数学知识点精华  高中数学知识点精华是一款专为高中生打造的免费手机学习软件。知识点全面，包含了高中数学学科精华...       教育   \n",
       "22255         请厨宝  为餐饮行业提供专业人才供给及从业人员上岗就业服务！大师视频解答：全国近万名大师为您解答，开店...       生活   \n",
       "22256         翼数据  浙江翼极网络科技有限公司是一家以新IT、新模式、新希望为经营理念的网络科技有限公司。公司以“...       购物   \n",
       "22257      掌上健身教练  掌上健身教练包含数十种不同的健身教程和方法，每一种都详细的配合图片解说，告诉您该动作是锻炼什...       健康   \n",
       "22258        简洁记账  简洁记账作者是一个爱好记账的人，为追求简易，实用而制作的一款记账app。该有的功能一一俱全，...       工具   \n",
       "22259         大乐送  大乐送是一个购物商城，有商品、购物车、支付等功能，交易模式：在线交易，第三方交易平台。支付方...       购物   \n",
       "22260   青大附院互联网医院  青岛大学附属医院互联网医院官方APP，手机提前预约、挂号，远程视频就诊，让您更加方便快捷。手...       健康   \n",
       "22261     人民币真伪识别  你有没有遇到过假币而且你还不认得？你有没有遭遇被人掉包人民币成假币 的经历？本人正是经历过假...       阅读   \n",
       "\n",
       "       app_score  download_cnt  \n",
       "0       4.717574  2.321756e+07  \n",
       "1       3.533574  7.601503e+09  \n",
       "2       3.000000  8.294300e+04  \n",
       "3       3.583377  9.763013e+08  \n",
       "4       2.769231  3.027110e+05  \n",
       "5       3.431373  8.703708e+09  \n",
       "6       4.553153  2.268551e+06  \n",
       "7       4.543010  2.653544e+09  \n",
       "8       3.845070  3.067698e+07  \n",
       "9       2.681381  7.740153e+09  \n",
       "10      3.285714  3.650993e+07  \n",
       "11      3.891026  5.734060e+05  \n",
       "12      3.535651  4.458031e+09  \n",
       "13      3.509434  9.067640e+05  \n",
       "14      4.164910  2.143268e+09  \n",
       "15      3.985227  2.439933e+09  \n",
       "16      5.000000  6.884000e+03  \n",
       "17      3.625509  1.438525e+10  \n",
       "18      4.178566  2.512498e+09  \n",
       "19      0.000000  2.510000e+02  \n",
       "20      2.333333  2.815900e+04  \n",
       "21      4.762864  1.878538e+09  \n",
       "22      4.868905  2.274621e+09  \n",
       "23      4.882505  2.000954e+07  \n",
       "24      4.334992  1.794533e+09  \n",
       "25      2.600000  4.114900e+04  \n",
       "26      3.400000  1.238370e+05  \n",
       "27      4.563711  1.358302e+09  \n",
       "28      1.000000  7.459500e+04  \n",
       "29      2.363636  1.298710e+05  \n",
       "...          ...           ...  \n",
       "22232   0.000000  1.438000e+03  \n",
       "22233   4.987200  1.801660e+06  \n",
       "22234   0.000000  5.780000e+02  \n",
       "22235   5.000000  1.120300e+04  \n",
       "22236   4.333333  5.871000e+03  \n",
       "22237   2.666667  3.818000e+03  \n",
       "22238   3.000000  4.849000e+03  \n",
       "22239   4.976331  8.526680e+05  \n",
       "22240   4.900000  1.514900e+04  \n",
       "22241   5.000000  6.942000e+03  \n",
       "22242   4.676923  4.511400e+04  \n",
       "22243   4.105590  3.761800e+04  \n",
       "22244   3.166667  2.539500e+04  \n",
       "22245   3.000000  4.494800e+04  \n",
       "22246   4.200000  1.690300e+04  \n",
       "22247   5.000000  9.740000e+02  \n",
       "22248   4.272727  4.086400e+04  \n",
       "22249   5.000000  1.107000e+04  \n",
       "22250   4.990196  5.364320e+05  \n",
       "22251   3.000000  5.556000e+03  \n",
       "22252   1.200000  3.087000e+03  \n",
       "22253   5.000000  1.167300e+04  \n",
       "22254   2.153846  7.461000e+04  \n",
       "22255   4.200000  3.316000e+04  \n",
       "22256   0.000000  1.016000e+03  \n",
       "22257   2.000000  1.011700e+04  \n",
       "22258   5.000000  7.510000e+02  \n",
       "22259   0.000000  9.830000e+02  \n",
       "22260   0.000000  2.545900e+04  \n",
       "22261   3.500000  7.672800e+04  \n",
       "\n",
       "[22262 rows x 5 columns]"
      ]
     },
     "execution_count": 220,
     "metadata": {},
     "output_type": "execute_result"
    }
   ],
   "source": [
    "dfapp"
   ]
  },
  {
   "cell_type": "code",
   "execution_count": null,
   "metadata": {},
   "outputs": [],
   "source": [
    "# -*- coding: UTF-8 -*-  \n",
    "import gensim, logging\n",
    "import os\n",
    "from gensim.models.doc2vec import Doc2Vec,LabeledSentence\n",
    "from gensim.models import Doc2Vec\n",
    "import gensim.models.doc2vec\n",
    "\n",
    "asin=set()\n",
    "category=set()\n",
    "class LabeledLineSentence(object):\n",
    "    def __init__(self, filename=object):\n",
    "        self.filename =filename\n",
    "    def __iter__(self):\n",
    "        with open(self.filename,'r') as infile:\n",
    "            data=infile.readlines(); \n",
    "            print \"length: \", len(data)        \n",
    "        for uid,line in enumerate(data):\n",
    "            print \"line:\",line\n",
    "            asin.add(line.split(\"\\t\")[0])\n",
    "            print \"asin: \",asin\n",
    "            category.add(line.split(\"\\t\")[1])\n",
    "            yield LabeledSentence(words=line.split(\"\\t\")[2].split(\" \"), tags=[line.split(\"\\t\")[0], line.split(\"\\t\")[1]])\n",
    "print 'success'\n",
    "\n",
    "logging.basicConfig(format = '%(asctime)s : %(levelname)s : %(message)s', level = logging.INFO)\n",
    "sentences =LabeledLineSentence('product_bpr_test_train.txt')\n",
    "model = Doc2Vec(sentences, size =50, window = 5, min_count=1)\n",
    "model.save('product_bpr_model50.txt')\n",
    "print  'success1'\n",
    "\n",
    "print \"doc2vecs length:\", len(model.docvecs)\n",
    "outid = file('product_bpr_id_vector50.txt', 'w')\n",
    "outcate = file('product_bpr_cate_vector50.txt', 'w')\n",
    "for id in asin:\n",
    "    outid.write(id+\"\\t\")\n",
    "    for idx,lv in enumerate(model.docvecs[id]):\n",
    "        outid.write(str(lv)+\" \")\n",
    "    outid.write(\"\\n\")\n",
    "for cate in category:\n",
    "    outcate.write(cate + '\\t')\n",
    "    for idx,lv in enumerate(model.docvecs[cate]):\n",
    "        outcate.write(str(lv)+\" \")\n",
    "    outcate.write('\\n')\n",
    "outid.close()\n",
    "outcate.close()"
   ]
  },
  {
   "cell_type": "code",
   "execution_count": null,
   "metadata": {},
   "outputs": [],
   "source": []
  },
  {
   "cell_type": "code",
   "execution_count": null,
   "metadata": {},
   "outputs": [],
   "source": []
  },
  {
   "cell_type": "code",
   "execution_count": null,
   "metadata": {},
   "outputs": [],
   "source": []
  },
  {
   "cell_type": "markdown",
   "metadata": {},
   "source": [
    "### FastText示范"
   ]
  },
  {
   "cell_type": "markdown",
   "metadata": {},
   "source": [
    "FastText 在普通的word2vec基础上考虑了加入N-gram，即短语作为输入特征，因此其在一定意义上考虑了词的顺序。\n",
    "\n",
    "例如在word2vec中 \"我打他\" 和\"他打我\" 是等价的，但在FastText中则加入了短语“我打”，因此考虑了词的顺序。\n",
    "\n",
    "此外，FastText还考虑了词的拆分，即词根，有些不在字典中的词，在FastText中也能够根据词根相似性计算词向量。\n",
    "\n",
    "由于有词的拆分这一特性，FastText能够计算任意句子的词向量，只要句子中有些词在字典中即可。"
   ]
  },
  {
   "cell_type": "code",
   "execution_count": 11,
   "metadata": {
    "ExecuteTime": {
     "end_time": "2019-01-15T02:36:34.171520Z",
     "start_time": "2019-01-15T02:36:34.119458Z"
    }
   },
   "outputs": [],
   "source": [
    "from gensim.test.utils import common_texts\n",
    "from gensim.models import FastText\n",
    "\n",
    "model = FastText(common_texts, size=4, window=3, min_count=1, iter=10)"
   ]
  },
  {
   "cell_type": "code",
   "execution_count": 33,
   "metadata": {
    "ExecuteTime": {
     "end_time": "2019-01-15T02:59:38.889219Z",
     "start_time": "2019-01-15T02:59:38.875213Z"
    }
   },
   "outputs": [
    {
     "data": {
      "text/plain": [
       "[['human', 'interface', 'computer'],\n",
       " ['survey', 'user', 'computer', 'system', 'response', 'time'],\n",
       " ['eps', 'user', 'interface', 'system'],\n",
       " ['system', 'human', 'system', 'eps'],\n",
       " ['user', 'response', 'time'],\n",
       " ['trees'],\n",
       " ['graph', 'trees'],\n",
       " ['graph', 'minors', 'trees'],\n",
       " ['graph', 'minors', 'survey']]"
      ]
     },
     "execution_count": 33,
     "metadata": {},
     "output_type": "execute_result"
    }
   ],
   "source": [
    "common_texts"
   ]
  },
  {
   "cell_type": "code",
   "execution_count": 34,
   "metadata": {
    "ExecuteTime": {
     "end_time": "2019-01-15T02:59:44.568490Z",
     "start_time": "2019-01-15T02:59:44.549982Z"
    }
   },
   "outputs": [
    {
     "data": {
      "text/plain": [
       "{'human': <gensim.models.keyedvectors.Vocab at 0x17f57f28>,\n",
       " 'interface': <gensim.models.keyedvectors.Vocab at 0x17f57d30>,\n",
       " 'computer': <gensim.models.keyedvectors.Vocab at 0x17f57da0>,\n",
       " 'survey': <gensim.models.keyedvectors.Vocab at 0x17f579b0>,\n",
       " 'user': <gensim.models.keyedvectors.Vocab at 0x17f575c0>,\n",
       " 'system': <gensim.models.keyedvectors.Vocab at 0x17f57588>,\n",
       " 'response': <gensim.models.keyedvectors.Vocab at 0x17f57550>,\n",
       " 'time': <gensim.models.keyedvectors.Vocab at 0x17f57630>,\n",
       " 'eps': <gensim.models.keyedvectors.Vocab at 0x17f576a0>,\n",
       " 'trees': <gensim.models.keyedvectors.Vocab at 0x17f579e8>,\n",
       " 'graph': <gensim.models.keyedvectors.Vocab at 0x17f57470>,\n",
       " 'minors': <gensim.models.keyedvectors.Vocab at 0x17f574a8>}"
      ]
     },
     "execution_count": 34,
     "metadata": {},
     "output_type": "execute_result"
    }
   ],
   "source": [
    "model.wv.vocab"
   ]
  },
  {
   "cell_type": "code",
   "execution_count": 8,
   "metadata": {
    "ExecuteTime": {
     "end_time": "2019-01-15T02:32:52.745843Z",
     "start_time": "2019-01-15T02:32:52.742333Z"
    }
   },
   "outputs": [],
   "source": [
    "model.wv.save_word2vec_format('vector.txt',binary = False,total_vec= None)"
   ]
  },
  {
   "cell_type": "code",
   "execution_count": 3,
   "metadata": {
    "ExecuteTime": {
     "end_time": "2019-01-14T10:23:38.522118Z",
     "start_time": "2019-01-14T10:23:38.504618Z"
    }
   },
   "outputs": [],
   "source": [
    "from gensim.test.utils import get_tmpfile\n",
    "\n",
    "fname = get_tmpfile(\"fasttext.model\")\n",
    "\n",
    "model.save(fname)\n",
    "model = FastText.load(fname)  # you can continue training with the loaded model!"
   ]
  },
  {
   "cell_type": "code",
   "execution_count": 35,
   "metadata": {
    "ExecuteTime": {
     "end_time": "2019-01-15T02:59:59.300380Z",
     "start_time": "2019-01-15T02:59:59.284874Z"
    }
   },
   "outputs": [
    {
     "data": {
      "text/plain": [
       "True"
      ]
     },
     "execution_count": 35,
     "metadata": {},
     "output_type": "execute_result"
    }
   ],
   "source": [
    "existent_word = \"computer\"\n",
    "existent_word in model.wv.vocab"
   ]
  },
  {
   "cell_type": "code",
   "execution_count": 36,
   "metadata": {
    "ExecuteTime": {
     "end_time": "2019-01-15T03:00:02.682232Z",
     "start_time": "2019-01-15T03:00:02.660223Z"
    }
   },
   "outputs": [
    {
     "data": {
      "text/plain": [
       "array([ 0.02412866,  0.05822411, -0.00761765,  0.01267011], dtype=float32)"
      ]
     },
     "execution_count": 36,
     "metadata": {},
     "output_type": "execute_result"
    }
   ],
   "source": [
    "computer_vec = model.wv[existent_word]  # numpy vector of a word\n",
    "computer_vec"
   ]
  },
  {
   "cell_type": "code",
   "execution_count": 37,
   "metadata": {
    "ExecuteTime": {
     "end_time": "2019-01-15T03:00:16.374207Z",
     "start_time": "2019-01-15T03:00:16.357200Z"
    }
   },
   "outputs": [
    {
     "data": {
      "text/plain": [
       "False"
      ]
     },
     "execution_count": 37,
     "metadata": {},
     "output_type": "execute_result"
    }
   ],
   "source": [
    "oov_word = \"computer-user\"\n",
    "oov_word in model.wv.vocab"
   ]
  },
  {
   "cell_type": "code",
   "execution_count": 38,
   "metadata": {
    "ExecuteTime": {
     "end_time": "2019-01-15T03:00:20.230749Z",
     "start_time": "2019-01-15T03:00:20.225747Z"
    }
   },
   "outputs": [],
   "source": [
    "oov_vec = model.wv[oov_word]  # numpy vector for OOV word"
   ]
  },
  {
   "cell_type": "code",
   "execution_count": 39,
   "metadata": {
    "ExecuteTime": {
     "end_time": "2019-01-15T03:00:22.160020Z",
     "start_time": "2019-01-15T03:00:22.141513Z"
    }
   },
   "outputs": [
    {
     "data": {
      "text/plain": [
       "array([ 0.03628856,  0.05038398, -0.00696638,  0.0245754 ], dtype=float32)"
      ]
     },
     "execution_count": 39,
     "metadata": {},
     "output_type": "execute_result"
    }
   ],
   "source": [
    "oov_vec"
   ]
  },
  {
   "cell_type": "code",
   "execution_count": 42,
   "metadata": {
    "ExecuteTime": {
     "end_time": "2019-01-15T03:01:32.897173Z",
     "start_time": "2019-01-15T03:01:32.881670Z"
    }
   },
   "outputs": [
    {
     "data": {
      "text/plain": [
       "array([ 0.02412866,  0.05822411, -0.00761765,  0.01267011], dtype=float32)"
      ]
     },
     "execution_count": 42,
     "metadata": {},
     "output_type": "execute_result"
    }
   ],
   "source": [
    "# 计算句子的词向量\n",
    "model.wv['computer']"
   ]
  },
  {
   "cell_type": "code",
   "execution_count": 41,
   "metadata": {
    "ExecuteTime": {
     "end_time": "2019-01-15T03:01:13.686832Z",
     "start_time": "2019-01-15T03:01:13.660827Z"
    }
   },
   "outputs": [
    {
     "data": {
      "text/plain": [
       "array([0.01866415, 0.04346466, 0.01676881, 0.01589118], dtype=float32)"
      ]
     },
     "execution_count": 41,
     "metadata": {},
     "output_type": "execute_result"
    }
   ],
   "source": [
    "# 计算句子的词向量\n",
    "model.wv['computer game is very hard to play']"
   ]
  },
  {
   "cell_type": "code",
   "execution_count": 43,
   "metadata": {
    "ExecuteTime": {
     "end_time": "2019-01-15T03:02:12.780648Z",
     "start_time": "2019-01-15T03:02:12.768646Z"
    }
   },
   "outputs": [
    {
     "name": "stderr",
     "output_type": "stream",
     "text": [
      "C:\\ProgrameFiles\\Anaconda\\envs\\py3\\lib\\site-packages\\gensim\\matutils.py:737: FutureWarning: Conversion of the second argument of issubdtype from `int` to `np.signedinteger` is deprecated. In future, it will be treated as `np.int32 == np.dtype(int).type`.\n",
      "  if np.issubdtype(vec.dtype, np.int):\n"
     ]
    },
    {
     "data": {
      "text/plain": [
       "0.8963409"
      ]
     },
     "execution_count": 43,
     "metadata": {},
     "output_type": "execute_result"
    }
   ],
   "source": [
    "model.wv.similarity('computer game is very hard to play','computer')"
   ]
  },
  {
   "cell_type": "code",
   "execution_count": 44,
   "metadata": {
    "ExecuteTime": {
     "end_time": "2019-01-15T03:02:29.847061Z",
     "start_time": "2019-01-15T03:02:29.824056Z"
    }
   },
   "outputs": [
    {
     "data": {
      "text/plain": [
       "array([0.01866415, 0.04346466, 0.01676881, 0.01589118], dtype=float32)"
      ]
     },
     "execution_count": 44,
     "metadata": {},
     "output_type": "execute_result"
    }
   ],
   "source": [
    "# 使用不在词典中的符号进行分割得到的结果是一样的\n",
    "model.wv['computer/game/is/very/hard/to/play']"
   ]
  },
  {
   "cell_type": "code",
   "execution_count": 45,
   "metadata": {
    "ExecuteTime": {
     "end_time": "2019-01-15T03:02:39.556002Z",
     "start_time": "2019-01-15T03:02:39.538499Z"
    }
   },
   "outputs": [
    {
     "data": {
      "text/plain": [
       "0.92745155"
      ]
     },
     "execution_count": 45,
     "metadata": {},
     "output_type": "execute_result"
    }
   ],
   "source": [
    "# 计算句子的相似性\n",
    "model.wv.similarity('computer game is interesting','user like computer')"
   ]
  },
  {
   "cell_type": "code",
   "execution_count": 12,
   "metadata": {
    "ExecuteTime": {
     "end_time": "2019-01-14T10:26:38.451118Z",
     "start_time": "2019-01-14T10:26:38.437118Z"
    }
   },
   "outputs": [
    {
     "name": "stderr",
     "output_type": "stream",
     "text": [
      "C:\\ProgrameFiles\\Anaconda\\envs\\py3\\lib\\site-packages\\gensim\\matutils.py:737: FutureWarning: Conversion of the second argument of issubdtype from `int` to `np.signedinteger` is deprecated. In future, it will be treated as `np.int32 == np.dtype(int).type`.\n",
      "  if np.issubdtype(vec.dtype, np.int):\n"
     ]
    }
   ],
   "source": [
    "similarities = model.wv.most_similar(positive=['computer', 'human'], negative=['interface'])\n",
    "most_similar = similarities[0]\n",
    "\n",
    "similarities = model.wv.most_similar_cosmul(positive=['computer', 'human'], negative=['interface'])\n",
    "most_similar = similarities[0]\n",
    "\n",
    "not_matching = model.wv.doesnt_match(\"human computer interface tree\".split())\n",
    "sim_score = model.wv.similarity('computer', 'human')"
   ]
  }
 ],
 "metadata": {
  "kernelspec": {
   "display_name": "Python 3",
   "language": "python",
   "name": "python3"
  },
  "language_info": {
   "codemirror_mode": {
    "name": "ipython",
    "version": 3
   },
   "file_extension": ".py",
   "mimetype": "text/x-python",
   "name": "python",
   "nbconvert_exporter": "python",
   "pygments_lexer": "ipython3",
   "version": "3.6.7"
  }
 },
 "nbformat": 4,
 "nbformat_minor": 2
}
